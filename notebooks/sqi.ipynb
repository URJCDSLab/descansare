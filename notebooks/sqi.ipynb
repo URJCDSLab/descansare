{
 "cells": [
  {
   "cell_type": "code",
   "execution_count": 1,
   "metadata": {},
   "outputs": [],
   "source": [
    "from random import choices\n",
    "\n",
    "import numpy as np\n",
    "import pandas as pd"
   ]
  },
  {
   "cell_type": "code",
   "execution_count": null,
   "metadata": {},
   "outputs": [],
   "source": []
  },
  {
   "cell_type": "code",
   "execution_count": 2,
   "metadata": {},
   "outputs": [],
   "source": [
    "MOV_TYPES = ['LIGHT', 'MEDIUM_1', 'MEDIUM_2', 'STRONG']\n",
    "UP_TYPE = 'UP'\n",
    "DOWN_TYPE = 'DOWN'"
   ]
  },
  {
   "cell_type": "code",
   "execution_count": 3,
   "metadata": {},
   "outputs": [
    {
     "data": {
      "text/plain": [
       "\"pressure0', 'pressure1', 'pressure2', 'pressure3', 'pressure4', 'pressure5', 'pressure6', 'pressure7', 'pressure8', 'pressure9', 'pressure10', 'pressure11', 'pressure12\""
      ]
     },
     "execution_count": 3,
     "metadata": {},
     "output_type": "execute_result"
    }
   ],
   "source": [
    "\"', '\".join([f'pressure{i}' for i in range(13)])"
   ]
  },
  {
   "cell_type": "code",
   "execution_count": 4,
   "metadata": {},
   "outputs": [],
   "source": [
    "start_time = pd.Timestamp('2020-01-01 00:00:00')\n",
    "# se duerme tras 30 min\n",
    "sleep_start_time = pd.Timestamp('2020-01-01 00:30:00')\n",
    "\n",
    "movement_df = pd.DataFrame(\n",
    "    columns=['timestamp', 'pressure0', 'pressure1', 'pressure2', \n",
    "             'pressure3', 'pressure4', 'pressure5', 'pressure6', \n",
    "             'pressure7', 'pressure8','pressure9', 'pressure10',\n",
    "             'pressure11', 'pressure12', 'type']\n",
    ")\n",
    "# 6 horas de movimientos cada 5 minutos. DESDE QUE SE METE EN LA CAMA\n",
    "movement_df['timestamp'] = pd.period_range('2020-01-01 00:00:00', periods=4320, freq='5S') \n",
    "movement_df['type'] = choices(MOV_TYPES, k=4320)\n",
    "# Coloco un par de down y up (se levanta dos veces de la cama)\n",
    "movement_df.loc[1000, 'type'] = UP_TYPE\n",
    "movement_df.loc[1020, 'type'] = DOWN_TYPE\n",
    "movement_df.loc[3000, 'type'] = UP_TYPE\n",
    "movement_df.loc[3050, 'type'] = DOWN_TYPE\n",
    "# Coloco un down sin sentido\n",
    "movement_df.loc[2000, 'type'] = UP_TYPE\n",
    "movement_df.loc[4000, 'type'] = DOWN_TYPE"
   ]
  },
  {
   "cell_type": "code",
   "execution_count": null,
   "metadata": {},
   "outputs": [],
   "source": []
  },
  {
   "cell_type": "code",
   "execution_count": null,
   "metadata": {},
   "outputs": [],
   "source": []
  },
  {
   "cell_type": "code",
   "execution_count": null,
   "metadata": {},
   "outputs": [],
   "source": []
  },
  {
   "cell_type": "code",
   "execution_count": null,
   "metadata": {},
   "outputs": [],
   "source": []
  },
  {
   "cell_type": "code",
   "execution_count": null,
   "metadata": {},
   "outputs": [],
   "source": []
  },
  {
   "cell_type": "code",
   "execution_count": null,
   "metadata": {},
   "outputs": [],
   "source": []
  },
  {
   "cell_type": "code",
   "execution_count": null,
   "metadata": {},
   "outputs": [],
   "source": []
  },
  {
   "cell_type": "markdown",
   "metadata": {},
   "source": [
    "# FUNCIONES"
   ]
  },
  {
   "cell_type": "markdown",
   "metadata": {},
   "source": [
    "Es el mismo codigo que arriba pero en funciones"
   ]
  },
  {
   "cell_type": "code",
   "execution_count": 5,
   "metadata": {},
   "outputs": [],
   "source": [
    "def calculate_awake_time_score(data_df):\n",
    "    aux = data_df[data_df['type'].isin([UP_TYPE, DOWN_TYPE])]\n",
    "    aux = aux[~(\n",
    "        (aux['type'] == DOWN_TYPE) & (aux['type'].shift() == DOWN_TYPE) |\n",
    "        (aux['type'] == UP_TYPE) & (aux['type'].shift(-1) == UP_TYPE)\n",
    "    )]\n",
    "    aux['diff'] = aux.index - aux.index.array.shift()\n",
    "    aux = aux[aux['type'] == DOWN_TYPE]\n",
    "    # aplicamos multiplicadores a las diff segun la etapa del sueno\n",
    "    # primera 1.5 horas\n",
    "    aux.loc[(aux.index >= 0) & (aux.index < 5400), 'diff'] *= 1.5 / 60.0\n",
    "    # 1.5 -> 2.5 horas\n",
    "    aux.loc[(aux.index >= 5400) & (aux.index < 9000), 'diff'] *= 1.5 / 60.0\n",
    "    # 2.5 -> 3.5 horas\n",
    "    aux.loc[(aux.index >= 9000) & (aux.index < 12600), 'diff'] *= 2.0 / 60.0\n",
    "    # 3.5 -> 4.5 horas\n",
    "    aux.loc[(aux.index >= 12600) & (aux.index < 16200), 'diff'] *= 2.0 / 60.0\n",
    "    # 4.5 -> 5.5 horas\n",
    "    aux.loc[(aux.index >= 16200) & (aux.index < 19800), 'diff'] *= 1.5 / 60.0\n",
    "    # 5.5 -> 6.5 horas\n",
    "    aux.loc[(aux.index >= 19800) & (aux.index < 23400), 'diff'] *= 1.5 / 60.0\n",
    "    # 6.5 -> 7.5 horas\n",
    "    aux.loc[(aux.index >= 23400) & (aux.index < 27000), 'diff'] *= 1.0 / 60.0\n",
    "    # 7.5 -> 8 horas\n",
    "    aux.loc[(aux.index >= 27000) & (aux.index < 28800), 'diff'] *= 0.5 / 60.0\n",
    "    # Calculamos el out of bed factor \n",
    "    out_of_bed_factor = aux['diff'].sum()\n",
    "    # puntuacion_tiempo_despierto = ((-15*outOfBedFactor)/15)+15 (por 15 entre 15 ??)\n",
    "    awake_time_score = max([0, ((-15 * out_of_bed_factor) / 15) + 15])\n",
    "    \n",
    "    return awake_time_score\n",
    "\n",
    "\n",
    "def calculate_latency_time_score(start_time, sleep_start_time):\n",
    "    diff = (sleep_start_time - start_time).seconds\n",
    "    latency_time_score = max([0, ((-5 * diff / 60) / 60) + 5])\n",
    "    \n",
    "    return latency_time_score\n",
    "\n",
    "\n",
    "def calculate_movements_score(data_df):\n",
    "    # Calculo de las penalizaciones por movimiento\n",
    "    # primera 1.5 horas\n",
    "    data_df.loc[(data_df.index >= 0) & (data_df.index < 5400) & (data_df['type'] == 'MEDIUM_2'), 'sqi'] = 3\n",
    "    data_df.loc[(data_df.index >= 0) & (data_df.index < 5400) & (data_df['type'] == 'STRONG'), 'sqi'] = 5\n",
    "    # 1.5 -> 2.5 horas\n",
    "    data_df.loc[(data_df.index >= 5400) & (data_df.index < 9000) & (data_df['type'] == 'MEDIUM_2'), 'sqi'] = 3\n",
    "    data_df.loc[(data_df.index >= 5400) & (data_df.index < 9000) & (data_df['type'] == 'STRONG'), 'sqi'] = 4\n",
    "    # 2.5 -> 3.5 horas\n",
    "    data_df.loc[(data_df.index >= 9000) & (data_df.index < 12600) & (data_df['type'] == 'MEDIUM_2'), 'sqi'] = 2\n",
    "    data_df.loc[(data_df.index >= 9000) & (data_df.index < 12600) & (data_df['type'] == 'STRONG'), 'sqi'] = 4\n",
    "    # 3.5 -> 4.5 horas\n",
    "    data_df.loc[(data_df.index >= 12600) & (data_df.index < 16200) & (data_df['type'] == 'MEDIUM_2'), 'sqi'] = 2\n",
    "    data_df.loc[(data_df.index >= 12600) & (data_df.index < 16200) & (data_df['type'] == 'STRONG'), 'sqi'] = 3\n",
    "    # 4.5 -> 5.5 horas\n",
    "    data_df.loc[(data_df.index >= 16200) & (data_df.index < 19800) & (data_df['type'] == 'MEDIUM_2'), 'sqi'] = 1\n",
    "    data_df.loc[(data_df.index >= 16200) & (data_df.index < 19800) & (data_df['type'] == 'STRONG'), 'sqi'] = 3\n",
    "    # 5.5 -> 6.5 horas\n",
    "    data_df.loc[(data_df.index >= 19800) & (data_df.index < 23400) & (data_df['type'] == 'MEDIUM_2'), 'sqi'] = 1\n",
    "    data_df.loc[(data_df.index >= 19800) & (data_df.index < 23400) & (data_df['type'] == 'STRONG'), 'sqi'] = 2\n",
    "    # 6.5 -> 7.5 horas\n",
    "    data_df.loc[(data_df.index >= 23400) & (data_df.index < 27000) & (data_df['type'] == 'STRONG'), 'sqi'] = 2\n",
    "    # 7.5 -> 8 horas\n",
    "    data_df.loc[(data_df.index >= 27000) & (data_df.index < 28800) & (data_df['type'] == 'STRONG'), 'sqi'] = 1\n",
    "    # Calculo HORAS dormidas (last_move en php)\n",
    "    hours = max(data_df.index) / 3600\n",
    "    # calculo sqi total\n",
    "    sqi = data_df['sqi'].sum() / hours\n",
    "    movements_score = max([0, ((-8 * sqi) / 3) + 80])\n",
    "    \n",
    "    return movements_score\n",
    "\n",
    "\n",
    "def calculate_sleep_hours_factor(data_df):\n",
    "    hours = max(data_df.index) / 3600\n",
    "    sleep_hours_factor = ((10 * hours) + 20) / 100\n",
    "    \n",
    "    return sleep_hours_factor\n",
    "\n",
    "def preprocess_data(sleep_start_time, movement_df):\n",
    "    data_df = movement_df[['timestamp', 'type']].copy()\n",
    "    data_df = data_df.set_index('timestamp')\n",
    "    # filtramos despues de dormir\n",
    "    data_df = data_df[sleep_start_time:]\n",
    "    # creamos una columna para apuntar el sqi de cada movimiento. Por defecto 0\n",
    "    data_df['sqi'] = 0\n",
    "    data_df.index = (data_df.index.to_timestamp() - sleep_start_time).total_seconds()\n",
    "    \n",
    "    return data_df\n",
    "\n",
    "def calculate_sqi(start_time, sleep_start_time, movement_df):\n",
    "    ''' entre 0-100''' \n",
    "    data_df = preprocess_data(sleep_start_time, movement_df)\n",
    "    awake_time_score = calculate_awake_time_score(data_df)\n",
    "    latency_time_score = calculate_latency_time_score(start_time, sleep_start_time)\n",
    "    movements_score = calculate_movements_score(data_df)\n",
    "    sleep_hours_factor = calculate_sleep_hours_factor(data_df)\n",
    "    final_sqi = awake_time_score + latency_time_score + (movements_score * sleep_hours_factor)\n",
    "    \n",
    "    return final_sqi"
   ]
  },
  {
   "cell_type": "code",
   "execution_count": 10,
   "metadata": {},
   "outputs": [
    {
     "data": {
      "text/plain": [
       "period[5S]"
      ]
     },
     "execution_count": 10,
     "metadata": {},
     "output_type": "execute_result"
    }
   ],
   "source": [
    "movement_df['timestamp'].dtype"
   ]
  },
  {
   "cell_type": "markdown",
   "metadata": {},
   "source": [
    "# PRUEBAS"
   ]
  },
  {
   "cell_type": "markdown",
   "metadata": {},
   "source": [
    "## RANDOM"
   ]
  },
  {
   "cell_type": "code",
   "execution_count": 6,
   "metadata": {},
   "outputs": [
    {
     "data": {
      "text/plain": [
       "6.666666666666666"
      ]
     },
     "execution_count": 6,
     "metadata": {},
     "output_type": "execute_result"
    }
   ],
   "source": [
    "start_time = pd.Timestamp('2020-01-01 00:00:00')\n",
    "# se duerme tras 30 min\n",
    "sleep_start_time = pd.Timestamp('2020-01-01 00:30:00')\n",
    "\n",
    "movement_df = pd.DataFrame(\n",
    "    columns=['timestamp', 'pressure0', 'pressure1', 'pressure2', \n",
    "             'pressure3', 'pressure4', 'pressure5', 'pressure6', \n",
    "             'pressure7', 'pressure8','pressure9', 'pressure10',\n",
    "             'pressure11', 'pressure12', 'type']\n",
    ")\n",
    "# 6 horas de movimientos cada 5 minutos. DESDE QUE SE METE EN LA CAMA\n",
    "movement_df['timestamp'] = pd.period_range('2020-01-01 00:00:00', periods=4320, freq='5S') \n",
    "movement_df['type'] = choices(MOV_TYPES, k=4320)\n",
    "# Coloco un par de down y up (se levanta dos veces de la cama)\n",
    "movement_df.loc[1000, 'type'] = UP_TYPE\n",
    "movement_df.loc[1020, 'type'] = DOWN_TYPE\n",
    "movement_df.loc[3000, 'type'] = UP_TYPE\n",
    "movement_df.loc[3050, 'type'] = DOWN_TYPE\n",
    "# Coloco un down sin sentido\n",
    "movement_df.loc[2000, 'type'] = UP_TYPE\n",
    "movement_df.loc[4000, 'type'] = DOWN_TYPE\n",
    "\n",
    "calculate_sqi(start_time, sleep_start_time, movement_df)"
   ]
  },
  {
   "cell_type": "markdown",
   "metadata": {},
   "source": [
    "Sale bajo porque los tipos de movimientos se distribuyen de igual manera, y eso es mucho MED_2 y STRONG. "
   ]
  },
  {
   "cell_type": "markdown",
   "metadata": {},
   "source": [
    "## SIN MOVERSE NI LEVANTARSE"
   ]
  },
  {
   "cell_type": "code",
   "execution_count": 7,
   "metadata": {},
   "outputs": [
    {
     "data": {
      "text/plain": [
       "77.48888888888888"
      ]
     },
     "execution_count": 7,
     "metadata": {},
     "output_type": "execute_result"
    }
   ],
   "source": [
    "start_time = pd.Timestamp('2020-01-01 00:00:00')\n",
    "# se duerme tras 30 min\n",
    "sleep_start_time = pd.Timestamp('2020-01-01 00:30:00')\n",
    "\n",
    "movement_df = pd.DataFrame(\n",
    "    columns=['timestamp', 'pressure0', 'pressure1', 'pressure2', \n",
    "             'pressure3', 'pressure4', 'pressure5', 'pressure6', \n",
    "             'pressure7', 'pressure8','pressure9', 'pressure10',\n",
    "             'pressure11', 'pressure12', 'type']\n",
    ")\n",
    "# 6 horas de movimientos cada 5 minutos. DESDE QUE SE METE EN LA CAMA\n",
    "movement_df['timestamp'] = pd.period_range('2020-01-01 00:00:00', periods=4320, freq='5S') \n",
    "movement_df['type'] = choices(['LIGHT', 'MEDIUM_1'], k=4320)\n",
    "\n",
    "calculate_sqi(start_time, sleep_start_time, movement_df)"
   ]
  },
  {
   "cell_type": "markdown",
   "metadata": {},
   "source": [
    "## CAE A PLOMO A LA CAMA "
   ]
  },
  {
   "cell_type": "code",
   "execution_count": 8,
   "metadata": {},
   "outputs": [
    {
     "data": {
      "text/plain": [
       "83.9888888888889"
      ]
     },
     "execution_count": 8,
     "metadata": {},
     "output_type": "execute_result"
    }
   ],
   "source": [
    "start_time = pd.Timestamp('2020-01-01 00:00:00')\n",
    "# SE DUERME AL INSTANTE\n",
    "sleep_start_time = pd.Timestamp('2020-01-01 00:00:00')\n",
    "\n",
    "movement_df = pd.DataFrame(\n",
    "    columns=['timestamp', 'pressure0', 'pressure1', 'pressure2', \n",
    "             'pressure3', 'pressure4', 'pressure5', 'pressure6', \n",
    "             'pressure7', 'pressure8','pressure9', 'pressure10',\n",
    "             'pressure11', 'pressure12', 'type']\n",
    ")\n",
    "# 6 horas de movimientos cada 5 minutos. DESDE QUE SE METE EN LA CAMA\n",
    "movement_df['timestamp'] = pd.period_range('2020-01-01 00:00:00', periods=4320, freq='5S') \n",
    "movement_df['type'] = choices(['LIGHT', 'MEDIUM_1'], k=4320)\n",
    "\n",
    "calculate_sqi(start_time, sleep_start_time, movement_df)"
   ]
  },
  {
   "cell_type": "markdown",
   "metadata": {},
   "source": [
    "Seguramente sea por temas de decimales ese pico. Pero esto tiene que ser el sueño perfecto"
   ]
  },
  {
   "cell_type": "markdown",
   "metadata": {},
   "source": [
    "## CAE A PLOMO, PERO HACE MOVIMIENTOS MED_2"
   ]
  },
  {
   "cell_type": "code",
   "execution_count": 9,
   "metadata": {},
   "outputs": [
    {
     "data": {
      "text/plain": [
       "20.0"
      ]
     },
     "execution_count": 9,
     "metadata": {},
     "output_type": "execute_result"
    }
   ],
   "source": [
    "start_time = pd.Timestamp('2020-01-01 00:00:00')\n",
    "# SE DUERME AL INSTANTE\n",
    "sleep_start_time = pd.Timestamp('2020-01-01 00:00:00')\n",
    "\n",
    "movement_df = pd.DataFrame(\n",
    "    columns=['timestamp', 'pressure0', 'pressure1', 'pressure2', \n",
    "             'pressure3', 'pressure4', 'pressure5', 'pressure6', \n",
    "             'pressure7', 'pressure8','pressure9', 'pressure10',\n",
    "             'pressure11', 'pressure12', 'type']\n",
    ")\n",
    "# 6 horas de movimientos cada 5 minutos. DESDE QUE SE METE EN LA CAMA\n",
    "movement_df['timestamp'] = pd.period_range('2020-01-01 00:00:00', periods=4320, freq='5S') \n",
    "movement_df['type'] = choices(['LIGHT', 'MEDIUM_1', 'MEDIUM_2'], k=4320)\n",
    "\n",
    "calculate_sqi(start_time, sleep_start_time, movement_df)"
   ]
  },
  {
   "cell_type": "markdown",
   "metadata": {},
   "source": [
    "## CAE A PLOMO, Y HACE UNOS POCOS MOVIMIENTOS MED_2 Y STRONG"
   ]
  },
  {
   "cell_type": "code",
   "execution_count": 11,
   "metadata": {},
   "outputs": [
    {
     "data": {
      "text/plain": [
       "33.49707751279875"
      ]
     },
     "execution_count": 11,
     "metadata": {},
     "output_type": "execute_result"
    }
   ],
   "source": [
    "start_time = pd.Timestamp('2020-01-01 00:00:00')\n",
    "# SE DUERME AL INSTANTE\n",
    "sleep_start_time = pd.Timestamp('2020-01-01 00:00:00')\n",
    "\n",
    "movement_df = pd.DataFrame(\n",
    "    columns=['timestamp', 'pressure0', 'pressure1', 'pressure2', \n",
    "             'pressure3', 'pressure4', 'pressure5', 'pressure6', \n",
    "             'pressure7', 'pressure8','pressure9', 'pressure10',\n",
    "             'pressure11', 'pressure12', 'type']\n",
    ")\n",
    "# 6 horas de movimientos cada 5 minutos. DESDE QUE SE METE EN LA CAMA\n",
    "movement_df['timestamp'] = pd.period_range('2020-01-01 00:00:00', periods=4320, freq='5S') \n",
    "movement_df['type'] = choices(MOV_TYPES, weights=[100, 100, 1, 1], k=4320)\n",
    "\n",
    "calculate_sqi(start_time, sleep_start_time, movement_df)"
   ]
  },
  {
   "cell_type": "markdown",
   "metadata": {},
   "source": [
    "## MEZCLA"
   ]
  },
  {
   "cell_type": "code",
   "execution_count": 13,
   "metadata": {},
   "outputs": [
    {
     "data": {
      "text/plain": [
       "35.744382700457464"
      ]
     },
     "execution_count": 13,
     "metadata": {},
     "output_type": "execute_result"
    }
   ],
   "source": [
    "start_time = pd.Timestamp('2020-01-01 00:00:00')\n",
    "# se duerme tras 30 min\n",
    "sleep_start_time = pd.Timestamp('2020-01-01 00:30:00')\n",
    "\n",
    "movement_df = pd.DataFrame(\n",
    "    columns=['timestamp', 'pressure0', 'pressure1', 'pressure2', \n",
    "             'pressure3', 'pressure4', 'pressure5', 'pressure6', \n",
    "             'pressure7', 'pressure8','pressure9', 'pressure10',\n",
    "             'pressure11', 'pressure12', 'type']\n",
    ")\n",
    "# 6 horas de movimientos cada 5 minutos. DESDE QUE SE METE EN LA CAMA\n",
    "movement_df['timestamp'] = pd.period_range('2020-01-01 00:00:00', periods=4320, freq='5S') \n",
    "movement_df['type'] = choices(MOV_TYPES, weights=[200, 200, 1, 1], k=4320)\n",
    "# Coloco un par de down y up (se levanta dos veces de la cama)\n",
    "movement_df.loc[1000, 'type'] = UP_TYPE\n",
    "movement_df.loc[1020, 'type'] = DOWN_TYPE\n",
    "movement_df.loc[3000, 'type'] = UP_TYPE\n",
    "movement_df.loc[3050, 'type'] = DOWN_TYPE\n",
    "# Coloco un down sin sentido\n",
    "movement_df.loc[2000, 'type'] = UP_TYPE\n",
    "movement_df.loc[4000, 'type'] = DOWN_TYPE\n",
    "\n",
    "calculate_sqi(start_time, sleep_start_time, movement_df)"
   ]
  },
  {
   "cell_type": "code",
   "execution_count": 15,
   "metadata": {},
   "outputs": [
    {
     "name": "stdout",
     "output_type": "stream",
     "text": [
      "CPU times: user 37.7 ms, sys: 624 µs, total: 38.3 ms\n",
      "Wall time: 36.4 ms\n"
     ]
    },
    {
     "data": {
      "text/plain": [
       "35.744382700457464"
      ]
     },
     "execution_count": 15,
     "metadata": {},
     "output_type": "execute_result"
    }
   ],
   "source": [
    "%%time\n",
    "calculate_sqi(start_time, sleep_start_time, movement_df)"
   ]
  },
  {
   "cell_type": "code",
   "execution_count": null,
   "metadata": {},
   "outputs": [],
   "source": []
  },
  {
   "cell_type": "code",
   "execution_count": null,
   "metadata": {},
   "outputs": [],
   "source": []
  }
 ],
 "metadata": {
  "kernelspec": {
   "display_name": "Python 3",
   "language": "python",
   "name": "python3"
  },
  "language_info": {
   "codemirror_mode": {
    "name": "ipython",
    "version": 3
   },
   "file_extension": ".py",
   "mimetype": "text/x-python",
   "name": "python",
   "nbconvert_exporter": "python",
   "pygments_lexer": "ipython3",
   "version": "3.6.8"
  }
 },
 "nbformat": 4,
 "nbformat_minor": 4
}
