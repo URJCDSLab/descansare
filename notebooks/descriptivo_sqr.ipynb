{
 "cells": [
  {
   "cell_type": "markdown",
   "metadata": {},
   "source": [
    "# Estudio descriptivo con SQR"
   ]
  },
  {
   "cell_type": "code",
   "execution_count": 1,
   "metadata": {},
   "outputs": [],
   "source": [
    "%load_ext autoreload\n",
    "%autoreload 2"
   ]
  },
  {
   "cell_type": "code",
   "execution_count": 2,
   "metadata": {},
   "outputs": [],
   "source": [
    "# Cargamos las librerías necesarias\n",
    "from sklearn import preprocessing\n",
    "from statistics import mode\n",
    "import gower\n",
    "from sklearn.cluster import AgglomerativeClustering\n",
    "import scipy.cluster.hierarchy as sch\n",
    "import pandas as pd\n",
    "import numpy as np\n",
    "import matplotlib.pyplot as plt\n",
    "import seaborn as sns\n",
    "import os"
   ]
  },
  {
   "cell_type": "code",
   "execution_count": 3,
   "metadata": {},
   "outputs": [],
   "source": [
    "os.chdir('..')"
   ]
  },
  {
   "cell_type": "code",
   "execution_count": 4,
   "metadata": {},
   "outputs": [],
   "source": [
    "# Cargamos datos con SQR\n",
    "perfiles_sqr = pd.read_parquet('data/processed/perfiles_sqr_filtrado.parquet')\n",
    "perfiles_sqr.reset_index(drop=True, inplace=True) # reseteamos el índice"
   ]
  },
  {
   "cell_type": "markdown",
   "metadata": {},
   "source": [
    "### SQR en sexo"
   ]
  },
  {
   "cell_type": "code",
   "execution_count": 5,
   "metadata": {},
   "outputs": [
    {
     "data": {
      "text/html": [
       "<div>\n",
       "<style scoped>\n",
       "    .dataframe tbody tr th:only-of-type {\n",
       "        vertical-align: middle;\n",
       "    }\n",
       "\n",
       "    .dataframe tbody tr th {\n",
       "        vertical-align: top;\n",
       "    }\n",
       "\n",
       "    .dataframe thead tr th {\n",
       "        text-align: left;\n",
       "    }\n",
       "\n",
       "    .dataframe thead tr:last-of-type th {\n",
       "        text-align: right;\n",
       "    }\n",
       "</style>\n",
       "<table border=\"1\" class=\"dataframe\">\n",
       "  <thead>\n",
       "    <tr>\n",
       "      <th></th>\n",
       "      <th colspan=\"5\" halign=\"left\">sqr</th>\n",
       "    </tr>\n",
       "    <tr>\n",
       "      <th></th>\n",
       "      <th>min</th>\n",
       "      <th>max</th>\n",
       "      <th>mean</th>\n",
       "      <th>std</th>\n",
       "      <th>size</th>\n",
       "    </tr>\n",
       "    <tr>\n",
       "      <th>sexo</th>\n",
       "      <th></th>\n",
       "      <th></th>\n",
       "      <th></th>\n",
       "      <th></th>\n",
       "      <th></th>\n",
       "    </tr>\n",
       "  </thead>\n",
       "  <tbody>\n",
       "    <tr>\n",
       "      <th>Female</th>\n",
       "      <td>0.093528</td>\n",
       "      <td>97.0198</td>\n",
       "      <td>31.935421</td>\n",
       "      <td>17.525474</td>\n",
       "      <td>303</td>\n",
       "    </tr>\n",
       "    <tr>\n",
       "      <th>Male</th>\n",
       "      <td>0.039927</td>\n",
       "      <td>98.9901</td>\n",
       "      <td>34.335482</td>\n",
       "      <td>18.758541</td>\n",
       "      <td>364</td>\n",
       "    </tr>\n",
       "  </tbody>\n",
       "</table>\n",
       "</div>"
      ],
      "text/plain": [
       "             sqr                                    \n",
       "             min      max       mean        std size\n",
       "sexo                                                \n",
       "Female  0.093528  97.0198  31.935421  17.525474  303\n",
       "Male    0.039927  98.9901  34.335482  18.758541  364"
      ]
     },
     "execution_count": 5,
     "metadata": {},
     "output_type": "execute_result"
    }
   ],
   "source": [
    "perfiles_sqr.groupby('sexo').agg({'sqr': [min, max, 'mean', 'std', 'size'],})\n"
   ]
  },
  {
   "cell_type": "markdown",
   "metadata": {},
   "source": [
    "### SQR en posición"
   ]
  },
  {
   "cell_type": "code",
   "execution_count": 6,
   "metadata": {},
   "outputs": [
    {
     "data": {
      "text/html": [
       "<div>\n",
       "<style scoped>\n",
       "    .dataframe tbody tr th:only-of-type {\n",
       "        vertical-align: middle;\n",
       "    }\n",
       "\n",
       "    .dataframe tbody tr th {\n",
       "        vertical-align: top;\n",
       "    }\n",
       "\n",
       "    .dataframe thead tr th {\n",
       "        text-align: left;\n",
       "    }\n",
       "\n",
       "    .dataframe thead tr:last-of-type th {\n",
       "        text-align: right;\n",
       "    }\n",
       "</style>\n",
       "<table border=\"1\" class=\"dataframe\">\n",
       "  <thead>\n",
       "    <tr>\n",
       "      <th></th>\n",
       "      <th colspan=\"5\" halign=\"left\">sqr</th>\n",
       "    </tr>\n",
       "    <tr>\n",
       "      <th></th>\n",
       "      <th>min</th>\n",
       "      <th>max</th>\n",
       "      <th>mean</th>\n",
       "      <th>std</th>\n",
       "      <th>size</th>\n",
       "    </tr>\n",
       "    <tr>\n",
       "      <th>posicion</th>\n",
       "      <th></th>\n",
       "      <th></th>\n",
       "      <th></th>\n",
       "      <th></th>\n",
       "      <th></th>\n",
       "    </tr>\n",
       "  </thead>\n",
       "  <tbody>\n",
       "    <tr>\n",
       "      <th>Lateral</th>\n",
       "      <td>0.039927</td>\n",
       "      <td>98.9901</td>\n",
       "      <td>32.275680</td>\n",
       "      <td>17.421881</td>\n",
       "      <td>456</td>\n",
       "    </tr>\n",
       "    <tr>\n",
       "      <th>Supine</th>\n",
       "      <td>0.132861</td>\n",
       "      <td>97.6852</td>\n",
       "      <td>35.340464</td>\n",
       "      <td>19.758723</td>\n",
       "      <td>211</td>\n",
       "    </tr>\n",
       "  </tbody>\n",
       "</table>\n",
       "</div>"
      ],
      "text/plain": [
       "               sqr                                    \n",
       "               min      max       mean        std size\n",
       "posicion                                              \n",
       "Lateral   0.039927  98.9901  32.275680  17.421881  456\n",
       "Supine    0.132861  97.6852  35.340464  19.758723  211"
      ]
     },
     "execution_count": 6,
     "metadata": {},
     "output_type": "execute_result"
    }
   ],
   "source": [
    "perfiles_sqr.groupby('posicion').agg({'sqr': [min, max, 'mean', 'std', 'size'],})"
   ]
  },
  {
   "cell_type": "markdown",
   "metadata": {},
   "source": [
    "### SQR en altura dependiendo del sexo"
   ]
  },
  {
   "cell_type": "code",
   "execution_count": 12,
   "metadata": {},
   "outputs": [],
   "source": [
    "# Categorizamos altura para hombre y mujer\n",
    "perfiles_sqr[\"altura_cat_hombre\"] = pd.cut(perfiles_sqr['altura'], bins=[0, 160, 170, 185, 250], include_lowest=True,\n",
    "       labels=['<1.6', '1.6-1.7', '1.7-1.85', '>1.85'])\n",
    "perfiles_sqr[\"altura_cat_mujer\"] = pd.cut(perfiles_sqr['altura'], bins=[0, 150, 160, 170, 250], include_lowest=True,\n",
    "       labels=['<1.50', '1.5-1.6', '1.6-1.7', '>1.7'])"
   ]
  },
  {
   "cell_type": "markdown",
   "metadata": {},
   "source": [
    "#### Hombres"
   ]
  },
  {
   "cell_type": "code",
   "execution_count": 11,
   "metadata": {},
   "outputs": [
    {
     "data": {
      "text/html": [
       "<div>\n",
       "<style scoped>\n",
       "    .dataframe tbody tr th:only-of-type {\n",
       "        vertical-align: middle;\n",
       "    }\n",
       "\n",
       "    .dataframe tbody tr th {\n",
       "        vertical-align: top;\n",
       "    }\n",
       "\n",
       "    .dataframe thead tr th {\n",
       "        text-align: left;\n",
       "    }\n",
       "\n",
       "    .dataframe thead tr:last-of-type th {\n",
       "        text-align: right;\n",
       "    }\n",
       "</style>\n",
       "<table border=\"1\" class=\"dataframe\">\n",
       "  <thead>\n",
       "    <tr>\n",
       "      <th></th>\n",
       "      <th colspan=\"5\" halign=\"left\">sqr</th>\n",
       "    </tr>\n",
       "    <tr>\n",
       "      <th></th>\n",
       "      <th>min</th>\n",
       "      <th>max</th>\n",
       "      <th>mean</th>\n",
       "      <th>std</th>\n",
       "      <th>size</th>\n",
       "    </tr>\n",
       "    <tr>\n",
       "      <th>altura_cat_hombre</th>\n",
       "      <th></th>\n",
       "      <th></th>\n",
       "      <th></th>\n",
       "      <th></th>\n",
       "      <th></th>\n",
       "    </tr>\n",
       "  </thead>\n",
       "  <tbody>\n",
       "    <tr>\n",
       "      <th>&lt;1.6</th>\n",
       "      <td>14.362300</td>\n",
       "      <td>56.9062</td>\n",
       "      <td>36.462300</td>\n",
       "      <td>12.839455</td>\n",
       "      <td>9</td>\n",
       "    </tr>\n",
       "    <tr>\n",
       "      <th>1.6-1.7</th>\n",
       "      <td>0.039927</td>\n",
       "      <td>98.9901</td>\n",
       "      <td>33.592818</td>\n",
       "      <td>20.757670</td>\n",
       "      <td>58</td>\n",
       "    </tr>\n",
       "    <tr>\n",
       "      <th>1.7-1.85</th>\n",
       "      <td>0.132861</td>\n",
       "      <td>98.1634</td>\n",
       "      <td>33.555040</td>\n",
       "      <td>18.407528</td>\n",
       "      <td>264</td>\n",
       "    </tr>\n",
       "    <tr>\n",
       "      <th>&gt;1.85</th>\n",
       "      <td>11.718400</td>\n",
       "      <td>97.6697</td>\n",
       "      <td>41.304267</td>\n",
       "      <td>18.459575</td>\n",
       "      <td>33</td>\n",
       "    </tr>\n",
       "  </tbody>\n",
       "</table>\n",
       "</div>"
      ],
      "text/plain": [
       "                         sqr                                    \n",
       "                         min      max       mean        std size\n",
       "altura_cat_hombre                                               \n",
       "<1.6               14.362300  56.9062  36.462300  12.839455    9\n",
       "1.6-1.7             0.039927  98.9901  33.592818  20.757670   58\n",
       "1.7-1.85            0.132861  98.1634  33.555040  18.407528  264\n",
       ">1.85              11.718400  97.6697  41.304267  18.459575   33"
      ]
     },
     "execution_count": 11,
     "metadata": {},
     "output_type": "execute_result"
    }
   ],
   "source": [
    "perfiles_sqr[perfiles_sqr['sexo']==\"Male\"].groupby('altura_cat_hombre').agg({'sqr': [min, max, 'mean', 'std', 'size'],})"
   ]
  },
  {
   "cell_type": "markdown",
   "metadata": {},
   "source": [
    "#### Mujeres"
   ]
  },
  {
   "cell_type": "code",
   "execution_count": 13,
   "metadata": {},
   "outputs": [
    {
     "data": {
      "text/html": [
       "<div>\n",
       "<style scoped>\n",
       "    .dataframe tbody tr th:only-of-type {\n",
       "        vertical-align: middle;\n",
       "    }\n",
       "\n",
       "    .dataframe tbody tr th {\n",
       "        vertical-align: top;\n",
       "    }\n",
       "\n",
       "    .dataframe thead tr th {\n",
       "        text-align: left;\n",
       "    }\n",
       "\n",
       "    .dataframe thead tr:last-of-type th {\n",
       "        text-align: right;\n",
       "    }\n",
       "</style>\n",
       "<table border=\"1\" class=\"dataframe\">\n",
       "  <thead>\n",
       "    <tr>\n",
       "      <th></th>\n",
       "      <th colspan=\"5\" halign=\"left\">sqr</th>\n",
       "    </tr>\n",
       "    <tr>\n",
       "      <th></th>\n",
       "      <th>min</th>\n",
       "      <th>max</th>\n",
       "      <th>mean</th>\n",
       "      <th>std</th>\n",
       "      <th>size</th>\n",
       "    </tr>\n",
       "    <tr>\n",
       "      <th>altura_cat_mujer</th>\n",
       "      <th></th>\n",
       "      <th></th>\n",
       "      <th></th>\n",
       "      <th></th>\n",
       "      <th></th>\n",
       "    </tr>\n",
       "  </thead>\n",
       "  <tbody>\n",
       "    <tr>\n",
       "      <th>&lt;1.50</th>\n",
       "      <td>19.536300</td>\n",
       "      <td>51.3709</td>\n",
       "      <td>33.921712</td>\n",
       "      <td>12.155514</td>\n",
       "      <td>8</td>\n",
       "    </tr>\n",
       "    <tr>\n",
       "      <th>1.5-1.6</th>\n",
       "      <td>0.957338</td>\n",
       "      <td>73.0798</td>\n",
       "      <td>31.368161</td>\n",
       "      <td>16.325843</td>\n",
       "      <td>92</td>\n",
       "    </tr>\n",
       "    <tr>\n",
       "      <th>1.6-1.7</th>\n",
       "      <td>0.093528</td>\n",
       "      <td>97.0198</td>\n",
       "      <td>32.315135</td>\n",
       "      <td>17.980602</td>\n",
       "      <td>162</td>\n",
       "    </tr>\n",
       "    <tr>\n",
       "      <th>&gt;1.7</th>\n",
       "      <td>1.352010</td>\n",
       "      <td>76.6299</td>\n",
       "      <td>31.320396</td>\n",
       "      <td>19.568137</td>\n",
       "      <td>41</td>\n",
       "    </tr>\n",
       "  </tbody>\n",
       "</table>\n",
       "</div>"
      ],
      "text/plain": [
       "                        sqr                                    \n",
       "                        min      max       mean        std size\n",
       "altura_cat_mujer                                               \n",
       "<1.50             19.536300  51.3709  33.921712  12.155514    8\n",
       "1.5-1.6            0.957338  73.0798  31.368161  16.325843   92\n",
       "1.6-1.7            0.093528  97.0198  32.315135  17.980602  162\n",
       ">1.7               1.352010  76.6299  31.320396  19.568137   41"
      ]
     },
     "execution_count": 13,
     "metadata": {},
     "output_type": "execute_result"
    }
   ],
   "source": [
    "perfiles_sqr[perfiles_sqr['sexo']==\"Female\"].groupby('altura_cat_mujer').agg({'sqr': [min, max, 'mean', 'std', 'size'],})"
   ]
  },
  {
   "cell_type": "markdown",
   "metadata": {},
   "source": [
    "### SQR en peso dependiendo del sexo"
   ]
  },
  {
   "cell_type": "code",
   "execution_count": 15,
   "metadata": {},
   "outputs": [],
   "source": [
    "# Categorizamos peso para hombre y mujer\n",
    "perfiles_sqr[\"peso_cat_hombre\"] = pd.cut(perfiles_sqr['peso'], bins=[0, 60, 75, 90, 250], include_lowest=True,\n",
    "       labels=['<60', '60-75', '75-90', '>90'])\n",
    "perfiles_sqr[\"peso_cat_mujer\"] = pd.cut(perfiles_sqr['peso'], bins=[0, 50, 65, 80, 250], include_lowest=True,\n",
    "       labels=['<50', '50-65', '65-80', '>80'])"
   ]
  },
  {
   "cell_type": "markdown",
   "metadata": {},
   "source": [
    "#### Hombres"
   ]
  },
  {
   "cell_type": "code",
   "execution_count": 16,
   "metadata": {},
   "outputs": [
    {
     "data": {
      "text/html": [
       "<div>\n",
       "<style scoped>\n",
       "    .dataframe tbody tr th:only-of-type {\n",
       "        vertical-align: middle;\n",
       "    }\n",
       "\n",
       "    .dataframe tbody tr th {\n",
       "        vertical-align: top;\n",
       "    }\n",
       "\n",
       "    .dataframe thead tr th {\n",
       "        text-align: left;\n",
       "    }\n",
       "\n",
       "    .dataframe thead tr:last-of-type th {\n",
       "        text-align: right;\n",
       "    }\n",
       "</style>\n",
       "<table border=\"1\" class=\"dataframe\">\n",
       "  <thead>\n",
       "    <tr>\n",
       "      <th></th>\n",
       "      <th colspan=\"5\" halign=\"left\">sqr</th>\n",
       "    </tr>\n",
       "    <tr>\n",
       "      <th></th>\n",
       "      <th>min</th>\n",
       "      <th>max</th>\n",
       "      <th>mean</th>\n",
       "      <th>std</th>\n",
       "      <th>size</th>\n",
       "    </tr>\n",
       "    <tr>\n",
       "      <th>peso_cat_hombre</th>\n",
       "      <th></th>\n",
       "      <th></th>\n",
       "      <th></th>\n",
       "      <th></th>\n",
       "      <th></th>\n",
       "    </tr>\n",
       "  </thead>\n",
       "  <tbody>\n",
       "    <tr>\n",
       "      <th>&lt;60</th>\n",
       "      <td>13.822100</td>\n",
       "      <td>46.0235</td>\n",
       "      <td>25.086400</td>\n",
       "      <td>13.184555</td>\n",
       "      <td>5</td>\n",
       "    </tr>\n",
       "    <tr>\n",
       "      <th>60-75</th>\n",
       "      <td>0.039927</td>\n",
       "      <td>98.9901</td>\n",
       "      <td>32.843877</td>\n",
       "      <td>19.927983</td>\n",
       "      <td>85</td>\n",
       "    </tr>\n",
       "    <tr>\n",
       "      <th>75-90</th>\n",
       "      <td>0.624949</td>\n",
       "      <td>98.1634</td>\n",
       "      <td>34.694258</td>\n",
       "      <td>19.093157</td>\n",
       "      <td>156</td>\n",
       "    </tr>\n",
       "    <tr>\n",
       "      <th>&gt;90</th>\n",
       "      <td>0.132861</td>\n",
       "      <td>97.6697</td>\n",
       "      <td>35.327539</td>\n",
       "      <td>17.643573</td>\n",
       "      <td>118</td>\n",
       "    </tr>\n",
       "  </tbody>\n",
       "</table>\n",
       "</div>"
      ],
      "text/plain": [
       "                       sqr                                    \n",
       "                       min      max       mean        std size\n",
       "peso_cat_hombre                                               \n",
       "<60              13.822100  46.0235  25.086400  13.184555    5\n",
       "60-75             0.039927  98.9901  32.843877  19.927983   85\n",
       "75-90             0.624949  98.1634  34.694258  19.093157  156\n",
       ">90               0.132861  97.6697  35.327539  17.643573  118"
      ]
     },
     "execution_count": 16,
     "metadata": {},
     "output_type": "execute_result"
    }
   ],
   "source": [
    "perfiles_sqr[perfiles_sqr['sexo']==\"Male\"].groupby('peso_cat_hombre').agg({'sqr': [min, max, 'mean', 'std', 'size'],})"
   ]
  },
  {
   "cell_type": "markdown",
   "metadata": {},
   "source": [
    "#### Mujeres"
   ]
  },
  {
   "cell_type": "code",
   "execution_count": 18,
   "metadata": {},
   "outputs": [
    {
     "data": {
      "text/html": [
       "<div>\n",
       "<style scoped>\n",
       "    .dataframe tbody tr th:only-of-type {\n",
       "        vertical-align: middle;\n",
       "    }\n",
       "\n",
       "    .dataframe tbody tr th {\n",
       "        vertical-align: top;\n",
       "    }\n",
       "\n",
       "    .dataframe thead tr th {\n",
       "        text-align: left;\n",
       "    }\n",
       "\n",
       "    .dataframe thead tr:last-of-type th {\n",
       "        text-align: right;\n",
       "    }\n",
       "</style>\n",
       "<table border=\"1\" class=\"dataframe\">\n",
       "  <thead>\n",
       "    <tr>\n",
       "      <th></th>\n",
       "      <th colspan=\"5\" halign=\"left\">sqr</th>\n",
       "    </tr>\n",
       "    <tr>\n",
       "      <th></th>\n",
       "      <th>min</th>\n",
       "      <th>max</th>\n",
       "      <th>mean</th>\n",
       "      <th>std</th>\n",
       "      <th>size</th>\n",
       "    </tr>\n",
       "    <tr>\n",
       "      <th>peso_cat_mujer</th>\n",
       "      <th></th>\n",
       "      <th></th>\n",
       "      <th></th>\n",
       "      <th></th>\n",
       "      <th></th>\n",
       "    </tr>\n",
       "  </thead>\n",
       "  <tbody>\n",
       "    <tr>\n",
       "      <th>&lt;50</th>\n",
       "      <td>13.264600</td>\n",
       "      <td>56.1226</td>\n",
       "      <td>31.834579</td>\n",
       "      <td>13.259204</td>\n",
       "      <td>19</td>\n",
       "    </tr>\n",
       "    <tr>\n",
       "      <th>50-65</th>\n",
       "      <td>0.093528</td>\n",
       "      <td>73.0798</td>\n",
       "      <td>28.972477</td>\n",
       "      <td>16.757007</td>\n",
       "      <td>148</td>\n",
       "    </tr>\n",
       "    <tr>\n",
       "      <th>65-80</th>\n",
       "      <td>2.207280</td>\n",
       "      <td>83.7040</td>\n",
       "      <td>35.262348</td>\n",
       "      <td>17.072420</td>\n",
       "      <td>99</td>\n",
       "    </tr>\n",
       "    <tr>\n",
       "      <th>&gt;80</th>\n",
       "      <td>1.352010</td>\n",
       "      <td>97.0198</td>\n",
       "      <td>34.937204</td>\n",
       "      <td>21.745213</td>\n",
       "      <td>37</td>\n",
       "    </tr>\n",
       "  </tbody>\n",
       "</table>\n",
       "</div>"
      ],
      "text/plain": [
       "                      sqr                                    \n",
       "                      min      max       mean        std size\n",
       "peso_cat_mujer                                               \n",
       "<50             13.264600  56.1226  31.834579  13.259204   19\n",
       "50-65            0.093528  73.0798  28.972477  16.757007  148\n",
       "65-80            2.207280  83.7040  35.262348  17.072420   99\n",
       ">80              1.352010  97.0198  34.937204  21.745213   37"
      ]
     },
     "execution_count": 18,
     "metadata": {},
     "output_type": "execute_result"
    }
   ],
   "source": [
    "perfiles_sqr[perfiles_sqr['sexo']==\"Female\"].groupby('peso_cat_mujer').agg({'sqr': [min, max, 'mean', 'std', 'size'],})"
   ]
  },
  {
   "cell_type": "markdown",
   "metadata": {},
   "source": [
    "## Ejemplos"
   ]
  },
  {
   "cell_type": "code",
   "execution_count": 20,
   "metadata": {},
   "outputs": [],
   "source": [
    "cat_bigmen = perfiles_sqr[(perfiles_sqr[\"sexo\"]==\"Male\") & (perfiles_sqr[\"posicion\"] == \"Supine\") \n",
    "                               & (perfiles_sqr[\"altura\"]>=180) & (perfiles_sqr[\"peso\"] >= 80)]\n",
    "cat_smallwomen = perfiles_sqr[(perfiles_sqr[\"sexo\"]==\"Female\") & (perfiles_sqr[\"posicion\"] == \"Lateral\")\n",
    "                                   & (perfiles_sqr[\"altura\"]<=160) & (perfiles_sqr[\"peso\"] <= 60)]\n",
    "# Cambiamos la posicion\n",
    "cat_bigmen2 = perfiles_sqr[(perfiles_sqr[\"sexo\"]==\"Male\") & (perfiles_sqr[\"posicion\"] == \"Lateral\") \n",
    "                               & (perfiles_sqr[\"altura\"]>=180) & (perfiles_sqr[\"peso\"] >= 80)]\n",
    "cat_smallwomen2 = perfiles_sqr[(perfiles_sqr[\"sexo\"]==\"Female\") & (perfiles_sqr[\"posicion\"] == \"Supine\")\n",
    "                                   & (perfiles_sqr[\"altura\"]<=160) & (perfiles_sqr[\"peso\"] <= 60)]"
   ]
  },
  {
   "cell_type": "code",
   "execution_count": 23,
   "metadata": {},
   "outputs": [
    {
     "data": {
      "text/plain": [
       "count    50.000000\n",
       "mean     35.668762\n",
       "std      20.594726\n",
       "min       0.624949\n",
       "25%      22.958500\n",
       "50%      30.469150\n",
       "75%      40.125200\n",
       "max      97.685200\n",
       "Name: sqr, dtype: float64"
      ]
     },
     "execution_count": 23,
     "metadata": {},
     "output_type": "execute_result"
    }
   ],
   "source": [
    "# Hombres grandes Supine\n",
    "cat_bigmen['sqr'].describe()"
   ]
  },
  {
   "cell_type": "code",
   "execution_count": 24,
   "metadata": {},
   "outputs": [
    {
     "data": {
      "text/plain": [
       "count    77.000000\n",
       "mean     34.757574\n",
       "std      15.158779\n",
       "min       0.546476\n",
       "25%      24.619900\n",
       "50%      33.276000\n",
       "75%      43.184000\n",
       "max      76.971000\n",
       "Name: sqr, dtype: float64"
      ]
     },
     "execution_count": 24,
     "metadata": {},
     "output_type": "execute_result"
    }
   ],
   "source": [
    "# Hombres grandes Lateral\n",
    "cat_bigmen2['sqr'].describe()"
   ]
  },
  {
   "cell_type": "code",
   "execution_count": 25,
   "metadata": {},
   "outputs": [
    {
     "data": {
      "text/plain": [
       "count    45.000000\n",
       "mean     26.975716\n",
       "std      13.893197\n",
       "min       2.196300\n",
       "25%      19.508300\n",
       "50%      25.259200\n",
       "75%      32.304000\n",
       "max      56.668100\n",
       "Name: sqr, dtype: float64"
      ]
     },
     "execution_count": 25,
     "metadata": {},
     "output_type": "execute_result"
    }
   ],
   "source": [
    "# Mujeres pequeñas Supine\n",
    "cat_smallwomen['sqr'].describe()"
   ]
  },
  {
   "cell_type": "code",
   "execution_count": 26,
   "metadata": {},
   "outputs": [
    {
     "data": {
      "text/plain": [
       "count    14.000000\n",
       "mean     34.286717\n",
       "std      20.089276\n",
       "min       0.957338\n",
       "25%      18.470125\n",
       "50%      31.679300\n",
       "75%      48.853800\n",
       "max      71.569700\n",
       "Name: sqr, dtype: float64"
      ]
     },
     "execution_count": 26,
     "metadata": {},
     "output_type": "execute_result"
    }
   ],
   "source": [
    "# Mujeres pequeñas Lateral\n",
    "cat_smallwomen2['sqr'].describe()"
   ]
  },
  {
   "cell_type": "code",
   "execution_count": null,
   "metadata": {},
   "outputs": [],
   "source": []
  }
 ],
 "metadata": {
  "kernelspec": {
   "display_name": "Python 3",
   "language": "python",
   "name": "python3"
  },
  "language_info": {
   "codemirror_mode": {
    "name": "ipython",
    "version": 3
   },
   "file_extension": ".py",
   "mimetype": "text/x-python",
   "name": "python",
   "nbconvert_exporter": "python",
   "pygments_lexer": "ipython3",
   "version": "3.8.3"
  }
 },
 "nbformat": 4,
 "nbformat_minor": 4
}
