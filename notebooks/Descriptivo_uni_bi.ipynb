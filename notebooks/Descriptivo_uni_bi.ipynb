{
 "cells": [
  {
   "cell_type": "markdown",
   "metadata": {},
   "source": [
    "<img src=\"img/dslogo.png\" alt=\"title\" align=\"right\">"
   ]
  },
  {
   "cell_type": "markdown",
   "metadata": {},
   "source": [
    "# Estudio de las variables explicativas del SQR"
   ]
  },
  {
   "cell_type": "code",
   "execution_count": 1,
   "metadata": {},
   "outputs": [],
   "source": [
    "%load_ext autoreload\n",
    "%autoreload 2"
   ]
  },
  {
   "cell_type": "code",
   "execution_count": 2,
   "metadata": {},
   "outputs": [],
   "source": [
    "# Cargamos las librerías necesarias\n",
    "from sklearn import preprocessing\n",
    "from statistics import mode\n",
    "from scipy import stats\n",
    "from sklearn.cluster import AgglomerativeClustering\n",
    "import scipy.cluster.hierarchy as sch\n",
    "import pandas as pd\n",
    "import numpy as np\n",
    "import matplotlib.pyplot as plt\n",
    "import seaborn as sns"
   ]
  },
  {
   "cell_type": "code",
   "execution_count": 4,
   "metadata": {},
   "outputs": [],
   "source": [
    "pd.options.display.max_rows = 180"
   ]
  },
  {
   "cell_type": "code",
   "execution_count": 5,
   "metadata": {},
   "outputs": [],
   "source": [
    "# Cargamos datos con SQR\n",
    "perfiles_sqr = pd.read_parquet('../data/processed/perfiles_sqr_filtrado.parquet')\n",
    "perfiles_sqr.reset_index(drop=True, inplace=True) # reseteamos el índice"
   ]
  },
  {
   "cell_type": "code",
   "execution_count": 6,
   "metadata": {},
   "outputs": [],
   "source": [
    "# perfiles_sqr.head()\n",
    "perfiles_sqr['IMC'] = perfiles_sqr['peso'] / (perfiles_sqr['altura']/100)**2\n",
    "perfiles_sqr['IMC_cat'] = pd.cut(perfiles_sqr['IMC'], bins=[0, 25, 30, 50],\n",
    "                                include_lowest=True,labels=['Bajo peso', 'Normal', 'Sobrepeso'])\n",
    "# tubos\n",
    "for i in range(6):\n",
    "    perfiles_sqr[f'PresPos{i+1}'] = perfiles_sqr.presiones.apply(lambda x: x[i])"
   ]
  },
  {
   "cell_type": "code",
   "execution_count": 7,
   "metadata": {},
   "outputs": [],
   "source": [
    "sns.set_style('dark')"
   ]
  },
  {
   "cell_type": "markdown",
   "metadata": {},
   "source": [
    "## Análisis univariante"
   ]
  },
  {
   "cell_type": "markdown",
   "metadata": {},
   "source": [
    "### SQR"
   ]
  },
  {
   "cell_type": "markdown",
   "metadata": {},
   "source": [
    "El SQR está centrado en torno al 70-75% como refleja el siguiente histograma y sus valores de media (72.14%) y de mediana (74.26%). El valor del cuantil 9 es 50.76%, es decir, sólo un 9% de los individuos obtienen un SQR menor del 50%. El primer cuartil (25) es 63.44, lo que implica que un 75% de los usuarios logran una calidad del sueño superior al 63%."
   ]
  },
  {
   "cell_type": "code",
   "execution_count": 8,
   "metadata": {},
   "outputs": [
    {
     "data": {
      "image/png": "[encoded data removed]",
      "text/plain": [
       "<Figure size 432x288 with 1 Axes>"
      ]
     },
     "metadata": {},
     "output_type": "display_data"
    }
   ],
   "source": [
    "sns.distplot(perfiles_sqr[\"sqr\"], bins=20,kde = False,hist=True)\n",
    "plt.title(\"Histograma SQR\")\n",
    "plt.show();"
   ]
  },
  {
   "cell_type": "code",
   "execution_count": 9,
   "metadata": {},
   "outputs": [
    {
     "data": {
      "text/html": [
       "<div>\n",
       "<style scoped>\n",
       "    .dataframe tbody tr th:only-of-type {\n",
       "        vertical-align: middle;\n",
       "    }\n",
       "\n",
       "    .dataframe tbody tr th {\n",
       "        vertical-align: top;\n",
       "    }\n",
       "\n",
       "    .dataframe thead th {\n",
       "        text-align: right;\n",
       "    }\n",
       "</style>\n",
       "<table border=\"1\" class=\"dataframe\">\n",
       "  <thead>\n",
       "    <tr style=\"text-align: right;\">\n",
       "      <th></th>\n",
       "      <th>sqr</th>\n",
       "    </tr>\n",
       "  </thead>\n",
       "  <tbody>\n",
       "    <tr>\n",
       "      <th>count</th>\n",
       "      <td>21219.00</td>\n",
       "    </tr>\n",
       "    <tr>\n",
       "      <th>mean</th>\n",
       "      <td>72.14</td>\n",
       "    </tr>\n",
       "    <tr>\n",
       "      <th>std</th>\n",
       "      <td>15.41</td>\n",
       "    </tr>\n",
       "    <tr>\n",
       "      <th>min</th>\n",
       "      <td>0.02</td>\n",
       "    </tr>\n",
       "    <tr>\n",
       "      <th>25%</th>\n",
       "      <td>63.45</td>\n",
       "    </tr>\n",
       "    <tr>\n",
       "      <th>50%</th>\n",
       "      <td>74.26</td>\n",
       "    </tr>\n",
       "    <tr>\n",
       "      <th>75%</th>\n",
       "      <td>83.09</td>\n",
       "    </tr>\n",
       "    <tr>\n",
       "      <th>max</th>\n",
       "      <td>99.86</td>\n",
       "    </tr>\n",
       "  </tbody>\n",
       "</table>\n",
       "</div>"
      ],
      "text/plain": [
       "            sqr\n",
       "count  21219.00\n",
       "mean      72.14\n",
       "std       15.41\n",
       "min        0.02\n",
       "25%       63.45\n",
       "50%       74.26\n",
       "75%       83.09\n",
       "max       99.86"
      ]
     },
     "metadata": {},
     "output_type": "display_data"
    }
   ],
   "source": [
    "display(pd.DataFrame(perfiles_sqr[\"sqr\"].describe()).round(2).rename({'count':'frecuencia relativa', 'mean':'media', 'std': 'desviación'}, axis='columns'))"
   ]
  },
  {
   "cell_type": "code",
   "execution_count": 10,
   "metadata": {},
   "outputs": [
    {
     "data": {
      "text/html": [
       "<div>\n",
       "<style scoped>\n",
       "    .dataframe tbody tr th:only-of-type {\n",
       "        vertical-align: middle;\n",
       "    }\n",
       "\n",
       "    .dataframe tbody tr th {\n",
       "        vertical-align: top;\n",
       "    }\n",
       "\n",
       "    .dataframe thead th {\n",
       "        text-align: right;\n",
       "    }\n",
       "</style>\n",
       "<table border=\"1\" class=\"dataframe\">\n",
       "  <thead>\n",
       "    <tr style=\"text-align: right;\">\n",
       "      <th></th>\n",
       "      <th>sqr</th>\n",
       "    </tr>\n",
       "  </thead>\n",
       "  <tbody>\n",
       "    <tr>\n",
       "      <th>0.00</th>\n",
       "      <td>0.018056</td>\n",
       "    </tr>\n",
       "    <tr>\n",
       "      <th>0.08</th>\n",
       "      <td>49.469048</td>\n",
       "    </tr>\n",
       "    <tr>\n",
       "      <th>0.09</th>\n",
       "      <td>50.767978</td>\n",
       "    </tr>\n",
       "    <tr>\n",
       "      <th>0.10</th>\n",
       "      <td>51.989448</td>\n",
       "    </tr>\n",
       "    <tr>\n",
       "      <th>0.20</th>\n",
       "      <td>60.479507</td>\n",
       "    </tr>\n",
       "  </tbody>\n",
       "</table>\n",
       "</div>"
      ],
      "text/plain": [
       "            sqr\n",
       "0.00   0.018056\n",
       "0.08  49.469048\n",
       "0.09  50.767978\n",
       "0.10  51.989448\n",
       "0.20  60.479507"
      ]
     },
     "metadata": {},
     "output_type": "display_data"
    }
   ],
   "source": [
    "display(pd.DataFrame(perfiles_sqr[\"sqr\"].quantile([0,0.08,0.09,0.1,0.2])))"
   ]
  },
  {
   "cell_type": "markdown",
   "metadata": {},
   "source": [
    "### Sexo"
   ]
  },
  {
   "cell_type": "markdown",
   "metadata": {},
   "source": [
    "Entre los usuarios el número de hombres es ligeramente superior al de mujeres (55% vs 45%) pero está bastante equilibrado."
   ]
  },
  {
   "cell_type": "code",
   "execution_count": 11,
   "metadata": {},
   "outputs": [
    {
     "data": {
      "image/png": "[encoded data removed]",
      "text/plain": [
       "<Figure size 432x288 with 1 Axes>"
      ]
     },
     "metadata": {},
     "output_type": "display_data"
    }
   ],
   "source": [
    "sns.countplot(x='sexo', data=perfiles_sqr)\n",
    "plt.title(\"Diagrama de barras Sexo\")\n",
    "plt.show();"
   ]
  },
  {
   "cell_type": "code",
   "execution_count": 12,
   "metadata": {},
   "outputs": [
    {
     "data": {
      "text/html": [
       "<div>\n",
       "<style scoped>\n",
       "    .dataframe tbody tr th:only-of-type {\n",
       "        vertical-align: middle;\n",
       "    }\n",
       "\n",
       "    .dataframe tbody tr th {\n",
       "        vertical-align: top;\n",
       "    }\n",
       "\n",
       "    .dataframe thead th {\n",
       "        text-align: right;\n",
       "    }\n",
       "</style>\n",
       "<table border=\"1\" class=\"dataframe\">\n",
       "  <thead>\n",
       "    <tr style=\"text-align: right;\">\n",
       "      <th></th>\n",
       "      <th>sexo</th>\n",
       "    </tr>\n",
       "  </thead>\n",
       "  <tbody>\n",
       "    <tr>\n",
       "      <th>Male</th>\n",
       "      <td>11617</td>\n",
       "    </tr>\n",
       "    <tr>\n",
       "      <th>Female</th>\n",
       "      <td>9602</td>\n",
       "    </tr>\n",
       "  </tbody>\n",
       "</table>\n",
       "</div>"
      ],
      "text/plain": [
       "         sexo\n",
       "Male    11617\n",
       "Female   9602"
      ]
     },
     "metadata": {},
     "output_type": "display_data"
    }
   ],
   "source": [
    "display(pd.DataFrame(perfiles_sqr[\"sexo\"].value_counts()))"
   ]
  },
  {
   "cell_type": "markdown",
   "metadata": {},
   "source": [
    "### Posición"
   ]
  },
  {
   "cell_type": "markdown",
   "metadata": {},
   "source": [
    "El 71% de los usuarios duerme en posición lateral frente al 29% que duerme en posición supine."
   ]
  },
  {
   "cell_type": "code",
   "execution_count": 13,
   "metadata": {},
   "outputs": [
    {
     "data": {
      "image/png": "[encoded data removed]",
      "text/plain": [
       "<Figure size 432x288 with 1 Axes>"
      ]
     },
     "metadata": {},
     "output_type": "display_data"
    }
   ],
   "source": [
    "sns.countplot(x='posicion', data=perfiles_sqr)\n",
    "plt.title(\"Diagrama de barras Posición\")\n",
    "plt.show();"
   ]
  },
  {
   "cell_type": "code",
   "execution_count": 14,
   "metadata": {},
   "outputs": [
    {
     "data": {
      "text/html": [
       "<div>\n",
       "<style scoped>\n",
       "    .dataframe tbody tr th:only-of-type {\n",
       "        vertical-align: middle;\n",
       "    }\n",
       "\n",
       "    .dataframe tbody tr th {\n",
       "        vertical-align: top;\n",
       "    }\n",
       "\n",
       "    .dataframe thead th {\n",
       "        text-align: right;\n",
       "    }\n",
       "</style>\n",
       "<table border=\"1\" class=\"dataframe\">\n",
       "  <thead>\n",
       "    <tr style=\"text-align: right;\">\n",
       "      <th></th>\n",
       "      <th>posicion</th>\n",
       "    </tr>\n",
       "  </thead>\n",
       "  <tbody>\n",
       "    <tr>\n",
       "      <th>Lateral</th>\n",
       "      <td>15013</td>\n",
       "    </tr>\n",
       "    <tr>\n",
       "      <th>Supine</th>\n",
       "      <td>6206</td>\n",
       "    </tr>\n",
       "  </tbody>\n",
       "</table>\n",
       "</div>"
      ],
      "text/plain": [
       "         posicion\n",
       "Lateral     15013\n",
       "Supine       6206"
      ]
     },
     "metadata": {},
     "output_type": "display_data"
    }
   ],
   "source": [
    "display(pd.DataFrame(perfiles_sqr[\"posicion\"].value_counts()))"
   ]
  },
  {
   "cell_type": "markdown",
   "metadata": {},
   "source": [
    "### Altura"
   ]
  },
  {
   "cell_type": "markdown",
   "metadata": {},
   "source": [
    "La altura muestra una distribución simétrica centrada en 170 cm."
   ]
  },
  {
   "cell_type": "code",
   "execution_count": 15,
   "metadata": {},
   "outputs": [
    {
     "data": {
      "image/png": "[encoded data removed]",
      "text/plain": [
       "<Figure size 936x360 with 2 Axes>"
      ]
     },
     "metadata": {},
     "output_type": "display_data"
    }
   ],
   "source": [
    "fig, (ax1, ax2) = plt.subplots(1,2, sharex=False, sharey=False,figsize=(13,5))\n",
    "sns.distplot(perfiles_sqr[\"altura\"], bins=20,kde = False,hist=True, ax = ax1).set_title('Histograma')\n",
    "sns.boxplot(perfiles_sqr[\"altura\"], ax = ax2).set_title('Boxplot')\n",
    "fig.suptitle('Altura', fontsize=16)\n",
    "plt.show();"
   ]
  },
  {
   "cell_type": "code",
   "execution_count": 16,
   "metadata": {},
   "outputs": [
    {
     "data": {
      "text/html": [
       "<div>\n",
       "<style scoped>\n",
       "    .dataframe tbody tr th:only-of-type {\n",
       "        vertical-align: middle;\n",
       "    }\n",
       "\n",
       "    .dataframe tbody tr th {\n",
       "        vertical-align: top;\n",
       "    }\n",
       "\n",
       "    .dataframe thead th {\n",
       "        text-align: right;\n",
       "    }\n",
       "</style>\n",
       "<table border=\"1\" class=\"dataframe\">\n",
       "  <thead>\n",
       "    <tr style=\"text-align: right;\">\n",
       "      <th></th>\n",
       "      <th>altura</th>\n",
       "    </tr>\n",
       "  </thead>\n",
       "  <tbody>\n",
       "    <tr>\n",
       "      <th>count</th>\n",
       "      <td>21219.000000</td>\n",
       "    </tr>\n",
       "    <tr>\n",
       "      <th>mean</th>\n",
       "      <td>170.462416</td>\n",
       "    </tr>\n",
       "    <tr>\n",
       "      <th>std</th>\n",
       "      <td>9.474278</td>\n",
       "    </tr>\n",
       "    <tr>\n",
       "      <th>min</th>\n",
       "      <td>136.000000</td>\n",
       "    </tr>\n",
       "    <tr>\n",
       "      <th>25%</th>\n",
       "      <td>163.000000</td>\n",
       "    </tr>\n",
       "    <tr>\n",
       "      <th>50%</th>\n",
       "      <td>171.000000</td>\n",
       "    </tr>\n",
       "    <tr>\n",
       "      <th>75%</th>\n",
       "      <td>178.000000</td>\n",
       "    </tr>\n",
       "    <tr>\n",
       "      <th>max</th>\n",
       "      <td>203.000000</td>\n",
       "    </tr>\n",
       "  </tbody>\n",
       "</table>\n",
       "</div>"
      ],
      "text/plain": [
       "             altura\n",
       "count  21219.000000\n",
       "mean     170.462416\n",
       "std        9.474278\n",
       "min      136.000000\n",
       "25%      163.000000\n",
       "50%      171.000000\n",
       "75%      178.000000\n",
       "max      203.000000"
      ]
     },
     "metadata": {},
     "output_type": "display_data"
    }
   ],
   "source": [
    "display(pd.DataFrame(perfiles_sqr[\"altura\"].describe()))"
   ]
  },
  {
   "cell_type": "markdown",
   "metadata": {},
   "source": [
    "### Peso"
   ]
  },
  {
   "cell_type": "markdown",
   "metadata": {},
   "source": [
    "El peso medio de los usuarios es de unos 74 kg. Se encuentran algunos valores atípicos a partir de los 120 kg."
   ]
  },
  {
   "cell_type": "code",
   "execution_count": 17,
   "metadata": {},
   "outputs": [
    {
     "data": {
      "image/png": "[encoded data removed]",
      "text/plain": [
       "<Figure size 936x360 with 2 Axes>"
      ]
     },
     "metadata": {},
     "output_type": "display_data"
    }
   ],
   "source": [
    "fig, (ax1, ax2) = plt.subplots(1,2, sharex=False, sharey=False,figsize=(13,5))\n",
    "sns.distplot(perfiles_sqr[\"peso\"], bins=20,kde = False,hist=True, ax = ax1).set_title('Histograma')\n",
    "sns.boxplot(perfiles_sqr[\"peso\"], ax = ax2).set_title('Boxplot')\n",
    "fig.suptitle('Peso', fontsize=16)\n",
    "plt.show();"
   ]
  },
  {
   "cell_type": "code",
   "execution_count": 18,
   "metadata": {},
   "outputs": [
    {
     "data": {
      "text/html": [
       "<div>\n",
       "<style scoped>\n",
       "    .dataframe tbody tr th:only-of-type {\n",
       "        vertical-align: middle;\n",
       "    }\n",
       "\n",
       "    .dataframe tbody tr th {\n",
       "        vertical-align: top;\n",
       "    }\n",
       "\n",
       "    .dataframe thead th {\n",
       "        text-align: right;\n",
       "    }\n",
       "</style>\n",
       "<table border=\"1\" class=\"dataframe\">\n",
       "  <thead>\n",
       "    <tr style=\"text-align: right;\">\n",
       "      <th></th>\n",
       "      <th>peso</th>\n",
       "    </tr>\n",
       "  </thead>\n",
       "  <tbody>\n",
       "    <tr>\n",
       "      <th>count</th>\n",
       "      <td>21219.000000</td>\n",
       "    </tr>\n",
       "    <tr>\n",
       "      <th>mean</th>\n",
       "      <td>74.338706</td>\n",
       "    </tr>\n",
       "    <tr>\n",
       "      <th>std</th>\n",
       "      <td>16.564971</td>\n",
       "    </tr>\n",
       "    <tr>\n",
       "      <th>min</th>\n",
       "      <td>28.000000</td>\n",
       "    </tr>\n",
       "    <tr>\n",
       "      <th>25%</th>\n",
       "      <td>62.000000</td>\n",
       "    </tr>\n",
       "    <tr>\n",
       "      <th>50%</th>\n",
       "      <td>74.000000</td>\n",
       "    </tr>\n",
       "    <tr>\n",
       "      <th>75%</th>\n",
       "      <td>84.000000</td>\n",
       "    </tr>\n",
       "    <tr>\n",
       "      <th>max</th>\n",
       "      <td>143.000000</td>\n",
       "    </tr>\n",
       "  </tbody>\n",
       "</table>\n",
       "</div>"
      ],
      "text/plain": [
       "               peso\n",
       "count  21219.000000\n",
       "mean      74.338706\n",
       "std       16.564971\n",
       "min       28.000000\n",
       "25%       62.000000\n",
       "50%       74.000000\n",
       "75%       84.000000\n",
       "max      143.000000"
      ]
     },
     "metadata": {},
     "output_type": "display_data"
    }
   ],
   "source": [
    "display(pd.DataFrame(perfiles_sqr[\"peso\"].describe()))"
   ]
  },
  {
   "cell_type": "markdown",
   "metadata": {},
   "source": [
    "### IMC"
   ]
  },
  {
   "cell_type": "markdown",
   "metadata": {},
   "source": [
    "Se calcula el IMC (Índice de Masa Corporal) a partir de la altura y el peso. Se categoriza dicha variable en 3 categorías:\n",
    "* Bajo peso si IMC < 25\n",
    "* Normal si IMC está entre 25 y 30\n",
    "* Sobrepeso si el IMC es superior a 30"
   ]
  },
  {
   "cell_type": "code",
   "execution_count": 19,
   "metadata": {},
   "outputs": [
    {
     "data": {
      "image/png": "[encoded data removed]",
      "text/plain": [
       "<Figure size 432x288 with 1 Axes>"
      ]
     },
     "metadata": {},
     "output_type": "display_data"
    }
   ],
   "source": [
    "sns.distplot(perfiles_sqr[\"IMC\"], bins=20,kde = False,hist=True)\n",
    "plt.title(\"Histograma IMC\")\n",
    "plt.show();"
   ]
  },
  {
   "cell_type": "code",
   "execution_count": 20,
   "metadata": {},
   "outputs": [
    {
     "data": {
      "image/png": "[encoded data removed]",
      "text/plain": [
       "<Figure size 432x288 with 1 Axes>"
      ]
     },
     "metadata": {},
     "output_type": "display_data"
    }
   ],
   "source": [
    "sns.countplot(x='IMC_cat', data=perfiles_sqr)\n",
    "plt.title(\"Diagrama de barras IMC categorizado\")\n",
    "plt.show();"
   ]
  },
  {
   "cell_type": "code",
   "execution_count": 21,
   "metadata": {},
   "outputs": [
    {
     "data": {
      "text/html": [
       "<div>\n",
       "<style scoped>\n",
       "    .dataframe tbody tr th:only-of-type {\n",
       "        vertical-align: middle;\n",
       "    }\n",
       "\n",
       "    .dataframe tbody tr th {\n",
       "        vertical-align: top;\n",
       "    }\n",
       "\n",
       "    .dataframe thead th {\n",
       "        text-align: right;\n",
       "    }\n",
       "</style>\n",
       "<table border=\"1\" class=\"dataframe\">\n",
       "  <thead>\n",
       "    <tr style=\"text-align: right;\">\n",
       "      <th></th>\n",
       "      <th>IMC_cat</th>\n",
       "    </tr>\n",
       "  </thead>\n",
       "  <tbody>\n",
       "    <tr>\n",
       "      <th>Bajo peso</th>\n",
       "      <td>11805</td>\n",
       "    </tr>\n",
       "    <tr>\n",
       "      <th>Normal</th>\n",
       "      <td>6393</td>\n",
       "    </tr>\n",
       "    <tr>\n",
       "      <th>Sobrepeso</th>\n",
       "      <td>3021</td>\n",
       "    </tr>\n",
       "  </tbody>\n",
       "</table>\n",
       "</div>"
      ],
      "text/plain": [
       "           IMC_cat\n",
       "Bajo peso    11805\n",
       "Normal        6393\n",
       "Sobrepeso     3021"
      ]
     },
     "metadata": {},
     "output_type": "display_data"
    }
   ],
   "source": [
    "display(pd.DataFrame(perfiles_sqr[\"IMC_cat\"].value_counts()))"
   ]
  },
  {
   "cell_type": "markdown",
   "metadata": {},
   "source": [
    "### Presiones"
   ]
  },
  {
   "cell_type": "markdown",
   "metadata": {},
   "source": [
    "El siguiente gráfico muestra la frecuencia de uso de las 6 presiones posibles en cada uno de los 6 tubos. En el tubo 1 son más usadas las presiones bajas (0 y 1) al igual que en el tubo 6 (1 y 2) aunque en este la presión seleccionada es mayor. Por otro lado, en los tubos 2, 3, 4 y 5 las presiones más usadas son más altas (principalmente 2 y 3)."
   ]
  },
  {
   "cell_type": "code",
   "execution_count": 22,
   "metadata": {},
   "outputs": [
    {
     "data": {
      "image/png": "[encoded data removed]",
      "text/plain": [
       "<Figure size 1080x432 with 6 Axes>"
      ]
     },
     "metadata": {},
     "output_type": "display_data"
    }
   ],
   "source": [
    "fig, axs = plt.subplots(2,3, sharex=True, sharey=False,figsize = (15,6))\n",
    "sns.countplot(x='PresPos1', data=perfiles_sqr,ax=axs[0, 0]).set(title = 'Tubo 1',xlabel=None)\n",
    "sns.countplot(x='PresPos2', data=perfiles_sqr,ax=axs[0, 1]).set(title = 'Tubo 2',xlabel=None)\n",
    "sns.countplot(x='PresPos3', data=perfiles_sqr,ax=axs[0, 2]).set(title = 'Tubo 3',xlabel=None)\n",
    "sns.countplot(x='PresPos4', data=perfiles_sqr,ax=axs[1, 0]).set(title = 'Tubo 4',xlabel=None)\n",
    "sns.countplot(x='PresPos5', data=perfiles_sqr,ax=axs[1, 1]).set(title = 'Tubo 5',xlabel=None)\n",
    "sns.countplot(x='PresPos6', data=perfiles_sqr,ax=axs[1, 2]).set(title = 'Tubo 6',xlabel=None)\n",
    "fig.text(0.5, 0.04, 'Presiones', va='center', ha='center', fontsize=12)\n",
    "fig.suptitle('Frecuencia de las presiones en los tubos', fontsize=16)\n",
    "plt.show();"
   ]
  },
  {
   "cell_type": "markdown",
   "metadata": {},
   "source": [
    "## Análisis bivariante"
   ]
  },
  {
   "cell_type": "markdown",
   "metadata": {},
   "source": [
    "### Sexo con SQR"
   ]
  },
  {
   "cell_type": "markdown",
   "metadata": {},
   "source": [
    "El SQR obtenido por las mujeres es ligeramente superior al de los hombres (media de 73 frente a 71.4)."
   ]
  },
  {
   "cell_type": "code",
   "execution_count": 23,
   "metadata": {},
   "outputs": [
    {
     "data": {
      "text/html": [
       "<div>\n",
       "<style scoped>\n",
       "    .dataframe tbody tr th:only-of-type {\n",
       "        vertical-align: middle;\n",
       "    }\n",
       "\n",
       "    .dataframe tbody tr th {\n",
       "        vertical-align: top;\n",
       "    }\n",
       "\n",
       "    .dataframe thead tr th {\n",
       "        text-align: left;\n",
       "    }\n",
       "\n",
       "    .dataframe thead tr:last-of-type th {\n",
       "        text-align: right;\n",
       "    }\n",
       "</style>\n",
       "<table border=\"1\" class=\"dataframe\">\n",
       "  <thead>\n",
       "    <tr>\n",
       "      <th></th>\n",
       "      <th colspan=\"5\" halign=\"left\">sqr</th>\n",
       "    </tr>\n",
       "    <tr>\n",
       "      <th></th>\n",
       "      <th>min</th>\n",
       "      <th>max</th>\n",
       "      <th>mean</th>\n",
       "      <th>std</th>\n",
       "      <th>size</th>\n",
       "    </tr>\n",
       "    <tr>\n",
       "      <th>sexo</th>\n",
       "      <th></th>\n",
       "      <th></th>\n",
       "      <th></th>\n",
       "      <th></th>\n",
       "      <th></th>\n",
       "    </tr>\n",
       "  </thead>\n",
       "  <tbody>\n",
       "    <tr>\n",
       "      <th>Female</th>\n",
       "      <td>0.018056</td>\n",
       "      <td>99.581944</td>\n",
       "      <td>73.031235</td>\n",
       "      <td>14.280687</td>\n",
       "      <td>9602</td>\n",
       "    </tr>\n",
       "    <tr>\n",
       "      <th>Male</th>\n",
       "      <td>0.548611</td>\n",
       "      <td>99.859722</td>\n",
       "      <td>71.404368</td>\n",
       "      <td>16.253099</td>\n",
       "      <td>11617</td>\n",
       "    </tr>\n",
       "  </tbody>\n",
       "</table>\n",
       "</div>"
      ],
      "text/plain": [
       "             sqr                                        \n",
       "             min        max       mean        std   size\n",
       "sexo                                                    \n",
       "Female  0.018056  99.581944  73.031235  14.280687   9602\n",
       "Male    0.548611  99.859722  71.404368  16.253099  11617"
      ]
     },
     "metadata": {},
     "output_type": "display_data"
    }
   ],
   "source": [
    "display(perfiles_sqr.groupby('sexo').agg({'sqr': [min, max, 'mean', 'std', 'size'],}))"
   ]
  },
  {
   "cell_type": "code",
   "execution_count": 24,
   "metadata": {},
   "outputs": [
    {
     "data": {
      "image/png": "[encoded data removed]",
      "text/plain": [
       "<Figure size 432x288 with 1 Axes>"
      ]
     },
     "metadata": {},
     "output_type": "display_data"
    }
   ],
   "source": [
    "sns.distplot(perfiles_sqr.loc[perfiles_sqr['sexo']==\"Male\",'sqr'], bins=20,kde = False,hist=True)\n",
    "sns.distplot(perfiles_sqr.loc[perfiles_sqr['sexo']==\"Female\",'sqr'], bins=20,kde = False,hist=True).set_title('Histograma SQR por sexo')\n",
    "plt.legend(title='Sexo', loc='upper left', labels=['Male', 'Female'],facecolor = 'white')\n",
    "plt.show();"
   ]
  },
  {
   "cell_type": "code",
   "execution_count": 25,
   "metadata": {},
   "outputs": [
    {
     "data": {
      "image/png": "[encoded data removed]",
      "text/plain": [
       "<Figure size 432x288 with 1 Axes>"
      ]
     },
     "metadata": {},
     "output_type": "display_data"
    }
   ],
   "source": [
    "sns.boxplot(x=\"sexo\", y=\"sqr\",data=perfiles_sqr).set_title(\"Boxplot SQR por sexo\")\n",
    "plt.show();"
   ]
  },
  {
   "cell_type": "markdown",
   "metadata": {},
   "source": [
    "### Posición con SQR"
   ]
  },
  {
   "cell_type": "code",
   "execution_count": 26,
   "metadata": {},
   "outputs": [],
   "source": [
    "posicion_sqr = perfiles_sqr.groupby('posicion').describe().loc[:, 'sqr'].rename({'count':'frecuencia relativa', 'mean':'media', 'std': 'desviación'}, axis='columns')\n",
    "posicion_sqr['frecuencia relativa'] = posicion_sqr['frecuencia relativa'].astype(int)"
   ]
  },
  {
   "cell_type": "code",
   "execution_count": 27,
   "metadata": {},
   "outputs": [
    {
     "data": {
      "text/html": [
       "<div>\n",
       "<style scoped>\n",
       "    .dataframe tbody tr th:only-of-type {\n",
       "        vertical-align: middle;\n",
       "    }\n",
       "\n",
       "    .dataframe tbody tr th {\n",
       "        vertical-align: top;\n",
       "    }\n",
       "\n",
       "    .dataframe thead th {\n",
       "        text-align: right;\n",
       "    }\n",
       "</style>\n",
       "<table border=\"1\" class=\"dataframe\">\n",
       "  <thead>\n",
       "    <tr style=\"text-align: right;\">\n",
       "      <th></th>\n",
       "      <th>frecuencia relativa</th>\n",
       "      <th>media</th>\n",
       "      <th>desviación</th>\n",
       "      <th>min</th>\n",
       "      <th>25%</th>\n",
       "      <th>50%</th>\n",
       "      <th>75%</th>\n",
       "      <th>max</th>\n",
       "    </tr>\n",
       "    <tr>\n",
       "      <th>posicion</th>\n",
       "      <th></th>\n",
       "      <th></th>\n",
       "      <th></th>\n",
       "      <th></th>\n",
       "      <th></th>\n",
       "      <th></th>\n",
       "      <th></th>\n",
       "      <th></th>\n",
       "    </tr>\n",
       "  </thead>\n",
       "  <tbody>\n",
       "    <tr>\n",
       "      <th>Lateral</th>\n",
       "      <td>15013</td>\n",
       "      <td>72.607845</td>\n",
       "      <td>15.312401</td>\n",
       "      <td>0.548611</td>\n",
       "      <td>64.112296</td>\n",
       "      <td>74.783839</td>\n",
       "      <td>83.474616</td>\n",
       "      <td>99.720833</td>\n",
       "    </tr>\n",
       "    <tr>\n",
       "      <th>Supine</th>\n",
       "      <td>6206</td>\n",
       "      <td>71.010132</td>\n",
       "      <td>15.596523</td>\n",
       "      <td>0.018056</td>\n",
       "      <td>61.830082</td>\n",
       "      <td>72.988868</td>\n",
       "      <td>81.998622</td>\n",
       "      <td>99.859722</td>\n",
       "    </tr>\n",
       "  </tbody>\n",
       "</table>\n",
       "</div>"
      ],
      "text/plain": [
       "          frecuencia relativa      media  desviación       min        25%  \\\n",
       "posicion                                                                    \n",
       "Lateral                 15013  72.607845   15.312401  0.548611  64.112296   \n",
       "Supine                   6206  71.010132   15.596523  0.018056  61.830082   \n",
       "\n",
       "                50%        75%        max  \n",
       "posicion                                   \n",
       "Lateral   74.783839  83.474616  99.720833  \n",
       "Supine    72.988868  81.998622  99.859722  "
      ]
     },
     "metadata": {},
     "output_type": "display_data"
    }
   ],
   "source": [
    "display(posicion_sqr)"
   ]
  },
  {
   "cell_type": "code",
   "execution_count": 28,
   "metadata": {},
   "outputs": [
    {
     "data": {
      "image/png": "[encoded data removed]",
      "text/plain": [
       "<Figure size 432x288 with 1 Axes>"
      ]
     },
     "metadata": {},
     "output_type": "display_data"
    }
   ],
   "source": [
    "sns.distplot(perfiles_sqr.loc[perfiles_sqr['posicion']==\"Lateral\",'sqr'], bins=20,kde = False,hist=True)\n",
    "sns.distplot(perfiles_sqr.loc[perfiles_sqr['posicion']==\"Supine\",'sqr'], bins=20,kde = False,hist=True).set_title('Histograma SQR por posición')\n",
    "plt.legend(title='Posición', loc='upper left', labels=['Lateral', 'Supine'],facecolor = 'white')\n",
    "plt.show();"
   ]
  },
  {
   "cell_type": "code",
   "execution_count": 29,
   "metadata": {},
   "outputs": [
    {
     "data": {
      "image/png": "[encoded data removed]",
      "text/plain": [
       "<Figure size 432x288 with 1 Axes>"
      ]
     },
     "metadata": {},
     "output_type": "display_data"
    }
   ],
   "source": [
    "sns.boxplot(x=\"posicion\", y=\"sqr\",data=perfiles_sqr).set_title(\"Boxplot SQR por posición\")\n",
    "plt.show();"
   ]
  },
  {
   "cell_type": "markdown",
   "metadata": {},
   "source": [
    "### IMC con SQR"
   ]
  },
  {
   "cell_type": "markdown",
   "metadata": {},
   "source": [
    "Las personas con sobrepeso tienen un SQR medio menor que el de las personas con peso normal y con peso bajo."
   ]
  },
  {
   "cell_type": "code",
   "execution_count": 30,
   "metadata": {},
   "outputs": [
    {
     "data": {
      "image/png": "[encoded data removed]",
      "text/plain": [
       "<Figure size 360x360 with 1 Axes>"
      ]
     },
     "metadata": {},
     "output_type": "display_data"
    }
   ],
   "source": [
    "sns.lmplot(x=\"sqr\", y=\"IMC\", data=perfiles_sqr)\n",
    "plt.show();"
   ]
  },
  {
   "cell_type": "code",
   "execution_count": 31,
   "metadata": {},
   "outputs": [],
   "source": [
    "IMC_cat_sqr = perfiles_sqr.groupby('IMC_cat').describe().loc[:, 'sqr'].rename({'count':'frecuencia relativa', 'mean':'media', 'std': 'desviación'}, axis='columns')\n",
    "IMC_cat_sqr['frecuencia relativa'] = IMC_cat_sqr['frecuencia relativa'].astype(int)"
   ]
  },
  {
   "cell_type": "code",
   "execution_count": 32,
   "metadata": {},
   "outputs": [
    {
     "data": {
      "text/html": [
       "<div>\n",
       "<style scoped>\n",
       "    .dataframe tbody tr th:only-of-type {\n",
       "        vertical-align: middle;\n",
       "    }\n",
       "\n",
       "    .dataframe tbody tr th {\n",
       "        vertical-align: top;\n",
       "    }\n",
       "\n",
       "    .dataframe thead th {\n",
       "        text-align: right;\n",
       "    }\n",
       "</style>\n",
       "<table border=\"1\" class=\"dataframe\">\n",
       "  <thead>\n",
       "    <tr style=\"text-align: right;\">\n",
       "      <th></th>\n",
       "      <th>frecuencia relativa</th>\n",
       "      <th>media</th>\n",
       "      <th>desviación</th>\n",
       "      <th>min</th>\n",
       "      <th>25%</th>\n",
       "      <th>50%</th>\n",
       "      <th>75%</th>\n",
       "      <th>max</th>\n",
       "    </tr>\n",
       "    <tr>\n",
       "      <th>IMC_cat</th>\n",
       "      <th></th>\n",
       "      <th></th>\n",
       "      <th></th>\n",
       "      <th></th>\n",
       "      <th></th>\n",
       "      <th></th>\n",
       "      <th></th>\n",
       "      <th></th>\n",
       "    </tr>\n",
       "  </thead>\n",
       "  <tbody>\n",
       "    <tr>\n",
       "      <th>Bajo peso</th>\n",
       "      <td>11805</td>\n",
       "      <td>73.306604</td>\n",
       "      <td>15.053869</td>\n",
       "      <td>0.018056</td>\n",
       "      <td>64.596349</td>\n",
       "      <td>75.208503</td>\n",
       "      <td>84.260745</td>\n",
       "      <td>99.859722</td>\n",
       "    </tr>\n",
       "    <tr>\n",
       "      <th>Normal</th>\n",
       "      <td>6393</td>\n",
       "      <td>71.194543</td>\n",
       "      <td>15.695081</td>\n",
       "      <td>0.627778</td>\n",
       "      <td>62.983884</td>\n",
       "      <td>73.873327</td>\n",
       "      <td>81.948612</td>\n",
       "      <td>99.581944</td>\n",
       "    </tr>\n",
       "    <tr>\n",
       "      <th>Sobrepeso</th>\n",
       "      <td>3021</td>\n",
       "      <td>69.585994</td>\n",
       "      <td>15.752310</td>\n",
       "      <td>1.523611</td>\n",
       "      <td>60.631906</td>\n",
       "      <td>71.692508</td>\n",
       "      <td>80.934330</td>\n",
       "      <td>99.581944</td>\n",
       "    </tr>\n",
       "  </tbody>\n",
       "</table>\n",
       "</div>"
      ],
      "text/plain": [
       "           frecuencia relativa      media  desviación       min        25%  \\\n",
       "IMC_cat                                                                      \n",
       "Bajo peso                11805  73.306604   15.053869  0.018056  64.596349   \n",
       "Normal                    6393  71.194543   15.695081  0.627778  62.983884   \n",
       "Sobrepeso                 3021  69.585994   15.752310  1.523611  60.631906   \n",
       "\n",
       "                 50%        75%        max  \n",
       "IMC_cat                                     \n",
       "Bajo peso  75.208503  84.260745  99.859722  \n",
       "Normal     73.873327  81.948612  99.581944  \n",
       "Sobrepeso  71.692508  80.934330  99.581944  "
      ]
     },
     "metadata": {},
     "output_type": "display_data"
    }
   ],
   "source": [
    "display(IMC_cat_sqr)"
   ]
  },
  {
   "cell_type": "code",
   "execution_count": 33,
   "metadata": {},
   "outputs": [],
   "source": [
    "from scipy.stats import f_oneway\n",
    "a = perfiles_sqr.loc[perfiles_sqr['IMC_cat']==\"Bajo peso\",'sqr']\n",
    "b = perfiles_sqr.loc[perfiles_sqr['IMC_cat']==\"Normal\",'sqr']\n",
    "c = perfiles_sqr.loc[perfiles_sqr['IMC_cat']==\"Sobrepeso\",'sqr']"
   ]
  },
  {
   "cell_type": "code",
   "execution_count": 34,
   "metadata": {},
   "outputs": [],
   "source": [
    "f_oneway(a,b,c);"
   ]
  },
  {
   "cell_type": "code",
   "execution_count": 35,
   "metadata": {},
   "outputs": [],
   "source": [
    "stats.kruskal(a,b,c);"
   ]
  },
  {
   "cell_type": "code",
   "execution_count": 36,
   "metadata": {},
   "outputs": [
    {
     "data": {
      "image/png": "[encoded data removed]",
      "text/plain": [
       "<Figure size 432x288 with 1 Axes>"
      ]
     },
     "metadata": {},
     "output_type": "display_data"
    }
   ],
   "source": [
    "sns.distplot(perfiles_sqr.loc[perfiles_sqr['IMC_cat']==\"Bajo peso\",'sqr'], bins=20,kde = False,hist=True)\n",
    "sns.distplot(perfiles_sqr.loc[perfiles_sqr['IMC_cat']==\"Normal\",'sqr'], bins=20,kde = False,hist=True)\n",
    "sns.distplot(perfiles_sqr.loc[perfiles_sqr['IMC_cat']==\"Sobrepeso\",'sqr'], bins=20,kde = False,hist=True).set_title('Histograma SQR por IMC')\n",
    "plt.legend(title='IMC', loc='upper left', labels=['Bajo peso', 'Normal', 'Sobrepeso'],facecolor = 'white')\n",
    "plt.show();"
   ]
  },
  {
   "cell_type": "code",
   "execution_count": 37,
   "metadata": {},
   "outputs": [
    {
     "data": {
      "image/png": "[encoded data removed]",
      "text/plain": [
       "<Figure size 432x288 with 1 Axes>"
      ]
     },
     "metadata": {},
     "output_type": "display_data"
    }
   ],
   "source": [
    "sns.boxplot(x=\"IMC_cat\", y=\"sqr\",data=perfiles_sqr).set_title(\"Boxplot SQR por IMC\")\n",
    "plt.show();"
   ]
  },
  {
   "cell_type": "markdown",
   "metadata": {},
   "source": [
    "### Tubos con SQR"
   ]
  },
  {
   "cell_type": "markdown",
   "metadata": {},
   "source": [
    "A continuación se muestra la distribución del SQR en función de la presión utilizada en cada uno de los tubos. Nótese que las presiones 4 y 5 son las menos utilizadas y, por tanto, su tamaño muestral es menor. Esto puede causar que sean los histogramas más variables."
   ]
  },
  {
   "cell_type": "markdown",
   "metadata": {},
   "source": [
    "#### Tubo 1"
   ]
  },
  {
   "cell_type": "code",
   "execution_count": 38,
   "metadata": {},
   "outputs": [],
   "source": [
    "PresPos1_sqr = perfiles_sqr.groupby('PresPos1').describe().loc[:, 'sqr'].rename({'count':'frecuencia relativa', 'mean':'media', 'std': 'desviación'}, axis='columns')\n",
    "PresPos1_sqr['frecuencia relativa'] = PresPos1_sqr['frecuencia relativa'].astype(int)"
   ]
  },
  {
   "cell_type": "code",
   "execution_count": 39,
   "metadata": {},
   "outputs": [
    {
     "data": {
      "text/html": [
       "<div>\n",
       "<style scoped>\n",
       "    .dataframe tbody tr th:only-of-type {\n",
       "        vertical-align: middle;\n",
       "    }\n",
       "\n",
       "    .dataframe tbody tr th {\n",
       "        vertical-align: top;\n",
       "    }\n",
       "\n",
       "    .dataframe thead th {\n",
       "        text-align: right;\n",
       "    }\n",
       "</style>\n",
       "<table border=\"1\" class=\"dataframe\">\n",
       "  <thead>\n",
       "    <tr style=\"text-align: right;\">\n",
       "      <th></th>\n",
       "      <th>frecuencia relativa</th>\n",
       "      <th>media</th>\n",
       "      <th>desviación</th>\n",
       "      <th>min</th>\n",
       "      <th>25%</th>\n",
       "      <th>50%</th>\n",
       "      <th>75%</th>\n",
       "      <th>max</th>\n",
       "    </tr>\n",
       "    <tr>\n",
       "      <th>PresPos1</th>\n",
       "      <th></th>\n",
       "      <th></th>\n",
       "      <th></th>\n",
       "      <th></th>\n",
       "      <th></th>\n",
       "      <th></th>\n",
       "      <th></th>\n",
       "      <th></th>\n",
       "    </tr>\n",
       "  </thead>\n",
       "  <tbody>\n",
       "    <tr>\n",
       "      <th>0</th>\n",
       "      <td>9684</td>\n",
       "      <td>72.601943</td>\n",
       "      <td>15.090361</td>\n",
       "      <td>0.548611</td>\n",
       "      <td>64.270281</td>\n",
       "      <td>74.681732</td>\n",
       "      <td>83.310503</td>\n",
       "      <td>99.720833</td>\n",
       "    </tr>\n",
       "    <tr>\n",
       "      <th>1</th>\n",
       "      <td>8464</td>\n",
       "      <td>71.755330</td>\n",
       "      <td>15.535917</td>\n",
       "      <td>0.018056</td>\n",
       "      <td>62.814994</td>\n",
       "      <td>73.752242</td>\n",
       "      <td>82.967043</td>\n",
       "      <td>99.859722</td>\n",
       "    </tr>\n",
       "    <tr>\n",
       "      <th>2</th>\n",
       "      <td>1791</td>\n",
       "      <td>70.594354</td>\n",
       "      <td>16.243762</td>\n",
       "      <td>1.523611</td>\n",
       "      <td>61.544880</td>\n",
       "      <td>73.568583</td>\n",
       "      <td>81.721241</td>\n",
       "      <td>99.581944</td>\n",
       "    </tr>\n",
       "    <tr>\n",
       "      <th>3</th>\n",
       "      <td>628</td>\n",
       "      <td>74.177582</td>\n",
       "      <td>14.898699</td>\n",
       "      <td>5.200000</td>\n",
       "      <td>66.256986</td>\n",
       "      <td>75.376547</td>\n",
       "      <td>83.838817</td>\n",
       "      <td>99.581944</td>\n",
       "    </tr>\n",
       "    <tr>\n",
       "      <th>4</th>\n",
       "      <td>100</td>\n",
       "      <td>75.105263</td>\n",
       "      <td>14.771614</td>\n",
       "      <td>35.393210</td>\n",
       "      <td>66.305243</td>\n",
       "      <td>76.386425</td>\n",
       "      <td>85.815428</td>\n",
       "      <td>99.581944</td>\n",
       "    </tr>\n",
       "    <tr>\n",
       "      <th>5</th>\n",
       "      <td>552</td>\n",
       "      <td>72.115225</td>\n",
       "      <td>16.422189</td>\n",
       "      <td>7.991667</td>\n",
       "      <td>63.274859</td>\n",
       "      <td>74.684639</td>\n",
       "      <td>84.087934</td>\n",
       "      <td>99.566667</td>\n",
       "    </tr>\n",
       "  </tbody>\n",
       "</table>\n",
       "</div>"
      ],
      "text/plain": [
       "          frecuencia relativa      media  desviación        min        25%  \\\n",
       "PresPos1                                                                     \n",
       "0                        9684  72.601943   15.090361   0.548611  64.270281   \n",
       "1                        8464  71.755330   15.535917   0.018056  62.814994   \n",
       "2                        1791  70.594354   16.243762   1.523611  61.544880   \n",
       "3                         628  74.177582   14.898699   5.200000  66.256986   \n",
       "4                         100  75.105263   14.771614  35.393210  66.305243   \n",
       "5                         552  72.115225   16.422189   7.991667  63.274859   \n",
       "\n",
       "                50%        75%        max  \n",
       "PresPos1                                   \n",
       "0         74.681732  83.310503  99.720833  \n",
       "1         73.752242  82.967043  99.859722  \n",
       "2         73.568583  81.721241  99.581944  \n",
       "3         75.376547  83.838817  99.581944  \n",
       "4         76.386425  85.815428  99.581944  \n",
       "5         74.684639  84.087934  99.566667  "
      ]
     },
     "metadata": {},
     "output_type": "display_data"
    }
   ],
   "source": [
    "display(PresPos1_sqr)"
   ]
  },
  {
   "cell_type": "code",
   "execution_count": 40,
   "metadata": {},
   "outputs": [
    {
     "data": {
      "image/png": "[encoded data removed]",
      "text/plain": [
       "<Figure size 432x288 with 1 Axes>"
      ]
     },
     "metadata": {},
     "output_type": "display_data"
    }
   ],
   "source": [
    "sns.distplot(perfiles_sqr.loc[perfiles_sqr['PresPos1']==\"0\",'sqr'], bins=20,kde = False,hist=True)\n",
    "sns.distplot(perfiles_sqr.loc[perfiles_sqr['PresPos1']==\"1\",'sqr'], bins=20,kde = False,hist=True)\n",
    "sns.distplot(perfiles_sqr.loc[perfiles_sqr['PresPos1']==\"2\",'sqr'], bins=20,kde = False,hist=True)\n",
    "sns.distplot(perfiles_sqr.loc[perfiles_sqr['PresPos1']==\"3\",'sqr'], bins=20,kde = False,hist=True)\n",
    "sns.distplot(perfiles_sqr.loc[perfiles_sqr['PresPos1']==\"4\",'sqr'], bins=20,kde = False,hist=True)\n",
    "sns.distplot(perfiles_sqr.loc[perfiles_sqr['PresPos1']==\"5\",'sqr'], bins=20,kde = False,hist=True).set_title('Histograma SQR Tubo 1')\n",
    "plt.legend(title='Presión', loc='upper left', labels=['0', '1', '2', '3','4','5'],facecolor = 'white')\n",
    "plt.show();"
   ]
  },
  {
   "cell_type": "code",
   "execution_count": 41,
   "metadata": {},
   "outputs": [
    {
     "data": {
      "image/png": "[encoded data removed]",
      "text/plain": [
       "<Figure size 1080x432 with 6 Axes>"
      ]
     },
     "metadata": {},
     "output_type": "display_data"
    }
   ],
   "source": [
    "fig, axs = plt.subplots(2,3, sharex=True, sharey=False,figsize = (15,6))\n",
    "sns.distplot(perfiles_sqr.loc[perfiles_sqr['PresPos1']==\"0\",'sqr'], bins=20,kde = False,hist=True,ax=axs[0, 0]).set(title = 'Presión 0',xlabel=None)\n",
    "sns.distplot(perfiles_sqr.loc[perfiles_sqr['PresPos1']==\"1\",'sqr'], bins=20,kde = False,hist=True,ax=axs[0, 1]).set(title = 'Presión 1',xlabel=None)\n",
    "sns.distplot(perfiles_sqr.loc[perfiles_sqr['PresPos1']==\"2\",'sqr'], bins=20,kde = False,hist=True,ax=axs[0, 2]).set(title = 'Presión 2',xlabel=None)\n",
    "sns.distplot(perfiles_sqr.loc[perfiles_sqr['PresPos1']==\"3\",'sqr'], bins=20,kde = False,hist=True,ax=axs[1, 0]).set(title = 'Presión 3',xlabel=None)\n",
    "sns.distplot(perfiles_sqr.loc[perfiles_sqr['PresPos1']==\"4\",'sqr'], bins=12,kde = False,hist=True,ax=axs[1, 1]).set(title = 'Presión 4',xlabel=None)\n",
    "sns.distplot(perfiles_sqr.loc[perfiles_sqr['PresPos1']==\"5\",'sqr'], bins=20,kde = False,hist=True,ax=axs[1, 2]).set(title = 'Presión 5',xlabel=None)\n",
    "fig.text(0.5, 0.04, 'SQR', va='center', ha='center', fontsize=12)\n",
    "fig.suptitle('Histograma SQR en las presiones del tubo 1', fontsize=16)\n",
    "plt.show();"
   ]
  },
  {
   "cell_type": "markdown",
   "metadata": {},
   "source": [
    "#### Tubo 2"
   ]
  },
  {
   "cell_type": "code",
   "execution_count": 42,
   "metadata": {},
   "outputs": [],
   "source": [
    "PresPos2_sqr = perfiles_sqr.groupby('PresPos2').describe().loc[:, 'sqr'].rename({'count':'frecuencia relativa', 'mean':'media', 'std': 'desviación'}, axis='columns')\n",
    "PresPos2_sqr['frecuencia relativa'] = PresPos2_sqr['frecuencia relativa'].astype(int)"
   ]
  },
  {
   "cell_type": "code",
   "execution_count": 43,
   "metadata": {},
   "outputs": [
    {
     "data": {
      "text/html": [
       "<div>\n",
       "<style scoped>\n",
       "    .dataframe tbody tr th:only-of-type {\n",
       "        vertical-align: middle;\n",
       "    }\n",
       "\n",
       "    .dataframe tbody tr th {\n",
       "        vertical-align: top;\n",
       "    }\n",
       "\n",
       "    .dataframe thead th {\n",
       "        text-align: right;\n",
       "    }\n",
       "</style>\n",
       "<table border=\"1\" class=\"dataframe\">\n",
       "  <thead>\n",
       "    <tr style=\"text-align: right;\">\n",
       "      <th></th>\n",
       "      <th>frecuencia relativa</th>\n",
       "      <th>media</th>\n",
       "      <th>desviación</th>\n",
       "      <th>min</th>\n",
       "      <th>25%</th>\n",
       "      <th>50%</th>\n",
       "      <th>75%</th>\n",
       "      <th>max</th>\n",
       "    </tr>\n",
       "    <tr>\n",
       "      <th>PresPos2</th>\n",
       "      <th></th>\n",
       "      <th></th>\n",
       "      <th></th>\n",
       "      <th></th>\n",
       "      <th></th>\n",
       "      <th></th>\n",
       "      <th></th>\n",
       "      <th></th>\n",
       "    </tr>\n",
       "  </thead>\n",
       "  <tbody>\n",
       "    <tr>\n",
       "      <th>0</th>\n",
       "      <td>730</td>\n",
       "      <td>73.104625</td>\n",
       "      <td>15.845595</td>\n",
       "      <td>2.769516</td>\n",
       "      <td>64.342043</td>\n",
       "      <td>75.954176</td>\n",
       "      <td>84.003116</td>\n",
       "      <td>99.581944</td>\n",
       "    </tr>\n",
       "    <tr>\n",
       "      <th>1</th>\n",
       "      <td>3405</td>\n",
       "      <td>71.578082</td>\n",
       "      <td>15.690513</td>\n",
       "      <td>2.319444</td>\n",
       "      <td>63.347154</td>\n",
       "      <td>73.873461</td>\n",
       "      <td>82.957895</td>\n",
       "      <td>99.581944</td>\n",
       "    </tr>\n",
       "    <tr>\n",
       "      <th>2</th>\n",
       "      <td>13663</td>\n",
       "      <td>72.570181</td>\n",
       "      <td>15.138626</td>\n",
       "      <td>0.018056</td>\n",
       "      <td>63.892067</td>\n",
       "      <td>74.584779</td>\n",
       "      <td>83.424356</td>\n",
       "      <td>99.859722</td>\n",
       "    </tr>\n",
       "    <tr>\n",
       "      <th>3</th>\n",
       "      <td>2664</td>\n",
       "      <td>68.869956</td>\n",
       "      <td>15.906255</td>\n",
       "      <td>1.523611</td>\n",
       "      <td>60.153525</td>\n",
       "      <td>71.100924</td>\n",
       "      <td>80.008698</td>\n",
       "      <td>99.581944</td>\n",
       "    </tr>\n",
       "    <tr>\n",
       "      <th>4</th>\n",
       "      <td>297</td>\n",
       "      <td>81.920981</td>\n",
       "      <td>13.345318</td>\n",
       "      <td>23.835269</td>\n",
       "      <td>76.368212</td>\n",
       "      <td>82.828856</td>\n",
       "      <td>91.053200</td>\n",
       "      <td>99.581944</td>\n",
       "    </tr>\n",
       "    <tr>\n",
       "      <th>5</th>\n",
       "      <td>460</td>\n",
       "      <td>74.639649</td>\n",
       "      <td>14.596860</td>\n",
       "      <td>7.991667</td>\n",
       "      <td>66.396787</td>\n",
       "      <td>75.537698</td>\n",
       "      <td>85.322456</td>\n",
       "      <td>99.566667</td>\n",
       "    </tr>\n",
       "  </tbody>\n",
       "</table>\n",
       "</div>"
      ],
      "text/plain": [
       "          frecuencia relativa      media  desviación        min        25%  \\\n",
       "PresPos2                                                                     \n",
       "0                         730  73.104625   15.845595   2.769516  64.342043   \n",
       "1                        3405  71.578082   15.690513   2.319444  63.347154   \n",
       "2                       13663  72.570181   15.138626   0.018056  63.892067   \n",
       "3                        2664  68.869956   15.906255   1.523611  60.153525   \n",
       "4                         297  81.920981   13.345318  23.835269  76.368212   \n",
       "5                         460  74.639649   14.596860   7.991667  66.396787   \n",
       "\n",
       "                50%        75%        max  \n",
       "PresPos2                                   \n",
       "0         75.954176  84.003116  99.581944  \n",
       "1         73.873461  82.957895  99.581944  \n",
       "2         74.584779  83.424356  99.859722  \n",
       "3         71.100924  80.008698  99.581944  \n",
       "4         82.828856  91.053200  99.581944  \n",
       "5         75.537698  85.322456  99.566667  "
      ]
     },
     "metadata": {},
     "output_type": "display_data"
    }
   ],
   "source": [
    "display(PresPos2_sqr)"
   ]
  },
  {
   "cell_type": "code",
   "execution_count": 44,
   "metadata": {},
   "outputs": [
    {
     "data": {
      "image/png": "[encoded data removed]",
      "text/plain": [
       "<Figure size 432x288 with 1 Axes>"
      ]
     },
     "metadata": {},
     "output_type": "display_data"
    }
   ],
   "source": [
    "sns.distplot(perfiles_sqr.loc[perfiles_sqr['PresPos2']==\"0\",'sqr'], bins=20,kde = False,hist=True)\n",
    "sns.distplot(perfiles_sqr.loc[perfiles_sqr['PresPos2']==\"1\",'sqr'], bins=20,kde = False,hist=True)\n",
    "sns.distplot(perfiles_sqr.loc[perfiles_sqr['PresPos2']==\"2\",'sqr'], bins=20,kde = False,hist=True)\n",
    "sns.distplot(perfiles_sqr.loc[perfiles_sqr['PresPos2']==\"3\",'sqr'], bins=20,kde = False,hist=True)\n",
    "sns.distplot(perfiles_sqr.loc[perfiles_sqr['PresPos2']==\"4\",'sqr'], bins=20,kde = False,hist=True)\n",
    "sns.distplot(perfiles_sqr.loc[perfiles_sqr['PresPos2']==\"5\",'sqr'], bins=20,kde = False,hist=True).set_title('Histograma SQR Tubo 2')\n",
    "plt.legend(title='Presión', loc='upper left', labels=['0', '1', '2', '3','4','5'],facecolor = 'white')\n",
    "plt.show();"
   ]
  },
  {
   "cell_type": "code",
   "execution_count": 45,
   "metadata": {},
   "outputs": [
    {
     "data": {
      "image/png": "[encoded data removed]",
      "text/plain": [
       "<Figure size 1080x432 with 6 Axes>"
      ]
     },
     "metadata": {},
     "output_type": "display_data"
    }
   ],
   "source": [
    "fig, axs = plt.subplots(2,3, sharex=True, sharey=False,figsize = (15,6))\n",
    "sns.distplot(perfiles_sqr.loc[perfiles_sqr['PresPos2']==\"0\",'sqr'], bins=20,kde = False,hist=True,ax=axs[0, 0]).set(title = 'Presión 0',xlabel=None)\n",
    "sns.distplot(perfiles_sqr.loc[perfiles_sqr['PresPos2']==\"1\",'sqr'], bins=20,kde = False,hist=True,ax=axs[0, 1]).set(title = 'Presión 1',xlabel=None)\n",
    "sns.distplot(perfiles_sqr.loc[perfiles_sqr['PresPos2']==\"2\",'sqr'], bins=20,kde = False,hist=True,ax=axs[0, 2]).set(title = 'Presión 2',xlabel=None)\n",
    "sns.distplot(perfiles_sqr.loc[perfiles_sqr['PresPos2']==\"3\",'sqr'], bins=20,kde = False,hist=True,ax=axs[1, 0]).set(title = 'Presión 3',xlabel=None)\n",
    "sns.distplot(perfiles_sqr.loc[perfiles_sqr['PresPos2']==\"4\",'sqr'], bins=15,kde = False,hist=True,ax=axs[1, 1]).set(title = 'Presión 4',xlabel=None)\n",
    "sns.distplot(perfiles_sqr.loc[perfiles_sqr['PresPos2']==\"5\",'sqr'], bins=20,kde = False,hist=True,ax=axs[1, 2]).set(title = 'Presión 5',xlabel=None)\n",
    "fig.text(0.5, 0.04, 'SQR', va='center', ha='center', fontsize=12)\n",
    "fig.suptitle('Histograma SQR en las presiones del tubo 2', fontsize=16)\n",
    "plt.show();"
   ]
  },
  {
   "cell_type": "code",
   "execution_count": null,
   "metadata": {},
   "outputs": [],
   "source": []
  },
  {
   "cell_type": "markdown",
   "metadata": {},
   "source": [
    "#### Tubo 3"
   ]
  },
  {
   "cell_type": "code",
   "execution_count": 46,
   "metadata": {},
   "outputs": [],
   "source": [
    "PresPos3_sqr = perfiles_sqr.groupby('PresPos3').describe().loc[:, 'sqr'].rename({'count':'frecuencia relativa', 'mean':'media', 'std': 'desviación'}, axis='columns')\n",
    "PresPos3_sqr['frecuencia relativa'] = PresPos3_sqr['frecuencia relativa'].astype(int)"
   ]
  },
  {
   "cell_type": "code",
   "execution_count": 47,
   "metadata": {},
   "outputs": [
    {
     "data": {
      "text/html": [
       "<div>\n",
       "<style scoped>\n",
       "    .dataframe tbody tr th:only-of-type {\n",
       "        vertical-align: middle;\n",
       "    }\n",
       "\n",
       "    .dataframe tbody tr th {\n",
       "        vertical-align: top;\n",
       "    }\n",
       "\n",
       "    .dataframe thead th {\n",
       "        text-align: right;\n",
       "    }\n",
       "</style>\n",
       "<table border=\"1\" class=\"dataframe\">\n",
       "  <thead>\n",
       "    <tr style=\"text-align: right;\">\n",
       "      <th></th>\n",
       "      <th>frecuencia relativa</th>\n",
       "      <th>media</th>\n",
       "      <th>desviación</th>\n",
       "      <th>min</th>\n",
       "      <th>25%</th>\n",
       "      <th>50%</th>\n",
       "      <th>75%</th>\n",
       "      <th>max</th>\n",
       "    </tr>\n",
       "    <tr>\n",
       "      <th>PresPos3</th>\n",
       "      <th></th>\n",
       "      <th></th>\n",
       "      <th></th>\n",
       "      <th></th>\n",
       "      <th></th>\n",
       "      <th></th>\n",
       "      <th></th>\n",
       "      <th></th>\n",
       "    </tr>\n",
       "  </thead>\n",
       "  <tbody>\n",
       "    <tr>\n",
       "      <th>0</th>\n",
       "      <td>740</td>\n",
       "      <td>72.882226</td>\n",
       "      <td>14.659433</td>\n",
       "      <td>2.769516</td>\n",
       "      <td>65.213097</td>\n",
       "      <td>74.692387</td>\n",
       "      <td>83.187663</td>\n",
       "      <td>99.581944</td>\n",
       "    </tr>\n",
       "    <tr>\n",
       "      <th>1</th>\n",
       "      <td>459</td>\n",
       "      <td>66.478631</td>\n",
       "      <td>20.167444</td>\n",
       "      <td>2.743056</td>\n",
       "      <td>54.465713</td>\n",
       "      <td>69.715050</td>\n",
       "      <td>82.385228</td>\n",
       "      <td>99.336111</td>\n",
       "    </tr>\n",
       "    <tr>\n",
       "      <th>2</th>\n",
       "      <td>11673</td>\n",
       "      <td>71.739676</td>\n",
       "      <td>15.234670</td>\n",
       "      <td>0.018056</td>\n",
       "      <td>62.834338</td>\n",
       "      <td>73.624789</td>\n",
       "      <td>82.761567</td>\n",
       "      <td>99.859722</td>\n",
       "    </tr>\n",
       "    <tr>\n",
       "      <th>3</th>\n",
       "      <td>6987</td>\n",
       "      <td>73.004088</td>\n",
       "      <td>15.177913</td>\n",
       "      <td>1.523611</td>\n",
       "      <td>65.094350</td>\n",
       "      <td>75.400113</td>\n",
       "      <td>83.501000</td>\n",
       "      <td>99.581944</td>\n",
       "    </tr>\n",
       "    <tr>\n",
       "      <th>4</th>\n",
       "      <td>775</td>\n",
       "      <td>73.607598</td>\n",
       "      <td>16.194871</td>\n",
       "      <td>12.990278</td>\n",
       "      <td>64.839615</td>\n",
       "      <td>75.448810</td>\n",
       "      <td>83.696812</td>\n",
       "      <td>99.581944</td>\n",
       "    </tr>\n",
       "    <tr>\n",
       "      <th>5</th>\n",
       "      <td>585</td>\n",
       "      <td>71.386737</td>\n",
       "      <td>16.014291</td>\n",
       "      <td>5.200000</td>\n",
       "      <td>61.923027</td>\n",
       "      <td>73.170415</td>\n",
       "      <td>83.300143</td>\n",
       "      <td>99.566667</td>\n",
       "    </tr>\n",
       "  </tbody>\n",
       "</table>\n",
       "</div>"
      ],
      "text/plain": [
       "          frecuencia relativa      media  desviación        min        25%  \\\n",
       "PresPos3                                                                     \n",
       "0                         740  72.882226   14.659433   2.769516  65.213097   \n",
       "1                         459  66.478631   20.167444   2.743056  54.465713   \n",
       "2                       11673  71.739676   15.234670   0.018056  62.834338   \n",
       "3                        6987  73.004088   15.177913   1.523611  65.094350   \n",
       "4                         775  73.607598   16.194871  12.990278  64.839615   \n",
       "5                         585  71.386737   16.014291   5.200000  61.923027   \n",
       "\n",
       "                50%        75%        max  \n",
       "PresPos3                                   \n",
       "0         74.692387  83.187663  99.581944  \n",
       "1         69.715050  82.385228  99.336111  \n",
       "2         73.624789  82.761567  99.859722  \n",
       "3         75.400113  83.501000  99.581944  \n",
       "4         75.448810  83.696812  99.581944  \n",
       "5         73.170415  83.300143  99.566667  "
      ]
     },
     "metadata": {},
     "output_type": "display_data"
    }
   ],
   "source": [
    "display(PresPos3_sqr)"
   ]
  },
  {
   "cell_type": "code",
   "execution_count": 48,
   "metadata": {},
   "outputs": [
    {
     "data": {
      "image/png": "[encoded data removed]",
      "text/plain": [
       "<Figure size 432x288 with 1 Axes>"
      ]
     },
     "metadata": {},
     "output_type": "display_data"
    }
   ],
   "source": [
    "sns.distplot(perfiles_sqr.loc[perfiles_sqr['PresPos3']==\"0\",'sqr'], bins=20,kde = False,hist=True)\n",
    "sns.distplot(perfiles_sqr.loc[perfiles_sqr['PresPos3']==\"1\",'sqr'], bins=20,kde = False,hist=True)\n",
    "sns.distplot(perfiles_sqr.loc[perfiles_sqr['PresPos3']==\"2\",'sqr'], bins=20,kde = False,hist=True)\n",
    "sns.distplot(perfiles_sqr.loc[perfiles_sqr['PresPos3']==\"3\",'sqr'], bins=20,kde = False,hist=True)\n",
    "sns.distplot(perfiles_sqr.loc[perfiles_sqr['PresPos3']==\"4\",'sqr'], bins=20,kde = False,hist=True)\n",
    "sns.distplot(perfiles_sqr.loc[perfiles_sqr['PresPos3']==\"5\",'sqr'], bins=20,kde = False,hist=True).set_title('Histograma SQR Tubo 3')\n",
    "plt.legend(title='Presión', loc='upper left', labels=['0', '1', '2', '3','4','5'],facecolor = 'white')\n",
    "plt.show()"
   ]
  },
  {
   "cell_type": "code",
   "execution_count": 49,
   "metadata": {},
   "outputs": [
    {
     "data": {
      "image/png": "[encoded data removed]",
      "text/plain": [
       "<Figure size 1080x432 with 6 Axes>"
      ]
     },
     "metadata": {},
     "output_type": "display_data"
    }
   ],
   "source": [
    "fig, axs = plt.subplots(2,3, sharex=True, sharey=False,figsize = (15,6))\n",
    "sns.distplot(perfiles_sqr.loc[perfiles_sqr['PresPos3']==\"0\",'sqr'], bins=20,kde = False,hist=True,ax=axs[0, 0]).set(title = 'Presión 0',xlabel=None)\n",
    "sns.distplot(perfiles_sqr.loc[perfiles_sqr['PresPos3']==\"1\",'sqr'], bins=20,kde = False,hist=True,ax=axs[0, 1]).set(title = 'Presión 1',xlabel=None)\n",
    "sns.distplot(perfiles_sqr.loc[perfiles_sqr['PresPos3']==\"2\",'sqr'], bins=20,kde = False,hist=True,ax=axs[0, 2]).set(title = 'Presión 2',xlabel=None)\n",
    "sns.distplot(perfiles_sqr.loc[perfiles_sqr['PresPos3']==\"3\",'sqr'], bins=20,kde = False,hist=True,ax=axs[1, 0]).set(title = 'Presión 3',xlabel=None)\n",
    "sns.distplot(perfiles_sqr.loc[perfiles_sqr['PresPos3']==\"4\",'sqr'], bins=20,kde = False,hist=True,ax=axs[1, 1]).set(title = 'Presión 4',xlabel=None)\n",
    "sns.distplot(perfiles_sqr.loc[perfiles_sqr['PresPos3']==\"5\",'sqr'], bins=20,kde = False,hist=True,ax=axs[1, 2]).set(title = 'Presión 5',xlabel=None)\n",
    "fig.text(0.5, 0.04, 'SQR', va='center', ha='center', fontsize=12)\n",
    "fig.suptitle('Histograma SQR en las presiones del tubo 3', fontsize=16)\n",
    "plt.show()"
   ]
  },
  {
   "cell_type": "code",
   "execution_count": null,
   "metadata": {},
   "outputs": [],
   "source": []
  },
  {
   "cell_type": "markdown",
   "metadata": {},
   "source": [
    "#### Tubo 4"
   ]
  },
  {
   "cell_type": "code",
   "execution_count": 50,
   "metadata": {},
   "outputs": [],
   "source": [
    "PresPos4_sqr = perfiles_sqr.groupby('PresPos4').describe().loc[:, 'sqr'].rename({'count':'frecuencia relativa', 'mean':'media', 'std': 'desviación'}, axis='columns')\n",
    "PresPos4_sqr['frecuencia relativa'] = PresPos4_sqr['frecuencia relativa'].astype(int)"
   ]
  },
  {
   "cell_type": "code",
   "execution_count": 51,
   "metadata": {},
   "outputs": [
    {
     "data": {
      "text/html": [
       "<div>\n",
       "<style scoped>\n",
       "    .dataframe tbody tr th:only-of-type {\n",
       "        vertical-align: middle;\n",
       "    }\n",
       "\n",
       "    .dataframe tbody tr th {\n",
       "        vertical-align: top;\n",
       "    }\n",
       "\n",
       "    .dataframe thead th {\n",
       "        text-align: right;\n",
       "    }\n",
       "</style>\n",
       "<table border=\"1\" class=\"dataframe\">\n",
       "  <thead>\n",
       "    <tr style=\"text-align: right;\">\n",
       "      <th></th>\n",
       "      <th>frecuencia relativa</th>\n",
       "      <th>media</th>\n",
       "      <th>desviación</th>\n",
       "      <th>min</th>\n",
       "      <th>25%</th>\n",
       "      <th>50%</th>\n",
       "      <th>75%</th>\n",
       "      <th>max</th>\n",
       "    </tr>\n",
       "    <tr>\n",
       "      <th>PresPos4</th>\n",
       "      <th></th>\n",
       "      <th></th>\n",
       "      <th></th>\n",
       "      <th></th>\n",
       "      <th></th>\n",
       "      <th></th>\n",
       "      <th></th>\n",
       "      <th></th>\n",
       "    </tr>\n",
       "  </thead>\n",
       "  <tbody>\n",
       "    <tr>\n",
       "      <th>0</th>\n",
       "      <td>808</td>\n",
       "      <td>73.149089</td>\n",
       "      <td>14.962538</td>\n",
       "      <td>2.769516</td>\n",
       "      <td>65.037798</td>\n",
       "      <td>75.479361</td>\n",
       "      <td>83.956485</td>\n",
       "      <td>99.581944</td>\n",
       "    </tr>\n",
       "    <tr>\n",
       "      <th>1</th>\n",
       "      <td>1441</td>\n",
       "      <td>72.010057</td>\n",
       "      <td>16.836826</td>\n",
       "      <td>2.743056</td>\n",
       "      <td>61.987203</td>\n",
       "      <td>74.009949</td>\n",
       "      <td>83.844922</td>\n",
       "      <td>99.581944</td>\n",
       "    </tr>\n",
       "    <tr>\n",
       "      <th>2</th>\n",
       "      <td>7570</td>\n",
       "      <td>72.424461</td>\n",
       "      <td>14.808427</td>\n",
       "      <td>0.018056</td>\n",
       "      <td>63.700868</td>\n",
       "      <td>74.246351</td>\n",
       "      <td>83.233778</td>\n",
       "      <td>99.859722</td>\n",
       "    </tr>\n",
       "    <tr>\n",
       "      <th>3</th>\n",
       "      <td>9751</td>\n",
       "      <td>72.310961</td>\n",
       "      <td>15.581258</td>\n",
       "      <td>0.548611</td>\n",
       "      <td>63.964697</td>\n",
       "      <td>74.655567</td>\n",
       "      <td>83.158868</td>\n",
       "      <td>99.720833</td>\n",
       "    </tr>\n",
       "    <tr>\n",
       "      <th>4</th>\n",
       "      <td>1072</td>\n",
       "      <td>68.393368</td>\n",
       "      <td>15.656627</td>\n",
       "      <td>12.947659</td>\n",
       "      <td>60.048492</td>\n",
       "      <td>70.226577</td>\n",
       "      <td>79.725598</td>\n",
       "      <td>99.581944</td>\n",
       "    </tr>\n",
       "    <tr>\n",
       "      <th>5</th>\n",
       "      <td>577</td>\n",
       "      <td>71.411545</td>\n",
       "      <td>15.869846</td>\n",
       "      <td>5.200000</td>\n",
       "      <td>62.171237</td>\n",
       "      <td>73.319806</td>\n",
       "      <td>82.993196</td>\n",
       "      <td>99.566667</td>\n",
       "    </tr>\n",
       "  </tbody>\n",
       "</table>\n",
       "</div>"
      ],
      "text/plain": [
       "          frecuencia relativa      media  desviación        min        25%  \\\n",
       "PresPos4                                                                     \n",
       "0                         808  73.149089   14.962538   2.769516  65.037798   \n",
       "1                        1441  72.010057   16.836826   2.743056  61.987203   \n",
       "2                        7570  72.424461   14.808427   0.018056  63.700868   \n",
       "3                        9751  72.310961   15.581258   0.548611  63.964697   \n",
       "4                        1072  68.393368   15.656627  12.947659  60.048492   \n",
       "5                         577  71.411545   15.869846   5.200000  62.171237   \n",
       "\n",
       "                50%        75%        max  \n",
       "PresPos4                                   \n",
       "0         75.479361  83.956485  99.581944  \n",
       "1         74.009949  83.844922  99.581944  \n",
       "2         74.246351  83.233778  99.859722  \n",
       "3         74.655567  83.158868  99.720833  \n",
       "4         70.226577  79.725598  99.581944  \n",
       "5         73.319806  82.993196  99.566667  "
      ]
     },
     "metadata": {},
     "output_type": "display_data"
    }
   ],
   "source": [
    "display(PresPos4_sqr)"
   ]
  },
  {
   "cell_type": "code",
   "execution_count": 52,
   "metadata": {},
   "outputs": [
    {
     "data": {
      "image/png": "[encoded data removed]",
      "text/plain": [
       "<Figure size 432x288 with 1 Axes>"
      ]
     },
     "metadata": {},
     "output_type": "display_data"
    }
   ],
   "source": [
    "sns.distplot(perfiles_sqr.loc[perfiles_sqr['PresPos4']==\"0\",'sqr'], bins=20,kde = False,hist=True)\n",
    "sns.distplot(perfiles_sqr.loc[perfiles_sqr['PresPos4']==\"1\",'sqr'], bins=20,kde = False,hist=True)\n",
    "sns.distplot(perfiles_sqr.loc[perfiles_sqr['PresPos4']==\"2\",'sqr'], bins=20,kde = False,hist=True)\n",
    "sns.distplot(perfiles_sqr.loc[perfiles_sqr['PresPos4']==\"3\",'sqr'], bins=20,kde = False,hist=True)\n",
    "sns.distplot(perfiles_sqr.loc[perfiles_sqr['PresPos4']==\"4\",'sqr'], bins=20,kde = False,hist=True)\n",
    "sns.distplot(perfiles_sqr.loc[perfiles_sqr['PresPos4']==\"5\",'sqr'], bins=20,kde = False,hist=True).set_title('Histograma SQR Tubo 4')\n",
    "plt.legend(title='Presión', loc='upper left', labels=['0', '1', '2', '3','4','5'],facecolor = 'white')\n",
    "plt.show();"
   ]
  },
  {
   "cell_type": "code",
   "execution_count": 53,
   "metadata": {},
   "outputs": [
    {
     "data": {
      "image/png": "[encoded data removed]",
      "text/plain": [
       "<Figure size 1080x432 with 6 Axes>"
      ]
     },
     "metadata": {},
     "output_type": "display_data"
    }
   ],
   "source": [
    "fig, axs = plt.subplots(2,3, sharex=True, sharey=False,figsize = (15,6))\n",
    "sns.distplot(perfiles_sqr.loc[perfiles_sqr['PresPos4']==\"0\",'sqr'], bins=20,kde = False,hist=True,ax=axs[0, 0]).set(title = 'Presión 0',xlabel=None)\n",
    "sns.distplot(perfiles_sqr.loc[perfiles_sqr['PresPos4']==\"1\",'sqr'], bins=20,kde = False,hist=True,ax=axs[0, 1]).set(title = 'Presión 1',xlabel=None)\n",
    "sns.distplot(perfiles_sqr.loc[perfiles_sqr['PresPos4']==\"2\",'sqr'], bins=20,kde = False,hist=True,ax=axs[0, 2]).set(title = 'Presión 2',xlabel=None)\n",
    "sns.distplot(perfiles_sqr.loc[perfiles_sqr['PresPos4']==\"3\",'sqr'], bins=20,kde = False,hist=True,ax=axs[1, 0]).set(title = 'Presión 3',xlabel=None)\n",
    "sns.distplot(perfiles_sqr.loc[perfiles_sqr['PresPos4']==\"4\",'sqr'], bins=20,kde = False,hist=True,ax=axs[1, 1]).set(title = 'Presión 4',xlabel=None)\n",
    "sns.distplot(perfiles_sqr.loc[perfiles_sqr['PresPos4']==\"5\",'sqr'], bins=20,kde = False,hist=True,ax=axs[1, 2]).set(title = 'Presión 5',xlabel=None)\n",
    "fig.text(0.5, 0.04, 'SQR', va='center', ha='center', fontsize=12)\n",
    "fig.suptitle('Histograma SQR en las presiones del tubo 4', fontsize=16)\n",
    "plt.show();"
   ]
  },
  {
   "cell_type": "code",
   "execution_count": null,
   "metadata": {},
   "outputs": [],
   "source": []
  },
  {
   "cell_type": "markdown",
   "metadata": {},
   "source": [
    "#### Tubo 5"
   ]
  },
  {
   "cell_type": "code",
   "execution_count": 54,
   "metadata": {},
   "outputs": [],
   "source": [
    "PresPos5_sqr = perfiles_sqr.groupby('PresPos5').describe().loc[:, 'sqr'].rename({'count':'frecuencia relativa', 'mean':'media', 'std': 'desviación'}, axis='columns')\n",
    "PresPos5_sqr['frecuencia relativa'] = PresPos5_sqr['frecuencia relativa'].astype(int)"
   ]
  },
  {
   "cell_type": "code",
   "execution_count": 55,
   "metadata": {},
   "outputs": [
    {
     "data": {
      "text/html": [
       "<div>\n",
       "<style scoped>\n",
       "    .dataframe tbody tr th:only-of-type {\n",
       "        vertical-align: middle;\n",
       "    }\n",
       "\n",
       "    .dataframe tbody tr th {\n",
       "        vertical-align: top;\n",
       "    }\n",
       "\n",
       "    .dataframe thead th {\n",
       "        text-align: right;\n",
       "    }\n",
       "</style>\n",
       "<table border=\"1\" class=\"dataframe\">\n",
       "  <thead>\n",
       "    <tr style=\"text-align: right;\">\n",
       "      <th></th>\n",
       "      <th>frecuencia relativa</th>\n",
       "      <th>media</th>\n",
       "      <th>desviación</th>\n",
       "      <th>min</th>\n",
       "      <th>25%</th>\n",
       "      <th>50%</th>\n",
       "      <th>75%</th>\n",
       "      <th>max</th>\n",
       "    </tr>\n",
       "    <tr>\n",
       "      <th>PresPos5</th>\n",
       "      <th></th>\n",
       "      <th></th>\n",
       "      <th></th>\n",
       "      <th></th>\n",
       "      <th></th>\n",
       "      <th></th>\n",
       "      <th></th>\n",
       "      <th></th>\n",
       "    </tr>\n",
       "  </thead>\n",
       "  <tbody>\n",
       "    <tr>\n",
       "      <th>0</th>\n",
       "      <td>665</td>\n",
       "      <td>74.623691</td>\n",
       "      <td>15.425138</td>\n",
       "      <td>2.769516</td>\n",
       "      <td>66.241118</td>\n",
       "      <td>77.892981</td>\n",
       "      <td>85.534759</td>\n",
       "      <td>99.581944</td>\n",
       "    </tr>\n",
       "    <tr>\n",
       "      <th>1</th>\n",
       "      <td>4687</td>\n",
       "      <td>72.362595</td>\n",
       "      <td>15.032707</td>\n",
       "      <td>0.018056</td>\n",
       "      <td>63.622169</td>\n",
       "      <td>73.931859</td>\n",
       "      <td>83.016998</td>\n",
       "      <td>99.581944</td>\n",
       "    </tr>\n",
       "    <tr>\n",
       "      <th>2</th>\n",
       "      <td>7630</td>\n",
       "      <td>73.071392</td>\n",
       "      <td>14.229057</td>\n",
       "      <td>0.548611</td>\n",
       "      <td>65.139217</td>\n",
       "      <td>74.949029</td>\n",
       "      <td>83.081380</td>\n",
       "      <td>99.720833</td>\n",
       "    </tr>\n",
       "    <tr>\n",
       "      <th>3</th>\n",
       "      <td>6772</td>\n",
       "      <td>71.419228</td>\n",
       "      <td>16.408467</td>\n",
       "      <td>0.627778</td>\n",
       "      <td>62.085353</td>\n",
       "      <td>74.161755</td>\n",
       "      <td>83.263693</td>\n",
       "      <td>99.859722</td>\n",
       "    </tr>\n",
       "    <tr>\n",
       "      <th>4</th>\n",
       "      <td>824</td>\n",
       "      <td>66.341276</td>\n",
       "      <td>17.010318</td>\n",
       "      <td>1.523611</td>\n",
       "      <td>57.860845</td>\n",
       "      <td>67.900212</td>\n",
       "      <td>77.299903</td>\n",
       "      <td>99.559722</td>\n",
       "    </tr>\n",
       "    <tr>\n",
       "      <th>5</th>\n",
       "      <td>641</td>\n",
       "      <td>71.936466</td>\n",
       "      <td>16.561297</td>\n",
       "      <td>7.991667</td>\n",
       "      <td>62.987623</td>\n",
       "      <td>74.434963</td>\n",
       "      <td>84.118401</td>\n",
       "      <td>99.581944</td>\n",
       "    </tr>\n",
       "  </tbody>\n",
       "</table>\n",
       "</div>"
      ],
      "text/plain": [
       "          frecuencia relativa      media  desviación       min        25%  \\\n",
       "PresPos5                                                                    \n",
       "0                         665  74.623691   15.425138  2.769516  66.241118   \n",
       "1                        4687  72.362595   15.032707  0.018056  63.622169   \n",
       "2                        7630  73.071392   14.229057  0.548611  65.139217   \n",
       "3                        6772  71.419228   16.408467  0.627778  62.085353   \n",
       "4                         824  66.341276   17.010318  1.523611  57.860845   \n",
       "5                         641  71.936466   16.561297  7.991667  62.987623   \n",
       "\n",
       "                50%        75%        max  \n",
       "PresPos5                                   \n",
       "0         77.892981  85.534759  99.581944  \n",
       "1         73.931859  83.016998  99.581944  \n",
       "2         74.949029  83.081380  99.720833  \n",
       "3         74.161755  83.263693  99.859722  \n",
       "4         67.900212  77.299903  99.559722  \n",
       "5         74.434963  84.118401  99.581944  "
      ]
     },
     "metadata": {},
     "output_type": "display_data"
    }
   ],
   "source": [
    "display(PresPos5_sqr)"
   ]
  },
  {
   "cell_type": "code",
   "execution_count": 56,
   "metadata": {},
   "outputs": [
    {
     "data": {
      "image/png": "[encoded data removed]",
      "text/plain": [
       "<Figure size 432x288 with 1 Axes>"
      ]
     },
     "metadata": {},
     "output_type": "display_data"
    }
   ],
   "source": [
    "sns.distplot(perfiles_sqr.loc[perfiles_sqr['PresPos5']==\"0\",'sqr'], bins=20,kde = False,hist=True)\n",
    "sns.distplot(perfiles_sqr.loc[perfiles_sqr['PresPos5']==\"1\",'sqr'], bins=20,kde = False,hist=True)\n",
    "sns.distplot(perfiles_sqr.loc[perfiles_sqr['PresPos5']==\"2\",'sqr'], bins=20,kde = False,hist=True)\n",
    "sns.distplot(perfiles_sqr.loc[perfiles_sqr['PresPos5']==\"3\",'sqr'], bins=20,kde = False,hist=True)\n",
    "sns.distplot(perfiles_sqr.loc[perfiles_sqr['PresPos5']==\"4\",'sqr'], bins=20,kde = False,hist=True)\n",
    "sns.distplot(perfiles_sqr.loc[perfiles_sqr['PresPos4']==\"5\",'sqr'], bins=20,kde = False,hist=True).set_title('Histograma SQR Tubo 5')\n",
    "plt.legend(title='Presión', loc='upper left', labels=['0', '1', '2', '3','4','5'],facecolor = 'white')\n",
    "plt.show();"
   ]
  },
  {
   "cell_type": "code",
   "execution_count": 57,
   "metadata": {},
   "outputs": [
    {
     "data": {
      "image/png": "[encoded data removed]",
      "text/plain": [
       "<Figure size 1080x432 with 6 Axes>"
      ]
     },
     "metadata": {},
     "output_type": "display_data"
    }
   ],
   "source": [
    "fig, axs = plt.subplots(2,3, sharex=True, sharey=False,figsize = (15,6))\n",
    "sns.distplot(perfiles_sqr.loc[perfiles_sqr['PresPos5']==\"0\",'sqr'], bins=20,kde = False,hist=True,ax=axs[0, 0]).set(title = 'Presión 0',xlabel=None)\n",
    "sns.distplot(perfiles_sqr.loc[perfiles_sqr['PresPos5']==\"1\",'sqr'], bins=20,kde = False,hist=True,ax=axs[0, 1]).set(title = 'Presión 1',xlabel=None)\n",
    "sns.distplot(perfiles_sqr.loc[perfiles_sqr['PresPos5']==\"2\",'sqr'], bins=20,kde = False,hist=True,ax=axs[0, 2]).set(title = 'Presión 2',xlabel=None)\n",
    "sns.distplot(perfiles_sqr.loc[perfiles_sqr['PresPos5']==\"3\",'sqr'], bins=20,kde = False,hist=True,ax=axs[1, 0]).set(title = 'Presión 3',xlabel=None)\n",
    "sns.distplot(perfiles_sqr.loc[perfiles_sqr['PresPos5']==\"4\",'sqr'], bins=20,kde = False,hist=True,ax=axs[1, 1]).set(title = 'Presión 4',xlabel=None)\n",
    "sns.distplot(perfiles_sqr.loc[perfiles_sqr['PresPos5']==\"5\",'sqr'], bins=20,kde = False,hist=True,ax=axs[1, 2]).set(title = 'Presión 5',xlabel=None)\n",
    "fig.text(0.5, 0.04, 'SQR', va='center', ha='center', fontsize=12)\n",
    "fig.suptitle('Histograma SQR en las presiones del tubo 5', fontsize=16)\n",
    "plt.show();"
   ]
  },
  {
   "cell_type": "code",
   "execution_count": null,
   "metadata": {},
   "outputs": [],
   "source": []
  },
  {
   "cell_type": "markdown",
   "metadata": {},
   "source": [
    "#### Tubo 6"
   ]
  },
  {
   "cell_type": "code",
   "execution_count": 58,
   "metadata": {},
   "outputs": [],
   "source": [
    "PresPos6_sqr = perfiles_sqr.groupby('PresPos6').describe().loc[:, 'sqr'].rename({'count':'frecuencia relativa', 'mean':'media', 'std': 'desviación'}, axis='columns')\n",
    "PresPos6_sqr['frecuencia relativa'] = PresPos6_sqr['frecuencia relativa'].astype(int)"
   ]
  },
  {
   "cell_type": "code",
   "execution_count": 59,
   "metadata": {},
   "outputs": [
    {
     "data": {
      "text/html": [
       "<div>\n",
       "<style scoped>\n",
       "    .dataframe tbody tr th:only-of-type {\n",
       "        vertical-align: middle;\n",
       "    }\n",
       "\n",
       "    .dataframe tbody tr th {\n",
       "        vertical-align: top;\n",
       "    }\n",
       "\n",
       "    .dataframe thead th {\n",
       "        text-align: right;\n",
       "    }\n",
       "</style>\n",
       "<table border=\"1\" class=\"dataframe\">\n",
       "  <thead>\n",
       "    <tr style=\"text-align: right;\">\n",
       "      <th></th>\n",
       "      <th>frecuencia relativa</th>\n",
       "      <th>media</th>\n",
       "      <th>desviación</th>\n",
       "      <th>min</th>\n",
       "      <th>25%</th>\n",
       "      <th>50%</th>\n",
       "      <th>75%</th>\n",
       "      <th>max</th>\n",
       "    </tr>\n",
       "    <tr>\n",
       "      <th>PresPos6</th>\n",
       "      <th></th>\n",
       "      <th></th>\n",
       "      <th></th>\n",
       "      <th></th>\n",
       "      <th></th>\n",
       "      <th></th>\n",
       "      <th></th>\n",
       "      <th></th>\n",
       "    </tr>\n",
       "  </thead>\n",
       "  <tbody>\n",
       "    <tr>\n",
       "      <th>0</th>\n",
       "      <td>885</td>\n",
       "      <td>74.072956</td>\n",
       "      <td>14.524366</td>\n",
       "      <td>2.769516</td>\n",
       "      <td>65.911422</td>\n",
       "      <td>76.319321</td>\n",
       "      <td>84.258490</td>\n",
       "      <td>99.581944</td>\n",
       "    </tr>\n",
       "    <tr>\n",
       "      <th>1</th>\n",
       "      <td>8929</td>\n",
       "      <td>72.439487</td>\n",
       "      <td>14.311262</td>\n",
       "      <td>0.548611</td>\n",
       "      <td>64.239841</td>\n",
       "      <td>74.130864</td>\n",
       "      <td>82.511416</td>\n",
       "      <td>99.720833</td>\n",
       "    </tr>\n",
       "    <tr>\n",
       "      <th>2</th>\n",
       "      <td>8341</td>\n",
       "      <td>71.769776</td>\n",
       "      <td>16.267688</td>\n",
       "      <td>0.018056</td>\n",
       "      <td>62.267786</td>\n",
       "      <td>74.234814</td>\n",
       "      <td>83.658215</td>\n",
       "      <td>99.859722</td>\n",
       "    </tr>\n",
       "    <tr>\n",
       "      <th>3</th>\n",
       "      <td>2425</td>\n",
       "      <td>70.900409</td>\n",
       "      <td>16.757019</td>\n",
       "      <td>1.523611</td>\n",
       "      <td>62.106565</td>\n",
       "      <td>73.742055</td>\n",
       "      <td>81.996672</td>\n",
       "      <td>99.581944</td>\n",
       "    </tr>\n",
       "    <tr>\n",
       "      <th>4</th>\n",
       "      <td>177</td>\n",
       "      <td>74.601636</td>\n",
       "      <td>11.407603</td>\n",
       "      <td>40.709470</td>\n",
       "      <td>67.367799</td>\n",
       "      <td>73.751143</td>\n",
       "      <td>82.890637</td>\n",
       "      <td>99.559722</td>\n",
       "    </tr>\n",
       "    <tr>\n",
       "      <th>5</th>\n",
       "      <td>462</td>\n",
       "      <td>74.922135</td>\n",
       "      <td>14.811317</td>\n",
       "      <td>7.991667</td>\n",
       "      <td>66.925287</td>\n",
       "      <td>76.517184</td>\n",
       "      <td>85.322456</td>\n",
       "      <td>99.581944</td>\n",
       "    </tr>\n",
       "  </tbody>\n",
       "</table>\n",
       "</div>"
      ],
      "text/plain": [
       "          frecuencia relativa      media  desviación        min        25%  \\\n",
       "PresPos6                                                                     \n",
       "0                         885  74.072956   14.524366   2.769516  65.911422   \n",
       "1                        8929  72.439487   14.311262   0.548611  64.239841   \n",
       "2                        8341  71.769776   16.267688   0.018056  62.267786   \n",
       "3                        2425  70.900409   16.757019   1.523611  62.106565   \n",
       "4                         177  74.601636   11.407603  40.709470  67.367799   \n",
       "5                         462  74.922135   14.811317   7.991667  66.925287   \n",
       "\n",
       "                50%        75%        max  \n",
       "PresPos6                                   \n",
       "0         76.319321  84.258490  99.581944  \n",
       "1         74.130864  82.511416  99.720833  \n",
       "2         74.234814  83.658215  99.859722  \n",
       "3         73.742055  81.996672  99.581944  \n",
       "4         73.751143  82.890637  99.559722  \n",
       "5         76.517184  85.322456  99.581944  "
      ]
     },
     "metadata": {},
     "output_type": "display_data"
    }
   ],
   "source": [
    "display(PresPos6_sqr)"
   ]
  },
  {
   "cell_type": "code",
   "execution_count": 60,
   "metadata": {},
   "outputs": [
    {
     "data": {
      "image/png": "[encoded data removed]",
      "text/plain": [
       "<Figure size 432x288 with 1 Axes>"
      ]
     },
     "metadata": {},
     "output_type": "display_data"
    }
   ],
   "source": [
    "sns.distplot(perfiles_sqr.loc[perfiles_sqr['PresPos6']==\"0\",'sqr'], bins=20,kde = False,hist=True)\n",
    "sns.distplot(perfiles_sqr.loc[perfiles_sqr['PresPos6']==\"1\",'sqr'], bins=20,kde = False,hist=True)\n",
    "sns.distplot(perfiles_sqr.loc[perfiles_sqr['PresPos6']==\"2\",'sqr'], bins=20,kde = False,hist=True)\n",
    "sns.distplot(perfiles_sqr.loc[perfiles_sqr['PresPos6']==\"3\",'sqr'], bins=20,kde = False,hist=True)\n",
    "sns.distplot(perfiles_sqr.loc[perfiles_sqr['PresPos6']==\"4\",'sqr'], bins=20,kde = False,hist=True)\n",
    "sns.distplot(perfiles_sqr.loc[perfiles_sqr['PresPos6']==\"5\",'sqr'], bins=20,kde = False,hist=True).set_title('Histograma SQR Tubo 6')\n",
    "plt.legend(title='Presión', loc='upper left', labels=['0', '1', '2', '3','4','5'],facecolor = 'white')\n",
    "plt.show();"
   ]
  },
  {
   "cell_type": "code",
   "execution_count": 61,
   "metadata": {},
   "outputs": [
    {
     "data": {
      "image/png": "[encoded data removed]",
      "text/plain": [
       "<Figure size 1080x432 with 6 Axes>"
      ]
     },
     "metadata": {},
     "output_type": "display_data"
    }
   ],
   "source": [
    "fig, axs = plt.subplots(2,3, sharex=True, sharey=False,figsize = (15,6))\n",
    "sns.distplot(perfiles_sqr.loc[perfiles_sqr['PresPos6']==\"0\",'sqr'], bins=20,kde = False,hist=True,ax=axs[0, 0]).set(title = 'Presión 0',xlabel=None)\n",
    "sns.distplot(perfiles_sqr.loc[perfiles_sqr['PresPos6']==\"1\",'sqr'], bins=20,kde = False,hist=True,ax=axs[0, 1]).set(title = 'Presión 1',xlabel=None)\n",
    "sns.distplot(perfiles_sqr.loc[perfiles_sqr['PresPos6']==\"2\",'sqr'], bins=20,kde = False,hist=True,ax=axs[0, 2]).set(title = 'Presión 2',xlabel=None)\n",
    "sns.distplot(perfiles_sqr.loc[perfiles_sqr['PresPos6']==\"3\",'sqr'], bins=20,kde = False,hist=True,ax=axs[1, 0]).set(title = 'Presión 3',xlabel=None)\n",
    "sns.distplot(perfiles_sqr.loc[perfiles_sqr['PresPos6']==\"4\",'sqr'], bins=12,kde = False,hist=True,ax=axs[1, 1]).set(title = 'Presión 4',xlabel=None)\n",
    "sns.distplot(perfiles_sqr.loc[perfiles_sqr['PresPos6']==\"5\",'sqr'], bins=20,kde = False,hist=True,ax=axs[1, 2]).set(title = 'Presión 5',xlabel=None)\n",
    "fig.text(0.5, 0.04, 'SQR', va='center', ha='center', fontsize=12)\n",
    "fig.suptitle('Histograma SQR en las presiones del tubo 6', fontsize=16)\n",
    "plt.show();"
   ]
  },
  {
   "cell_type": "markdown",
   "metadata": {},
   "source": [
    "#### Todos los tubos"
   ]
  },
  {
   "cell_type": "code",
   "execution_count": 62,
   "metadata": {},
   "outputs": [
    {
     "data": {
      "image/png": "[encoded data removed]",
      "text/plain": [
       "<Figure size 1080x432 with 6 Axes>"
      ]
     },
     "metadata": {},
     "output_type": "display_data"
    }
   ],
   "source": [
    "fig, axs = plt.subplots(2,3, sharex=True, sharey=False,figsize = (15,6))\n",
    "sns.boxplot(x=\"PresPos1\", y=\"sqr\",data=perfiles_sqr,ax=axs[0, 0]).set(title = 'Tubo 1',xlabel=None)\n",
    "sns.boxplot(x=\"PresPos2\", y=\"sqr\",data=perfiles_sqr,ax=axs[0, 1]).set(title = 'Tubo 2',xlabel=None)\n",
    "sns.boxplot(x=\"PresPos3\", y=\"sqr\",data=perfiles_sqr,ax=axs[0, 2]).set(title = 'Tubo 3',xlabel=None)\n",
    "sns.boxplot(x=\"PresPos4\", y=\"sqr\",data=perfiles_sqr,ax=axs[1, 0]).set(title = 'Tubo 4',xlabel=None)\n",
    "sns.boxplot(x=\"PresPos5\", y=\"sqr\",data=perfiles_sqr,ax=axs[1, 1]).set(title = 'Tubo 5',xlabel=None)\n",
    "sns.boxplot(x=\"PresPos6\", y=\"sqr\",data=perfiles_sqr,ax=axs[1, 2]).set(title = 'Tubo 6',xlabel=None)\n",
    "fig.text(0.5, 0.04, 'Presiones', va='center', ha='center', fontsize=12)\n",
    "fig.suptitle('Boxplot SQR en los tubos', fontsize=16)\n",
    "plt.show();"
   ]
  },
  {
   "cell_type": "markdown",
   "metadata": {},
   "source": [
    "## Análisis de SQR por categorías"
   ]
  },
  {
   "cell_type": "markdown",
   "metadata": {},
   "source": [
    "A continuación se analiza la distribución del **SQR** en función de las las variables *sexo*, *posición* e *IMC*. Se obtenienen 12 categorías en función de los valores de estas variables:\n",
    "* [Male Lateral Bajo peso (MLB)](#1)\n",
    "* [Male Lateral Normal (MLN)](#2)\n",
    "* [Male Lateral Sobrepeso (MLS)](#3)\n",
    "* [Male Supine Bajo peso (MSB)](#4)\n",
    "* [Male Supine Normal (MSN)](#5)\n",
    "* [Male Supine Sobrepeso (MSS)](#6)\n",
    "* [Female Lateral Bajo peso (FLB)](#7)\n",
    "* [Female Lateral Normal (FLN)](#8)\n",
    "* [Female Lateral Sobrepeso (FLS)](#9)\n",
    "* [Female Supine Bajo peso (FSB)](#10)\n",
    "* [Female Supine Normal (FSN)](#11)\n",
    "* [Female Supine Sobrepeso (FSS)](#12)"
   ]
  },
  {
   "cell_type": "markdown",
   "metadata": {},
   "source": [
    "### Box-plot"
   ]
  },
  {
   "cell_type": "code",
   "execution_count": 63,
   "metadata": {},
   "outputs": [
    {
     "data": {
      "image/png": "[encoded data removed]",
      "text/plain": [
       "<Figure size 808.125x360 with 2 Axes>"
      ]
     },
     "metadata": {},
     "output_type": "display_data"
    }
   ],
   "source": [
    "# Draw a pointplot to show pulse as a function of three categorical factors\n",
    "g = sns.catplot(x=\"posicion\", y=\"sqr\", hue=\"IMC_cat\", col=\"sexo\",\n",
    "#                 capsize=.2, palette=\"YlGnBu_d\", height=6, aspect=.75,\n",
    "                kind=\"box\", data=perfiles_sqr)\n",
    "g.despine(left=True);"
   ]
  },
  {
   "cell_type": "markdown",
   "metadata": {},
   "source": [
    "En el caso de los hombres cuya posición al dormir es lateral, el sqr es algo más bajo en el caso de aquellos que padecen sobrepeso. Sin embargo, en de los que duermen en posición supina, el sqr más bajo se produce para los que tienen una complexión normal, seguidos de los que tienen sobrepeso. Finalmente, los hombres que duermen en posición supina y tienen bajo peso, obtinen un SQR más alto que todos los demás.\n",
    "En el caso de las mujeres, las que duermen en posición lateral tienen una media de SQR más alta que las que duermen en posición supina. Sin embargo, en ambas posiciones, el SQR para las mujeres con sobrepeso es claramente más bajo que las mujeres con peso normal o bajo peso."
   ]
  },
  {
   "cell_type": "markdown",
   "metadata": {},
   "source": [
    "<a id=\"1\"></a>\n",
    "### MLB"
   ]
  },
  {
   "cell_type": "markdown",
   "metadata": {},
   "source": [
    "#### Descriptivo general"
   ]
  },
  {
   "cell_type": "code",
   "execution_count": 64,
   "metadata": {},
   "outputs": [
    {
     "data": {
      "text/html": [
       "<div>\n",
       "<style scoped>\n",
       "    .dataframe tbody tr th:only-of-type {\n",
       "        vertical-align: middle;\n",
       "    }\n",
       "\n",
       "    .dataframe tbody tr th {\n",
       "        vertical-align: top;\n",
       "    }\n",
       "\n",
       "    .dataframe thead th {\n",
       "        text-align: right;\n",
       "    }\n",
       "</style>\n",
       "<table border=\"1\" class=\"dataframe\">\n",
       "  <thead>\n",
       "    <tr style=\"text-align: right;\">\n",
       "      <th></th>\n",
       "      <th>sqr</th>\n",
       "    </tr>\n",
       "  </thead>\n",
       "  <tbody>\n",
       "    <tr>\n",
       "      <th>count</th>\n",
       "      <td>3048.00</td>\n",
       "    </tr>\n",
       "    <tr>\n",
       "      <th>mean</th>\n",
       "      <td>71.77</td>\n",
       "    </tr>\n",
       "    <tr>\n",
       "      <th>std</th>\n",
       "      <td>16.61</td>\n",
       "    </tr>\n",
       "    <tr>\n",
       "      <th>min</th>\n",
       "      <td>0.55</td>\n",
       "    </tr>\n",
       "    <tr>\n",
       "      <th>25%</th>\n",
       "      <td>62.62</td>\n",
       "    </tr>\n",
       "    <tr>\n",
       "      <th>50%</th>\n",
       "      <td>74.83</td>\n",
       "    </tr>\n",
       "    <tr>\n",
       "      <th>75%</th>\n",
       "      <td>84.03</td>\n",
       "    </tr>\n",
       "    <tr>\n",
       "      <th>max</th>\n",
       "      <td>99.72</td>\n",
       "    </tr>\n",
       "  </tbody>\n",
       "</table>\n",
       "</div>"
      ],
      "text/plain": [
       "           sqr\n",
       "count  3048.00\n",
       "mean     71.77\n",
       "std      16.61\n",
       "min       0.55\n",
       "25%      62.62\n",
       "50%      74.83\n",
       "75%      84.03\n",
       "max      99.72"
      ]
     },
     "metadata": {},
     "output_type": "display_data"
    }
   ],
   "source": [
    "display(pd.DataFrame(perfiles_sqr.query('sexo == \"Male\" & posicion == \"Lateral\" &  IMC_cat == \"Bajo peso\"').describe().loc[:, 'sqr']).round(2).rename({'count':'frecuencia relativa', 'mean':'media', 'std': 'desviación'}, axis='columns'))"
   ]
  },
  {
   "cell_type": "code",
   "execution_count": 65,
   "metadata": {},
   "outputs": [],
   "source": [
    "presiones_cat = perfiles_sqr.query('sexo == \"Male\" & posicion == \"Lateral\" &  IMC_cat == \"Bajo peso\"').groupby('presiones').describe().loc[:, 'sqr']"
   ]
  },
  {
   "cell_type": "code",
   "execution_count": 66,
   "metadata": {},
   "outputs": [],
   "source": [
    "presiones_cat = presiones_cat.rename({'count':'frecuencia relativa', 'mean':'media', 'std': 'desviación'}, axis='columns').round(2)\n",
    "presiones_cat['frecuencia relativa'] = presiones_cat['frecuencia relativa'].astype('int')\n",
    "presiones_comunes = presiones_cat.sort_values(by='frecuencia relativa', ascending=False).head(3)\n",
    "presiones_comunes['tipo'] = 'comunes'\n",
    "presiones_top = presiones_cat.sort_values(by='media', ascending=False).head(3)\n",
    "presiones_top['tipo'] = 'mejores'\n",
    "presiones_bottom = presiones_cat.sort_values(by='media', ascending=True).head(3)\n",
    "presiones_bottom['tipo'] = 'peores'"
   ]
  },
  {
   "cell_type": "code",
   "execution_count": 67,
   "metadata": {},
   "outputs": [],
   "source": [
    "presiones_cat = presiones_comunes.append(presiones_top).append(presiones_bottom)\n",
    "presiones_cat.reset_index(level=0, inplace=True)"
   ]
  },
  {
   "cell_type": "code",
   "execution_count": 68,
   "metadata": {},
   "outputs": [
    {
     "data": {
      "text/html": [
       "<div>\n",
       "<style scoped>\n",
       "    .dataframe tbody tr th:only-of-type {\n",
       "        vertical-align: middle;\n",
       "    }\n",
       "\n",
       "    .dataframe tbody tr th {\n",
       "        vertical-align: top;\n",
       "    }\n",
       "\n",
       "    .dataframe thead th {\n",
       "        text-align: right;\n",
       "    }\n",
       "</style>\n",
       "<table border=\"1\" class=\"dataframe\">\n",
       "  <thead>\n",
       "    <tr style=\"text-align: right;\">\n",
       "      <th></th>\n",
       "      <th></th>\n",
       "      <th>frecuencia relativa</th>\n",
       "      <th>media</th>\n",
       "      <th>desviación</th>\n",
       "      <th>min</th>\n",
       "      <th>25%</th>\n",
       "      <th>50%</th>\n",
       "      <th>75%</th>\n",
       "      <th>max</th>\n",
       "    </tr>\n",
       "    <tr>\n",
       "      <th>tipo</th>\n",
       "      <th>presiones</th>\n",
       "      <th></th>\n",
       "      <th></th>\n",
       "      <th></th>\n",
       "      <th></th>\n",
       "      <th></th>\n",
       "      <th></th>\n",
       "      <th></th>\n",
       "      <th></th>\n",
       "    </tr>\n",
       "  </thead>\n",
       "  <tbody>\n",
       "    <tr>\n",
       "      <th rowspan=\"3\" valign=\"top\">comunes</th>\n",
       "      <th>022332</th>\n",
       "      <td>500</td>\n",
       "      <td>68.76</td>\n",
       "      <td>17.69</td>\n",
       "      <td>1.52</td>\n",
       "      <td>58.92</td>\n",
       "      <td>69.87</td>\n",
       "      <td>82.05</td>\n",
       "      <td>99.40</td>\n",
       "    </tr>\n",
       "    <tr>\n",
       "      <th>022321</th>\n",
       "      <td>491</td>\n",
       "      <td>67.59</td>\n",
       "      <td>14.43</td>\n",
       "      <td>0.55</td>\n",
       "      <td>59.56</td>\n",
       "      <td>69.88</td>\n",
       "      <td>77.81</td>\n",
       "      <td>99.72</td>\n",
       "    </tr>\n",
       "    <tr>\n",
       "      <th>122332</th>\n",
       "      <td>412</td>\n",
       "      <td>79.47</td>\n",
       "      <td>14.65</td>\n",
       "      <td>11.43</td>\n",
       "      <td>74.11</td>\n",
       "      <td>82.10</td>\n",
       "      <td>90.06</td>\n",
       "      <td>99.57</td>\n",
       "    </tr>\n",
       "    <tr>\n",
       "      <th rowspan=\"3\" valign=\"top\">mejores</th>\n",
       "      <th>355345</th>\n",
       "      <td>3</td>\n",
       "      <td>98.94</td>\n",
       "      <td>0.43</td>\n",
       "      <td>98.66</td>\n",
       "      <td>98.69</td>\n",
       "      <td>98.72</td>\n",
       "      <td>99.08</td>\n",
       "      <td>99.44</td>\n",
       "    </tr>\n",
       "    <tr>\n",
       "      <th>122322</th>\n",
       "      <td>2</td>\n",
       "      <td>94.62</td>\n",
       "      <td>3.81</td>\n",
       "      <td>91.93</td>\n",
       "      <td>93.27</td>\n",
       "      <td>94.62</td>\n",
       "      <td>95.96</td>\n",
       "      <td>97.31</td>\n",
       "    </tr>\n",
       "    <tr>\n",
       "      <th>022211</th>\n",
       "      <td>2</td>\n",
       "      <td>88.54</td>\n",
       "      <td>15.32</td>\n",
       "      <td>77.71</td>\n",
       "      <td>83.12</td>\n",
       "      <td>88.54</td>\n",
       "      <td>93.96</td>\n",
       "      <td>99.37</td>\n",
       "    </tr>\n",
       "    <tr>\n",
       "      <th rowspan=\"3\" valign=\"top\">peores</th>\n",
       "      <th>011122</th>\n",
       "      <td>68</td>\n",
       "      <td>43.19</td>\n",
       "      <td>16.31</td>\n",
       "      <td>9.39</td>\n",
       "      <td>32.42</td>\n",
       "      <td>43.78</td>\n",
       "      <td>54.99</td>\n",
       "      <td>78.73</td>\n",
       "    </tr>\n",
       "    <tr>\n",
       "      <th>000000</th>\n",
       "      <td>14</td>\n",
       "      <td>46.89</td>\n",
       "      <td>17.92</td>\n",
       "      <td>2.77</td>\n",
       "      <td>38.26</td>\n",
       "      <td>50.43</td>\n",
       "      <td>55.53</td>\n",
       "      <td>77.05</td>\n",
       "    </tr>\n",
       "    <tr>\n",
       "      <th>023332</th>\n",
       "      <td>27</td>\n",
       "      <td>47.03</td>\n",
       "      <td>14.45</td>\n",
       "      <td>18.84</td>\n",
       "      <td>38.20</td>\n",
       "      <td>46.35</td>\n",
       "      <td>56.54</td>\n",
       "      <td>77.79</td>\n",
       "    </tr>\n",
       "  </tbody>\n",
       "</table>\n",
       "</div>"
      ],
      "text/plain": [
       "                   frecuencia relativa  media  desviación    min    25%  \\\n",
       "tipo    presiones                                                         \n",
       "comunes 022332                     500  68.76       17.69   1.52  58.92   \n",
       "        022321                     491  67.59       14.43   0.55  59.56   \n",
       "        122332                     412  79.47       14.65  11.43  74.11   \n",
       "mejores 355345                       3  98.94        0.43  98.66  98.69   \n",
       "        122322                       2  94.62        3.81  91.93  93.27   \n",
       "        022211                       2  88.54       15.32  77.71  83.12   \n",
       "peores  011122                      68  43.19       16.31   9.39  32.42   \n",
       "        000000                      14  46.89       17.92   2.77  38.26   \n",
       "        023332                      27  47.03       14.45  18.84  38.20   \n",
       "\n",
       "                     50%    75%    max  \n",
       "tipo    presiones                       \n",
       "comunes 022332     69.87  82.05  99.40  \n",
       "        022321     69.88  77.81  99.72  \n",
       "        122332     82.10  90.06  99.57  \n",
       "mejores 355345     98.72  99.08  99.44  \n",
       "        122322     94.62  95.96  97.31  \n",
       "        022211     88.54  93.96  99.37  \n",
       "peores  011122     43.78  54.99  78.73  \n",
       "        000000     50.43  55.53  77.05  \n",
       "        023332     46.35  56.54  77.79  "
      ]
     },
     "metadata": {},
     "output_type": "display_data"
    }
   ],
   "source": [
    "display(presiones_cat.set_index(['tipo', 'presiones']))"
   ]
  },
  {
   "cell_type": "markdown",
   "metadata": {},
   "source": [
    "<a id=\"2\"></a>\n",
    "### MLN"
   ]
  },
  {
   "cell_type": "markdown",
   "metadata": {},
   "source": [
    "#### Descriptivo general"
   ]
  },
  {
   "cell_type": "code",
   "execution_count": 69,
   "metadata": {},
   "outputs": [
    {
     "data": {
      "text/html": [
       "<div>\n",
       "<style scoped>\n",
       "    .dataframe tbody tr th:only-of-type {\n",
       "        vertical-align: middle;\n",
       "    }\n",
       "\n",
       "    .dataframe tbody tr th {\n",
       "        vertical-align: top;\n",
       "    }\n",
       "\n",
       "    .dataframe thead th {\n",
       "        text-align: right;\n",
       "    }\n",
       "</style>\n",
       "<table border=\"1\" class=\"dataframe\">\n",
       "  <thead>\n",
       "    <tr style=\"text-align: right;\">\n",
       "      <th></th>\n",
       "      <th>sqr</th>\n",
       "    </tr>\n",
       "  </thead>\n",
       "  <tbody>\n",
       "    <tr>\n",
       "      <th>frecuencia relativa</th>\n",
       "      <td>2919</td>\n",
       "    </tr>\n",
       "    <tr>\n",
       "      <th>media</th>\n",
       "      <td>72</td>\n",
       "    </tr>\n",
       "    <tr>\n",
       "      <th>desviación</th>\n",
       "      <td>15</td>\n",
       "    </tr>\n",
       "    <tr>\n",
       "      <th>min</th>\n",
       "      <td>2</td>\n",
       "    </tr>\n",
       "    <tr>\n",
       "      <th>25%</th>\n",
       "      <td>64</td>\n",
       "    </tr>\n",
       "    <tr>\n",
       "      <th>50%</th>\n",
       "      <td>75</td>\n",
       "    </tr>\n",
       "    <tr>\n",
       "      <th>75%</th>\n",
       "      <td>83</td>\n",
       "    </tr>\n",
       "    <tr>\n",
       "      <th>max</th>\n",
       "      <td>99</td>\n",
       "    </tr>\n",
       "  </tbody>\n",
       "</table>\n",
       "</div>"
      ],
      "text/plain": [
       "                      sqr\n",
       "frecuencia relativa  2919\n",
       "media                  72\n",
       "desviación             15\n",
       "min                     2\n",
       "25%                    64\n",
       "50%                    75\n",
       "75%                    83\n",
       "max                    99"
      ]
     },
     "metadata": {},
     "output_type": "display_data"
    }
   ],
   "source": [
    "display(pd.DataFrame(perfiles_sqr.query('sexo == \"Male\" & posicion == \"Lateral\" &  IMC_cat == \"Normal\"').describe().loc[:, 'sqr'].round(2).rename({'count':'frecuencia relativa', 'mean':'media', 'std': 'desviación'}, axis='columns')))"
   ]
  },
  {
   "cell_type": "code",
   "execution_count": 70,
   "metadata": {},
   "outputs": [],
   "source": [
    "presiones_cat = perfiles_sqr.query('sexo == \"Male\" & posicion == \"Lateral\" &  IMC_cat == \"Normal\"').groupby('presiones').describe().loc[:, 'sqr'].sort_values(by='count', ascending=False).head(3)"
   ]
  },
  {
   "cell_type": "code",
   "execution_count": 71,
   "metadata": {},
   "outputs": [],
   "source": [
    "presiones_cat = presiones_cat.rename({'count':'frecuencia relativa', 'mean':'media', 'std': 'desviación'}, axis='columns').round(2)\n",
    "presiones_cat['frecuencia relativa'] = presiones_cat['frecuencia relativa'].astype('int')\n",
    "presiones_comunes = presiones_cat.sort_values(by='frecuencia relativa', ascending=False).head(3)\n",
    "presiones_comunes['tipo'] = 'comunes'\n",
    "presiones_top = presiones_cat.sort_values(by='media', ascending=False).head(3)\n",
    "presiones_top['tipo'] = 'mejores'\n",
    "presiones_bottom = presiones_cat.sort_values(by='media', ascending=True).head(3)\n",
    "presiones_bottom['tipo'] = 'peores'"
   ]
  },
  {
   "cell_type": "code",
   "execution_count": 72,
   "metadata": {},
   "outputs": [],
   "source": [
    "presiones_cat = presiones_comunes.append(presiones_top).append(presiones_bottom)\n",
    "presiones_cat.reset_index(level=0, inplace=True)"
   ]
  },
  {
   "cell_type": "code",
   "execution_count": 73,
   "metadata": {},
   "outputs": [
    {
     "data": {
      "text/html": [
       "<div>\n",
       "<style scoped>\n",
       "    .dataframe tbody tr th:only-of-type {\n",
       "        vertical-align: middle;\n",
       "    }\n",
       "\n",
       "    .dataframe tbody tr th {\n",
       "        vertical-align: top;\n",
       "    }\n",
       "\n",
       "    .dataframe thead th {\n",
       "        text-align: right;\n",
       "    }\n",
       "</style>\n",
       "<table border=\"1\" class=\"dataframe\">\n",
       "  <thead>\n",
       "    <tr style=\"text-align: right;\">\n",
       "      <th></th>\n",
       "      <th></th>\n",
       "      <th>frecuencia relativa</th>\n",
       "      <th>media</th>\n",
       "      <th>desviación</th>\n",
       "      <th>min</th>\n",
       "      <th>25%</th>\n",
       "      <th>50%</th>\n",
       "      <th>75%</th>\n",
       "      <th>max</th>\n",
       "    </tr>\n",
       "    <tr>\n",
       "      <th>tipo</th>\n",
       "      <th>presiones</th>\n",
       "      <th></th>\n",
       "      <th></th>\n",
       "      <th></th>\n",
       "      <th></th>\n",
       "      <th></th>\n",
       "      <th></th>\n",
       "      <th></th>\n",
       "      <th></th>\n",
       "    </tr>\n",
       "  </thead>\n",
       "  <tbody>\n",
       "    <tr>\n",
       "      <th rowspan=\"3\" valign=\"top\">comunes</th>\n",
       "      <th>023321</th>\n",
       "      <td>774</td>\n",
       "      <td>79.01</td>\n",
       "      <td>11.16</td>\n",
       "      <td>22.20</td>\n",
       "      <td>72.79</td>\n",
       "      <td>80.01</td>\n",
       "      <td>86.79</td>\n",
       "      <td>99.58</td>\n",
       "    </tr>\n",
       "    <tr>\n",
       "      <th>123333</th>\n",
       "      <td>557</td>\n",
       "      <td>68.68</td>\n",
       "      <td>18.33</td>\n",
       "      <td>2.78</td>\n",
       "      <td>59.14</td>\n",
       "      <td>72.33</td>\n",
       "      <td>80.99</td>\n",
       "      <td>99.44</td>\n",
       "    </tr>\n",
       "    <tr>\n",
       "      <th>023332</th>\n",
       "      <td>429</td>\n",
       "      <td>71.92</td>\n",
       "      <td>13.86</td>\n",
       "      <td>20.60</td>\n",
       "      <td>64.84</td>\n",
       "      <td>73.33</td>\n",
       "      <td>81.93</td>\n",
       "      <td>99.58</td>\n",
       "    </tr>\n",
       "    <tr>\n",
       "      <th rowspan=\"3\" valign=\"top\">mejores</th>\n",
       "      <th>023321</th>\n",
       "      <td>774</td>\n",
       "      <td>79.01</td>\n",
       "      <td>11.16</td>\n",
       "      <td>22.20</td>\n",
       "      <td>72.79</td>\n",
       "      <td>80.01</td>\n",
       "      <td>86.79</td>\n",
       "      <td>99.58</td>\n",
       "    </tr>\n",
       "    <tr>\n",
       "      <th>023332</th>\n",
       "      <td>429</td>\n",
       "      <td>71.92</td>\n",
       "      <td>13.86</td>\n",
       "      <td>20.60</td>\n",
       "      <td>64.84</td>\n",
       "      <td>73.33</td>\n",
       "      <td>81.93</td>\n",
       "      <td>99.58</td>\n",
       "    </tr>\n",
       "    <tr>\n",
       "      <th>123333</th>\n",
       "      <td>557</td>\n",
       "      <td>68.68</td>\n",
       "      <td>18.33</td>\n",
       "      <td>2.78</td>\n",
       "      <td>59.14</td>\n",
       "      <td>72.33</td>\n",
       "      <td>80.99</td>\n",
       "      <td>99.44</td>\n",
       "    </tr>\n",
       "    <tr>\n",
       "      <th rowspan=\"3\" valign=\"top\">peores</th>\n",
       "      <th>123333</th>\n",
       "      <td>557</td>\n",
       "      <td>68.68</td>\n",
       "      <td>18.33</td>\n",
       "      <td>2.78</td>\n",
       "      <td>59.14</td>\n",
       "      <td>72.33</td>\n",
       "      <td>80.99</td>\n",
       "      <td>99.44</td>\n",
       "    </tr>\n",
       "    <tr>\n",
       "      <th>023332</th>\n",
       "      <td>429</td>\n",
       "      <td>71.92</td>\n",
       "      <td>13.86</td>\n",
       "      <td>20.60</td>\n",
       "      <td>64.84</td>\n",
       "      <td>73.33</td>\n",
       "      <td>81.93</td>\n",
       "      <td>99.58</td>\n",
       "    </tr>\n",
       "    <tr>\n",
       "      <th>023321</th>\n",
       "      <td>774</td>\n",
       "      <td>79.01</td>\n",
       "      <td>11.16</td>\n",
       "      <td>22.20</td>\n",
       "      <td>72.79</td>\n",
       "      <td>80.01</td>\n",
       "      <td>86.79</td>\n",
       "      <td>99.58</td>\n",
       "    </tr>\n",
       "  </tbody>\n",
       "</table>\n",
       "</div>"
      ],
      "text/plain": [
       "                   frecuencia relativa  media  desviación    min    25%  \\\n",
       "tipo    presiones                                                         \n",
       "comunes 023321                     774  79.01       11.16  22.20  72.79   \n",
       "        123333                     557  68.68       18.33   2.78  59.14   \n",
       "        023332                     429  71.92       13.86  20.60  64.84   \n",
       "mejores 023321                     774  79.01       11.16  22.20  72.79   \n",
       "        023332                     429  71.92       13.86  20.60  64.84   \n",
       "        123333                     557  68.68       18.33   2.78  59.14   \n",
       "peores  123333                     557  68.68       18.33   2.78  59.14   \n",
       "        023332                     429  71.92       13.86  20.60  64.84   \n",
       "        023321                     774  79.01       11.16  22.20  72.79   \n",
       "\n",
       "                     50%    75%    max  \n",
       "tipo    presiones                       \n",
       "comunes 023321     80.01  86.79  99.58  \n",
       "        123333     72.33  80.99  99.44  \n",
       "        023332     73.33  81.93  99.58  \n",
       "mejores 023321     80.01  86.79  99.58  \n",
       "        023332     73.33  81.93  99.58  \n",
       "        123333     72.33  80.99  99.44  \n",
       "peores  123333     72.33  80.99  99.44  \n",
       "        023332     73.33  81.93  99.58  \n",
       "        023321     80.01  86.79  99.58  "
      ]
     },
     "metadata": {},
     "output_type": "display_data"
    }
   ],
   "source": [
    "display(presiones_cat.set_index(['tipo', 'presiones']))"
   ]
  },
  {
   "cell_type": "markdown",
   "metadata": {},
   "source": [
    "<a id=\"3\"></a>\n",
    "### MLS"
   ]
  },
  {
   "cell_type": "markdown",
   "metadata": {},
   "source": [
    "#### Descriptivo general"
   ]
  },
  {
   "cell_type": "code",
   "execution_count": 74,
   "metadata": {},
   "outputs": [
    {
     "data": {
      "text/html": [
       "<div>\n",
       "<style scoped>\n",
       "    .dataframe tbody tr th:only-of-type {\n",
       "        vertical-align: middle;\n",
       "    }\n",
       "\n",
       "    .dataframe tbody tr th {\n",
       "        vertical-align: top;\n",
       "    }\n",
       "\n",
       "    .dataframe thead th {\n",
       "        text-align: right;\n",
       "    }\n",
       "</style>\n",
       "<table border=\"1\" class=\"dataframe\">\n",
       "  <thead>\n",
       "    <tr style=\"text-align: right;\">\n",
       "      <th></th>\n",
       "      <th>sqr</th>\n",
       "    </tr>\n",
       "  </thead>\n",
       "  <tbody>\n",
       "    <tr>\n",
       "      <th>frecuencia relativa</th>\n",
       "      <td>1486</td>\n",
       "    </tr>\n",
       "    <tr>\n",
       "      <th>media</th>\n",
       "      <td>69</td>\n",
       "    </tr>\n",
       "    <tr>\n",
       "      <th>desviación</th>\n",
       "      <td>16</td>\n",
       "    </tr>\n",
       "    <tr>\n",
       "      <th>min</th>\n",
       "      <td>1</td>\n",
       "    </tr>\n",
       "    <tr>\n",
       "      <th>25%</th>\n",
       "      <td>60</td>\n",
       "    </tr>\n",
       "    <tr>\n",
       "      <th>50%</th>\n",
       "      <td>72</td>\n",
       "    </tr>\n",
       "    <tr>\n",
       "      <th>75%</th>\n",
       "      <td>82</td>\n",
       "    </tr>\n",
       "    <tr>\n",
       "      <th>max</th>\n",
       "      <td>99</td>\n",
       "    </tr>\n",
       "  </tbody>\n",
       "</table>\n",
       "</div>"
      ],
      "text/plain": [
       "                      sqr\n",
       "frecuencia relativa  1486\n",
       "media                  69\n",
       "desviación             16\n",
       "min                     1\n",
       "25%                    60\n",
       "50%                    72\n",
       "75%                    82\n",
       "max                    99"
      ]
     },
     "metadata": {},
     "output_type": "display_data"
    }
   ],
   "source": [
    "display(pd.DataFrame(perfiles_sqr.query('sexo == \"Male\" & posicion == \"Lateral\" &  IMC_cat == \"Sobrepeso\"').describe().loc[:, 'sqr'].round(2).rename({'count':'frecuencia relativa', 'mean':'media', 'std': 'desviación'}, axis='columns')))"
   ]
  },
  {
   "cell_type": "markdown",
   "metadata": {},
   "source": [
    "#### Análisis de presiones"
   ]
  },
  {
   "cell_type": "code",
   "execution_count": 75,
   "metadata": {},
   "outputs": [],
   "source": [
    "presiones_cat = perfiles_sqr.query('sexo == \"Male\" & posicion == \"Lateral\" &  IMC_cat == \"Sobrepeso\"').groupby('presiones').describe().loc[:, 'sqr']"
   ]
  },
  {
   "cell_type": "code",
   "execution_count": 76,
   "metadata": {},
   "outputs": [],
   "source": [
    "presiones_cat = presiones_cat.rename({'count':'frecuencia relativa', 'mean':'media', 'std': 'desviación'}, axis='columns').round(2)\n",
    "presiones_cat['frecuencia relativa'] = presiones_cat['frecuencia relativa'].astype('int')\n",
    "presiones_comunes = presiones_cat.sort_values(by='frecuencia relativa', ascending=False).head(3)\n",
    "presiones_comunes['tipo'] = 'comunes'\n",
    "presiones_top = presiones_cat.sort_values(by='media', ascending=False).head(3)\n",
    "presiones_top['tipo'] = 'mejores'\n",
    "presiones_bottom = presiones_cat.sort_values(by='media', ascending=True).head(3)\n",
    "presiones_bottom['tipo'] = 'peores'"
   ]
  },
  {
   "cell_type": "code",
   "execution_count": 77,
   "metadata": {},
   "outputs": [],
   "source": [
    "presiones_cat = presiones_comunes.append(presiones_top).append(presiones_bottom)\n",
    "presiones_cat.reset_index(level=0, inplace=True)"
   ]
  },
  {
   "cell_type": "code",
   "execution_count": 78,
   "metadata": {},
   "outputs": [
    {
     "data": {
      "text/html": [
       "<div>\n",
       "<style scoped>\n",
       "    .dataframe tbody tr th:only-of-type {\n",
       "        vertical-align: middle;\n",
       "    }\n",
       "\n",
       "    .dataframe tbody tr th {\n",
       "        vertical-align: top;\n",
       "    }\n",
       "\n",
       "    .dataframe thead th {\n",
       "        text-align: right;\n",
       "    }\n",
       "</style>\n",
       "<table border=\"1\" class=\"dataframe\">\n",
       "  <thead>\n",
       "    <tr style=\"text-align: right;\">\n",
       "      <th></th>\n",
       "      <th></th>\n",
       "      <th>frecuencia relativa</th>\n",
       "      <th>media</th>\n",
       "      <th>desviación</th>\n",
       "      <th>min</th>\n",
       "      <th>25%</th>\n",
       "      <th>50%</th>\n",
       "      <th>75%</th>\n",
       "      <th>max</th>\n",
       "    </tr>\n",
       "    <tr>\n",
       "      <th>tipo</th>\n",
       "      <th>presiones</th>\n",
       "      <th></th>\n",
       "      <th></th>\n",
       "      <th></th>\n",
       "      <th></th>\n",
       "      <th></th>\n",
       "      <th></th>\n",
       "      <th></th>\n",
       "      <th></th>\n",
       "    </tr>\n",
       "  </thead>\n",
       "  <tbody>\n",
       "    <tr>\n",
       "      <th rowspan=\"3\" valign=\"top\">comunes</th>\n",
       "      <th>233343</th>\n",
       "      <td>237</td>\n",
       "      <td>65.35</td>\n",
       "      <td>19.45</td>\n",
       "      <td>1.52</td>\n",
       "      <td>54.18</td>\n",
       "      <td>70.26</td>\n",
       "      <td>79.60</td>\n",
       "      <td>99.30</td>\n",
       "    </tr>\n",
       "    <tr>\n",
       "      <th>233443</th>\n",
       "      <td>233</td>\n",
       "      <td>64.09</td>\n",
       "      <td>13.94</td>\n",
       "      <td>12.95</td>\n",
       "      <td>56.74</td>\n",
       "      <td>64.45</td>\n",
       "      <td>72.52</td>\n",
       "      <td>98.84</td>\n",
       "    </tr>\n",
       "    <tr>\n",
       "      <th>123331</th>\n",
       "      <td>200</td>\n",
       "      <td>78.10</td>\n",
       "      <td>15.74</td>\n",
       "      <td>10.71</td>\n",
       "      <td>71.35</td>\n",
       "      <td>83.45</td>\n",
       "      <td>89.33</td>\n",
       "      <td>98.31</td>\n",
       "    </tr>\n",
       "    <tr>\n",
       "      <th rowspan=\"3\" valign=\"top\">mejores</th>\n",
       "      <th>123312</th>\n",
       "      <td>7</td>\n",
       "      <td>98.74</td>\n",
       "      <td>1.01</td>\n",
       "      <td>96.62</td>\n",
       "      <td>98.61</td>\n",
       "      <td>99.29</td>\n",
       "      <td>99.33</td>\n",
       "      <td>99.37</td>\n",
       "    </tr>\n",
       "    <tr>\n",
       "      <th>123322</th>\n",
       "      <td>2</td>\n",
       "      <td>85.93</td>\n",
       "      <td>2.26</td>\n",
       "      <td>84.33</td>\n",
       "      <td>85.13</td>\n",
       "      <td>85.93</td>\n",
       "      <td>86.73</td>\n",
       "      <td>87.52</td>\n",
       "    </tr>\n",
       "    <tr>\n",
       "      <th>023321</th>\n",
       "      <td>114</td>\n",
       "      <td>78.53</td>\n",
       "      <td>10.53</td>\n",
       "      <td>46.88</td>\n",
       "      <td>72.01</td>\n",
       "      <td>80.28</td>\n",
       "      <td>86.22</td>\n",
       "      <td>94.77</td>\n",
       "    </tr>\n",
       "    <tr>\n",
       "      <th rowspan=\"3\" valign=\"top\">peores</th>\n",
       "      <th>111111</th>\n",
       "      <td>66</td>\n",
       "      <td>57.62</td>\n",
       "      <td>18.78</td>\n",
       "      <td>2.74</td>\n",
       "      <td>52.91</td>\n",
       "      <td>61.26</td>\n",
       "      <td>68.88</td>\n",
       "      <td>89.89</td>\n",
       "    </tr>\n",
       "    <tr>\n",
       "      <th>555555</th>\n",
       "      <td>22</td>\n",
       "      <td>60.12</td>\n",
       "      <td>16.14</td>\n",
       "      <td>7.99</td>\n",
       "      <td>53.35</td>\n",
       "      <td>60.21</td>\n",
       "      <td>67.63</td>\n",
       "      <td>85.34</td>\n",
       "    </tr>\n",
       "    <tr>\n",
       "      <th>123332</th>\n",
       "      <td>35</td>\n",
       "      <td>62.04</td>\n",
       "      <td>11.75</td>\n",
       "      <td>40.65</td>\n",
       "      <td>53.72</td>\n",
       "      <td>62.19</td>\n",
       "      <td>68.39</td>\n",
       "      <td>86.46</td>\n",
       "    </tr>\n",
       "  </tbody>\n",
       "</table>\n",
       "</div>"
      ],
      "text/plain": [
       "                   frecuencia relativa  media  desviación    min    25%  \\\n",
       "tipo    presiones                                                         \n",
       "comunes 233343                     237  65.35       19.45   1.52  54.18   \n",
       "        233443                     233  64.09       13.94  12.95  56.74   \n",
       "        123331                     200  78.10       15.74  10.71  71.35   \n",
       "mejores 123312                       7  98.74        1.01  96.62  98.61   \n",
       "        123322                       2  85.93        2.26  84.33  85.13   \n",
       "        023321                     114  78.53       10.53  46.88  72.01   \n",
       "peores  111111                      66  57.62       18.78   2.74  52.91   \n",
       "        555555                      22  60.12       16.14   7.99  53.35   \n",
       "        123332                      35  62.04       11.75  40.65  53.72   \n",
       "\n",
       "                     50%    75%    max  \n",
       "tipo    presiones                       \n",
       "comunes 233343     70.26  79.60  99.30  \n",
       "        233443     64.45  72.52  98.84  \n",
       "        123331     83.45  89.33  98.31  \n",
       "mejores 123312     99.29  99.33  99.37  \n",
       "        123322     85.93  86.73  87.52  \n",
       "        023321     80.28  86.22  94.77  \n",
       "peores  111111     61.26  68.88  89.89  \n",
       "        555555     60.21  67.63  85.34  \n",
       "        123332     62.19  68.39  86.46  "
      ]
     },
     "metadata": {},
     "output_type": "display_data"
    }
   ],
   "source": [
    "display(presiones_cat.set_index(['tipo', 'presiones']))"
   ]
  },
  {
   "cell_type": "markdown",
   "metadata": {},
   "source": [
    "<a id=\"4\"></a>\n",
    "### MSB"
   ]
  },
  {
   "cell_type": "markdown",
   "metadata": {},
   "source": [
    "#### Descriptivo general"
   ]
  },
  {
   "cell_type": "code",
   "execution_count": 79,
   "metadata": {
    "scrolled": true
   },
   "outputs": [
    {
     "data": {
      "text/html": [
       "<div>\n",
       "<style scoped>\n",
       "    .dataframe tbody tr th:only-of-type {\n",
       "        vertical-align: middle;\n",
       "    }\n",
       "\n",
       "    .dataframe tbody tr th {\n",
       "        vertical-align: top;\n",
       "    }\n",
       "\n",
       "    .dataframe thead th {\n",
       "        text-align: right;\n",
       "    }\n",
       "</style>\n",
       "<table border=\"1\" class=\"dataframe\">\n",
       "  <thead>\n",
       "    <tr style=\"text-align: right;\">\n",
       "      <th></th>\n",
       "      <th>sqr</th>\n",
       "    </tr>\n",
       "  </thead>\n",
       "  <tbody>\n",
       "    <tr>\n",
       "      <th>frecuencia relativa</th>\n",
       "      <td>1738</td>\n",
       "    </tr>\n",
       "    <tr>\n",
       "      <th>media</th>\n",
       "      <td>74</td>\n",
       "    </tr>\n",
       "    <tr>\n",
       "      <th>desviación</th>\n",
       "      <td>14</td>\n",
       "    </tr>\n",
       "    <tr>\n",
       "      <th>min</th>\n",
       "      <td>12</td>\n",
       "    </tr>\n",
       "    <tr>\n",
       "      <th>25%</th>\n",
       "      <td>65</td>\n",
       "    </tr>\n",
       "    <tr>\n",
       "      <th>50%</th>\n",
       "      <td>76</td>\n",
       "    </tr>\n",
       "    <tr>\n",
       "      <th>75%</th>\n",
       "      <td>86</td>\n",
       "    </tr>\n",
       "    <tr>\n",
       "      <th>max</th>\n",
       "      <td>99</td>\n",
       "    </tr>\n",
       "  </tbody>\n",
       "</table>\n",
       "</div>"
      ],
      "text/plain": [
       "                      sqr\n",
       "frecuencia relativa  1738\n",
       "media                  74\n",
       "desviación             14\n",
       "min                    12\n",
       "25%                    65\n",
       "50%                    76\n",
       "75%                    86\n",
       "max                    99"
      ]
     },
     "metadata": {},
     "output_type": "display_data"
    }
   ],
   "source": [
    "display(pd.DataFrame(perfiles_sqr.query('sexo == \"Male\" & posicion == \"Supine\" &  IMC_cat == \"Bajo peso\"').describe().loc[:, 'sqr'].round(2).rename({'count':'frecuencia relativa', 'mean':'media', 'std': 'desviación'}, axis='columns')))"
   ]
  },
  {
   "cell_type": "markdown",
   "metadata": {},
   "source": [
    "#### Análisis de presiones"
   ]
  },
  {
   "cell_type": "code",
   "execution_count": 80,
   "metadata": {},
   "outputs": [],
   "source": [
    "presiones_cat = perfiles_sqr.query('sexo == \"Male\" & posicion == \"Supine\" &  IMC_cat == \"Bajo peso\"').groupby('presiones').describe().loc[:, 'sqr']"
   ]
  },
  {
   "cell_type": "code",
   "execution_count": 81,
   "metadata": {},
   "outputs": [],
   "source": [
    "presiones_cat = presiones_cat.rename({'count':'frecuencia relativa', 'mean':'media', 'std': 'desviación'}, axis='columns').round(2)\n",
    "presiones_cat['frecuencia relativa'] = presiones_cat['frecuencia relativa'].astype('int')\n",
    "presiones_comunes = presiones_cat.sort_values(by='frecuencia relativa', ascending=False).head(3)\n",
    "presiones_comunes['tipo'] = 'comunes'\n",
    "presiones_top = presiones_cat.sort_values(by='media', ascending=False).head(3)\n",
    "presiones_top['tipo'] = 'mejores'\n",
    "presiones_bottom = presiones_cat.sort_values(by='media', ascending=True).head(3)\n",
    "presiones_bottom['tipo'] = 'peores'"
   ]
  },
  {
   "cell_type": "code",
   "execution_count": 82,
   "metadata": {},
   "outputs": [],
   "source": [
    "presiones_cat = presiones_comunes.append(presiones_top).append(presiones_bottom)\n",
    "presiones_cat.reset_index(level=0, inplace=True)"
   ]
  },
  {
   "cell_type": "code",
   "execution_count": 83,
   "metadata": {},
   "outputs": [
    {
     "data": {
      "text/html": [
       "<div>\n",
       "<style scoped>\n",
       "    .dataframe tbody tr th:only-of-type {\n",
       "        vertical-align: middle;\n",
       "    }\n",
       "\n",
       "    .dataframe tbody tr th {\n",
       "        vertical-align: top;\n",
       "    }\n",
       "\n",
       "    .dataframe thead th {\n",
       "        text-align: right;\n",
       "    }\n",
       "</style>\n",
       "<table border=\"1\" class=\"dataframe\">\n",
       "  <thead>\n",
       "    <tr style=\"text-align: right;\">\n",
       "      <th></th>\n",
       "      <th></th>\n",
       "      <th>frecuencia relativa</th>\n",
       "      <th>media</th>\n",
       "      <th>desviación</th>\n",
       "      <th>min</th>\n",
       "      <th>25%</th>\n",
       "      <th>50%</th>\n",
       "      <th>75%</th>\n",
       "      <th>max</th>\n",
       "    </tr>\n",
       "    <tr>\n",
       "      <th>tipo</th>\n",
       "      <th>presiones</th>\n",
       "      <th></th>\n",
       "      <th></th>\n",
       "      <th></th>\n",
       "      <th></th>\n",
       "      <th></th>\n",
       "      <th></th>\n",
       "      <th></th>\n",
       "      <th></th>\n",
       "    </tr>\n",
       "  </thead>\n",
       "  <tbody>\n",
       "    <tr>\n",
       "      <th rowspan=\"3\" valign=\"top\">comunes</th>\n",
       "      <th>122232</th>\n",
       "      <td>952</td>\n",
       "      <td>72.85</td>\n",
       "      <td>15.54</td>\n",
       "      <td>12.96</td>\n",
       "      <td>62.06</td>\n",
       "      <td>75.04</td>\n",
       "      <td>84.94</td>\n",
       "      <td>99.86</td>\n",
       "    </tr>\n",
       "    <tr>\n",
       "      <th>122332</th>\n",
       "      <td>300</td>\n",
       "      <td>77.05</td>\n",
       "      <td>12.77</td>\n",
       "      <td>22.57</td>\n",
       "      <td>69.59</td>\n",
       "      <td>79.74</td>\n",
       "      <td>86.65</td>\n",
       "      <td>99.36</td>\n",
       "    </tr>\n",
       "    <tr>\n",
       "      <th>122222</th>\n",
       "      <td>144</td>\n",
       "      <td>70.62</td>\n",
       "      <td>12.87</td>\n",
       "      <td>37.09</td>\n",
       "      <td>61.91</td>\n",
       "      <td>71.94</td>\n",
       "      <td>78.92</td>\n",
       "      <td>99.36</td>\n",
       "    </tr>\n",
       "    <tr>\n",
       "      <th rowspan=\"3\" valign=\"top\">mejores</th>\n",
       "      <th>344333</th>\n",
       "      <td>91</td>\n",
       "      <td>92.96</td>\n",
       "      <td>7.46</td>\n",
       "      <td>70.01</td>\n",
       "      <td>89.52</td>\n",
       "      <td>96.44</td>\n",
       "      <td>98.69</td>\n",
       "      <td>99.58</td>\n",
       "    </tr>\n",
       "    <tr>\n",
       "      <th>555555</th>\n",
       "      <td>37</td>\n",
       "      <td>87.51</td>\n",
       "      <td>7.35</td>\n",
       "      <td>63.77</td>\n",
       "      <td>86.08</td>\n",
       "      <td>90.06</td>\n",
       "      <td>91.95</td>\n",
       "      <td>97.57</td>\n",
       "    </tr>\n",
       "    <tr>\n",
       "      <th>333333</th>\n",
       "      <td>8</td>\n",
       "      <td>86.64</td>\n",
       "      <td>6.91</td>\n",
       "      <td>76.06</td>\n",
       "      <td>80.17</td>\n",
       "      <td>89.83</td>\n",
       "      <td>91.79</td>\n",
       "      <td>94.01</td>\n",
       "    </tr>\n",
       "    <tr>\n",
       "      <th rowspan=\"3\" valign=\"top\">peores</th>\n",
       "      <th>223333</th>\n",
       "      <td>1</td>\n",
       "      <td>55.24</td>\n",
       "      <td>NaN</td>\n",
       "      <td>55.24</td>\n",
       "      <td>55.24</td>\n",
       "      <td>55.24</td>\n",
       "      <td>55.24</td>\n",
       "      <td>55.24</td>\n",
       "    </tr>\n",
       "    <tr>\n",
       "      <th>122322</th>\n",
       "      <td>2</td>\n",
       "      <td>60.43</td>\n",
       "      <td>12.15</td>\n",
       "      <td>51.84</td>\n",
       "      <td>56.13</td>\n",
       "      <td>60.43</td>\n",
       "      <td>64.72</td>\n",
       "      <td>69.02</td>\n",
       "    </tr>\n",
       "    <tr>\n",
       "      <th>144332</th>\n",
       "      <td>8</td>\n",
       "      <td>64.32</td>\n",
       "      <td>7.58</td>\n",
       "      <td>54.10</td>\n",
       "      <td>60.75</td>\n",
       "      <td>65.35</td>\n",
       "      <td>66.94</td>\n",
       "      <td>78.07</td>\n",
       "    </tr>\n",
       "  </tbody>\n",
       "</table>\n",
       "</div>"
      ],
      "text/plain": [
       "                   frecuencia relativa  media  desviación    min    25%  \\\n",
       "tipo    presiones                                                         \n",
       "comunes 122232                     952  72.85       15.54  12.96  62.06   \n",
       "        122332                     300  77.05       12.77  22.57  69.59   \n",
       "        122222                     144  70.62       12.87  37.09  61.91   \n",
       "mejores 344333                      91  92.96        7.46  70.01  89.52   \n",
       "        555555                      37  87.51        7.35  63.77  86.08   \n",
       "        333333                       8  86.64        6.91  76.06  80.17   \n",
       "peores  223333                       1  55.24         NaN  55.24  55.24   \n",
       "        122322                       2  60.43       12.15  51.84  56.13   \n",
       "        144332                       8  64.32        7.58  54.10  60.75   \n",
       "\n",
       "                     50%    75%    max  \n",
       "tipo    presiones                       \n",
       "comunes 122232     75.04  84.94  99.86  \n",
       "        122332     79.74  86.65  99.36  \n",
       "        122222     71.94  78.92  99.36  \n",
       "mejores 344333     96.44  98.69  99.58  \n",
       "        555555     90.06  91.95  97.57  \n",
       "        333333     89.83  91.79  94.01  \n",
       "peores  223333     55.24  55.24  55.24  \n",
       "        122322     60.43  64.72  69.02  \n",
       "        144332     65.35  66.94  78.07  "
      ]
     },
     "metadata": {},
     "output_type": "display_data"
    }
   ],
   "source": [
    "display(presiones_cat.set_index(['tipo', 'presiones']))"
   ]
  },
  {
   "cell_type": "markdown",
   "metadata": {},
   "source": [
    "<a id=\"5\"></a>\n",
    "### MSN"
   ]
  },
  {
   "cell_type": "markdown",
   "metadata": {},
   "source": [
    "#### Descriptivo general"
   ]
  },
  {
   "cell_type": "code",
   "execution_count": 84,
   "metadata": {
    "scrolled": true
   },
   "outputs": [
    {
     "data": {
      "text/html": [
       "<div>\n",
       "<style scoped>\n",
       "    .dataframe tbody tr th:only-of-type {\n",
       "        vertical-align: middle;\n",
       "    }\n",
       "\n",
       "    .dataframe tbody tr th {\n",
       "        vertical-align: top;\n",
       "    }\n",
       "\n",
       "    .dataframe thead th {\n",
       "        text-align: right;\n",
       "    }\n",
       "</style>\n",
       "<table border=\"1\" class=\"dataframe\">\n",
       "  <thead>\n",
       "    <tr style=\"text-align: right;\">\n",
       "      <th></th>\n",
       "      <th>sqr</th>\n",
       "    </tr>\n",
       "  </thead>\n",
       "  <tbody>\n",
       "    <tr>\n",
       "      <th>frecuencia relativa</th>\n",
       "      <td>1840</td>\n",
       "    </tr>\n",
       "    <tr>\n",
       "      <th>media</th>\n",
       "      <td>66</td>\n",
       "    </tr>\n",
       "    <tr>\n",
       "      <th>desviación</th>\n",
       "      <td>17</td>\n",
       "    </tr>\n",
       "    <tr>\n",
       "      <th>min</th>\n",
       "      <td>0</td>\n",
       "    </tr>\n",
       "    <tr>\n",
       "      <th>25%</th>\n",
       "      <td>56</td>\n",
       "    </tr>\n",
       "    <tr>\n",
       "      <th>50%</th>\n",
       "      <td>69</td>\n",
       "    </tr>\n",
       "    <tr>\n",
       "      <th>75%</th>\n",
       "      <td>79</td>\n",
       "    </tr>\n",
       "    <tr>\n",
       "      <th>max</th>\n",
       "      <td>99</td>\n",
       "    </tr>\n",
       "  </tbody>\n",
       "</table>\n",
       "</div>"
      ],
      "text/plain": [
       "                      sqr\n",
       "frecuencia relativa  1840\n",
       "media                  66\n",
       "desviación             17\n",
       "min                     0\n",
       "25%                    56\n",
       "50%                    69\n",
       "75%                    79\n",
       "max                    99"
      ]
     },
     "metadata": {},
     "output_type": "display_data"
    }
   ],
   "source": [
    "display(pd.DataFrame(perfiles_sqr.query('sexo == \"Male\" & posicion == \"Supine\" &  IMC_cat == \"Normal\"').describe().loc[:, 'sqr'].round(2).rename({'count':'frecuencia relativa', 'mean':'media', 'std': 'desviación'}, axis='columns')))"
   ]
  },
  {
   "cell_type": "markdown",
   "metadata": {},
   "source": [
    "#### Análisis de presiones"
   ]
  },
  {
   "cell_type": "code",
   "execution_count": 85,
   "metadata": {},
   "outputs": [],
   "source": [
    "presiones_cat = perfiles_sqr.query('sexo == \"Male\" & posicion == \"Supine\" &  IMC_cat == \"Normal\"').groupby('presiones').describe().loc[:, 'sqr']"
   ]
  },
  {
   "cell_type": "code",
   "execution_count": 86,
   "metadata": {},
   "outputs": [],
   "source": [
    "presiones_cat = presiones_cat.rename({'count':'frecuencia relativa', 'mean':'media', 'std': 'desviación'}, axis='columns').round(2)\n",
    "presiones_cat['frecuencia relativa'] = presiones_cat['frecuencia relativa'].astype('int')\n",
    "presiones_comunes = presiones_cat.sort_values(by='frecuencia relativa', ascending=False).head(3)\n",
    "presiones_comunes['tipo'] = 'comunes'\n",
    "presiones_top = presiones_cat.sort_values(by='media', ascending=False).head(3)\n",
    "presiones_top['tipo'] = 'mejores'\n",
    "presiones_bottom = presiones_cat.sort_values(by='media', ascending=True).head(3)\n",
    "presiones_bottom['tipo'] = 'peores'"
   ]
  },
  {
   "cell_type": "code",
   "execution_count": 87,
   "metadata": {},
   "outputs": [],
   "source": [
    "presiones_cat = presiones_comunes.append(presiones_top).append(presiones_bottom)\n",
    "presiones_cat.reset_index(level=0, inplace=True)"
   ]
  },
  {
   "cell_type": "code",
   "execution_count": 88,
   "metadata": {},
   "outputs": [
    {
     "data": {
      "text/html": [
       "<div>\n",
       "<style scoped>\n",
       "    .dataframe tbody tr th:only-of-type {\n",
       "        vertical-align: middle;\n",
       "    }\n",
       "\n",
       "    .dataframe tbody tr th {\n",
       "        vertical-align: top;\n",
       "    }\n",
       "\n",
       "    .dataframe thead th {\n",
       "        text-align: right;\n",
       "    }\n",
       "</style>\n",
       "<table border=\"1\" class=\"dataframe\">\n",
       "  <thead>\n",
       "    <tr style=\"text-align: right;\">\n",
       "      <th></th>\n",
       "      <th></th>\n",
       "      <th>frecuencia relativa</th>\n",
       "      <th>media</th>\n",
       "      <th>desviación</th>\n",
       "      <th>min</th>\n",
       "      <th>25%</th>\n",
       "      <th>50%</th>\n",
       "      <th>75%</th>\n",
       "      <th>max</th>\n",
       "    </tr>\n",
       "    <tr>\n",
       "      <th>tipo</th>\n",
       "      <th>presiones</th>\n",
       "      <th></th>\n",
       "      <th></th>\n",
       "      <th></th>\n",
       "      <th></th>\n",
       "      <th></th>\n",
       "      <th></th>\n",
       "      <th></th>\n",
       "      <th></th>\n",
       "    </tr>\n",
       "  </thead>\n",
       "  <tbody>\n",
       "    <tr>\n",
       "      <th rowspan=\"3\" valign=\"top\">comunes</th>\n",
       "      <th>122322</th>\n",
       "      <td>547</td>\n",
       "      <td>66.37</td>\n",
       "      <td>15.23</td>\n",
       "      <td>7.73</td>\n",
       "      <td>57.48</td>\n",
       "      <td>66.96</td>\n",
       "      <td>76.93</td>\n",
       "      <td>99.37</td>\n",
       "    </tr>\n",
       "    <tr>\n",
       "      <th>122332</th>\n",
       "      <td>356</td>\n",
       "      <td>57.80</td>\n",
       "      <td>19.21</td>\n",
       "      <td>0.63</td>\n",
       "      <td>46.84</td>\n",
       "      <td>57.41</td>\n",
       "      <td>71.65</td>\n",
       "      <td>99.26</td>\n",
       "    </tr>\n",
       "    <tr>\n",
       "      <th>123322</th>\n",
       "      <td>173</td>\n",
       "      <td>69.85</td>\n",
       "      <td>17.70</td>\n",
       "      <td>11.04</td>\n",
       "      <td>60.63</td>\n",
       "      <td>74.39</td>\n",
       "      <td>82.79</td>\n",
       "      <td>94.99</td>\n",
       "    </tr>\n",
       "    <tr>\n",
       "      <th rowspan=\"3\" valign=\"top\">mejores</th>\n",
       "      <th>555555</th>\n",
       "      <td>3</td>\n",
       "      <td>99.43</td>\n",
       "      <td>0.12</td>\n",
       "      <td>99.35</td>\n",
       "      <td>99.36</td>\n",
       "      <td>99.37</td>\n",
       "      <td>99.47</td>\n",
       "      <td>99.57</td>\n",
       "    </tr>\n",
       "    <tr>\n",
       "      <th>223332</th>\n",
       "      <td>64</td>\n",
       "      <td>81.52</td>\n",
       "      <td>8.99</td>\n",
       "      <td>59.64</td>\n",
       "      <td>73.33</td>\n",
       "      <td>83.32</td>\n",
       "      <td>88.50</td>\n",
       "      <td>97.08</td>\n",
       "    </tr>\n",
       "    <tr>\n",
       "      <th>000333</th>\n",
       "      <td>7</td>\n",
       "      <td>80.26</td>\n",
       "      <td>4.21</td>\n",
       "      <td>72.07</td>\n",
       "      <td>79.46</td>\n",
       "      <td>79.59</td>\n",
       "      <td>83.44</td>\n",
       "      <td>84.40</td>\n",
       "    </tr>\n",
       "    <tr>\n",
       "      <th rowspan=\"3\" valign=\"top\">peores</th>\n",
       "      <th>042233</th>\n",
       "      <td>1</td>\n",
       "      <td>39.20</td>\n",
       "      <td>NaN</td>\n",
       "      <td>39.20</td>\n",
       "      <td>39.20</td>\n",
       "      <td>39.20</td>\n",
       "      <td>39.20</td>\n",
       "      <td>39.20</td>\n",
       "    </tr>\n",
       "    <tr>\n",
       "      <th>534451</th>\n",
       "      <td>65</td>\n",
       "      <td>54.89</td>\n",
       "      <td>20.23</td>\n",
       "      <td>12.99</td>\n",
       "      <td>39.84</td>\n",
       "      <td>56.92</td>\n",
       "      <td>68.67</td>\n",
       "      <td>90.81</td>\n",
       "    </tr>\n",
       "    <tr>\n",
       "      <th>122332</th>\n",
       "      <td>356</td>\n",
       "      <td>57.80</td>\n",
       "      <td>19.21</td>\n",
       "      <td>0.63</td>\n",
       "      <td>46.84</td>\n",
       "      <td>57.41</td>\n",
       "      <td>71.65</td>\n",
       "      <td>99.26</td>\n",
       "    </tr>\n",
       "  </tbody>\n",
       "</table>\n",
       "</div>"
      ],
      "text/plain": [
       "                   frecuencia relativa  media  desviación    min    25%  \\\n",
       "tipo    presiones                                                         \n",
       "comunes 122322                     547  66.37       15.23   7.73  57.48   \n",
       "        122332                     356  57.80       19.21   0.63  46.84   \n",
       "        123322                     173  69.85       17.70  11.04  60.63   \n",
       "mejores 555555                       3  99.43        0.12  99.35  99.36   \n",
       "        223332                      64  81.52        8.99  59.64  73.33   \n",
       "        000333                       7  80.26        4.21  72.07  79.46   \n",
       "peores  042233                       1  39.20         NaN  39.20  39.20   \n",
       "        534451                      65  54.89       20.23  12.99  39.84   \n",
       "        122332                     356  57.80       19.21   0.63  46.84   \n",
       "\n",
       "                     50%    75%    max  \n",
       "tipo    presiones                       \n",
       "comunes 122322     66.96  76.93  99.37  \n",
       "        122332     57.41  71.65  99.26  \n",
       "        123322     74.39  82.79  94.99  \n",
       "mejores 555555     99.37  99.47  99.57  \n",
       "        223332     83.32  88.50  97.08  \n",
       "        000333     79.59  83.44  84.40  \n",
       "peores  042233     39.20  39.20  39.20  \n",
       "        534451     56.92  68.67  90.81  \n",
       "        122332     57.41  71.65  99.26  "
      ]
     },
     "metadata": {},
     "output_type": "display_data"
    }
   ],
   "source": [
    "display(presiones_cat.set_index(['tipo', 'presiones']))"
   ]
  },
  {
   "cell_type": "markdown",
   "metadata": {},
   "source": [
    "<a id=\"6\"></a>\n",
    "### MSS "
   ]
  },
  {
   "cell_type": "markdown",
   "metadata": {},
   "source": [
    "#### Descriptivo general"
   ]
  },
  {
   "cell_type": "code",
   "execution_count": 89,
   "metadata": {},
   "outputs": [
    {
     "data": {
      "text/html": [
       "<div>\n",
       "<style scoped>\n",
       "    .dataframe tbody tr th:only-of-type {\n",
       "        vertical-align: middle;\n",
       "    }\n",
       "\n",
       "    .dataframe tbody tr th {\n",
       "        vertical-align: top;\n",
       "    }\n",
       "\n",
       "    .dataframe thead th {\n",
       "        text-align: right;\n",
       "    }\n",
       "</style>\n",
       "<table border=\"1\" class=\"dataframe\">\n",
       "  <thead>\n",
       "    <tr style=\"text-align: right;\">\n",
       "      <th></th>\n",
       "      <th>sqr</th>\n",
       "    </tr>\n",
       "  </thead>\n",
       "  <tbody>\n",
       "    <tr>\n",
       "      <th>frecuencia relativa</th>\n",
       "      <td>586</td>\n",
       "    </tr>\n",
       "    <tr>\n",
       "      <th>media</th>\n",
       "      <td>72</td>\n",
       "    </tr>\n",
       "    <tr>\n",
       "      <th>desviación</th>\n",
       "      <td>14</td>\n",
       "    </tr>\n",
       "    <tr>\n",
       "      <th>min</th>\n",
       "      <td>8</td>\n",
       "    </tr>\n",
       "    <tr>\n",
       "      <th>25%</th>\n",
       "      <td>65</td>\n",
       "    </tr>\n",
       "    <tr>\n",
       "      <th>50%</th>\n",
       "      <td>74</td>\n",
       "    </tr>\n",
       "    <tr>\n",
       "      <th>75%</th>\n",
       "      <td>82</td>\n",
       "    </tr>\n",
       "    <tr>\n",
       "      <th>max</th>\n",
       "      <td>99</td>\n",
       "    </tr>\n",
       "  </tbody>\n",
       "</table>\n",
       "</div>"
      ],
      "text/plain": [
       "                     sqr\n",
       "frecuencia relativa  586\n",
       "media                 72\n",
       "desviación            14\n",
       "min                    8\n",
       "25%                   65\n",
       "50%                   74\n",
       "75%                   82\n",
       "max                   99"
      ]
     },
     "metadata": {},
     "output_type": "display_data"
    }
   ],
   "source": [
    "display(pd.DataFrame(perfiles_sqr.query('sexo == \"Male\" & posicion == \"Supine\" &  IMC_cat == \"Sobrepeso\"').describe().loc[:, 'sqr'].round(2).rename({'count':'frecuencia relativa', 'mean':'media', 'std': 'desviación'}, axis='columns')))"
   ]
  },
  {
   "cell_type": "markdown",
   "metadata": {},
   "source": [
    "#### Análisis de presiones"
   ]
  },
  {
   "cell_type": "code",
   "execution_count": 90,
   "metadata": {},
   "outputs": [],
   "source": [
    "presiones_cat = perfiles_sqr.query('sexo == \"Male\" & posicion == \"Supine\" &  IMC_cat == \"Sobrepeso\"').groupby('presiones').describe().loc[:, 'sqr']"
   ]
  },
  {
   "cell_type": "code",
   "execution_count": 91,
   "metadata": {},
   "outputs": [],
   "source": [
    "presiones_cat = presiones_cat.rename({'count':'frecuencia relativa', 'mean':'media', 'std': 'desviación'}, axis='columns').round(2)\n",
    "presiones_cat['frecuencia relativa'] = presiones_cat['frecuencia relativa'].astype('int')\n",
    "presiones_comunes = presiones_cat.sort_values(by='frecuencia relativa', ascending=False).head(3)\n",
    "presiones_comunes['tipo'] = 'comunes'\n",
    "presiones_top = presiones_cat.sort_values(by='media', ascending=False).head(3)\n",
    "presiones_top['tipo'] = 'mejores'\n",
    "presiones_bottom = presiones_cat.sort_values(by='media', ascending=True).head(3)\n",
    "presiones_bottom['tipo'] = 'peores'"
   ]
  },
  {
   "cell_type": "code",
   "execution_count": 92,
   "metadata": {},
   "outputs": [],
   "source": [
    "presiones_cat = presiones_comunes.append(presiones_top).append(presiones_bottom)\n",
    "presiones_cat.reset_index(level=0, inplace=True)"
   ]
  },
  {
   "cell_type": "code",
   "execution_count": 93,
   "metadata": {},
   "outputs": [
    {
     "data": {
      "text/html": [
       "<div>\n",
       "<style scoped>\n",
       "    .dataframe tbody tr th:only-of-type {\n",
       "        vertical-align: middle;\n",
       "    }\n",
       "\n",
       "    .dataframe tbody tr th {\n",
       "        vertical-align: top;\n",
       "    }\n",
       "\n",
       "    .dataframe thead th {\n",
       "        text-align: right;\n",
       "    }\n",
       "</style>\n",
       "<table border=\"1\" class=\"dataframe\">\n",
       "  <thead>\n",
       "    <tr style=\"text-align: right;\">\n",
       "      <th></th>\n",
       "      <th></th>\n",
       "      <th>frecuencia relativa</th>\n",
       "      <th>media</th>\n",
       "      <th>desviación</th>\n",
       "      <th>min</th>\n",
       "      <th>25%</th>\n",
       "      <th>50%</th>\n",
       "      <th>75%</th>\n",
       "      <th>max</th>\n",
       "    </tr>\n",
       "    <tr>\n",
       "      <th>tipo</th>\n",
       "      <th>presiones</th>\n",
       "      <th></th>\n",
       "      <th></th>\n",
       "      <th></th>\n",
       "      <th></th>\n",
       "      <th></th>\n",
       "      <th></th>\n",
       "      <th></th>\n",
       "      <th></th>\n",
       "    </tr>\n",
       "  </thead>\n",
       "  <tbody>\n",
       "    <tr>\n",
       "      <th rowspan=\"3\" valign=\"top\">comunes</th>\n",
       "      <th>123322</th>\n",
       "      <td>190</td>\n",
       "      <td>80.38</td>\n",
       "      <td>9.83</td>\n",
       "      <td>29.47</td>\n",
       "      <td>74.62</td>\n",
       "      <td>80.61</td>\n",
       "      <td>86.76</td>\n",
       "      <td>99.36</td>\n",
       "    </tr>\n",
       "    <tr>\n",
       "      <th>234443</th>\n",
       "      <td>89</td>\n",
       "      <td>69.79</td>\n",
       "      <td>16.19</td>\n",
       "      <td>15.47</td>\n",
       "      <td>61.23</td>\n",
       "      <td>70.14</td>\n",
       "      <td>82.61</td>\n",
       "      <td>99.36</td>\n",
       "    </tr>\n",
       "    <tr>\n",
       "      <th>233333</th>\n",
       "      <td>72</td>\n",
       "      <td>69.91</td>\n",
       "      <td>11.51</td>\n",
       "      <td>36.99</td>\n",
       "      <td>64.94</td>\n",
       "      <td>70.18</td>\n",
       "      <td>76.52</td>\n",
       "      <td>99.37</td>\n",
       "    </tr>\n",
       "    <tr>\n",
       "      <th rowspan=\"3\" valign=\"top\">mejores</th>\n",
       "      <th>123222</th>\n",
       "      <td>15</td>\n",
       "      <td>83.91</td>\n",
       "      <td>4.51</td>\n",
       "      <td>69.93</td>\n",
       "      <td>82.84</td>\n",
       "      <td>85.39</td>\n",
       "      <td>86.07</td>\n",
       "      <td>89.05</td>\n",
       "    </tr>\n",
       "    <tr>\n",
       "      <th>123322</th>\n",
       "      <td>190</td>\n",
       "      <td>80.38</td>\n",
       "      <td>9.83</td>\n",
       "      <td>29.47</td>\n",
       "      <td>74.62</td>\n",
       "      <td>80.61</td>\n",
       "      <td>86.76</td>\n",
       "      <td>99.36</td>\n",
       "    </tr>\n",
       "    <tr>\n",
       "      <th>111111</th>\n",
       "      <td>21</td>\n",
       "      <td>76.02</td>\n",
       "      <td>9.35</td>\n",
       "      <td>55.00</td>\n",
       "      <td>69.45</td>\n",
       "      <td>77.63</td>\n",
       "      <td>82.30</td>\n",
       "      <td>94.45</td>\n",
       "    </tr>\n",
       "    <tr>\n",
       "      <th rowspan=\"3\" valign=\"top\">peores</th>\n",
       "      <th>042045</th>\n",
       "      <td>5</td>\n",
       "      <td>42.05</td>\n",
       "      <td>13.02</td>\n",
       "      <td>23.84</td>\n",
       "      <td>35.11</td>\n",
       "      <td>46.07</td>\n",
       "      <td>47.24</td>\n",
       "      <td>58.01</td>\n",
       "    </tr>\n",
       "    <tr>\n",
       "      <th>000000</th>\n",
       "      <td>27</td>\n",
       "      <td>51.06</td>\n",
       "      <td>16.45</td>\n",
       "      <td>16.51</td>\n",
       "      <td>39.72</td>\n",
       "      <td>51.08</td>\n",
       "      <td>61.60</td>\n",
       "      <td>79.74</td>\n",
       "    </tr>\n",
       "    <tr>\n",
       "      <th>233332</th>\n",
       "      <td>32</td>\n",
       "      <td>59.14</td>\n",
       "      <td>17.82</td>\n",
       "      <td>8.40</td>\n",
       "      <td>49.69</td>\n",
       "      <td>59.54</td>\n",
       "      <td>71.06</td>\n",
       "      <td>85.56</td>\n",
       "    </tr>\n",
       "  </tbody>\n",
       "</table>\n",
       "</div>"
      ],
      "text/plain": [
       "                   frecuencia relativa  media  desviación    min    25%  \\\n",
       "tipo    presiones                                                         \n",
       "comunes 123322                     190  80.38        9.83  29.47  74.62   \n",
       "        234443                      89  69.79       16.19  15.47  61.23   \n",
       "        233333                      72  69.91       11.51  36.99  64.94   \n",
       "mejores 123222                      15  83.91        4.51  69.93  82.84   \n",
       "        123322                     190  80.38        9.83  29.47  74.62   \n",
       "        111111                      21  76.02        9.35  55.00  69.45   \n",
       "peores  042045                       5  42.05       13.02  23.84  35.11   \n",
       "        000000                      27  51.06       16.45  16.51  39.72   \n",
       "        233332                      32  59.14       17.82   8.40  49.69   \n",
       "\n",
       "                     50%    75%    max  \n",
       "tipo    presiones                       \n",
       "comunes 123322     80.61  86.76  99.36  \n",
       "        234443     70.14  82.61  99.36  \n",
       "        233333     70.18  76.52  99.37  \n",
       "mejores 123222     85.39  86.07  89.05  \n",
       "        123322     80.61  86.76  99.36  \n",
       "        111111     77.63  82.30  94.45  \n",
       "peores  042045     46.07  47.24  58.01  \n",
       "        000000     51.08  61.60  79.74  \n",
       "        233332     59.54  71.06  85.56  "
      ]
     },
     "metadata": {},
     "output_type": "display_data"
    }
   ],
   "source": [
    "display(presiones_cat.set_index(['tipo', 'presiones']))"
   ]
  },
  {
   "cell_type": "markdown",
   "metadata": {},
   "source": [
    "<a id=\"7\"></a>\n",
    "### FLB"
   ]
  },
  {
   "cell_type": "markdown",
   "metadata": {},
   "source": [
    "#### Descriptivo general"
   ]
  },
  {
   "cell_type": "code",
   "execution_count": 94,
   "metadata": {
    "scrolled": true
   },
   "outputs": [
    {
     "data": {
      "text/html": [
       "<div>\n",
       "<style scoped>\n",
       "    .dataframe tbody tr th:only-of-type {\n",
       "        vertical-align: middle;\n",
       "    }\n",
       "\n",
       "    .dataframe tbody tr th {\n",
       "        vertical-align: top;\n",
       "    }\n",
       "\n",
       "    .dataframe thead th {\n",
       "        text-align: right;\n",
       "    }\n",
       "</style>\n",
       "<table border=\"1\" class=\"dataframe\">\n",
       "  <thead>\n",
       "    <tr style=\"text-align: right;\">\n",
       "      <th></th>\n",
       "      <th>sqr</th>\n",
       "    </tr>\n",
       "  </thead>\n",
       "  <tbody>\n",
       "    <tr>\n",
       "      <th>frecuencia relativa</th>\n",
       "      <td>5352</td>\n",
       "    </tr>\n",
       "    <tr>\n",
       "      <th>media</th>\n",
       "      <td>74</td>\n",
       "    </tr>\n",
       "    <tr>\n",
       "      <th>desviación</th>\n",
       "      <td>14</td>\n",
       "    </tr>\n",
       "    <tr>\n",
       "      <th>min</th>\n",
       "      <td>1</td>\n",
       "    </tr>\n",
       "    <tr>\n",
       "      <th>25%</th>\n",
       "      <td>65</td>\n",
       "    </tr>\n",
       "    <tr>\n",
       "      <th>50%</th>\n",
       "      <td>75</td>\n",
       "    </tr>\n",
       "    <tr>\n",
       "      <th>75%</th>\n",
       "      <td>84</td>\n",
       "    </tr>\n",
       "    <tr>\n",
       "      <th>max</th>\n",
       "      <td>99</td>\n",
       "    </tr>\n",
       "  </tbody>\n",
       "</table>\n",
       "</div>"
      ],
      "text/plain": [
       "                      sqr\n",
       "frecuencia relativa  5352\n",
       "media                  74\n",
       "desviación             14\n",
       "min                     1\n",
       "25%                    65\n",
       "50%                    75\n",
       "75%                    84\n",
       "max                    99"
      ]
     },
     "metadata": {},
     "output_type": "display_data"
    }
   ],
   "source": [
    "display(pd.DataFrame(perfiles_sqr.query('sexo == \"Female\" & posicion == \"Lateral\" &  IMC_cat == \"Bajo peso\"').describe().loc[:, 'sqr'].round(2).rename({'count':'frecuencia relativa', 'mean':'media', 'std': 'desviación'}, axis='columns')))"
   ]
  },
  {
   "cell_type": "markdown",
   "metadata": {},
   "source": [
    "#### Análisis de presiones"
   ]
  },
  {
   "cell_type": "code",
   "execution_count": 95,
   "metadata": {},
   "outputs": [],
   "source": [
    "presiones_cat = perfiles_sqr.query('sexo == \"Female\" & posicion == \"Lateral\" &  IMC_cat == \"Bajo peso\"').groupby('presiones').describe().loc[:, 'sqr']"
   ]
  },
  {
   "cell_type": "code",
   "execution_count": 96,
   "metadata": {},
   "outputs": [],
   "source": [
    "presiones_cat = presiones_cat.rename({'count':'frecuencia relativa', 'mean':'media', 'std': 'desviación'}, axis='columns').round(2)\n",
    "presiones_cat['frecuencia relativa'] = presiones_cat['frecuencia relativa'].astype('int')\n",
    "presiones_comunes = presiones_cat.sort_values(by='frecuencia relativa', ascending=False).head(3)\n",
    "presiones_comunes['tipo'] = 'comunes'\n",
    "presiones_top = presiones_cat.sort_values(by='media', ascending=False).head(3)\n",
    "presiones_top['tipo'] = 'mejores'\n",
    "presiones_bottom = presiones_cat.sort_values(by='media', ascending=True).head(3)\n",
    "presiones_bottom['tipo'] = 'peores'"
   ]
  },
  {
   "cell_type": "code",
   "execution_count": 97,
   "metadata": {},
   "outputs": [],
   "source": [
    "presiones_cat = presiones_comunes.append(presiones_top).append(presiones_bottom)\n",
    "presiones_cat.reset_index(level=0, inplace=True)"
   ]
  },
  {
   "cell_type": "code",
   "execution_count": 98,
   "metadata": {},
   "outputs": [
    {
     "data": {
      "text/html": [
       "<div>\n",
       "<style scoped>\n",
       "    .dataframe tbody tr th:only-of-type {\n",
       "        vertical-align: middle;\n",
       "    }\n",
       "\n",
       "    .dataframe tbody tr th {\n",
       "        vertical-align: top;\n",
       "    }\n",
       "\n",
       "    .dataframe thead th {\n",
       "        text-align: right;\n",
       "    }\n",
       "</style>\n",
       "<table border=\"1\" class=\"dataframe\">\n",
       "  <thead>\n",
       "    <tr style=\"text-align: right;\">\n",
       "      <th></th>\n",
       "      <th></th>\n",
       "      <th>frecuencia relativa</th>\n",
       "      <th>media</th>\n",
       "      <th>desviación</th>\n",
       "      <th>min</th>\n",
       "      <th>25%</th>\n",
       "      <th>50%</th>\n",
       "      <th>75%</th>\n",
       "      <th>max</th>\n",
       "    </tr>\n",
       "    <tr>\n",
       "      <th>tipo</th>\n",
       "      <th>presiones</th>\n",
       "      <th></th>\n",
       "      <th></th>\n",
       "      <th></th>\n",
       "      <th></th>\n",
       "      <th></th>\n",
       "      <th></th>\n",
       "      <th></th>\n",
       "      <th></th>\n",
       "    </tr>\n",
       "  </thead>\n",
       "  <tbody>\n",
       "    <tr>\n",
       "      <th rowspan=\"3\" valign=\"top\">comunes</th>\n",
       "      <th>012211</th>\n",
       "      <td>855</td>\n",
       "      <td>71.81</td>\n",
       "      <td>15.27</td>\n",
       "      <td>4.40</td>\n",
       "      <td>63.89</td>\n",
       "      <td>73.93</td>\n",
       "      <td>82.59</td>\n",
       "      <td>99.58</td>\n",
       "    </tr>\n",
       "    <tr>\n",
       "      <th>022111</th>\n",
       "      <td>782</td>\n",
       "      <td>70.57</td>\n",
       "      <td>13.01</td>\n",
       "      <td>12.97</td>\n",
       "      <td>62.23</td>\n",
       "      <td>71.65</td>\n",
       "      <td>79.31</td>\n",
       "      <td>99.44</td>\n",
       "    </tr>\n",
       "    <tr>\n",
       "      <th>012221</th>\n",
       "      <td>782</td>\n",
       "      <td>72.40</td>\n",
       "      <td>15.53</td>\n",
       "      <td>2.32</td>\n",
       "      <td>64.13</td>\n",
       "      <td>74.56</td>\n",
       "      <td>83.65</td>\n",
       "      <td>99.26</td>\n",
       "    </tr>\n",
       "    <tr>\n",
       "      <th rowspan=\"3\" valign=\"top\">mejores</th>\n",
       "      <th>444444</th>\n",
       "      <td>1</td>\n",
       "      <td>98.91</td>\n",
       "      <td>NaN</td>\n",
       "      <td>98.91</td>\n",
       "      <td>98.91</td>\n",
       "      <td>98.91</td>\n",
       "      <td>98.91</td>\n",
       "      <td>98.91</td>\n",
       "    </tr>\n",
       "    <tr>\n",
       "      <th>023112</th>\n",
       "      <td>195</td>\n",
       "      <td>91.39</td>\n",
       "      <td>5.83</td>\n",
       "      <td>68.87</td>\n",
       "      <td>88.79</td>\n",
       "      <td>92.06</td>\n",
       "      <td>96.08</td>\n",
       "      <td>99.58</td>\n",
       "    </tr>\n",
       "    <tr>\n",
       "      <th>223344</th>\n",
       "      <td>20</td>\n",
       "      <td>88.40</td>\n",
       "      <td>9.25</td>\n",
       "      <td>73.47</td>\n",
       "      <td>82.31</td>\n",
       "      <td>91.63</td>\n",
       "      <td>96.87</td>\n",
       "      <td>99.56</td>\n",
       "    </tr>\n",
       "    <tr>\n",
       "      <th rowspan=\"3\" valign=\"top\">peores</th>\n",
       "      <th>002211</th>\n",
       "      <td>20</td>\n",
       "      <td>57.63</td>\n",
       "      <td>15.68</td>\n",
       "      <td>23.82</td>\n",
       "      <td>54.22</td>\n",
       "      <td>61.73</td>\n",
       "      <td>65.17</td>\n",
       "      <td>87.23</td>\n",
       "    </tr>\n",
       "    <tr>\n",
       "      <th>102012</th>\n",
       "      <td>13</td>\n",
       "      <td>57.68</td>\n",
       "      <td>12.55</td>\n",
       "      <td>39.31</td>\n",
       "      <td>51.96</td>\n",
       "      <td>56.83</td>\n",
       "      <td>61.17</td>\n",
       "      <td>84.92</td>\n",
       "    </tr>\n",
       "    <tr>\n",
       "      <th>012321</th>\n",
       "      <td>10</td>\n",
       "      <td>59.55</td>\n",
       "      <td>13.82</td>\n",
       "      <td>44.86</td>\n",
       "      <td>51.04</td>\n",
       "      <td>56.44</td>\n",
       "      <td>62.70</td>\n",
       "      <td>87.19</td>\n",
       "    </tr>\n",
       "  </tbody>\n",
       "</table>\n",
       "</div>"
      ],
      "text/plain": [
       "                   frecuencia relativa  media  desviación    min    25%  \\\n",
       "tipo    presiones                                                         \n",
       "comunes 012211                     855  71.81       15.27   4.40  63.89   \n",
       "        022111                     782  70.57       13.01  12.97  62.23   \n",
       "        012221                     782  72.40       15.53   2.32  64.13   \n",
       "mejores 444444                       1  98.91         NaN  98.91  98.91   \n",
       "        023112                     195  91.39        5.83  68.87  88.79   \n",
       "        223344                      20  88.40        9.25  73.47  82.31   \n",
       "peores  002211                      20  57.63       15.68  23.82  54.22   \n",
       "        102012                      13  57.68       12.55  39.31  51.96   \n",
       "        012321                      10  59.55       13.82  44.86  51.04   \n",
       "\n",
       "                     50%    75%    max  \n",
       "tipo    presiones                       \n",
       "comunes 012211     73.93  82.59  99.58  \n",
       "        022111     71.65  79.31  99.44  \n",
       "        012221     74.56  83.65  99.26  \n",
       "mejores 444444     98.91  98.91  98.91  \n",
       "        023112     92.06  96.08  99.58  \n",
       "        223344     91.63  96.87  99.56  \n",
       "peores  002211     61.73  65.17  87.23  \n",
       "        102012     56.83  61.17  84.92  \n",
       "        012321     56.44  62.70  87.19  "
      ]
     },
     "metadata": {},
     "output_type": "display_data"
    }
   ],
   "source": [
    "display(presiones_cat.set_index(['tipo', 'presiones']))"
   ]
  },
  {
   "cell_type": "markdown",
   "metadata": {},
   "source": [
    "<a id=\"8\"></a>\n",
    "### FLN"
   ]
  },
  {
   "cell_type": "markdown",
   "metadata": {},
   "source": [
    "#### Descriptivo general"
   ]
  },
  {
   "cell_type": "code",
   "execution_count": 99,
   "metadata": {},
   "outputs": [
    {
     "data": {
      "text/html": [
       "<div>\n",
       "<style scoped>\n",
       "    .dataframe tbody tr th:only-of-type {\n",
       "        vertical-align: middle;\n",
       "    }\n",
       "\n",
       "    .dataframe tbody tr th {\n",
       "        vertical-align: top;\n",
       "    }\n",
       "\n",
       "    .dataframe thead th {\n",
       "        text-align: right;\n",
       "    }\n",
       "</style>\n",
       "<table border=\"1\" class=\"dataframe\">\n",
       "  <thead>\n",
       "    <tr style=\"text-align: right;\">\n",
       "      <th></th>\n",
       "      <th>sqr</th>\n",
       "    </tr>\n",
       "  </thead>\n",
       "  <tbody>\n",
       "    <tr>\n",
       "      <th>frecuencia relativa</th>\n",
       "      <td>1385</td>\n",
       "    </tr>\n",
       "    <tr>\n",
       "      <th>media</th>\n",
       "      <td>74</td>\n",
       "    </tr>\n",
       "    <tr>\n",
       "      <th>desviación</th>\n",
       "      <td>12</td>\n",
       "    </tr>\n",
       "    <tr>\n",
       "      <th>min</th>\n",
       "      <td>4</td>\n",
       "    </tr>\n",
       "    <tr>\n",
       "      <th>25%</th>\n",
       "      <td>67</td>\n",
       "    </tr>\n",
       "    <tr>\n",
       "      <th>50%</th>\n",
       "      <td>76</td>\n",
       "    </tr>\n",
       "    <tr>\n",
       "      <th>75%</th>\n",
       "      <td>82</td>\n",
       "    </tr>\n",
       "    <tr>\n",
       "      <th>max</th>\n",
       "      <td>99</td>\n",
       "    </tr>\n",
       "  </tbody>\n",
       "</table>\n",
       "</div>"
      ],
      "text/plain": [
       "                      sqr\n",
       "frecuencia relativa  1385\n",
       "media                  74\n",
       "desviación             12\n",
       "min                     4\n",
       "25%                    67\n",
       "50%                    76\n",
       "75%                    82\n",
       "max                    99"
      ]
     },
     "metadata": {},
     "output_type": "display_data"
    }
   ],
   "source": [
    "display(pd.DataFrame(perfiles_sqr.query('sexo == \"Female\" & posicion == \"Lateral\" &  IMC_cat == \"Normal\"').describe().loc[:, 'sqr'].round(2).rename({'count':'frecuencia relativa', 'mean':'media', 'std': 'desviación'}, axis='columns')))"
   ]
  },
  {
   "cell_type": "markdown",
   "metadata": {},
   "source": [
    "#### Análisis de presiones"
   ]
  },
  {
   "cell_type": "code",
   "execution_count": 100,
   "metadata": {},
   "outputs": [],
   "source": [
    "presiones_cat = perfiles_sqr.query('sexo == \"Female\" & posicion == \"Lateral\" &  IMC_cat == \"Normal\"').groupby('presiones').describe().loc[:, 'sqr']"
   ]
  },
  {
   "cell_type": "code",
   "execution_count": 101,
   "metadata": {},
   "outputs": [],
   "source": [
    "presiones_cat = presiones_cat.rename({'count':'frecuencia relativa', 'mean':'media', 'std': 'desviación'}, axis='columns').round(2)\n",
    "presiones_cat['frecuencia relativa'] = presiones_cat['frecuencia relativa'].astype('int')\n",
    "presiones_comunes = presiones_cat.sort_values(by='frecuencia relativa', ascending=False).head(3)\n",
    "presiones_comunes['tipo'] = 'comunes'\n",
    "presiones_top = presiones_cat.sort_values(by='media', ascending=False).head(3)\n",
    "presiones_top['tipo'] = 'mejores'\n",
    "presiones_bottom = presiones_cat.sort_values(by='media', ascending=True).head(3)\n",
    "presiones_bottom['tipo'] = 'peores'"
   ]
  },
  {
   "cell_type": "code",
   "execution_count": 102,
   "metadata": {},
   "outputs": [],
   "source": [
    "presiones_cat = presiones_comunes.append(presiones_top).append(presiones_bottom)\n",
    "presiones_cat.reset_index(level=0, inplace=True)"
   ]
  },
  {
   "cell_type": "code",
   "execution_count": 103,
   "metadata": {},
   "outputs": [
    {
     "data": {
      "text/html": [
       "<div>\n",
       "<style scoped>\n",
       "    .dataframe tbody tr th:only-of-type {\n",
       "        vertical-align: middle;\n",
       "    }\n",
       "\n",
       "    .dataframe tbody tr th {\n",
       "        vertical-align: top;\n",
       "    }\n",
       "\n",
       "    .dataframe thead th {\n",
       "        text-align: right;\n",
       "    }\n",
       "</style>\n",
       "<table border=\"1\" class=\"dataframe\">\n",
       "  <thead>\n",
       "    <tr style=\"text-align: right;\">\n",
       "      <th></th>\n",
       "      <th></th>\n",
       "      <th>frecuencia relativa</th>\n",
       "      <th>media</th>\n",
       "      <th>desviación</th>\n",
       "      <th>min</th>\n",
       "      <th>25%</th>\n",
       "      <th>50%</th>\n",
       "      <th>75%</th>\n",
       "      <th>max</th>\n",
       "    </tr>\n",
       "    <tr>\n",
       "      <th>tipo</th>\n",
       "      <th>presiones</th>\n",
       "      <th></th>\n",
       "      <th></th>\n",
       "      <th></th>\n",
       "      <th></th>\n",
       "      <th></th>\n",
       "      <th></th>\n",
       "      <th></th>\n",
       "      <th></th>\n",
       "    </tr>\n",
       "  </thead>\n",
       "  <tbody>\n",
       "    <tr>\n",
       "      <th rowspan=\"3\" valign=\"top\">comunes</th>\n",
       "      <th>023211</th>\n",
       "      <td>427</td>\n",
       "      <td>70.92</td>\n",
       "      <td>13.23</td>\n",
       "      <td>4.82</td>\n",
       "      <td>63.89</td>\n",
       "      <td>72.62</td>\n",
       "      <td>79.73</td>\n",
       "      <td>96.50</td>\n",
       "    </tr>\n",
       "    <tr>\n",
       "      <th>023321</th>\n",
       "      <td>374</td>\n",
       "      <td>76.17</td>\n",
       "      <td>11.88</td>\n",
       "      <td>27.57</td>\n",
       "      <td>70.20</td>\n",
       "      <td>77.77</td>\n",
       "      <td>83.39</td>\n",
       "      <td>99.58</td>\n",
       "    </tr>\n",
       "    <tr>\n",
       "      <th>033211</th>\n",
       "      <td>107</td>\n",
       "      <td>67.90</td>\n",
       "      <td>13.49</td>\n",
       "      <td>10.43</td>\n",
       "      <td>62.10</td>\n",
       "      <td>69.53</td>\n",
       "      <td>77.40</td>\n",
       "      <td>90.48</td>\n",
       "    </tr>\n",
       "    <tr>\n",
       "      <th rowspan=\"3\" valign=\"top\">mejores</th>\n",
       "      <th>133321</th>\n",
       "      <td>1</td>\n",
       "      <td>99.34</td>\n",
       "      <td>NaN</td>\n",
       "      <td>99.34</td>\n",
       "      <td>99.34</td>\n",
       "      <td>99.34</td>\n",
       "      <td>99.34</td>\n",
       "      <td>99.34</td>\n",
       "    </tr>\n",
       "    <tr>\n",
       "      <th>033321</th>\n",
       "      <td>55</td>\n",
       "      <td>86.35</td>\n",
       "      <td>7.95</td>\n",
       "      <td>68.03</td>\n",
       "      <td>81.49</td>\n",
       "      <td>87.83</td>\n",
       "      <td>93.03</td>\n",
       "      <td>98.78</td>\n",
       "    </tr>\n",
       "    <tr>\n",
       "      <th>234323</th>\n",
       "      <td>87</td>\n",
       "      <td>85.21</td>\n",
       "      <td>7.12</td>\n",
       "      <td>63.94</td>\n",
       "      <td>79.86</td>\n",
       "      <td>85.41</td>\n",
       "      <td>91.36</td>\n",
       "      <td>96.99</td>\n",
       "    </tr>\n",
       "    <tr>\n",
       "      <th rowspan=\"3\" valign=\"top\">peores</th>\n",
       "      <th>023421</th>\n",
       "      <td>2</td>\n",
       "      <td>54.29</td>\n",
       "      <td>16.62</td>\n",
       "      <td>42.54</td>\n",
       "      <td>48.41</td>\n",
       "      <td>54.29</td>\n",
       "      <td>60.17</td>\n",
       "      <td>66.05</td>\n",
       "    </tr>\n",
       "    <tr>\n",
       "      <th>012221</th>\n",
       "      <td>1</td>\n",
       "      <td>66.31</td>\n",
       "      <td>NaN</td>\n",
       "      <td>66.31</td>\n",
       "      <td>66.31</td>\n",
       "      <td>66.31</td>\n",
       "      <td>66.31</td>\n",
       "      <td>66.31</td>\n",
       "    </tr>\n",
       "    <tr>\n",
       "      <th>133431</th>\n",
       "      <td>20</td>\n",
       "      <td>67.62</td>\n",
       "      <td>11.20</td>\n",
       "      <td>47.19</td>\n",
       "      <td>56.59</td>\n",
       "      <td>71.65</td>\n",
       "      <td>75.87</td>\n",
       "      <td>83.30</td>\n",
       "    </tr>\n",
       "  </tbody>\n",
       "</table>\n",
       "</div>"
      ],
      "text/plain": [
       "                   frecuencia relativa  media  desviación    min    25%  \\\n",
       "tipo    presiones                                                         \n",
       "comunes 023211                     427  70.92       13.23   4.82  63.89   \n",
       "        023321                     374  76.17       11.88  27.57  70.20   \n",
       "        033211                     107  67.90       13.49  10.43  62.10   \n",
       "mejores 133321                       1  99.34         NaN  99.34  99.34   \n",
       "        033321                      55  86.35        7.95  68.03  81.49   \n",
       "        234323                      87  85.21        7.12  63.94  79.86   \n",
       "peores  023421                       2  54.29       16.62  42.54  48.41   \n",
       "        012221                       1  66.31         NaN  66.31  66.31   \n",
       "        133431                      20  67.62       11.20  47.19  56.59   \n",
       "\n",
       "                     50%    75%    max  \n",
       "tipo    presiones                       \n",
       "comunes 023211     72.62  79.73  96.50  \n",
       "        023321     77.77  83.39  99.58  \n",
       "        033211     69.53  77.40  90.48  \n",
       "mejores 133321     99.34  99.34  99.34  \n",
       "        033321     87.83  93.03  98.78  \n",
       "        234323     85.41  91.36  96.99  \n",
       "peores  023421     54.29  60.17  66.05  \n",
       "        012221     66.31  66.31  66.31  \n",
       "        133431     71.65  75.87  83.30  "
      ]
     },
     "metadata": {},
     "output_type": "display_data"
    }
   ],
   "source": [
    "display(presiones_cat.set_index(['tipo', 'presiones']))"
   ]
  },
  {
   "cell_type": "markdown",
   "metadata": {},
   "source": [
    "<a id=\"9\"></a>\n",
    "### FLS"
   ]
  },
  {
   "cell_type": "markdown",
   "metadata": {},
   "source": [
    "#### Descriptivo general"
   ]
  },
  {
   "cell_type": "code",
   "execution_count": 104,
   "metadata": {
    "scrolled": true
   },
   "outputs": [
    {
     "data": {
      "text/html": [
       "<div>\n",
       "<style scoped>\n",
       "    .dataframe tbody tr th:only-of-type {\n",
       "        vertical-align: middle;\n",
       "    }\n",
       "\n",
       "    .dataframe tbody tr th {\n",
       "        vertical-align: top;\n",
       "    }\n",
       "\n",
       "    .dataframe thead th {\n",
       "        text-align: right;\n",
       "    }\n",
       "</style>\n",
       "<table border=\"1\" class=\"dataframe\">\n",
       "  <thead>\n",
       "    <tr style=\"text-align: right;\">\n",
       "      <th></th>\n",
       "      <th>sqr</th>\n",
       "    </tr>\n",
       "  </thead>\n",
       "  <tbody>\n",
       "    <tr>\n",
       "      <th>frecuencia relativa</th>\n",
       "      <td>823</td>\n",
       "    </tr>\n",
       "    <tr>\n",
       "      <th>media</th>\n",
       "      <td>67</td>\n",
       "    </tr>\n",
       "    <tr>\n",
       "      <th>desviación</th>\n",
       "      <td>14</td>\n",
       "    </tr>\n",
       "    <tr>\n",
       "      <th>min</th>\n",
       "      <td>3</td>\n",
       "    </tr>\n",
       "    <tr>\n",
       "      <th>25%</th>\n",
       "      <td>58</td>\n",
       "    </tr>\n",
       "    <tr>\n",
       "      <th>50%</th>\n",
       "      <td>68</td>\n",
       "    </tr>\n",
       "    <tr>\n",
       "      <th>75%</th>\n",
       "      <td>77</td>\n",
       "    </tr>\n",
       "    <tr>\n",
       "      <th>max</th>\n",
       "      <td>99</td>\n",
       "    </tr>\n",
       "  </tbody>\n",
       "</table>\n",
       "</div>"
      ],
      "text/plain": [
       "                     sqr\n",
       "frecuencia relativa  823\n",
       "media                 67\n",
       "desviación            14\n",
       "min                    3\n",
       "25%                   58\n",
       "50%                   68\n",
       "75%                   77\n",
       "max                   99"
      ]
     },
     "metadata": {},
     "output_type": "display_data"
    }
   ],
   "source": [
    "display(pd.DataFrame(perfiles_sqr.query('sexo == \"Female\" & posicion == \"Lateral\" &  IMC_cat == \"Sobrepeso\"').describe().loc[:, 'sqr'].round(2).rename({'count':'frecuencia relativa', 'mean':'media', 'std': 'desviación'}, axis='columns')))"
   ]
  },
  {
   "cell_type": "markdown",
   "metadata": {},
   "source": [
    "#### Análisis de presiones"
   ]
  },
  {
   "cell_type": "code",
   "execution_count": 105,
   "metadata": {},
   "outputs": [],
   "source": [
    "presiones_cat = perfiles_sqr.query('sexo == \"Female\" & posicion == \"Lateral\" &  IMC_cat == \"Sobrepeso\"').groupby('presiones').describe().loc[:, 'sqr']"
   ]
  },
  {
   "cell_type": "code",
   "execution_count": 106,
   "metadata": {},
   "outputs": [],
   "source": [
    "presiones_cat = presiones_cat.rename({'count':'frecuencia relativa', 'mean':'media', 'std': 'desviación'}, axis='columns').round(2)\n",
    "presiones_cat['frecuencia relativa'] = presiones_cat['frecuencia relativa'].astype('int')\n",
    "presiones_comunes = presiones_cat.sort_values(by='frecuencia relativa', ascending=False).head(3)\n",
    "presiones_comunes['tipo'] = 'comunes'\n",
    "presiones_top = presiones_cat.sort_values(by='media', ascending=False).head(3)\n",
    "presiones_top['tipo'] = 'mejores'\n",
    "presiones_bottom = presiones_cat.sort_values(by='media', ascending=True).head(3)\n",
    "presiones_bottom['tipo'] = 'peores'"
   ]
  },
  {
   "cell_type": "code",
   "execution_count": 107,
   "metadata": {},
   "outputs": [],
   "source": [
    "presiones_cat = presiones_comunes.append(presiones_top).append(presiones_bottom)\n",
    "presiones_cat.reset_index(level=0, inplace=True)"
   ]
  },
  {
   "cell_type": "code",
   "execution_count": 108,
   "metadata": {},
   "outputs": [
    {
     "data": {
      "text/html": [
       "<div>\n",
       "<style scoped>\n",
       "    .dataframe tbody tr th:only-of-type {\n",
       "        vertical-align: middle;\n",
       "    }\n",
       "\n",
       "    .dataframe tbody tr th {\n",
       "        vertical-align: top;\n",
       "    }\n",
       "\n",
       "    .dataframe thead th {\n",
       "        text-align: right;\n",
       "    }\n",
       "</style>\n",
       "<table border=\"1\" class=\"dataframe\">\n",
       "  <thead>\n",
       "    <tr style=\"text-align: right;\">\n",
       "      <th></th>\n",
       "      <th></th>\n",
       "      <th>frecuencia relativa</th>\n",
       "      <th>media</th>\n",
       "      <th>desviación</th>\n",
       "      <th>min</th>\n",
       "      <th>25%</th>\n",
       "      <th>50%</th>\n",
       "      <th>75%</th>\n",
       "      <th>max</th>\n",
       "    </tr>\n",
       "    <tr>\n",
       "      <th>tipo</th>\n",
       "      <th>presiones</th>\n",
       "      <th></th>\n",
       "      <th></th>\n",
       "      <th></th>\n",
       "      <th></th>\n",
       "      <th></th>\n",
       "      <th></th>\n",
       "      <th></th>\n",
       "      <th></th>\n",
       "    </tr>\n",
       "  </thead>\n",
       "  <tbody>\n",
       "    <tr>\n",
       "      <th rowspan=\"3\" valign=\"top\">comunes</th>\n",
       "      <th>033211</th>\n",
       "      <td>148</td>\n",
       "      <td>67.52</td>\n",
       "      <td>15.02</td>\n",
       "      <td>3.11</td>\n",
       "      <td>61.45</td>\n",
       "      <td>70.55</td>\n",
       "      <td>78.17</td>\n",
       "      <td>90.96</td>\n",
       "    </tr>\n",
       "    <tr>\n",
       "      <th>123211</th>\n",
       "      <td>145</td>\n",
       "      <td>63.08</td>\n",
       "      <td>10.41</td>\n",
       "      <td>32.28</td>\n",
       "      <td>57.29</td>\n",
       "      <td>63.58</td>\n",
       "      <td>70.62</td>\n",
       "      <td>85.73</td>\n",
       "    </tr>\n",
       "    <tr>\n",
       "      <th>023321</th>\n",
       "      <td>117</td>\n",
       "      <td>76.64</td>\n",
       "      <td>11.74</td>\n",
       "      <td>27.00</td>\n",
       "      <td>71.97</td>\n",
       "      <td>78.78</td>\n",
       "      <td>84.73</td>\n",
       "      <td>97.71</td>\n",
       "    </tr>\n",
       "    <tr>\n",
       "      <th rowspan=\"3\" valign=\"top\">mejores</th>\n",
       "      <th>123212</th>\n",
       "      <td>9</td>\n",
       "      <td>91.04</td>\n",
       "      <td>4.61</td>\n",
       "      <td>83.73</td>\n",
       "      <td>88.72</td>\n",
       "      <td>90.41</td>\n",
       "      <td>94.00</td>\n",
       "      <td>98.66</td>\n",
       "    </tr>\n",
       "    <tr>\n",
       "      <th>000000</th>\n",
       "      <td>1</td>\n",
       "      <td>85.16</td>\n",
       "      <td>NaN</td>\n",
       "      <td>85.16</td>\n",
       "      <td>85.16</td>\n",
       "      <td>85.16</td>\n",
       "      <td>85.16</td>\n",
       "      <td>85.16</td>\n",
       "    </tr>\n",
       "    <tr>\n",
       "      <th>023321</th>\n",
       "      <td>117</td>\n",
       "      <td>76.64</td>\n",
       "      <td>11.74</td>\n",
       "      <td>27.00</td>\n",
       "      <td>71.97</td>\n",
       "      <td>78.78</td>\n",
       "      <td>84.73</td>\n",
       "      <td>97.71</td>\n",
       "    </tr>\n",
       "    <tr>\n",
       "      <th rowspan=\"3\" valign=\"top\">peores</th>\n",
       "      <th>335532</th>\n",
       "      <td>90</td>\n",
       "      <td>55.10</td>\n",
       "      <td>13.99</td>\n",
       "      <td>5.20</td>\n",
       "      <td>48.34</td>\n",
       "      <td>56.34</td>\n",
       "      <td>65.20</td>\n",
       "      <td>83.75</td>\n",
       "    </tr>\n",
       "    <tr>\n",
       "      <th>234432</th>\n",
       "      <td>2</td>\n",
       "      <td>56.97</td>\n",
       "      <td>15.17</td>\n",
       "      <td>46.25</td>\n",
       "      <td>51.61</td>\n",
       "      <td>56.97</td>\n",
       "      <td>62.34</td>\n",
       "      <td>67.70</td>\n",
       "    </tr>\n",
       "    <tr>\n",
       "      <th>133431</th>\n",
       "      <td>18</td>\n",
       "      <td>59.04</td>\n",
       "      <td>22.82</td>\n",
       "      <td>15.92</td>\n",
       "      <td>39.85</td>\n",
       "      <td>58.44</td>\n",
       "      <td>78.56</td>\n",
       "      <td>94.84</td>\n",
       "    </tr>\n",
       "  </tbody>\n",
       "</table>\n",
       "</div>"
      ],
      "text/plain": [
       "                   frecuencia relativa  media  desviación    min    25%  \\\n",
       "tipo    presiones                                                         \n",
       "comunes 033211                     148  67.52       15.02   3.11  61.45   \n",
       "        123211                     145  63.08       10.41  32.28  57.29   \n",
       "        023321                     117  76.64       11.74  27.00  71.97   \n",
       "mejores 123212                       9  91.04        4.61  83.73  88.72   \n",
       "        000000                       1  85.16         NaN  85.16  85.16   \n",
       "        023321                     117  76.64       11.74  27.00  71.97   \n",
       "peores  335532                      90  55.10       13.99   5.20  48.34   \n",
       "        234432                       2  56.97       15.17  46.25  51.61   \n",
       "        133431                      18  59.04       22.82  15.92  39.85   \n",
       "\n",
       "                     50%    75%    max  \n",
       "tipo    presiones                       \n",
       "comunes 033211     70.55  78.17  90.96  \n",
       "        123211     63.58  70.62  85.73  \n",
       "        023321     78.78  84.73  97.71  \n",
       "mejores 123212     90.41  94.00  98.66  \n",
       "        000000     85.16  85.16  85.16  \n",
       "        023321     78.78  84.73  97.71  \n",
       "peores  335532     56.34  65.20  83.75  \n",
       "        234432     56.97  62.34  67.70  \n",
       "        133431     58.44  78.56  94.84  "
      ]
     },
     "metadata": {},
     "output_type": "display_data"
    }
   ],
   "source": [
    "display(presiones_cat.set_index(['tipo', 'presiones']))"
   ]
  },
  {
   "cell_type": "markdown",
   "metadata": {},
   "source": [
    "<a id=\"10\"></a>\n",
    "### FSB"
   ]
  },
  {
   "cell_type": "markdown",
   "metadata": {},
   "source": [
    "#### Descriptivo general"
   ]
  },
  {
   "cell_type": "code",
   "execution_count": 109,
   "metadata": {
    "scrolled": true
   },
   "outputs": [
    {
     "data": {
      "text/html": [
       "<div>\n",
       "<style scoped>\n",
       "    .dataframe tbody tr th:only-of-type {\n",
       "        vertical-align: middle;\n",
       "    }\n",
       "\n",
       "    .dataframe tbody tr th {\n",
       "        vertical-align: top;\n",
       "    }\n",
       "\n",
       "    .dataframe thead th {\n",
       "        text-align: right;\n",
       "    }\n",
       "</style>\n",
       "<table border=\"1\" class=\"dataframe\">\n",
       "  <thead>\n",
       "    <tr style=\"text-align: right;\">\n",
       "      <th></th>\n",
       "      <th>sqr</th>\n",
       "    </tr>\n",
       "  </thead>\n",
       "  <tbody>\n",
       "    <tr>\n",
       "      <th>frecuencia relativa</th>\n",
       "      <td>1667</td>\n",
       "    </tr>\n",
       "    <tr>\n",
       "      <th>media</th>\n",
       "      <td>71</td>\n",
       "    </tr>\n",
       "    <tr>\n",
       "      <th>desviación</th>\n",
       "      <td>13</td>\n",
       "    </tr>\n",
       "    <tr>\n",
       "      <th>min</th>\n",
       "      <td>0</td>\n",
       "    </tr>\n",
       "    <tr>\n",
       "      <th>25%</th>\n",
       "      <td>63</td>\n",
       "    </tr>\n",
       "    <tr>\n",
       "      <th>50%</th>\n",
       "      <td>72</td>\n",
       "    </tr>\n",
       "    <tr>\n",
       "      <th>75%</th>\n",
       "      <td>80</td>\n",
       "    </tr>\n",
       "    <tr>\n",
       "      <th>max</th>\n",
       "      <td>99</td>\n",
       "    </tr>\n",
       "  </tbody>\n",
       "</table>\n",
       "</div>"
      ],
      "text/plain": [
       "                      sqr\n",
       "frecuencia relativa  1667\n",
       "media                  71\n",
       "desviación             13\n",
       "min                     0\n",
       "25%                    63\n",
       "50%                    72\n",
       "75%                    80\n",
       "max                    99"
      ]
     },
     "metadata": {},
     "output_type": "display_data"
    }
   ],
   "source": [
    "display(pd.DataFrame(perfiles_sqr.query('sexo == \"Female\" & posicion == \"Supine\" &  IMC_cat == \"Bajo peso\"').describe().loc[:, 'sqr'].round(2).rename({'count':'frecuencia relativa', 'mean':'media', 'std': 'desviación'}, axis='columns')))"
   ]
  },
  {
   "cell_type": "markdown",
   "metadata": {},
   "source": [
    "#### Análisis de presiones"
   ]
  },
  {
   "cell_type": "code",
   "execution_count": 110,
   "metadata": {},
   "outputs": [],
   "source": [
    "presiones_cat = perfiles_sqr.query('sexo == \"Female\" & posicion == \"Supine\" &  IMC_cat == \"Bajo peso\"').groupby('presiones').describe().loc[:, 'sqr']"
   ]
  },
  {
   "cell_type": "code",
   "execution_count": 111,
   "metadata": {},
   "outputs": [],
   "source": [
    "presiones_cat = presiones_cat.rename({'count':'frecuencia relativa', 'mean':'media', 'std': 'desviación'}, axis='columns').round(2)\n",
    "presiones_cat['frecuencia relativa'] = presiones_cat['frecuencia relativa'].astype('int')\n",
    "presiones_comunes = presiones_cat.sort_values(by='frecuencia relativa', ascending=False).head(3)\n",
    "presiones_comunes['tipo'] = 'comunes'\n",
    "presiones_top = presiones_cat.sort_values(by='media', ascending=False).head(3)\n",
    "presiones_top['tipo'] = 'mejores'\n",
    "presiones_bottom = presiones_cat.sort_values(by='media', ascending=True).head(3)\n",
    "presiones_bottom['tipo'] = 'peores'"
   ]
  },
  {
   "cell_type": "code",
   "execution_count": 112,
   "metadata": {},
   "outputs": [],
   "source": [
    "presiones_cat = presiones_comunes.append(presiones_top).append(presiones_bottom)\n",
    "presiones_cat.reset_index(level=0, inplace=True)"
   ]
  },
  {
   "cell_type": "code",
   "execution_count": 113,
   "metadata": {},
   "outputs": [
    {
     "data": {
      "text/html": [
       "<div>\n",
       "<style scoped>\n",
       "    .dataframe tbody tr th:only-of-type {\n",
       "        vertical-align: middle;\n",
       "    }\n",
       "\n",
       "    .dataframe tbody tr th {\n",
       "        vertical-align: top;\n",
       "    }\n",
       "\n",
       "    .dataframe thead th {\n",
       "        text-align: right;\n",
       "    }\n",
       "</style>\n",
       "<table border=\"1\" class=\"dataframe\">\n",
       "  <thead>\n",
       "    <tr style=\"text-align: right;\">\n",
       "      <th></th>\n",
       "      <th></th>\n",
       "      <th>frecuencia relativa</th>\n",
       "      <th>media</th>\n",
       "      <th>desviación</th>\n",
       "      <th>min</th>\n",
       "      <th>25%</th>\n",
       "      <th>50%</th>\n",
       "      <th>75%</th>\n",
       "      <th>max</th>\n",
       "    </tr>\n",
       "    <tr>\n",
       "      <th>tipo</th>\n",
       "      <th>presiones</th>\n",
       "      <th></th>\n",
       "      <th></th>\n",
       "      <th></th>\n",
       "      <th></th>\n",
       "      <th></th>\n",
       "      <th></th>\n",
       "      <th></th>\n",
       "      <th></th>\n",
       "    </tr>\n",
       "  </thead>\n",
       "  <tbody>\n",
       "    <tr>\n",
       "      <th rowspan=\"3\" valign=\"top\">comunes</th>\n",
       "      <th>122222</th>\n",
       "      <td>718</td>\n",
       "      <td>73.14</td>\n",
       "      <td>12.92</td>\n",
       "      <td>8.12</td>\n",
       "      <td>65.49</td>\n",
       "      <td>74.28</td>\n",
       "      <td>81.11</td>\n",
       "      <td>99.58</td>\n",
       "    </tr>\n",
       "    <tr>\n",
       "      <th>122212</th>\n",
       "      <td>242</td>\n",
       "      <td>68.98</td>\n",
       "      <td>17.57</td>\n",
       "      <td>0.02</td>\n",
       "      <td>58.00</td>\n",
       "      <td>70.44</td>\n",
       "      <td>81.77</td>\n",
       "      <td>99.45</td>\n",
       "    </tr>\n",
       "    <tr>\n",
       "      <th>122221</th>\n",
       "      <td>196</td>\n",
       "      <td>73.82</td>\n",
       "      <td>13.65</td>\n",
       "      <td>36.55</td>\n",
       "      <td>64.98</td>\n",
       "      <td>74.22</td>\n",
       "      <td>86.33</td>\n",
       "      <td>94.23</td>\n",
       "    </tr>\n",
       "    <tr>\n",
       "      <th rowspan=\"3\" valign=\"top\">mejores</th>\n",
       "      <th>000002</th>\n",
       "      <td>13</td>\n",
       "      <td>88.27</td>\n",
       "      <td>3.99</td>\n",
       "      <td>83.16</td>\n",
       "      <td>85.21</td>\n",
       "      <td>87.74</td>\n",
       "      <td>88.81</td>\n",
       "      <td>96.16</td>\n",
       "    </tr>\n",
       "    <tr>\n",
       "      <th>120022</th>\n",
       "      <td>1</td>\n",
       "      <td>82.05</td>\n",
       "      <td>NaN</td>\n",
       "      <td>82.05</td>\n",
       "      <td>82.05</td>\n",
       "      <td>82.05</td>\n",
       "      <td>82.05</td>\n",
       "      <td>82.05</td>\n",
       "    </tr>\n",
       "    <tr>\n",
       "      <th>011111</th>\n",
       "      <td>6</td>\n",
       "      <td>79.93</td>\n",
       "      <td>11.65</td>\n",
       "      <td>67.80</td>\n",
       "      <td>70.24</td>\n",
       "      <td>78.20</td>\n",
       "      <td>88.47</td>\n",
       "      <td>95.91</td>\n",
       "    </tr>\n",
       "    <tr>\n",
       "      <th rowspan=\"3\" valign=\"top\">peores</th>\n",
       "      <th>030111</th>\n",
       "      <td>2</td>\n",
       "      <td>61.76</td>\n",
       "      <td>0.92</td>\n",
       "      <td>61.11</td>\n",
       "      <td>61.44</td>\n",
       "      <td>61.76</td>\n",
       "      <td>62.09</td>\n",
       "      <td>62.42</td>\n",
       "    </tr>\n",
       "    <tr>\n",
       "      <th>133331</th>\n",
       "      <td>146</td>\n",
       "      <td>63.56</td>\n",
       "      <td>12.27</td>\n",
       "      <td>20.32</td>\n",
       "      <td>57.14</td>\n",
       "      <td>66.33</td>\n",
       "      <td>71.48</td>\n",
       "      <td>89.20</td>\n",
       "    </tr>\n",
       "    <tr>\n",
       "      <th>022333</th>\n",
       "      <td>11</td>\n",
       "      <td>63.94</td>\n",
       "      <td>15.48</td>\n",
       "      <td>34.41</td>\n",
       "      <td>55.53</td>\n",
       "      <td>59.03</td>\n",
       "      <td>75.14</td>\n",
       "      <td>87.84</td>\n",
       "    </tr>\n",
       "  </tbody>\n",
       "</table>\n",
       "</div>"
      ],
      "text/plain": [
       "                   frecuencia relativa  media  desviación    min    25%  \\\n",
       "tipo    presiones                                                         \n",
       "comunes 122222                     718  73.14       12.92   8.12  65.49   \n",
       "        122212                     242  68.98       17.57   0.02  58.00   \n",
       "        122221                     196  73.82       13.65  36.55  64.98   \n",
       "mejores 000002                      13  88.27        3.99  83.16  85.21   \n",
       "        120022                       1  82.05         NaN  82.05  82.05   \n",
       "        011111                       6  79.93       11.65  67.80  70.24   \n",
       "peores  030111                       2  61.76        0.92  61.11  61.44   \n",
       "        133331                     146  63.56       12.27  20.32  57.14   \n",
       "        022333                      11  63.94       15.48  34.41  55.53   \n",
       "\n",
       "                     50%    75%    max  \n",
       "tipo    presiones                       \n",
       "comunes 122222     74.28  81.11  99.58  \n",
       "        122212     70.44  81.77  99.45  \n",
       "        122221     74.22  86.33  94.23  \n",
       "mejores 000002     87.74  88.81  96.16  \n",
       "        120022     82.05  82.05  82.05  \n",
       "        011111     78.20  88.47  95.91  \n",
       "peores  030111     61.76  62.09  62.42  \n",
       "        133331     66.33  71.48  89.20  \n",
       "        022333     59.03  75.14  87.84  "
      ]
     },
     "metadata": {},
     "output_type": "display_data"
    }
   ],
   "source": [
    "display(presiones_cat.set_index(['tipo', 'presiones']))"
   ]
  },
  {
   "cell_type": "markdown",
   "metadata": {},
   "source": [
    "<a id=\"11\"></a>\n",
    "### FSN"
   ]
  },
  {
   "cell_type": "markdown",
   "metadata": {},
   "source": [
    "#### Descriptivo general"
   ]
  },
  {
   "cell_type": "code",
   "execution_count": 114,
   "metadata": {
    "scrolled": true
   },
   "outputs": [
    {
     "data": {
      "text/html": [
       "<div>\n",
       "<style scoped>\n",
       "    .dataframe tbody tr th:only-of-type {\n",
       "        vertical-align: middle;\n",
       "    }\n",
       "\n",
       "    .dataframe tbody tr th {\n",
       "        vertical-align: top;\n",
       "    }\n",
       "\n",
       "    .dataframe thead th {\n",
       "        text-align: right;\n",
       "    }\n",
       "</style>\n",
       "<table border=\"1\" class=\"dataframe\">\n",
       "  <thead>\n",
       "    <tr style=\"text-align: right;\">\n",
       "      <th></th>\n",
       "      <th>sqr</th>\n",
       "    </tr>\n",
       "  </thead>\n",
       "  <tbody>\n",
       "    <tr>\n",
       "      <th>frecuencia relativa</th>\n",
       "      <td>249</td>\n",
       "    </tr>\n",
       "    <tr>\n",
       "      <th>media</th>\n",
       "      <td>71</td>\n",
       "    </tr>\n",
       "    <tr>\n",
       "      <th>desviación</th>\n",
       "      <td>14</td>\n",
       "    </tr>\n",
       "    <tr>\n",
       "      <th>min</th>\n",
       "      <td>13</td>\n",
       "    </tr>\n",
       "    <tr>\n",
       "      <th>25%</th>\n",
       "      <td>64</td>\n",
       "    </tr>\n",
       "    <tr>\n",
       "      <th>50%</th>\n",
       "      <td>73</td>\n",
       "    </tr>\n",
       "    <tr>\n",
       "      <th>75%</th>\n",
       "      <td>81</td>\n",
       "    </tr>\n",
       "    <tr>\n",
       "      <th>max</th>\n",
       "      <td>99</td>\n",
       "    </tr>\n",
       "  </tbody>\n",
       "</table>\n",
       "</div>"
      ],
      "text/plain": [
       "                     sqr\n",
       "frecuencia relativa  249\n",
       "media                 71\n",
       "desviación            14\n",
       "min                   13\n",
       "25%                   64\n",
       "50%                   73\n",
       "75%                   81\n",
       "max                   99"
      ]
     },
     "metadata": {},
     "output_type": "display_data"
    }
   ],
   "source": [
    "display(pd.DataFrame(perfiles_sqr.query('sexo == \"Female\" & posicion == \"Supine\" &  IMC_cat == \"Normal\"').describe().loc[:, 'sqr'].round(2).rename({'count':'frecuencia relativa', 'mean':'media', 'std': 'desviación'}, axis='columns')))"
   ]
  },
  {
   "cell_type": "markdown",
   "metadata": {},
   "source": [
    "#### Análisis de presiones"
   ]
  },
  {
   "cell_type": "code",
   "execution_count": 115,
   "metadata": {},
   "outputs": [],
   "source": [
    "presiones_cat = perfiles_sqr.query('sexo == \"Female\" & posicion == \"Supine\" &  IMC_cat == \"Normal\"').groupby('presiones').describe().loc[:, 'sqr']"
   ]
  },
  {
   "cell_type": "code",
   "execution_count": 116,
   "metadata": {},
   "outputs": [],
   "source": [
    "presiones_cat = presiones_cat.rename({'count':'frecuencia relativa', 'mean':'media', 'std': 'desviación'}, axis='columns').round(2)\n",
    "presiones_cat['frecuencia relativa'] = presiones_cat['frecuencia relativa'].astype('int')\n",
    "presiones_comunes = presiones_cat.sort_values(by='frecuencia relativa', ascending=False).head(3)\n",
    "presiones_comunes['tipo'] = 'comunes'\n",
    "presiones_top = presiones_cat.sort_values(by='media', ascending=False).head(3)\n",
    "presiones_top['tipo'] = 'mejores'\n",
    "presiones_bottom = presiones_cat.sort_values(by='media', ascending=True).head(3)\n",
    "presiones_bottom['tipo'] = 'peores'"
   ]
  },
  {
   "cell_type": "code",
   "execution_count": 117,
   "metadata": {},
   "outputs": [],
   "source": [
    "presiones_cat = presiones_comunes.append(presiones_top).append(presiones_bottom)\n",
    "presiones_cat.reset_index(level=0, inplace=True)"
   ]
  },
  {
   "cell_type": "code",
   "execution_count": 118,
   "metadata": {},
   "outputs": [
    {
     "data": {
      "text/html": [
       "<div>\n",
       "<style scoped>\n",
       "    .dataframe tbody tr th:only-of-type {\n",
       "        vertical-align: middle;\n",
       "    }\n",
       "\n",
       "    .dataframe tbody tr th {\n",
       "        vertical-align: top;\n",
       "    }\n",
       "\n",
       "    .dataframe thead th {\n",
       "        text-align: right;\n",
       "    }\n",
       "</style>\n",
       "<table border=\"1\" class=\"dataframe\">\n",
       "  <thead>\n",
       "    <tr style=\"text-align: right;\">\n",
       "      <th></th>\n",
       "      <th></th>\n",
       "      <th>frecuencia relativa</th>\n",
       "      <th>media</th>\n",
       "      <th>desviación</th>\n",
       "      <th>min</th>\n",
       "      <th>25%</th>\n",
       "      <th>50%</th>\n",
       "      <th>75%</th>\n",
       "      <th>max</th>\n",
       "    </tr>\n",
       "    <tr>\n",
       "      <th>tipo</th>\n",
       "      <th>presiones</th>\n",
       "      <th></th>\n",
       "      <th></th>\n",
       "      <th></th>\n",
       "      <th></th>\n",
       "      <th></th>\n",
       "      <th></th>\n",
       "      <th></th>\n",
       "      <th></th>\n",
       "    </tr>\n",
       "  </thead>\n",
       "  <tbody>\n",
       "    <tr>\n",
       "      <th rowspan=\"3\" valign=\"top\">comunes</th>\n",
       "      <th>122322</th>\n",
       "      <td>160</td>\n",
       "      <td>74.32</td>\n",
       "      <td>12.22</td>\n",
       "      <td>35.27</td>\n",
       "      <td>68.19</td>\n",
       "      <td>76.19</td>\n",
       "      <td>81.84</td>\n",
       "      <td>99.37</td>\n",
       "    </tr>\n",
       "    <tr>\n",
       "      <th>123222</th>\n",
       "      <td>47</td>\n",
       "      <td>59.62</td>\n",
       "      <td>13.06</td>\n",
       "      <td>19.98</td>\n",
       "      <td>54.10</td>\n",
       "      <td>60.54</td>\n",
       "      <td>67.24</td>\n",
       "      <td>91.85</td>\n",
       "    </tr>\n",
       "    <tr>\n",
       "      <th>110302</th>\n",
       "      <td>17</td>\n",
       "      <td>78.03</td>\n",
       "      <td>9.66</td>\n",
       "      <td>62.60</td>\n",
       "      <td>70.53</td>\n",
       "      <td>74.64</td>\n",
       "      <td>87.37</td>\n",
       "      <td>95.41</td>\n",
       "    </tr>\n",
       "    <tr>\n",
       "      <th rowspan=\"3\" valign=\"top\">mejores</th>\n",
       "      <th>032325</th>\n",
       "      <td>6</td>\n",
       "      <td>89.07</td>\n",
       "      <td>9.19</td>\n",
       "      <td>75.88</td>\n",
       "      <td>83.42</td>\n",
       "      <td>89.75</td>\n",
       "      <td>96.05</td>\n",
       "      <td>99.58</td>\n",
       "    </tr>\n",
       "    <tr>\n",
       "      <th>123322</th>\n",
       "      <td>9</td>\n",
       "      <td>80.37</td>\n",
       "      <td>9.23</td>\n",
       "      <td>64.41</td>\n",
       "      <td>75.76</td>\n",
       "      <td>81.07</td>\n",
       "      <td>87.20</td>\n",
       "      <td>92.39</td>\n",
       "    </tr>\n",
       "    <tr>\n",
       "      <th>110302</th>\n",
       "      <td>17</td>\n",
       "      <td>78.03</td>\n",
       "      <td>9.66</td>\n",
       "      <td>62.60</td>\n",
       "      <td>70.53</td>\n",
       "      <td>74.64</td>\n",
       "      <td>87.37</td>\n",
       "      <td>95.41</td>\n",
       "    </tr>\n",
       "    <tr>\n",
       "      <th rowspan=\"3\" valign=\"top\">peores</th>\n",
       "      <th>111111</th>\n",
       "      <td>2</td>\n",
       "      <td>36.32</td>\n",
       "      <td>32.01</td>\n",
       "      <td>13.69</td>\n",
       "      <td>25.00</td>\n",
       "      <td>36.32</td>\n",
       "      <td>47.64</td>\n",
       "      <td>58.95</td>\n",
       "    </tr>\n",
       "    <tr>\n",
       "      <th>122222</th>\n",
       "      <td>8</td>\n",
       "      <td>58.26</td>\n",
       "      <td>21.16</td>\n",
       "      <td>32.32</td>\n",
       "      <td>39.13</td>\n",
       "      <td>61.65</td>\n",
       "      <td>71.44</td>\n",
       "      <td>92.12</td>\n",
       "    </tr>\n",
       "    <tr>\n",
       "      <th>123222</th>\n",
       "      <td>47</td>\n",
       "      <td>59.62</td>\n",
       "      <td>13.06</td>\n",
       "      <td>19.98</td>\n",
       "      <td>54.10</td>\n",
       "      <td>60.54</td>\n",
       "      <td>67.24</td>\n",
       "      <td>91.85</td>\n",
       "    </tr>\n",
       "  </tbody>\n",
       "</table>\n",
       "</div>"
      ],
      "text/plain": [
       "                   frecuencia relativa  media  desviación    min    25%  \\\n",
       "tipo    presiones                                                         \n",
       "comunes 122322                     160  74.32       12.22  35.27  68.19   \n",
       "        123222                      47  59.62       13.06  19.98  54.10   \n",
       "        110302                      17  78.03        9.66  62.60  70.53   \n",
       "mejores 032325                       6  89.07        9.19  75.88  83.42   \n",
       "        123322                       9  80.37        9.23  64.41  75.76   \n",
       "        110302                      17  78.03        9.66  62.60  70.53   \n",
       "peores  111111                       2  36.32       32.01  13.69  25.00   \n",
       "        122222                       8  58.26       21.16  32.32  39.13   \n",
       "        123222                      47  59.62       13.06  19.98  54.10   \n",
       "\n",
       "                     50%    75%    max  \n",
       "tipo    presiones                       \n",
       "comunes 122322     76.19  81.84  99.37  \n",
       "        123222     60.54  67.24  91.85  \n",
       "        110302     74.64  87.37  95.41  \n",
       "mejores 032325     89.75  96.05  99.58  \n",
       "        123322     81.07  87.20  92.39  \n",
       "        110302     74.64  87.37  95.41  \n",
       "peores  111111     36.32  47.64  58.95  \n",
       "        122222     61.65  71.44  92.12  \n",
       "        123222     60.54  67.24  91.85  "
      ]
     },
     "metadata": {},
     "output_type": "display_data"
    }
   ],
   "source": [
    "display(presiones_cat.set_index(['tipo', 'presiones']))"
   ]
  },
  {
   "cell_type": "markdown",
   "metadata": {},
   "source": [
    "<a id=\"12\"></a>\n",
    "### FSS"
   ]
  },
  {
   "cell_type": "markdown",
   "metadata": {},
   "source": [
    "#### Descriptivo general"
   ]
  },
  {
   "cell_type": "code",
   "execution_count": 119,
   "metadata": {
    "scrolled": true
   },
   "outputs": [
    {
     "data": {
      "text/html": [
       "<div>\n",
       "<style scoped>\n",
       "    .dataframe tbody tr th:only-of-type {\n",
       "        vertical-align: middle;\n",
       "    }\n",
       "\n",
       "    .dataframe tbody tr th {\n",
       "        vertical-align: top;\n",
       "    }\n",
       "\n",
       "    .dataframe thead th {\n",
       "        text-align: right;\n",
       "    }\n",
       "</style>\n",
       "<table border=\"1\" class=\"dataframe\">\n",
       "  <thead>\n",
       "    <tr style=\"text-align: right;\">\n",
       "      <th></th>\n",
       "      <th>sqr</th>\n",
       "    </tr>\n",
       "  </thead>\n",
       "  <tbody>\n",
       "    <tr>\n",
       "      <th>frecuencia relativa</th>\n",
       "      <td>126</td>\n",
       "    </tr>\n",
       "    <tr>\n",
       "      <th>media</th>\n",
       "      <td>68</td>\n",
       "    </tr>\n",
       "    <tr>\n",
       "      <th>desviación</th>\n",
       "      <td>11</td>\n",
       "    </tr>\n",
       "    <tr>\n",
       "      <th>min</th>\n",
       "      <td>8</td>\n",
       "    </tr>\n",
       "    <tr>\n",
       "      <th>25%</th>\n",
       "      <td>62</td>\n",
       "    </tr>\n",
       "    <tr>\n",
       "      <th>50%</th>\n",
       "      <td>68</td>\n",
       "    </tr>\n",
       "    <tr>\n",
       "      <th>75%</th>\n",
       "      <td>77</td>\n",
       "    </tr>\n",
       "    <tr>\n",
       "      <th>max</th>\n",
       "      <td>94</td>\n",
       "    </tr>\n",
       "  </tbody>\n",
       "</table>\n",
       "</div>"
      ],
      "text/plain": [
       "                     sqr\n",
       "frecuencia relativa  126\n",
       "media                 68\n",
       "desviación            11\n",
       "min                    8\n",
       "25%                   62\n",
       "50%                   68\n",
       "75%                   77\n",
       "max                   94"
      ]
     },
     "metadata": {},
     "output_type": "display_data"
    }
   ],
   "source": [
    "display(pd.DataFrame(perfiles_sqr.query('sexo == \"Female\" & posicion == \"Supine\" &  IMC_cat == \"Sobrepeso\"').describe().loc[:, 'sqr'].round(2).rename({'count':'frecuencia relativa', 'mean':'media', 'std': 'desviación'}, axis='columns')))"
   ]
  },
  {
   "cell_type": "markdown",
   "metadata": {},
   "source": [
    "#### Análisis de presiones"
   ]
  },
  {
   "cell_type": "code",
   "execution_count": 120,
   "metadata": {},
   "outputs": [],
   "source": [
    "presiones_cat = perfiles_sqr.query('sexo == \"Female\" & posicion == \"Supine\" &  IMC_cat == \"Sobrepeso\"').groupby('presiones').describe().loc[:, 'sqr']"
   ]
  },
  {
   "cell_type": "code",
   "execution_count": 121,
   "metadata": {},
   "outputs": [],
   "source": [
    "presiones_cat = presiones_cat.rename({'count':'frecuencia relativa', 'mean':'media', 'std': 'desviación'}, axis='columns').round(2)\n",
    "presiones_cat['frecuencia relativa'] = presiones_cat['frecuencia relativa'].astype('int')\n",
    "presiones_comunes = presiones_cat.sort_values(by='frecuencia relativa', ascending=False).head(3)\n",
    "presiones_comunes['tipo'] = 'comunes'\n",
    "presiones_top = presiones_cat.sort_values(by='media', ascending=False).head(3)\n",
    "presiones_top['tipo'] = 'mejores'\n",
    "presiones_bottom = presiones_cat.sort_values(by='media', ascending=True).head(3)\n",
    "presiones_bottom['tipo'] = 'peores'"
   ]
  },
  {
   "cell_type": "code",
   "execution_count": 122,
   "metadata": {},
   "outputs": [],
   "source": [
    "presiones_cat = presiones_comunes.append(presiones_top).append(presiones_bottom)\n",
    "presiones_cat.reset_index(level=0, inplace=True)"
   ]
  },
  {
   "cell_type": "code",
   "execution_count": 123,
   "metadata": {},
   "outputs": [
    {
     "data": {
      "text/html": [
       "<div>\n",
       "<style scoped>\n",
       "    .dataframe tbody tr th:only-of-type {\n",
       "        vertical-align: middle;\n",
       "    }\n",
       "\n",
       "    .dataframe tbody tr th {\n",
       "        vertical-align: top;\n",
       "    }\n",
       "\n",
       "    .dataframe thead th {\n",
       "        text-align: right;\n",
       "    }\n",
       "</style>\n",
       "<table border=\"1\" class=\"dataframe\">\n",
       "  <thead>\n",
       "    <tr style=\"text-align: right;\">\n",
       "      <th></th>\n",
       "      <th></th>\n",
       "      <th>frecuencia relativa</th>\n",
       "      <th>media</th>\n",
       "      <th>desviación</th>\n",
       "      <th>min</th>\n",
       "      <th>25%</th>\n",
       "      <th>50%</th>\n",
       "      <th>75%</th>\n",
       "      <th>max</th>\n",
       "    </tr>\n",
       "    <tr>\n",
       "      <th>tipo</th>\n",
       "      <th>presiones</th>\n",
       "      <th></th>\n",
       "      <th></th>\n",
       "      <th></th>\n",
       "      <th></th>\n",
       "      <th></th>\n",
       "      <th></th>\n",
       "      <th></th>\n",
       "      <th></th>\n",
       "    </tr>\n",
       "  </thead>\n",
       "  <tbody>\n",
       "    <tr>\n",
       "      <th rowspan=\"3\" valign=\"top\">comunes</th>\n",
       "      <th>555555</th>\n",
       "      <td>65</td>\n",
       "      <td>64.91</td>\n",
       "      <td>12.10</td>\n",
       "      <td>8.86</td>\n",
       "      <td>59.24</td>\n",
       "      <td>67.24</td>\n",
       "      <td>70.24</td>\n",
       "      <td>91.71</td>\n",
       "    </tr>\n",
       "    <tr>\n",
       "      <th>122322</th>\n",
       "      <td>16</td>\n",
       "      <td>77.71</td>\n",
       "      <td>7.34</td>\n",
       "      <td>63.20</td>\n",
       "      <td>74.49</td>\n",
       "      <td>78.40</td>\n",
       "      <td>80.10</td>\n",
       "      <td>94.57</td>\n",
       "    </tr>\n",
       "    <tr>\n",
       "      <th>010022</th>\n",
       "      <td>13</td>\n",
       "      <td>74.27</td>\n",
       "      <td>8.60</td>\n",
       "      <td>61.01</td>\n",
       "      <td>70.78</td>\n",
       "      <td>73.34</td>\n",
       "      <td>78.84</td>\n",
       "      <td>90.86</td>\n",
       "    </tr>\n",
       "    <tr>\n",
       "      <th rowspan=\"3\" valign=\"top\">mejores</th>\n",
       "      <th>122322</th>\n",
       "      <td>16</td>\n",
       "      <td>77.71</td>\n",
       "      <td>7.34</td>\n",
       "      <td>63.20</td>\n",
       "      <td>74.49</td>\n",
       "      <td>78.40</td>\n",
       "      <td>80.10</td>\n",
       "      <td>94.57</td>\n",
       "    </tr>\n",
       "    <tr>\n",
       "      <th>010022</th>\n",
       "      <td>13</td>\n",
       "      <td>74.27</td>\n",
       "      <td>8.60</td>\n",
       "      <td>61.01</td>\n",
       "      <td>70.78</td>\n",
       "      <td>73.34</td>\n",
       "      <td>78.84</td>\n",
       "      <td>90.86</td>\n",
       "    </tr>\n",
       "    <tr>\n",
       "      <th>123332</th>\n",
       "      <td>12</td>\n",
       "      <td>71.95</td>\n",
       "      <td>12.11</td>\n",
       "      <td>51.65</td>\n",
       "      <td>64.88</td>\n",
       "      <td>70.73</td>\n",
       "      <td>81.84</td>\n",
       "      <td>89.81</td>\n",
       "    </tr>\n",
       "    <tr>\n",
       "      <th rowspan=\"3\" valign=\"top\">peores</th>\n",
       "      <th>010002</th>\n",
       "      <td>2</td>\n",
       "      <td>44.55</td>\n",
       "      <td>2.80</td>\n",
       "      <td>42.57</td>\n",
       "      <td>43.56</td>\n",
       "      <td>44.55</td>\n",
       "      <td>45.54</td>\n",
       "      <td>46.53</td>\n",
       "    </tr>\n",
       "    <tr>\n",
       "      <th>555555</th>\n",
       "      <td>65</td>\n",
       "      <td>64.91</td>\n",
       "      <td>12.10</td>\n",
       "      <td>8.86</td>\n",
       "      <td>59.24</td>\n",
       "      <td>67.24</td>\n",
       "      <td>70.24</td>\n",
       "      <td>91.71</td>\n",
       "    </tr>\n",
       "    <tr>\n",
       "      <th>012322</th>\n",
       "      <td>5</td>\n",
       "      <td>67.29</td>\n",
       "      <td>8.99</td>\n",
       "      <td>55.48</td>\n",
       "      <td>62.50</td>\n",
       "      <td>66.53</td>\n",
       "      <td>73.85</td>\n",
       "      <td>78.10</td>\n",
       "    </tr>\n",
       "  </tbody>\n",
       "</table>\n",
       "</div>"
      ],
      "text/plain": [
       "                   frecuencia relativa  media  desviación    min    25%  \\\n",
       "tipo    presiones                                                         \n",
       "comunes 555555                      65  64.91       12.10   8.86  59.24   \n",
       "        122322                      16  77.71        7.34  63.20  74.49   \n",
       "        010022                      13  74.27        8.60  61.01  70.78   \n",
       "mejores 122322                      16  77.71        7.34  63.20  74.49   \n",
       "        010022                      13  74.27        8.60  61.01  70.78   \n",
       "        123332                      12  71.95       12.11  51.65  64.88   \n",
       "peores  010002                       2  44.55        2.80  42.57  43.56   \n",
       "        555555                      65  64.91       12.10   8.86  59.24   \n",
       "        012322                       5  67.29        8.99  55.48  62.50   \n",
       "\n",
       "                     50%    75%    max  \n",
       "tipo    presiones                       \n",
       "comunes 555555     67.24  70.24  91.71  \n",
       "        122322     78.40  80.10  94.57  \n",
       "        010022     73.34  78.84  90.86  \n",
       "mejores 122322     78.40  80.10  94.57  \n",
       "        010022     73.34  78.84  90.86  \n",
       "        123332     70.73  81.84  89.81  \n",
       "peores  010002     44.55  45.54  46.53  \n",
       "        555555     67.24  70.24  91.71  \n",
       "        012322     66.53  73.85  78.10  "
      ]
     },
     "metadata": {},
     "output_type": "display_data"
    }
   ],
   "source": [
    "display(presiones_cat.set_index(['tipo', 'presiones']))"
   ]
  },
  {
   "cell_type": "code",
   "execution_count": 1,
   "metadata": {},
   "outputs": [],
   "source": [
    "#Guardar en HTML sin codigo --TemplateExporter.exclude_input=True --no-input\n",
    "!jupyter nbconvert Descriptivo_uni_bi.ipynb --to html --log-level WARN --TemplateExporter.exclude_input=True "
   ]
  },
  {
   "cell_type": "code",
   "execution_count": null,
   "metadata": {},
   "outputs": [],
   "source": []
  },
  {
   "cell_type": "code",
   "execution_count": null,
   "metadata": {},
   "outputs": [],
   "source": []
  },
  {
   "cell_type": "code",
   "execution_count": null,
   "metadata": {},
   "outputs": [],
   "source": []
  },
  {
   "cell_type": "code",
   "execution_count": null,
   "metadata": {},
   "outputs": [],
   "source": []
  },
  {
   "cell_type": "code",
   "execution_count": null,
   "metadata": {},
   "outputs": [],
   "source": []
  },
  {
   "cell_type": "code",
   "execution_count": null,
   "metadata": {},
   "outputs": [],
   "source": []
  }
 ],
 "metadata": {
  "kernelspec": {
   "display_name": "Python [conda env:descansare] *",
   "language": "python",
   "name": "conda-env-descansare-py"
  },
  "language_info": {
   "codemirror_mode": {
    "name": "ipython",
    "version": 3
   },
   "file_extension": ".py",
   "mimetype": "text/x-python",
   "name": "python",
   "nbconvert_exporter": "python",
   "pygments_lexer": "ipython3",
   "version": "3.8.3"
  }
 },
 "nbformat": 4,
 "nbformat_minor": 4
}
