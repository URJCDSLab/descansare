{
 "cells": [
  {
   "cell_type": "markdown",
   "metadata": {},
   "source": [
    "# Estudio descriptivo: cruce con presiones"
   ]
  },
  {
   "cell_type": "code",
   "execution_count": 1,
   "metadata": {},
   "outputs": [],
   "source": [
    "%load_ext autoreload\n",
    "%autoreload 2"
   ]
  },
  {
   "cell_type": "code",
   "execution_count": 3,
   "metadata": {},
   "outputs": [
    {
     "name": "stderr",
     "output_type": "stream",
     "text": [
      "/home/dslab/anaconda3/lib/python3.7/site-packages/statsmodels/tools/_testing.py:19: FutureWarning: pandas.util.testing is deprecated. Use the functions in the public API at pandas.testing instead.\n",
      "  import pandas.util.testing as tm\n"
     ]
    }
   ],
   "source": [
    "# Cargamos las librerías necesarias\n",
    "import pandas as pd\n",
    "import matplotlib.pyplot as plt\n",
    "import seaborn as sns\n",
    "import os"
   ]
  },
  {
   "cell_type": "code",
   "execution_count": 4,
   "metadata": {},
   "outputs": [],
   "source": [
    "os.chdir('..')"
   ]
  },
  {
   "cell_type": "code",
   "execution_count": 5,
   "metadata": {},
   "outputs": [],
   "source": [
    "# Cargamos las dos tablas de datos\n",
    "perfiles = pd.read_parquet('data/raw/flex_perfiles_usuario.parquet')\n",
    "sesiones = pd.read_parquet('data/raw/flex_sesiones.parquet')"
   ]
  },
  {
   "cell_type": "code",
   "execution_count": 6,
   "metadata": {},
   "outputs": [],
   "source": [
    "# Filtro en perfiles valores erroneos peso y altura. Corrección formatos\n",
    "perfiles.loc[perfiles[\"posicion\"]==\"manual\",\"posicion\"] = \"Manual\"\n",
    "\n",
    "for col in [\"altura\", \"peso\"]:\n",
    "    perfiles[col] = perfiles[col].str.replace(',', '.')\n",
    "\n",
    "perfiles[[\"altura\", \"peso\"]] = perfiles[[\"altura\", \"peso\"]].apply(pd.to_numeric)\n",
    "\n",
    "perfiles_filtrado = perfiles[(perfiles[\"activo\"]==1) &(perfiles[\"peso\"]<150) &\n",
    "                             (perfiles[\"peso\"]!=0 )& (perfiles[\"altura\"]>100) & (perfiles[\"altura\"]<220)]"
   ]
  },
  {
   "cell_type": "markdown",
   "metadata": {},
   "source": [
    "## Cruce posición sexo"
   ]
  },
  {
   "cell_type": "code",
   "execution_count": 7,
   "metadata": {},
   "outputs": [
    {
     "data": {
      "text/html": [
       "<div>\n",
       "<style scoped>\n",
       "    .dataframe tbody tr th:only-of-type {\n",
       "        vertical-align: middle;\n",
       "    }\n",
       "\n",
       "    .dataframe tbody tr th {\n",
       "        vertical-align: top;\n",
       "    }\n",
       "\n",
       "    .dataframe thead th {\n",
       "        text-align: right;\n",
       "    }\n",
       "</style>\n",
       "<table border=\"1\" class=\"dataframe\">\n",
       "  <thead>\n",
       "    <tr style=\"text-align: right;\">\n",
       "      <th>sexo</th>\n",
       "      <th>Female</th>\n",
       "      <th>Male</th>\n",
       "      <th>Manual</th>\n",
       "    </tr>\n",
       "    <tr>\n",
       "      <th>posicion</th>\n",
       "      <th></th>\n",
       "      <th></th>\n",
       "      <th></th>\n",
       "    </tr>\n",
       "  </thead>\n",
       "  <tbody>\n",
       "    <tr>\n",
       "      <th>Lateral</th>\n",
       "      <td>752</td>\n",
       "      <td>836</td>\n",
       "      <td>0</td>\n",
       "    </tr>\n",
       "    <tr>\n",
       "      <th>Manual</th>\n",
       "      <td>0</td>\n",
       "      <td>0</td>\n",
       "      <td>374</td>\n",
       "    </tr>\n",
       "    <tr>\n",
       "      <th>Supine</th>\n",
       "      <td>337</td>\n",
       "      <td>519</td>\n",
       "      <td>0</td>\n",
       "    </tr>\n",
       "  </tbody>\n",
       "</table>\n",
       "</div>"
      ],
      "text/plain": [
       "sexo      Female  Male  Manual\n",
       "posicion                      \n",
       "Lateral      752   836       0\n",
       "Manual         0     0     374\n",
       "Supine       337   519       0"
      ]
     },
     "execution_count": 7,
     "metadata": {},
     "output_type": "execute_result"
    }
   ],
   "source": [
    "### Cruce posicion sexo\n",
    "pd.crosstab(perfiles_filtrado[\"posicion\"],perfiles_filtrado[\"sexo\"])\n",
    "# Los Manual de posicion son exactamente los Manual de sexo"
   ]
  },
  {
   "cell_type": "markdown",
   "metadata": {},
   "source": [
    "¿Hay manera de saber qué es Manual en esas dos variables?"
   ]
  },
  {
   "cell_type": "markdown",
   "metadata": {},
   "source": [
    "## Cruce presiones y sexo"
   ]
  },
  {
   "cell_type": "code",
   "execution_count": 8,
   "metadata": {},
   "outputs": [],
   "source": [
    "### Cruce presiones y sexo\n",
    "df_pres_sex = pd.DataFrame(pd.crosstab(perfiles_filtrado[\"presiones\"],perfiles_filtrado[\"sexo\"],normalize=False))\n",
    "# Elimino aquellas presiones con menos de 10 registros en hombres o mujeres\n",
    "df_pres_sex = df_pres_sex[(df_pres_sex[\"Female\"]>=10) | (df_pres_sex[\"Male\"]>=10)]\n",
    "# Vemos las más frecuentes para cada uno\n",
    "df_pres_sex_fem = df_pres_sex.sort_values(by=['Female'], ascending=False)\n",
    "df_pres_sex_male = df_pres_sex.sort_values(by=['Male'], ascending=False)"
   ]
  },
  {
   "cell_type": "code",
   "execution_count": 10,
   "metadata": {},
   "outputs": [
    {
     "data": {
      "text/html": [
       "<div>\n",
       "<style scoped>\n",
       "    .dataframe tbody tr th:only-of-type {\n",
       "        vertical-align: middle;\n",
       "    }\n",
       "\n",
       "    .dataframe tbody tr th {\n",
       "        vertical-align: top;\n",
       "    }\n",
       "\n",
       "    .dataframe thead th {\n",
       "        text-align: right;\n",
       "    }\n",
       "</style>\n",
       "<table border=\"1\" class=\"dataframe\">\n",
       "  <thead>\n",
       "    <tr style=\"text-align: right;\">\n",
       "      <th>sexo</th>\n",
       "      <th>Female</th>\n",
       "      <th>Male</th>\n",
       "      <th>Manual</th>\n",
       "    </tr>\n",
       "    <tr>\n",
       "      <th>presiones</th>\n",
       "      <th></th>\n",
       "      <th></th>\n",
       "      <th></th>\n",
       "    </tr>\n",
       "  </thead>\n",
       "  <tbody>\n",
       "    <tr>\n",
       "      <th>112222222222</th>\n",
       "      <td>128</td>\n",
       "      <td>68</td>\n",
       "      <td>0</td>\n",
       "    </tr>\n",
       "    <tr>\n",
       "      <th>001122211222</th>\n",
       "      <td>105</td>\n",
       "      <td>0</td>\n",
       "      <td>0</td>\n",
       "    </tr>\n",
       "    <tr>\n",
       "      <th>002222112222</th>\n",
       "      <td>66</td>\n",
       "      <td>8</td>\n",
       "      <td>0</td>\n",
       "    </tr>\n",
       "    <tr>\n",
       "      <th>002221112222</th>\n",
       "      <td>63</td>\n",
       "      <td>0</td>\n",
       "      <td>0</td>\n",
       "    </tr>\n",
       "    <tr>\n",
       "      <th>112222122222</th>\n",
       "      <td>60</td>\n",
       "      <td>1</td>\n",
       "      <td>0</td>\n",
       "    </tr>\n",
       "  </tbody>\n",
       "</table>\n",
       "</div>"
      ],
      "text/plain": [
       "sexo          Female  Male  Manual\n",
       "presiones                         \n",
       "112222222222     128    68       0\n",
       "001122211222     105     0       0\n",
       "002222112222      66     8       0\n",
       "002221112222      63     0       0\n",
       "112222122222      60     1       0"
      ]
     },
     "execution_count": 10,
     "metadata": {},
     "output_type": "execute_result"
    }
   ],
   "source": [
    "df_pres_sex_fem.head()"
   ]
  },
  {
   "cell_type": "code",
   "execution_count": 11,
   "metadata": {},
   "outputs": [
    {
     "data": {
      "text/html": [
       "<div>\n",
       "<style scoped>\n",
       "    .dataframe tbody tr th:only-of-type {\n",
       "        vertical-align: middle;\n",
       "    }\n",
       "\n",
       "    .dataframe tbody tr th {\n",
       "        vertical-align: top;\n",
       "    }\n",
       "\n",
       "    .dataframe thead th {\n",
       "        text-align: right;\n",
       "    }\n",
       "</style>\n",
       "<table border=\"1\" class=\"dataframe\">\n",
       "  <thead>\n",
       "    <tr style=\"text-align: right;\">\n",
       "      <th>sexo</th>\n",
       "      <th>Female</th>\n",
       "      <th>Male</th>\n",
       "      <th>Manual</th>\n",
       "    </tr>\n",
       "    <tr>\n",
       "      <th>presiones</th>\n",
       "      <th></th>\n",
       "      <th></th>\n",
       "      <th></th>\n",
       "    </tr>\n",
       "  </thead>\n",
       "  <tbody>\n",
       "    <tr>\n",
       "      <th>112233332223</th>\n",
       "      <td>3</td>\n",
       "      <td>77</td>\n",
       "      <td>0</td>\n",
       "    </tr>\n",
       "    <tr>\n",
       "      <th>112222322222</th>\n",
       "      <td>2</td>\n",
       "      <td>75</td>\n",
       "      <td>1</td>\n",
       "    </tr>\n",
       "    <tr>\n",
       "      <th>112223222222</th>\n",
       "      <td>43</td>\n",
       "      <td>73</td>\n",
       "      <td>0</td>\n",
       "    </tr>\n",
       "    <tr>\n",
       "      <th>002233322222</th>\n",
       "      <td>0</td>\n",
       "      <td>70</td>\n",
       "      <td>0</td>\n",
       "    </tr>\n",
       "    <tr>\n",
       "      <th>112222222222</th>\n",
       "      <td>128</td>\n",
       "      <td>68</td>\n",
       "      <td>0</td>\n",
       "    </tr>\n",
       "  </tbody>\n",
       "</table>\n",
       "</div>"
      ],
      "text/plain": [
       "sexo          Female  Male  Manual\n",
       "presiones                         \n",
       "112233332223       3    77       0\n",
       "112222322222       2    75       1\n",
       "112223222222      43    73       0\n",
       "002233322222       0    70       0\n",
       "112222222222     128    68       0"
      ]
     },
     "execution_count": 11,
     "metadata": {},
     "output_type": "execute_result"
    }
   ],
   "source": [
    "df_pres_sex_male.head()"
   ]
  },
  {
   "cell_type": "code",
   "execution_count": 12,
   "metadata": {},
   "outputs": [
    {
     "data": {
      "image/png": "[encoded data removed]",
      "text/plain": [
       "<Figure size 432x288 with 1 Axes>"
      ]
     },
     "metadata": {
      "needs_background": "light"
     },
     "output_type": "display_data"
    }
   ],
   "source": [
    "# Para pintarlo\n",
    "grouped_df = perfiles_filtrado.groupby([\"presiones\",\"sexo\"])\n",
    "df_pres_sex_graph = pd.DataFrame(grouped_df.size().reset_index(name = \"Group_Count\"))\n",
    "# Elimino aquellas presiones con menos de 20 registros en hombres o mujeres\n",
    "df_pres_sex_graph = df_pres_sex_graph[df_pres_sex_graph[\"Group_Count\"]>=25]\n",
    "sns.barplot(y='Group_Count',x='presiones',hue='sexo',data=df_pres_sex_graph)\n",
    "plt.show()"
   ]
  },
  {
   "cell_type": "markdown",
   "metadata": {},
   "source": [
    "El gráfico no es muy visual pero permite ver las diferencias con respecto a presiones en hombres y mujeres"
   ]
  },
  {
   "cell_type": "markdown",
   "metadata": {},
   "source": [
    "## Cruce presiones y posicion"
   ]
  },
  {
   "cell_type": "code",
   "execution_count": 13,
   "metadata": {},
   "outputs": [],
   "source": [
    "### Cruce presiones y posicion\n",
    "df_pres_pos = pd.DataFrame(pd.crosstab(perfiles_filtrado[\"presiones\"],perfiles_filtrado[\"posicion\"],normalize=False))\n",
    "# Elimino aquellas presiones con menos de 10 registros en lateral o supine\n",
    "df_pres_pos = df_pres_pos[(df_pres_pos[\"Lateral\"]>=10) | (df_pres_pos[\"Supine\"]>=10)]\n",
    "# Vemos las más frecuentes para cada uno\n",
    "df_pres_pos_lat = df_pres_pos.sort_values(by=['Lateral'], ascending=False)\n",
    "df_pres_pos_sup = df_pres_pos.sort_values(by=['Supine'], ascending=False)"
   ]
  },
  {
   "cell_type": "code",
   "execution_count": 14,
   "metadata": {},
   "outputs": [
    {
     "data": {
      "text/html": [
       "<div>\n",
       "<style scoped>\n",
       "    .dataframe tbody tr th:only-of-type {\n",
       "        vertical-align: middle;\n",
       "    }\n",
       "\n",
       "    .dataframe tbody tr th {\n",
       "        vertical-align: top;\n",
       "    }\n",
       "\n",
       "    .dataframe thead th {\n",
       "        text-align: right;\n",
       "    }\n",
       "</style>\n",
       "<table border=\"1\" class=\"dataframe\">\n",
       "  <thead>\n",
       "    <tr style=\"text-align: right;\">\n",
       "      <th>posicion</th>\n",
       "      <th>Lateral</th>\n",
       "      <th>Manual</th>\n",
       "      <th>Supine</th>\n",
       "    </tr>\n",
       "    <tr>\n",
       "      <th>presiones</th>\n",
       "      <th></th>\n",
       "      <th></th>\n",
       "      <th></th>\n",
       "    </tr>\n",
       "  </thead>\n",
       "  <tbody>\n",
       "    <tr>\n",
       "      <th>001122211222</th>\n",
       "      <td>105</td>\n",
       "      <td>0</td>\n",
       "      <td>0</td>\n",
       "    </tr>\n",
       "    <tr>\n",
       "      <th>002233211222</th>\n",
       "      <td>91</td>\n",
       "      <td>0</td>\n",
       "      <td>0</td>\n",
       "    </tr>\n",
       "    <tr>\n",
       "      <th>002223211222</th>\n",
       "      <td>86</td>\n",
       "      <td>0</td>\n",
       "      <td>0</td>\n",
       "    </tr>\n",
       "    <tr>\n",
       "      <th>112233332223</th>\n",
       "      <td>77</td>\n",
       "      <td>0</td>\n",
       "      <td>3</td>\n",
       "    </tr>\n",
       "    <tr>\n",
       "      <th>002222112222</th>\n",
       "      <td>74</td>\n",
       "      <td>0</td>\n",
       "      <td>0</td>\n",
       "    </tr>\n",
       "  </tbody>\n",
       "</table>\n",
       "</div>"
      ],
      "text/plain": [
       "posicion      Lateral  Manual  Supine\n",
       "presiones                            \n",
       "001122211222      105       0       0\n",
       "002233211222       91       0       0\n",
       "002223211222       86       0       0\n",
       "112233332223       77       0       3\n",
       "002222112222       74       0       0"
      ]
     },
     "execution_count": 14,
     "metadata": {},
     "output_type": "execute_result"
    }
   ],
   "source": [
    "df_pres_pos_lat.head()"
   ]
  },
  {
   "cell_type": "markdown",
   "metadata": {},
   "source": [
    "df_pres_pos_sup.head()"
   ]
  },
  {
   "cell_type": "code",
   "execution_count": 16,
   "metadata": {},
   "outputs": [
    {
     "data": {
      "image/png": "[encoded data removed]",
      "text/plain": [
       "<Figure size 432x288 with 1 Axes>"
      ]
     },
     "metadata": {
      "needs_background": "light"
     },
     "output_type": "display_data"
    }
   ],
   "source": [
    "# Para pintarlo\n",
    "grouped_df2 = perfiles_filtrado.groupby([\"presiones\",\"posicion\"])\n",
    "df_pres_pos_graph = pd.DataFrame(grouped_df2.size().reset_index(name = \"Group_Count\"))\n",
    "# Elimino aquellas presiones con menos de 25 registros en hombres o mujeres\n",
    "df_pres_pos_graph = df_pres_pos_graph[df_pres_pos_graph[\"Group_Count\"]>=25]\n",
    "sns.barplot(y='Group_Count',x='presiones',hue='posicion',data=df_pres_pos_graph)\n",
    "plt.show()"
   ]
  },
  {
   "cell_type": "markdown",
   "metadata": {},
   "source": [
    "La manera de dormir afecta totalmente a las presiones"
   ]
  },
  {
   "cell_type": "markdown",
   "metadata": {},
   "source": [
    "## Cruce presiones y altura"
   ]
  },
  {
   "cell_type": "code",
   "execution_count": 22,
   "metadata": {},
   "outputs": [
    {
     "name": "stderr",
     "output_type": "stream",
     "text": [
      "/home/dslab/anaconda3/lib/python3.7/site-packages/ipykernel_launcher.py:4: SettingWithCopyWarning: \n",
      "A value is trying to be set on a copy of a slice from a DataFrame.\n",
      "Try using .loc[row_indexer,col_indexer] = value instead\n",
      "\n",
      "See the caveats in the documentation: https://pandas.pydata.org/pandas-docs/stable/user_guide/indexing.html#returning-a-view-versus-a-copy\n",
      "  after removing the cwd from sys.path.\n"
     ]
    }
   ],
   "source": [
    "### Cruce presiones y altura\n",
    "# Categorizamos altura\n",
    "perfiles_filtrado[\"altura_cat\"] = pd.cut(perfiles_filtrado['altura'], bins=[0, 155, 170, 185, 250], include_lowest=True,\n",
    "       labels=['<1.55', '1.5-1.7', '1.7-1.9', '>1.9'])\n",
    "# Cruce\n",
    "df_pres_alt = pd.DataFrame(pd.crosstab(perfiles_filtrado[\"presiones\"],perfiles_filtrado[\"altura_cat\"],normalize=False))\n",
    "\n"
   ]
  },
  {
   "cell_type": "code",
   "execution_count": 23,
   "metadata": {},
   "outputs": [
    {
     "data": {
      "image/png": "[encoded data removed]",
      "text/plain": [
       "<Figure size 432x288 with 1 Axes>"
      ]
     },
     "metadata": {
      "needs_background": "light"
     },
     "output_type": "display_data"
    }
   ],
   "source": [
    "# Para pintarlo\n",
    "grouped_df3 = perfiles_filtrado.groupby([\"presiones\",\"altura_cat\"])\n",
    "df_pres_alt_graph = pd.DataFrame(grouped_df3.size().reset_index(name = \"Group_Count\"))\n",
    "# Elimino aquellas presiones con menos de 20 registros en hombres o mujeres\n",
    "df_pres_alt_graph = df_pres_alt_graph[df_pres_alt_graph[\"Group_Count\"]>=25]\n",
    "sns.barplot(y='Group_Count',x='presiones',hue='altura_cat',data=df_pres_alt_graph)\n",
    "plt.show()"
   ]
  },
  {
   "cell_type": "code",
   "execution_count": null,
   "metadata": {},
   "outputs": [],
   "source": []
  },
  {
   "cell_type": "code",
   "execution_count": null,
   "metadata": {},
   "outputs": [],
   "source": []
  },
  {
   "cell_type": "code",
   "execution_count": null,
   "metadata": {},
   "outputs": [],
   "source": []
  },
  {
   "cell_type": "code",
   "execution_count": null,
   "metadata": {},
   "outputs": [],
   "source": []
  },
  {
   "cell_type": "code",
   "execution_count": null,
   "metadata": {},
   "outputs": [],
   "source": []
  },
  {
   "cell_type": "code",
   "execution_count": null,
   "metadata": {},
   "outputs": [],
   "source": []
  }
 ],
 "metadata": {
  "kernelspec": {
   "display_name": "PyCharm (descansare)",
   "language": "python",
   "name": "pycharm-6c5f7d3a"
  },
  "language_info": {
   "codemirror_mode": {
    "name": "ipython",
    "version": 3
   },
   "file_extension": ".py",
   "mimetype": "text/x-python",
   "name": "python",
   "nbconvert_exporter": "python",
   "pygments_lexer": "ipython3",
   "version": "3.7.4"
  }
 },
 "nbformat": 4,
 "nbformat_minor": 4
}
