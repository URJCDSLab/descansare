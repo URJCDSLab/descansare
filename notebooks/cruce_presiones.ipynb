{
 "cells": [
  {
   "cell_type": "markdown",
   "metadata": {},
   "source": [
    "# Estudio descriptivo: cruce con presiones"
   ]
  },
  {
   "cell_type": "code",
   "execution_count": 1,
   "metadata": {},
   "outputs": [],
   "source": [
    "%load_ext autoreload\n",
    "%autoreload 2"
   ]
  },
  {
   "cell_type": "code",
   "execution_count": 2,
   "metadata": {},
   "outputs": [
    {
     "name": "stderr",
     "output_type": "stream",
     "text": [
      "/home/dslab/anaconda3/lib/python3.7/site-packages/statsmodels/tools/_testing.py:19: FutureWarning: pandas.util.testing is deprecated. Use the functions in the public API at pandas.testing instead.\n",
      "  import pandas.util.testing as tm\n"
     ]
    }
   ],
   "source": [
    "# Cargamos las librerías necesarias\n",
    "from sklearn import preprocessing\n",
    "from statistics import mode\n",
    "import gower\n",
    "from sklearn.cluster import AgglomerativeClustering\n",
    "import scipy.cluster.hierarchy as sch\n",
    "import pandas as pd\n",
    "import numpy as np\n",
    "import matplotlib.pyplot as plt\n",
    "import seaborn as sns\n",
    "import os"
   ]
  },
  {
   "cell_type": "code",
   "execution_count": 3,
   "metadata": {},
   "outputs": [],
   "source": [
    "os.chdir('..')"
   ]
  },
  {
   "cell_type": "code",
   "execution_count": 5,
   "metadata": {},
   "outputs": [],
   "source": [
    "# Cargamos las dos tablas de datos\n",
    "perfiles = pd.read_parquet('data/raw/flex_perfiles_usuario.parquet')\n",
    "sesiones = pd.read_parquet('data/raw/flex_sesiones.parquet')"
   ]
  },
  {
   "cell_type": "code",
   "execution_count": 6,
   "metadata": {},
   "outputs": [],
   "source": [
    "# Filtro en perfiles valores erroneos peso y altura. Corrección formatos\n",
    "perfiles.loc[perfiles[\"posicion\"]==\"manual\",\"posicion\"] = \"Manual\"\n",
    "\n",
    "for col in [\"altura\", \"peso\"]:\n",
    "    perfiles[col] = perfiles[col].str.replace(',', '.')\n",
    "\n",
    "perfiles[[\"altura\", \"peso\"]] = perfiles[[\"altura\", \"peso\"]].apply(pd.to_numeric)\n",
    "\n",
    "perfiles_filtrado = perfiles[(perfiles[\"peso\"]<150) &\n",
    "                             (perfiles[\"peso\"]!=0 )& (perfiles[\"altura\"]>100) & (perfiles[\"altura\"]<220)]\n",
    "# quitamos manual en sexo y, consecuentemente, en posicion\n",
    "perfiles_filtrado = perfiles_filtrado[perfiles_filtrado[\"sexo\"]!=\"Manual\"] \n",
    "perfiles_filtrado.reset_index(drop=True, inplace=True)\n",
    "\n",
    "# IMC\n",
    "perfiles_filtrado['IMC'] = perfiles_filtrado['peso'] / (perfiles_filtrado['altura']/100)**2\n",
    "perfiles_filtrado['IMC_cat'] = pd.cut(perfiles_filtrado['IMC'], bins=[0, 18.5, 24.9, 29.9, 50],\n",
    "                                include_lowest=True,labels=['Bajo peso', 'Normal', 'Sobrepeso', 'Obesidad'])"
   ]
  },
  {
   "cell_type": "markdown",
   "metadata": {},
   "source": [
    "## Cruce posición sexo"
   ]
  },
  {
   "cell_type": "code",
   "execution_count": 7,
   "metadata": {},
   "outputs": [
    {
     "data": {
      "text/html": [
       "<div>\n",
       "<style scoped>\n",
       "    .dataframe tbody tr th:only-of-type {\n",
       "        vertical-align: middle;\n",
       "    }\n",
       "\n",
       "    .dataframe tbody tr th {\n",
       "        vertical-align: top;\n",
       "    }\n",
       "\n",
       "    .dataframe thead th {\n",
       "        text-align: right;\n",
       "    }\n",
       "</style>\n",
       "<table border=\"1\" class=\"dataframe\">\n",
       "  <thead>\n",
       "    <tr style=\"text-align: right;\">\n",
       "      <th>sexo</th>\n",
       "      <th>Female</th>\n",
       "      <th>Male</th>\n",
       "    </tr>\n",
       "    <tr>\n",
       "      <th>posicion</th>\n",
       "      <th></th>\n",
       "      <th></th>\n",
       "    </tr>\n",
       "  </thead>\n",
       "  <tbody>\n",
       "    <tr>\n",
       "      <th>Lateral</th>\n",
       "      <td>1754</td>\n",
       "      <td>1787</td>\n",
       "    </tr>\n",
       "    <tr>\n",
       "      <th>Supine</th>\n",
       "      <td>809</td>\n",
       "      <td>1277</td>\n",
       "    </tr>\n",
       "  </tbody>\n",
       "</table>\n",
       "</div>"
      ],
      "text/plain": [
       "sexo      Female  Male\n",
       "posicion              \n",
       "Lateral     1754  1787\n",
       "Supine       809  1277"
      ]
     },
     "execution_count": 7,
     "metadata": {},
     "output_type": "execute_result"
    }
   ],
   "source": [
    "### Cruce posicion sexo\n",
    "pd.crosstab(perfiles_filtrado[\"posicion\"],perfiles_filtrado[\"sexo\"])\n",
    "# Los Manual de posicion son exactamente los Manual de sexo"
   ]
  },
  {
   "cell_type": "markdown",
   "metadata": {},
   "source": [
    "¿Hay manera de saber qué es Manual en esas dos variables?"
   ]
  },
  {
   "cell_type": "markdown",
   "metadata": {},
   "source": [
    "## Cruce presiones y sexo"
   ]
  },
  {
   "cell_type": "code",
   "execution_count": 8,
   "metadata": {},
   "outputs": [],
   "source": [
    "### Cruce presiones y sexo\n",
    "df_pres_sex = pd.DataFrame(pd.crosstab(perfiles_filtrado[\"presiones\"],perfiles_filtrado[\"sexo\"],normalize=False))\n",
    "# Elimino aquellas presiones con menos de 10 registros en hombres o mujeres\n",
    "df_pres_sex = df_pres_sex[(df_pres_sex[\"Female\"]>=10) | (df_pres_sex[\"Male\"]>=10)]\n",
    "# Vemos las más frecuentes para cada uno\n",
    "df_pres_sex_fem = df_pres_sex.sort_values(by=['Female'], ascending=False)\n",
    "df_pres_sex_male = df_pres_sex.sort_values(by=['Male'], ascending=False)"
   ]
  },
  {
   "cell_type": "code",
   "execution_count": 9,
   "metadata": {},
   "outputs": [
    {
     "data": {
      "text/html": [
       "<div>\n",
       "<style scoped>\n",
       "    .dataframe tbody tr th:only-of-type {\n",
       "        vertical-align: middle;\n",
       "    }\n",
       "\n",
       "    .dataframe tbody tr th {\n",
       "        vertical-align: top;\n",
       "    }\n",
       "\n",
       "    .dataframe thead th {\n",
       "        text-align: right;\n",
       "    }\n",
       "</style>\n",
       "<table border=\"1\" class=\"dataframe\">\n",
       "  <thead>\n",
       "    <tr style=\"text-align: right;\">\n",
       "      <th>sexo</th>\n",
       "      <th>Female</th>\n",
       "      <th>Male</th>\n",
       "    </tr>\n",
       "    <tr>\n",
       "      <th>presiones</th>\n",
       "      <th></th>\n",
       "      <th></th>\n",
       "    </tr>\n",
       "  </thead>\n",
       "  <tbody>\n",
       "    <tr>\n",
       "      <th>112222222222</th>\n",
       "      <td>319</td>\n",
       "      <td>181</td>\n",
       "    </tr>\n",
       "    <tr>\n",
       "      <th>001122211222</th>\n",
       "      <td>267</td>\n",
       "      <td>0</td>\n",
       "    </tr>\n",
       "    <tr>\n",
       "      <th>002221112222</th>\n",
       "      <td>161</td>\n",
       "      <td>0</td>\n",
       "    </tr>\n",
       "    <tr>\n",
       "      <th>112222122222</th>\n",
       "      <td>147</td>\n",
       "      <td>1</td>\n",
       "    </tr>\n",
       "    <tr>\n",
       "      <th>002222112222</th>\n",
       "      <td>135</td>\n",
       "      <td>13</td>\n",
       "    </tr>\n",
       "  </tbody>\n",
       "</table>\n",
       "</div>"
      ],
      "text/plain": [
       "sexo          Female  Male\n",
       "presiones                 \n",
       "112222222222     319   181\n",
       "001122211222     267     0\n",
       "002221112222     161     0\n",
       "112222122222     147     1\n",
       "002222112222     135    13"
      ]
     },
     "execution_count": 9,
     "metadata": {},
     "output_type": "execute_result"
    }
   ],
   "source": [
    "df_pres_sex_fem.head()"
   ]
  },
  {
   "cell_type": "code",
   "execution_count": 10,
   "metadata": {},
   "outputs": [
    {
     "data": {
      "text/html": [
       "<div>\n",
       "<style scoped>\n",
       "    .dataframe tbody tr th:only-of-type {\n",
       "        vertical-align: middle;\n",
       "    }\n",
       "\n",
       "    .dataframe tbody tr th {\n",
       "        vertical-align: top;\n",
       "    }\n",
       "\n",
       "    .dataframe thead th {\n",
       "        text-align: right;\n",
       "    }\n",
       "</style>\n",
       "<table border=\"1\" class=\"dataframe\">\n",
       "  <thead>\n",
       "    <tr style=\"text-align: right;\">\n",
       "      <th>sexo</th>\n",
       "      <th>Female</th>\n",
       "      <th>Male</th>\n",
       "    </tr>\n",
       "    <tr>\n",
       "      <th>presiones</th>\n",
       "      <th></th>\n",
       "      <th></th>\n",
       "    </tr>\n",
       "  </thead>\n",
       "  <tbody>\n",
       "    <tr>\n",
       "      <th>112222322222</th>\n",
       "      <td>3</td>\n",
       "      <td>188</td>\n",
       "    </tr>\n",
       "    <tr>\n",
       "      <th>112222222222</th>\n",
       "      <td>319</td>\n",
       "      <td>181</td>\n",
       "    </tr>\n",
       "    <tr>\n",
       "      <th>112223222222</th>\n",
       "      <td>103</td>\n",
       "      <td>170</td>\n",
       "    </tr>\n",
       "    <tr>\n",
       "      <th>002233322222</th>\n",
       "      <td>0</td>\n",
       "      <td>142</td>\n",
       "    </tr>\n",
       "    <tr>\n",
       "      <th>002223211222</th>\n",
       "      <td>83</td>\n",
       "      <td>135</td>\n",
       "    </tr>\n",
       "  </tbody>\n",
       "</table>\n",
       "</div>"
      ],
      "text/plain": [
       "sexo          Female  Male\n",
       "presiones                 \n",
       "112222322222       3   188\n",
       "112222222222     319   181\n",
       "112223222222     103   170\n",
       "002233322222       0   142\n",
       "002223211222      83   135"
      ]
     },
     "execution_count": 10,
     "metadata": {},
     "output_type": "execute_result"
    }
   ],
   "source": [
    "df_pres_sex_male.head()"
   ]
  },
  {
   "cell_type": "code",
   "execution_count": 11,
   "metadata": {},
   "outputs": [
    {
     "data": {
      "image/png": "[encoded data removed]",
      "text/plain": [
       "<Figure size 432x288 with 1 Axes>"
      ]
     },
     "metadata": {
      "needs_background": "light"
     },
     "output_type": "display_data"
    }
   ],
   "source": [
    "# Para pintarlo\n",
    "grouped_df = perfiles_filtrado.groupby([\"presiones\",\"sexo\"])\n",
    "df_pres_sex_graph = pd.DataFrame(grouped_df.size().reset_index(name = \"Group_Count\"))\n",
    "# Elimino aquellas presiones con menos de 20 registros en hombres o mujeres\n",
    "df_pres_sex_graph = df_pres_sex_graph[df_pres_sex_graph[\"Group_Count\"]>=25]\n",
    "sns.barplot(y='Group_Count',x='presiones',hue='sexo',data=df_pres_sex_graph)\n",
    "plt.show()"
   ]
  },
  {
   "cell_type": "markdown",
   "metadata": {},
   "source": [
    "El gráfico no es muy visual pero permite ver las diferencias con respecto a presiones en hombres y mujeres"
   ]
  },
  {
   "cell_type": "markdown",
   "metadata": {},
   "source": [
    "## Cruce presiones y posicion"
   ]
  },
  {
   "cell_type": "code",
   "execution_count": 12,
   "metadata": {},
   "outputs": [],
   "source": [
    "### Cruce presiones y posicion\n",
    "df_pres_pos = pd.DataFrame(pd.crosstab(perfiles_filtrado[\"presiones\"],perfiles_filtrado[\"posicion\"],normalize=False))\n",
    "# Elimino aquellas presiones con menos de 10 registros en lateral o supine\n",
    "df_pres_pos = df_pres_pos[(df_pres_pos[\"Lateral\"]>=10) | (df_pres_pos[\"Supine\"]>=10)]\n",
    "# Vemos las más frecuentes para cada uno\n",
    "df_pres_pos_lat = df_pres_pos.sort_values(by=['Lateral'], ascending=False)\n",
    "df_pres_pos_sup = df_pres_pos.sort_values(by=['Supine'], ascending=False)"
   ]
  },
  {
   "cell_type": "code",
   "execution_count": 13,
   "metadata": {},
   "outputs": [
    {
     "data": {
      "text/html": [
       "<div>\n",
       "<style scoped>\n",
       "    .dataframe tbody tr th:only-of-type {\n",
       "        vertical-align: middle;\n",
       "    }\n",
       "\n",
       "    .dataframe tbody tr th {\n",
       "        vertical-align: top;\n",
       "    }\n",
       "\n",
       "    .dataframe thead th {\n",
       "        text-align: right;\n",
       "    }\n",
       "</style>\n",
       "<table border=\"1\" class=\"dataframe\">\n",
       "  <thead>\n",
       "    <tr style=\"text-align: right;\">\n",
       "      <th>posicion</th>\n",
       "      <th>Lateral</th>\n",
       "      <th>Supine</th>\n",
       "    </tr>\n",
       "    <tr>\n",
       "      <th>presiones</th>\n",
       "      <th></th>\n",
       "      <th></th>\n",
       "    </tr>\n",
       "  </thead>\n",
       "  <tbody>\n",
       "    <tr>\n",
       "      <th>001122211222</th>\n",
       "      <td>267</td>\n",
       "      <td>0</td>\n",
       "    </tr>\n",
       "    <tr>\n",
       "      <th>002223211222</th>\n",
       "      <td>218</td>\n",
       "      <td>0</td>\n",
       "    </tr>\n",
       "    <tr>\n",
       "      <th>002233211222</th>\n",
       "      <td>181</td>\n",
       "      <td>0</td>\n",
       "    </tr>\n",
       "    <tr>\n",
       "      <th>002221112222</th>\n",
       "      <td>161</td>\n",
       "      <td>0</td>\n",
       "    </tr>\n",
       "    <tr>\n",
       "      <th>002222112222</th>\n",
       "      <td>148</td>\n",
       "      <td>0</td>\n",
       "    </tr>\n",
       "  </tbody>\n",
       "</table>\n",
       "</div>"
      ],
      "text/plain": [
       "posicion      Lateral  Supine\n",
       "presiones                    \n",
       "001122211222      267       0\n",
       "002223211222      218       0\n",
       "002233211222      181       0\n",
       "002221112222      161       0\n",
       "002222112222      148       0"
      ]
     },
     "execution_count": 13,
     "metadata": {},
     "output_type": "execute_result"
    }
   ],
   "source": [
    "df_pres_pos_lat.head()"
   ]
  },
  {
   "cell_type": "markdown",
   "metadata": {},
   "source": [
    "df_pres_pos_sup.head()"
   ]
  },
  {
   "cell_type": "code",
   "execution_count": 14,
   "metadata": {},
   "outputs": [
    {
     "data": {
      "image/png": "[encoded data removed]",
      "text/plain": [
       "<Figure size 432x288 with 1 Axes>"
      ]
     },
     "metadata": {
      "needs_background": "light"
     },
     "output_type": "display_data"
    }
   ],
   "source": [
    "# Para pintarlo\n",
    "grouped_df2 = perfiles_filtrado.groupby([\"presiones\",\"posicion\"])\n",
    "df_pres_pos_graph = pd.DataFrame(grouped_df2.size().reset_index(name = \"Group_Count\"))\n",
    "# Elimino aquellas presiones con menos de 25 registros en hombres o mujeres\n",
    "df_pres_pos_graph = df_pres_pos_graph[df_pres_pos_graph[\"Group_Count\"]>=25]\n",
    "sns.barplot(y='Group_Count',x='presiones',hue='posicion',data=df_pres_pos_graph)\n",
    "plt.show()"
   ]
  },
  {
   "cell_type": "markdown",
   "metadata": {},
   "source": [
    "La manera de dormir afecta totalmente a las presiones"
   ]
  },
  {
   "cell_type": "markdown",
   "metadata": {},
   "source": [
    "## Cruce presiones y altura"
   ]
  },
  {
   "cell_type": "code",
   "execution_count": 15,
   "metadata": {},
   "outputs": [],
   "source": [
    "### Cruce presiones y altura\n",
    "# Categorizamos altura\n",
    "perfiles_filtrado[\"altura_cat\"] = pd.cut(perfiles_filtrado['altura'], bins=[0, 155, 170, 185, 250], include_lowest=True,\n",
    "       labels=['<1.55', '1.55-1.7', '1.7-1.85', '>1.85'])\n",
    "# Cruce\n",
    "df_pres_alt = pd.DataFrame(pd.crosstab(perfiles_filtrado[\"presiones\"],perfiles_filtrado[\"altura_cat\"],normalize=False))\n",
    "\n"
   ]
  },
  {
   "cell_type": "code",
   "execution_count": 16,
   "metadata": {},
   "outputs": [
    {
     "data": {
      "image/png": "[encoded data removed]",
      "text/plain": [
       "<Figure size 432x288 with 1 Axes>"
      ]
     },
     "metadata": {
      "needs_background": "light"
     },
     "output_type": "display_data"
    }
   ],
   "source": [
    "# Para pintarlo\n",
    "grouped_df3 = perfiles_filtrado.groupby([\"presiones\",\"altura_cat\"])\n",
    "df_pres_alt_graph = pd.DataFrame(grouped_df3.size().reset_index(name = \"Group_Count\"))\n",
    "# Elimino aquellas presiones con menos de 20 registros en hombres o mujeres\n",
    "df_pres_alt_graph = df_pres_alt_graph[df_pres_alt_graph[\"Group_Count\"]>=25]\n",
    "sns.barplot(y='Group_Count',x='presiones',hue='altura_cat',data=df_pres_alt_graph)\n",
    "plt.show()"
   ]
  },
  {
   "cell_type": "markdown",
   "metadata": {},
   "source": [
    "# Mapas de calor para presiones"
   ]
  },
  {
   "cell_type": "code",
   "execution_count": 17,
   "metadata": {},
   "outputs": [],
   "source": [
    "# Funcion previa\n",
    "def presiones_df_heat(df):\n",
    "    # Dado un df input, separar las presiones de la variable presiones de perfiles_usuario\n",
    "    # df_pres: dataframe  de 12 columnas, una por cada posicion, 1 fila por id\n",
    "    # df_completo_pres: join(df, df_pres)\n",
    "    # df_pres_count: dataframe con 12 columnas (posiciones) y 6 filas (niveles de presion), conteo de valores\n",
    "    # df_pres_prop: df_pres_count/total valores\n",
    "\n",
    "    # Del df input nos quedamos con presiones\n",
    "    df_pres = df['presiones']\n",
    "\n",
    "    # Estructura para los df resultantes\n",
    "    cols = ['PresPos1', 'PresPos2', 'PresPos3', 'PresPos4', 'PresPos5', 'PresPos6',\n",
    "            'PresPos7', 'PresPos8', 'PresPos9', 'PresPos10', 'PresPos11', 'PresPos12']\n",
    "    rows_heat = ['NivPres0', 'NivPres1', 'NivPres2', 'NivPres3', 'NivPres4', 'NivPres5']\n",
    "    rows = range(len(df_pres))\n",
    "    df_pres_split = pd.DataFrame(columns=cols, index=rows)\n",
    "    df_pres_count = pd.DataFrame(columns=cols, index=rows_heat)\n",
    "\n",
    "    # Separamos las presiones\n",
    "    for j in range(len(df_pres)):\n",
    "        pres_j = df_pres.iloc[j]\n",
    "        pres_j_split = [pres_j[i:i + 1] for i in range(0, len(pres_j), 1)]\n",
    "        df_pres_split.iloc[j, :] = pres_j_split\n",
    "\n",
    "    # Para la distribucion\n",
    "    k = 0\n",
    "    for pos in cols:\n",
    "        # print(pos)\n",
    "        to_fill = list(df_pres_split.groupby(pos)[pos].size())\n",
    "        if len(to_fill) != 6:\n",
    "            to_fill = [sum(df_pres_split[pos] == '0'),sum(df_pres_split[pos] == '1'),\n",
    "                       sum(df_pres_split[pos] == '2'),sum(df_pres_split[pos] == '3'),\n",
    "                       sum(df_pres_split[pos] == '4'),sum(df_pres_split[pos] == '5')]\n",
    "        df_pres_count.iloc[:, k] = to_fill\n",
    "        k += 1\n",
    "\n",
    "    # Dividimos df_pres_count por el total de observaciones para tener la proporcion\n",
    "    df_pres_prop = df_pres_count / len(df_pres)\n",
    "    # Juntamos las presiones separadas al df original\n",
    "    df_completo_pres = pd.concat([df, df_pres_split], axis=1, join='inner')\n",
    "\n",
    "    return df_completo_pres, df_pres_count, df_pres_prop"
   ]
  },
  {
   "cell_type": "code",
   "execution_count": 18,
   "metadata": {},
   "outputs": [],
   "source": [
    "# Dataframes para cada grupo de interes\n",
    "df_female = perfiles_filtrado[perfiles_filtrado['sexo'] == \"Female\"]\n",
    "df_male = perfiles_filtrado[perfiles_filtrado['sexo'] == \"Male\"]\n",
    "df_supine = perfiles_filtrado[perfiles_filtrado['posicion'] == \"Supine\"]\n",
    "df_lateral = perfiles_filtrado[perfiles_filtrado['posicion'] == \"Lateral\"]\n",
    "df_bajopeso = perfiles_filtrado[perfiles_filtrado['IMC_cat'] == \"Bajo peso\"]\n",
    "df_normalpeso = perfiles_filtrado[perfiles_filtrado['IMC_cat'] == \"Normal\"]\n",
    "df_sobrepeso = perfiles_filtrado[perfiles_filtrado['IMC_cat'] == \"Sobrepeso\"]\n",
    "df_obesidad = perfiles_filtrado[perfiles_filtrado['IMC_cat'] == \"Obesidad\"]\n",
    "\n",
    "# Obtenemos info presiones\n",
    "_, _, df_female_heat = presiones_df_heat(df_female)\n",
    "_, _, df_male_heat = presiones_df_heat(df_male)\n",
    "\n",
    "_, _, df_supine_heat = presiones_df_heat(df_supine)\n",
    "_, _, df_lateral_heat = presiones_df_heat(df_lateral)\n",
    "\n",
    "_, _, df_bajopeso_heat = presiones_df_heat(df_bajopeso)\n",
    "_, _, df_normalpeso_heat = presiones_df_heat(df_normalpeso)\n",
    "_, _, df_sobrepeso_heat = presiones_df_heat(df_sobrepeso)\n",
    "_, _, df_obesidad_heat = presiones_df_heat(df_obesidad)"
   ]
  },
  {
   "cell_type": "code",
   "execution_count": 24,
   "metadata": {},
   "outputs": [],
   "source": [
    "### Mapa de calor general a modo de ejemplo\n",
    "_, _, perfiles_filtrado_heat = presiones_df_heat(perfiles_filtrado)"
   ]
  },
  {
   "cell_type": "code",
   "execution_count": 25,
   "metadata": {},
   "outputs": [
    {
     "data": {
      "image/png": "[encoded data removed]",
      "text/plain": [
       "<Figure size 432x288 with 2 Axes>"
      ]
     },
     "metadata": {
      "needs_background": "light"
     },
     "output_type": "display_data"
    }
   ],
   "source": [
    "\n",
    "sns.heatmap(perfiles_filtrado_heat, linewidth=0.5).set_title('Presiones')\n",
    "plt.show()"
   ]
  },
  {
   "cell_type": "markdown",
   "metadata": {},
   "source": [
    "### Mapa calor presiones en sexo"
   ]
  },
  {
   "cell_type": "code",
   "execution_count": 19,
   "metadata": {},
   "outputs": [
    {
     "data": {
      "image/png": "[encoded data removed]",
      "text/plain": [
       "<Figure size 432x288 with 4 Axes>"
      ]
     },
     "metadata": {
      "needs_background": "light"
     },
     "output_type": "display_data"
    }
   ],
   "source": [
    "fig, (ax1, ax2) = plt.subplots(2,1, sharex=True, sharey=True)\n",
    "sns.heatmap(df_female_heat, linewidth=0.5, ax = ax1).set_title('Female')\n",
    "sns.heatmap(df_male_heat, linewidth=0.5, ax = ax2).set_title('Male')\n",
    "plt.show()"
   ]
  },
  {
   "cell_type": "markdown",
   "metadata": {},
   "source": [
    "### Mapa calor presiones en posición"
   ]
  },
  {
   "cell_type": "code",
   "execution_count": 20,
   "metadata": {},
   "outputs": [
    {
     "data": {
      "image/png": "[encoded data removed]",
      "text/plain": [
       "<Figure size 432x288 with 4 Axes>"
      ]
     },
     "metadata": {
      "needs_background": "light"
     },
     "output_type": "display_data"
    }
   ],
   "source": [
    "fig, (ax1, ax2) = plt.subplots(2,1, sharex=True, sharey=True)\n",
    "sns.heatmap(df_supine_heat, linewidth=0.5, ax = ax1).set_title('Supine')\n",
    "sns.heatmap(df_lateral_heat, linewidth=0.5, ax = ax2).set_title('Lateral')\n",
    "plt.show()"
   ]
  },
  {
   "cell_type": "markdown",
   "metadata": {
    "pycharm": {
     "name": "#%% md\n"
    }
   },
   "source": [
    "### Mapa calor presiones en IMC"
   ]
  },
  {
   "cell_type": "code",
   "execution_count": 21,
   "metadata": {
    "collapsed": false,
    "jupyter": {
     "outputs_hidden": false
    },
    "pycharm": {
     "name": "#%%\n"
    }
   },
   "outputs": [
    {
     "data": {
      "image/png": "[encoded data removed]",
      "text/plain": [
       "<Figure size 432x288 with 8 Axes>"
      ]
     },
     "metadata": {
      "needs_background": "light"
     },
     "output_type": "display_data"
    }
   ],
   "source": [
    "fig, axs = plt.subplots(2,2, sharex=True, sharey=True)\n",
    "sns.heatmap(df_bajopeso_heat, ax=axs[0, 0]).set_title('Bajo peso')\n",
    "sns.heatmap(df_normalpeso_heat, ax=axs[0, 1]).set_title('Peso normal')\n",
    "sns.heatmap(df_sobrepeso_heat, ax=axs[1, 0]).set_title('Sobrepeso')\n",
    "sns.heatmap(df_obesidad_heat, ax=axs[1, 1]).set_title('Obesidad')\n",
    "plt.show()\n"
   ]
  },
  {
   "cell_type": "markdown",
   "metadata": {},
   "source": [
    "### Ejemplos"
   ]
  },
  {
   "cell_type": "markdown",
   "metadata": {},
   "source": [
    "#### Presiones en hombres grandes con posición Supine y en mujeres pequeñas con posición Lateral"
   ]
  },
  {
   "cell_type": "code",
   "execution_count": 22,
   "metadata": {},
   "outputs": [],
   "source": [
    "cat_bigmen = perfiles_filtrado[(perfiles_filtrado[\"sexo\"]==\"Male\") & (perfiles_filtrado[\"posicion\"] == \"Supine\") \n",
    "                               & (perfiles_filtrado[\"altura\"]>=180) & (perfiles_filtrado[\"peso\"] >= 80)]\n",
    "cat_smallwomen = perfiles_filtrado[(perfiles_filtrado[\"sexo\"]==\"Female\") & (perfiles_filtrado[\"posicion\"] == \"Lateral\")\n",
    "                                   & (perfiles_filtrado[\"altura\"]<=160) & (perfiles_filtrado[\"peso\"] <= 60)]\n",
    "# Cambiamos la posicion\n",
    "cat_bigmen2 = perfiles_filtrado[(perfiles_filtrado[\"sexo\"]==\"Male\") & (perfiles_filtrado[\"posicion\"] == \"Lateral\") \n",
    "                               & (perfiles_filtrado[\"altura\"]>=180) & (perfiles_filtrado[\"peso\"] >= 80)]\n",
    "cat_smallwomen2 = perfiles_filtrado[(perfiles_filtrado[\"sexo\"]==\"Female\") & (perfiles_filtrado[\"posicion\"] == \"Supine\")\n",
    "                                   & (perfiles_filtrado[\"altura\"]<=160) & (perfiles_filtrado[\"peso\"] <= 60)]\n",
    "\n",
    "# Obtenemos mapas de calor\n",
    "_,_, df_pres_prop_bigmen = presiones_df_heat(cat_bigmen)\n",
    "_,_, df_pres_prop_smallwomen = presiones_df_heat(cat_smallwomen)\n",
    "_,_, df_pres_prop_bigmen2 = presiones_df_heat(cat_bigmen2)\n",
    "_,_, df_pres_prop_smallwomen2 = presiones_df_heat(cat_smallwomen2)"
   ]
  },
  {
   "cell_type": "code",
   "execution_count": 23,
   "metadata": {},
   "outputs": [
    {
     "data": {
      "image/png": "[encoded data removed]",
      "text/plain": [
       "<Figure size 432x288 with 8 Axes>"
      ]
     },
     "metadata": {
      "needs_background": "light"
     },
     "output_type": "display_data"
    }
   ],
   "source": [
    "fig, axs = plt.subplots(2,2, sharex=True, sharey=True)\n",
    "sns.heatmap(df_pres_prop_bigmen, ax=axs[0, 0]).set_title('Big men supine')\n",
    "sns.heatmap(df_pres_prop_smallwomen, ax=axs[0, 1]).set_title('Small women lateral')\n",
    "sns.heatmap(df_pres_prop_bigmen2, ax=axs[1, 0]).set_title('Big men lateral')\n",
    "sns.heatmap(df_pres_prop_smallwomen2, ax=axs[1, 1]).set_title('Small women supine')\n",
    "plt.show()"
   ]
  },
  {
   "cell_type": "code",
   "execution_count": 26,
   "metadata": {},
   "outputs": [],
   "source": [
    "sesiones = pd.read_parquet('data/raw/flex_sesiones.parquet')"
   ]
  },
  {
   "cell_type": "code",
   "execution_count": 27,
   "metadata": {},
   "outputs": [
    {
     "data": {
      "text/plain": [
       "count     73224.000000\n",
       "mean        996.445176\n",
       "std        6340.056657\n",
       "min        -381.812000\n",
       "25%          29.547875\n",
       "50%          54.576650\n",
       "75%         536.534000\n",
       "max      540000.000000\n",
       "Name: sqr, dtype: float64"
      ]
     },
     "execution_count": 27,
     "metadata": {},
     "output_type": "execute_result"
    }
   ],
   "source": [
    "sesiones[\"sqr\"].describe()\n"
   ]
  },
  {
   "cell_type": "code",
   "execution_count": null,
   "metadata": {},
   "outputs": [],
   "source": []
  },
  {
   "cell_type": "code",
   "execution_count": null,
   "metadata": {},
   "outputs": [],
   "source": []
  }
 ],
 "metadata": {
  "kernelspec": {
   "display_name": "PyCharm (descansare)",
   "language": "python",
   "name": "pycharm-6c5f7d3a"
  },
  "language_info": {
   "codemirror_mode": {
    "name": "ipython",
    "version": 3
   },
   "file_extension": ".py",
   "mimetype": "text/x-python",
   "name": "python",
   "nbconvert_exporter": "python",
   "pygments_lexer": "ipython3",
   "version": "3.7.4"
  }
 },
 "nbformat": 4,
 "nbformat_minor": 4
}
