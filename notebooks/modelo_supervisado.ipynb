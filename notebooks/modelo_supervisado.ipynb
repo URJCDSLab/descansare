{
 "cells": [
  {
   "cell_type": "code",
   "execution_count": 1,
   "metadata": {},
   "outputs": [],
   "source": [
    "import pandas as pd"
   ]
  },
  {
   "cell_type": "code",
   "execution_count": 2,
   "metadata": {},
   "outputs": [],
   "source": [
    "def configuracion_comun(perfiles_sqr, sexo, posicion, altura, peso):\n",
    "    '''Se calcula la media y la desviación del SQR por configuración, para el grupo correspondiente. Devuelve la configuración más común con su\n",
    "    SQR asociado (media y desviación típica)'''\n",
    "    \n",
    "    # Se calcula el IMC\n",
    "    IMC = peso / (altura/100)**2\n",
    "    \n",
    "    # Cálculo del IMC categorizado\n",
    "    if IMC < 25:\n",
    "        IMC_cat = 'Normal'\n",
    "    elif IMC < 30:\n",
    "        IMC_cat = 'Overweight'\n",
    "    else:\n",
    "        IMC_cat = 'Obese'\n",
    "        \n",
    "    # Filtrado del grupo al que pertenece\n",
    "    perfiles_filtrado = perfiles_sqr[(perfiles_sqr.sexo == sexo) & (perfiles_sqr.posicion == posicion) & (perfiles_sqr.IMC_cat == IMC_cat)]\n",
    "    presiones = perfiles_filtrado[['presiones', 'sqr']].groupby('presiones').describe().loc[:, 'sqr']\n",
    "\n",
    "    # Cálculo de estadísticos del SQR para cada configuración de presiones\n",
    "    presiones = presiones.rename({'count':'frecuencia_absoluta', 'mean':'media', 'std': 'desviación'}, axis='columns').round(2)\n",
    "    presiones_mas_comun = presiones.sort_values(by='frecuencia_absoluta', ascending=False).index[0]\n",
    "    media_sqr = presiones.loc[presiones_mas_comun]['media'].round(2)\n",
    "    std_sqr = presiones.loc[presiones_mas_comun]['desviación'].round(2)\n",
    "    \n",
    "    return presiones_mas_comun, media_sqr, std_sqr"
   ]
  },
  {
   "cell_type": "code",
   "execution_count": 3,
   "metadata": {},
   "outputs": [],
   "source": [
    "# Cargamos datos con SQR (Sesiones)\n",
    "perfiles_sqr = pd.read_parquet('../data/processed/perfiles_sqr_filtrado.parquet')\n",
    "\n",
    "perfiles_sqr['IMC'] = perfiles_sqr['peso'] / (perfiles_sqr['altura']/100)**2\n",
    "perfiles_sqr['IMC_cat'] = pd.cut(perfiles_sqr['IMC'], bins=[0, 25, 30, 50],\n",
    "                                include_lowest=True,labels=['Normal', 'Overweight', 'Obese'])"
   ]
  },
  {
   "cell_type": "markdown",
   "metadata": {},
   "source": [
    "## Ejemplo de uso"
   ]
  },
  {
   "cell_type": "code",
   "execution_count": 4,
   "metadata": {},
   "outputs": [],
   "source": [
    "sexo = \"Female\"\n",
    "posicion = 'Lateral'\n",
    "altura = 180\n",
    "peso = 80\n",
    "\n",
    "## media y sigma del sqi\n",
    "configuracion_cero = '111111' # no está\n",
    "# configuracion_cero = '000000' # está sólo una vez\n",
    "# configuracion_cero = '023211' #está más de una vez"
   ]
  },
  {
   "cell_type": "code",
   "execution_count": 5,
   "metadata": {},
   "outputs": [
    {
     "data": {
      "text/plain": [
       "('012211', 71.81, 15.27)"
      ]
     },
     "execution_count": 5,
     "metadata": {},
     "output_type": "execute_result"
    }
   ],
   "source": [
    "configuracion_comun(perfiles_sqr, sexo, posicion, altura, peso)"
   ]
  }
 ],
 "metadata": {
  "kernelspec": {
   "display_name": "Python [conda env:descansare] *",
   "language": "python",
   "name": "conda-env-descansare-py"
  },
  "language_info": {
   "codemirror_mode": {
    "name": "ipython",
    "version": 3
   },
   "file_extension": ".py",
   "mimetype": "text/x-python",
   "name": "python",
   "nbconvert_exporter": "python",
   "pygments_lexer": "ipython3",
   "version": "3.8.5"
  }
 },
 "nbformat": 4,
 "nbformat_minor": 4
}
