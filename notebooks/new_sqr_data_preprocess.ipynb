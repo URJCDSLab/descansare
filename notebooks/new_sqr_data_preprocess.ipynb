{
 "cells": [
  {
   "cell_type": "code",
   "execution_count": null,
   "metadata": {},
   "outputs": [],
   "source": [
    "%load_ext autoreload\n",
    "%autoreload 2"
   ]
  },
  {
   "cell_type": "code",
   "execution_count": null,
   "metadata": {},
   "outputs": [],
   "source": [
    "import numpy as np\n",
    "import pandas as pd\n",
    "import pickle\n",
    "\n",
    "from src.sqr.sqr import calculate_sqi"
   ]
  },
  {
   "cell_type": "code",
   "execution_count": null,
   "metadata": {},
   "outputs": [],
   "source": [
    "sessions = pd.read_parquet('../data/raw/flex_sesiones.parquet')"
   ]
  },
  {
   "cell_type": "code",
   "execution_count": null,
   "metadata": {},
   "outputs": [],
   "source": [
    "sessions.head()"
   ]
  },
  {
   "cell_type": "code",
   "execution_count": null,
   "metadata": {},
   "outputs": [],
   "source": [
    "sessions = pd.read_parquet('../data/raw/flex_sesiones.parquet')\n",
    "movements = pd.read_parquet('../data/processed/flex_movements.parquet')"
   ]
  },
  {
   "cell_type": "code",
   "execution_count": null,
   "metadata": {},
   "outputs": [],
   "source": [
    "def rename_movement_columns(df):\n",
    "    dict(zip(keys, values))\n",
    "    old_names = ['fecha', 'presion0', 'presion1', 'presion2', 'presion3', \n",
    "                 'presion4', 'presion5', 'presion6', 'presion7', 'presion8',\n",
    "                 'presion9', 'presion10', 'presion11', 'presion12',\n",
    "                 'tipoMovimiento']\n",
    "    new_names = ['timestamp', 'pressure0', 'pressure1', 'pressure2', \n",
    "             'pressure3', 'pressure4', 'pressure5', 'pressure6', \n",
    "             'pressure7', 'pressure8','pressure9', 'pressure10',\n",
    "             'pressure11', 'pressure12', 'type']\n",
    "    \n",
    "    return df.rename(dict(zip(old_names, new_names)))"
   ]
  },
  {
   "cell_type": "code",
   "execution_count": null,
   "metadata": {},
   "outputs": [],
   "source": []
  },
  {
   "cell_type": "code",
   "execution_count": null,
   "metadata": {},
   "outputs": [],
   "source": [
    "movements = rename_movement_columns(movements)\n",
    "\n",
    "def calculate_new_sqr(session_id):\n",
    "    session_movements = movements[movements['idSesion'] == session_id]\n",
    "    \n",
    "    return calculate_sqi(session_movements)\n",
    "\n",
    "sessions['sqr'] = sessions['idSesiones'].apply(calculate_new_sqr, axis=1)"
   ]
  },
  {
   "cell_type": "code",
   "execution_count": null,
   "metadata": {},
   "outputs": [],
   "source": []
  }
 ],
 "metadata": {
  "kernelspec": {
   "display_name": "Python 3",
   "language": "python",
   "name": "python3"
  },
  "language_info": {
   "codemirror_mode": {
    "name": "ipython",
    "version": 3
   },
   "file_extension": ".py",
   "mimetype": "text/x-python",
   "name": "python",
   "nbconvert_exporter": "python",
   "pygments_lexer": "ipython3",
   "version": "3.6.8"
  }
 },
 "nbformat": 4,
 "nbformat_minor": 4
}
