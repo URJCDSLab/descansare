{
 "cells": [
  {
   "cell_type": "code",
   "execution_count": 1,
   "metadata": {},
   "outputs": [],
   "source": [
    "%load_ext autoreload\n",
    "%autoreload 2"
   ]
  },
  {
   "cell_type": "code",
   "execution_count": 66,
   "metadata": {},
   "outputs": [],
   "source": [
    "import numpy as np\n",
    "import pandas as pd\n",
    "import pickle\n",
    "\n",
    "from src.sqr.sqr import calculate_sqi"
   ]
  },
  {
   "cell_type": "code",
   "execution_count": null,
   "metadata": {},
   "outputs": [],
   "source": []
  },
  {
   "cell_type": "code",
   "execution_count": 6,
   "metadata": {},
   "outputs": [],
   "source": [
    "sessions = pd.read_parquet('../data/raw/flex_desarrollo_sesiones.parquet')"
   ]
  },
  {
   "cell_type": "code",
   "execution_count": 7,
   "metadata": {},
   "outputs": [
    {
     "data": {
      "text/html": [
       "<div>\n",
       "<style scoped>\n",
       "    .dataframe tbody tr th:only-of-type {\n",
       "        vertical-align: middle;\n",
       "    }\n",
       "\n",
       "    .dataframe tbody tr th {\n",
       "        vertical-align: top;\n",
       "    }\n",
       "\n",
       "    .dataframe thead th {\n",
       "        text-align: right;\n",
       "    }\n",
       "</style>\n",
       "<table border=\"1\" class=\"dataframe\">\n",
       "  <thead>\n",
       "    <tr style=\"text-align: right;\">\n",
       "      <th></th>\n",
       "      <th>idSesiones</th>\n",
       "      <th>fechaInicio</th>\n",
       "      <th>fechaFin</th>\n",
       "      <th>idPerfil</th>\n",
       "      <th>idImatt</th>\n",
       "      <th>sqr</th>\n",
       "      <th>lecho</th>\n",
       "      <th>notaUsuario</th>\n",
       "      <th>suenios</th>\n",
       "      <th>idUsuario</th>\n",
       "      <th>...</th>\n",
       "      <th>poco_descanso</th>\n",
       "      <th>notas</th>\n",
       "      <th>imagen_hot</th>\n",
       "      <th>wake</th>\n",
       "      <th>rem</th>\n",
       "      <th>nr_1</th>\n",
       "      <th>nr_2</th>\n",
       "      <th>deep</th>\n",
       "      <th>fechaEntrada</th>\n",
       "      <th>idPerfilPadre</th>\n",
       "    </tr>\n",
       "  </thead>\n",
       "  <tbody>\n",
       "    <tr>\n",
       "      <th>0</th>\n",
       "      <td>20</td>\n",
       "      <td>2017-06-29 01:18:47</td>\n",
       "      <td>2017-06-29 07:51:47</td>\n",
       "      <td>NaN</td>\n",
       "      <td>11.0</td>\n",
       "      <td>40.0493</td>\n",
       "      <td>1.0</td>\n",
       "      <td>NaN</td>\n",
       "      <td>None</td>\n",
       "      <td>3.0</td>\n",
       "      <td>...</td>\n",
       "      <td>NaN</td>\n",
       "      <td>0</td>\n",
       "      <td>None</td>\n",
       "      <td>None</td>\n",
       "      <td>None</td>\n",
       "      <td>None</td>\n",
       "      <td>None</td>\n",
       "      <td>None</td>\n",
       "      <td>NaT</td>\n",
       "      <td>0</td>\n",
       "    </tr>\n",
       "    <tr>\n",
       "      <th>1</th>\n",
       "      <td>21</td>\n",
       "      <td>2017-06-30 01:29:11</td>\n",
       "      <td>2017-06-30 07:53:34</td>\n",
       "      <td>NaN</td>\n",
       "      <td>11.0</td>\n",
       "      <td>27.3639</td>\n",
       "      <td>1.0</td>\n",
       "      <td>NaN</td>\n",
       "      <td>None</td>\n",
       "      <td>3.0</td>\n",
       "      <td>...</td>\n",
       "      <td>NaN</td>\n",
       "      <td>0</td>\n",
       "      <td>None</td>\n",
       "      <td>None</td>\n",
       "      <td>None</td>\n",
       "      <td>None</td>\n",
       "      <td>None</td>\n",
       "      <td>None</td>\n",
       "      <td>NaT</td>\n",
       "      <td>0</td>\n",
       "    </tr>\n",
       "    <tr>\n",
       "      <th>2</th>\n",
       "      <td>22</td>\n",
       "      <td>2017-07-01 01:02:20</td>\n",
       "      <td>2017-07-01 06:15:55</td>\n",
       "      <td>NaN</td>\n",
       "      <td>11.0</td>\n",
       "      <td>40.3763</td>\n",
       "      <td>1.0</td>\n",
       "      <td>NaN</td>\n",
       "      <td>None</td>\n",
       "      <td>3.0</td>\n",
       "      <td>...</td>\n",
       "      <td>NaN</td>\n",
       "      <td>0</td>\n",
       "      <td>None</td>\n",
       "      <td>None</td>\n",
       "      <td>None</td>\n",
       "      <td>None</td>\n",
       "      <td>None</td>\n",
       "      <td>None</td>\n",
       "      <td>NaT</td>\n",
       "      <td>0</td>\n",
       "    </tr>\n",
       "    <tr>\n",
       "      <th>3</th>\n",
       "      <td>23</td>\n",
       "      <td>2017-07-01 00:32:46</td>\n",
       "      <td>2017-07-01 08:18:00</td>\n",
       "      <td>NaN</td>\n",
       "      <td>37.0</td>\n",
       "      <td>27.2268</td>\n",
       "      <td>1.0</td>\n",
       "      <td>2.0</td>\n",
       "      <td>None</td>\n",
       "      <td>2.0</td>\n",
       "      <td>...</td>\n",
       "      <td>0.0</td>\n",
       "      <td>0</td>\n",
       "      <td>None</td>\n",
       "      <td>None</td>\n",
       "      <td>None</td>\n",
       "      <td>None</td>\n",
       "      <td>None</td>\n",
       "      <td>None</td>\n",
       "      <td>NaT</td>\n",
       "      <td>0</td>\n",
       "    </tr>\n",
       "    <tr>\n",
       "      <th>4</th>\n",
       "      <td>24</td>\n",
       "      <td>2017-07-01 00:32:51</td>\n",
       "      <td>2017-07-01 06:50:36</td>\n",
       "      <td>NaN</td>\n",
       "      <td>37.0</td>\n",
       "      <td>21.9241</td>\n",
       "      <td>2.0</td>\n",
       "      <td>NaN</td>\n",
       "      <td>None</td>\n",
       "      <td>2.0</td>\n",
       "      <td>...</td>\n",
       "      <td>NaN</td>\n",
       "      <td>0</td>\n",
       "      <td>None</td>\n",
       "      <td>None</td>\n",
       "      <td>None</td>\n",
       "      <td>None</td>\n",
       "      <td>None</td>\n",
       "      <td>None</td>\n",
       "      <td>NaT</td>\n",
       "      <td>0</td>\n",
       "    </tr>\n",
       "  </tbody>\n",
       "</table>\n",
       "<p>5 rows × 25 columns</p>\n",
       "</div>"
      ],
      "text/plain": [
       "   idSesiones         fechaInicio            fechaFin  idPerfil  idImatt  \\\n",
       "0          20 2017-06-29 01:18:47 2017-06-29 07:51:47       NaN     11.0   \n",
       "1          21 2017-06-30 01:29:11 2017-06-30 07:53:34       NaN     11.0   \n",
       "2          22 2017-07-01 01:02:20 2017-07-01 06:15:55       NaN     11.0   \n",
       "3          23 2017-07-01 00:32:46 2017-07-01 08:18:00       NaN     37.0   \n",
       "4          24 2017-07-01 00:32:51 2017-07-01 06:50:36       NaN     37.0   \n",
       "\n",
       "       sqr  lecho  notaUsuario suenios  idUsuario  ...  poco_descanso  notas  \\\n",
       "0  40.0493    1.0          NaN    None        3.0  ...            NaN      0   \n",
       "1  27.3639    1.0          NaN    None        3.0  ...            NaN      0   \n",
       "2  40.3763    1.0          NaN    None        3.0  ...            NaN      0   \n",
       "3  27.2268    1.0          2.0    None        2.0  ...            0.0      0   \n",
       "4  21.9241    2.0          NaN    None        2.0  ...            NaN      0   \n",
       "\n",
       "   imagen_hot  wake   rem  nr_1  nr_2  deep fechaEntrada idPerfilPadre  \n",
       "0        None  None  None  None  None  None          NaT             0  \n",
       "1        None  None  None  None  None  None          NaT             0  \n",
       "2        None  None  None  None  None  None          NaT             0  \n",
       "3        None  None  None  None  None  None          NaT             0  \n",
       "4        None  None  None  None  None  None          NaT             0  \n",
       "\n",
       "[5 rows x 25 columns]"
      ]
     },
     "execution_count": 7,
     "metadata": {},
     "output_type": "execute_result"
    }
   ],
   "source": [
    "sessions.head()"
   ]
  },
  {
   "cell_type": "code",
   "execution_count": 10,
   "metadata": {},
   "outputs": [],
   "source": [
    "sessions = pd.read_parquet('../data/raw/flex_desarrollo_sesiones.parquet')\n",
    "movements = pd.read_parquet('../data/raw/flex_desarrollo_movimientos.parquet')"
   ]
  },
  {
   "cell_type": "code",
   "execution_count": 45,
   "metadata": {},
   "outputs": [],
   "source": [
    "def rename_movement_columns(df):\n",
    "    old_names = ['fecha', 'presion0', 'presion1', 'presion2', 'presion3', \n",
    "                 'presion4', 'presion5', 'presion6', 'presion7', 'presion8',\n",
    "                 'presion9', 'presion10', 'presion11', 'presion12',\n",
    "                 'tipoMovimiento']\n",
    "    new_names = ['timestamp', 'pressure0', 'pressure1', 'pressure2', \n",
    "             'pressure3', 'pressure4', 'pressure5', 'pressure6', \n",
    "             'pressure7', 'pressure8','pressure9', 'pressure10',\n",
    "             'pressure11', 'pressure12', 'type']\n",
    "    \n",
    "    return df.rename(columns=dict(zip(old_names, new_names)))"
   ]
  },
  {
   "cell_type": "code",
   "execution_count": null,
   "metadata": {},
   "outputs": [],
   "source": []
  },
  {
   "cell_type": "code",
   "execution_count": 56,
   "metadata": {},
   "outputs": [],
   "source": [
    "movements = rename_movement_columns(movements)\n",
    "\n",
    "def calculate_new_sqr(session):\n",
    "    session_movements = movements[movements['idSesion'] == session['idSesiones']]\n",
    "    return calculate_sqi(session['fechaInicio'], session['fechaInicio'], session_movements)\n",
    "\n",
    "sessions['sqr'] = sessions.apply(calculate_new_sqr, axis=1)"
   ]
  },
  {
   "cell_type": "code",
   "execution_count": 63,
   "metadata": {},
   "outputs": [],
   "source": [
    "sessions.to_parquet('../data/processed/sessions_new_sqr.parquet')"
   ]
  },
  {
   "cell_type": "code",
   "execution_count": 80,
   "metadata": {},
   "outputs": [
    {
     "data": {
      "text/plain": [
       "(27365, 25)"
      ]
     },
     "execution_count": 80,
     "metadata": {},
     "output_type": "execute_result"
    }
   ],
   "source": [
    "sessions.shape"
   ]
  },
  {
   "cell_type": "code",
   "execution_count": 79,
   "metadata": {},
   "outputs": [
    {
     "data": {
      "text/plain": [
       "(22439,)"
      ]
     },
     "execution_count": 79,
     "metadata": {},
     "output_type": "execute_result"
    }
   ],
   "source": [
    "sessions['sqr'][sessions['sqr'] < 100].shape"
   ]
  },
  {
   "cell_type": "code",
   "execution_count": 81,
   "metadata": {},
   "outputs": [
    {
     "data": {
      "text/plain": [
       "<AxesSubplot:>"
      ]
     },
     "execution_count": 81,
     "metadata": {},
     "output_type": "execute_result"
    },
    {
     "data": {
      "image/png": "[encoded data removed]",
      "text/plain": [
       "<Figure size 432x288 with 1 Axes>"
      ]
     },
     "metadata": {
      "needs_background": "light"
     },
     "output_type": "display_data"
    }
   ],
   "source": [
    "sessions['sqr'][sessions['sqr'] < 100].hist()"
   ]
  },
  {
   "cell_type": "code",
   "execution_count": 95,
   "metadata": {},
   "outputs": [
    {
     "data": {
      "text/plain": [
       "(608, 25)"
      ]
     },
     "execution_count": 95,
     "metadata": {},
     "output_type": "execute_result"
    }
   ],
   "source": [
    "sessions_gt_7 = sessions[(sessions['fechaFin'] - sessions['fechaEntrada']) > pd.Timedelta(hours=7)]\n",
    "sessions_gt_7.shape"
   ]
  },
  {
   "cell_type": "code",
   "execution_count": 96,
   "metadata": {},
   "outputs": [
    {
     "data": {
      "text/plain": [
       "<AxesSubplot:>"
      ]
     },
     "execution_count": 96,
     "metadata": {},
     "output_type": "execute_result"
    },
    {
     "data": {
      "image/png": "[encoded data removed]",
      "text/plain": [
       "<Figure size 432x288 with 1 Axes>"
      ]
     },
     "metadata": {
      "needs_background": "light"
     },
     "output_type": "display_data"
    }
   ],
   "source": [
    "sessions_gt_7['sqr'][sessions_gt_7['sqr'] < 100].hist()"
   ]
  },
  {
   "cell_type": "code",
   "execution_count": null,
   "metadata": {},
   "outputs": [],
   "source": []
  }
 ],
 "metadata": {
  "kernelspec": {
   "display_name": "Python 3",
   "language": "python",
   "name": "python3"
  },
  "language_info": {
   "codemirror_mode": {
    "name": "ipython",
    "version": 3
   },
   "file_extension": ".py",
   "mimetype": "text/x-python",
   "name": "python",
   "nbconvert_exporter": "python",
   "pygments_lexer": "ipython3",
   "version": "3.6.8"
  }
 },
 "nbformat": 4,
 "nbformat_minor": 4
}
