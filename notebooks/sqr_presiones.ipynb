{
 "cells": [
  {
   "cell_type": "code",
   "execution_count": 1,
   "metadata": {},
   "outputs": [],
   "source": [
    "%load_ext autoreload\n",
    "%autoreload 2"
   ]
  },
  {
   "cell_type": "code",
   "execution_count": 2,
   "metadata": {},
   "outputs": [
    {
     "name": "stderr",
     "output_type": "stream",
     "text": [
      "/home/vacek/anaconda3/envs/descansare/lib/python3.8/site-packages/sklearn/utils/deprecation.py:143: FutureWarning: The sklearn.metrics.scorer module is  deprecated in version 0.22 and will be removed in version 0.24. The corresponding classes / functions should instead be imported from sklearn.metrics. Anything that cannot be imported from sklearn.metrics is now part of the private API.\n",
      "  warnings.warn(message, FutureWarning)\n",
      "/home/vacek/anaconda3/envs/descansare/lib/python3.8/site-packages/sklearn/utils/deprecation.py:143: FutureWarning: The sklearn.feature_selection.base module is  deprecated in version 0.22 and will be removed in version 0.24. The corresponding classes / functions should instead be imported from sklearn.feature_selection. Anything that cannot be imported from sklearn.feature_selection is now part of the private API.\n",
      "  warnings.warn(message, FutureWarning)\n"
     ]
    }
   ],
   "source": [
    "# Cargamos las librerías necesarias\n",
    "import math\n",
    "from functools import reduce\n",
    "\n",
    "import pandas as pd\n",
    "import numpy as np\n",
    "from pygam import GAM, te, f, s, te\n",
    "import matplotlib.pyplot as plt\n",
    "import seaborn as sns\n",
    "from sklearn.model_selection import train_test_split\n",
    "from sklearn import preprocessing\n",
    "from sklearn.ensemble import RandomForestRegressor\n",
    "import eli5\n",
    "from eli5.sklearn import PermutationImportance\n",
    "import shap\n",
    "\n",
    "from src.visualization.metrics_summary import cross_val_reg, gam_cross_val_reg, err_hist, pred_hist, plot_residuo, plot_corr_matrix"
   ]
  },
  {
   "cell_type": "code",
   "execution_count": 3,
   "metadata": {},
   "outputs": [],
   "source": [
    "# Leemos los datos\n",
    "perfiles_sqr = pd.read_parquet('../data/processed/perfiles_sqr_knn.parquet')\n",
    "\n",
    "# Lateral = 0, Supine = 1\n",
    "# Male = 1, Female = 0"
   ]
  },
  {
   "cell_type": "code",
   "execution_count": 8,
   "metadata": {},
   "outputs": [],
   "source": [
    "describe_presiones = perfiles_sqr.groupby('presiones').describe()"
   ]
  },
  {
   "cell_type": "code",
   "execution_count": 13,
   "metadata": {},
   "outputs": [],
   "source": [
    "sqr_presiones = describe_presiones.loc[:, 'sqr']"
   ]
  },
  {
   "cell_type": "code",
   "execution_count": 19,
   "metadata": {},
   "outputs": [
    {
     "data": {
      "image/png": "[encoded data removed]",
      "text/plain": [
       "<Figure size 432x288 with 1 Axes>"
      ]
     },
     "metadata": {
      "needs_background": "light"
     },
     "output_type": "display_data"
    }
   ],
   "source": [
    "sqr_presiones['mean'].hist();"
   ]
  },
  {
   "cell_type": "code",
   "execution_count": 18,
   "metadata": {},
   "outputs": [
    {
     "data": {
      "image/png": "[encoded data removed]",
      "text/plain": [
       "<Figure size 432x288 with 1 Axes>"
      ]
     },
     "metadata": {
      "needs_background": "light"
     },
     "output_type": "display_data"
    }
   ],
   "source": [
    "sqr_presiones['50%'].hist();"
   ]
  },
  {
   "cell_type": "code",
   "execution_count": 20,
   "metadata": {},
   "outputs": [
    {
     "data": {
      "text/plain": [
       "count    139.000000\n",
       "mean      73.848543\n",
       "std       10.810187\n",
       "min       39.203386\n",
       "25%       68.182906\n",
       "50%       74.200886\n",
       "75%       80.056746\n",
       "max       99.341667\n",
       "Name: 50%, dtype: float64"
      ]
     },
     "execution_count": 20,
     "metadata": {},
     "output_type": "execute_result"
    }
   ],
   "source": [
    "sqr_presiones['50%'].describe()"
   ]
  },
  {
   "cell_type": "code",
   "execution_count": 26,
   "metadata": {},
   "outputs": [
    {
     "data": {
      "text/html": [
       "['002211', '010001', '010002', '011122', '012321', '012322', '012332', '021112', '022333', '022421', '023421', '030111', '033222', '042045', '042233', '102012', '111111', '122321', '123211', '123222', '123343', '133301', '133331', '133431', '133432', '135321', '144332', '233332', '233343', '233443', '335532', '423330', '525332', '534451', '555554']"
      ],
      "text/plain": [
       "['002211',\n",
       " '010001',\n",
       " '010002',\n",
       " '011122',\n",
       " '012321',\n",
       " '012322',\n",
       " '012332',\n",
       " '021112',\n",
       " '022333',\n",
       " '022421',\n",
       " '023421',\n",
       " '030111',\n",
       " '033222',\n",
       " '042045',\n",
       " '042233',\n",
       " '102012',\n",
       " '111111',\n",
       " '122321',\n",
       " '123211',\n",
       " '123222',\n",
       " '123343',\n",
       " '133301',\n",
       " '133331',\n",
       " '133431',\n",
       " '133432',\n",
       " '135321',\n",
       " '144332',\n",
       " '233332',\n",
       " '233343',\n",
       " '233443',\n",
       " '335532',\n",
       " '423330',\n",
       " '525332',\n",
       " '534451',\n",
       " '555554']"
      ]
     },
     "execution_count": 26,
     "metadata": {},
     "output_type": "execute_result"
    }
   ],
   "source": [
    "[i for i in sqr_presiones.index if sqr_presiones.loc[i, '50%'] < 68.182906]"
   ]
  },
  {
   "cell_type": "code",
   "execution_count": 27,
   "metadata": {},
   "outputs": [
    {
     "data": {
      "text/html": [
       "['000000', '000001', '000333', '003333', '010010', '010022', '011111', '012211', '012221', '012222', '012232', '012311', '022110', '022111', '022211', '022212', '022221', '022222', '022320', '022321', '022332', '023211', '023321', '023332', '033211', '033212', '033330', '033333', '040034', '101111', '101220', '110012', '110302', '112233', '112321', '113333', '122211', '122212', '122221', '122222', '122232', '122322', '122332', '123321', '123322', '123332', '123333', '132332', '133332', '134312', '222222', '223333', '233333', '233432', '234432', '234443', '234453', '234532', '333333', '334443', '334444', '335541', '355544', '435533', '444453', '543455', '555443', '555532', '555555']"
      ],
      "text/plain": [
       "['000000',\n",
       " '000001',\n",
       " '000333',\n",
       " '003333',\n",
       " '010010',\n",
       " '010022',\n",
       " '011111',\n",
       " '012211',\n",
       " '012221',\n",
       " '012222',\n",
       " '012232',\n",
       " '012311',\n",
       " '022110',\n",
       " '022111',\n",
       " '022211',\n",
       " '022212',\n",
       " '022221',\n",
       " '022222',\n",
       " '022320',\n",
       " '022321',\n",
       " '022332',\n",
       " '023211',\n",
       " '023321',\n",
       " '023332',\n",
       " '033211',\n",
       " '033212',\n",
       " '033330',\n",
       " '033333',\n",
       " '040034',\n",
       " '101111',\n",
       " '101220',\n",
       " '110012',\n",
       " '110302',\n",
       " '112233',\n",
       " '112321',\n",
       " '113333',\n",
       " '122211',\n",
       " '122212',\n",
       " '122221',\n",
       " '122222',\n",
       " '122232',\n",
       " '122322',\n",
       " '122332',\n",
       " '123321',\n",
       " '123322',\n",
       " '123332',\n",
       " '123333',\n",
       " '132332',\n",
       " '133332',\n",
       " '134312',\n",
       " '222222',\n",
       " '223333',\n",
       " '233333',\n",
       " '233432',\n",
       " '234432',\n",
       " '234443',\n",
       " '234453',\n",
       " '234532',\n",
       " '333333',\n",
       " '334443',\n",
       " '334444',\n",
       " '335541',\n",
       " '355544',\n",
       " '435533',\n",
       " '444453',\n",
       " '543455',\n",
       " '555443',\n",
       " '555532',\n",
       " '555555']"
      ]
     },
     "execution_count": 27,
     "metadata": {},
     "output_type": "execute_result"
    }
   ],
   "source": [
    "[i for i in sqr_presiones.index if 68.182906 <= sqr_presiones.loc[i, '50%'] <= 80.056746]"
   ]
  },
  {
   "cell_type": "code",
   "execution_count": 28,
   "metadata": {},
   "outputs": [
    {
     "data": {
      "text/html": [
       "['000002', '000321', '001310', '011000', '011100', '022311', '023111', '023112', '023212', '023322', '032325', '033321', '043311', '112221', '112232', '120022', '123212', '123312', '123331', '123421', '133321', '222000', '223332', '223344', '233321', '233433', '234323', '334432', '343333', '344333', '355345', '423334', '432221', '444444', '455554']"
      ],
      "text/plain": [
       "['000002',\n",
       " '000321',\n",
       " '001310',\n",
       " '011000',\n",
       " '011100',\n",
       " '022311',\n",
       " '023111',\n",
       " '023112',\n",
       " '023212',\n",
       " '023322',\n",
       " '032325',\n",
       " '033321',\n",
       " '043311',\n",
       " '112221',\n",
       " '112232',\n",
       " '120022',\n",
       " '123212',\n",
       " '123312',\n",
       " '123331',\n",
       " '123421',\n",
       " '133321',\n",
       " '222000',\n",
       " '223332',\n",
       " '223344',\n",
       " '233321',\n",
       " '233433',\n",
       " '234323',\n",
       " '334432',\n",
       " '343333',\n",
       " '344333',\n",
       " '355345',\n",
       " '423334',\n",
       " '432221',\n",
       " '444444',\n",
       " '455554']"
      ]
     },
     "execution_count": 28,
     "metadata": {},
     "output_type": "execute_result"
    }
   ],
   "source": [
    "[i for i in sqr_presiones.index if sqr_presiones.loc[i, '50%'] > 80.056746]"
   ]
  }
 ],
 "metadata": {
  "kernelspec": {
   "display_name": "Python [conda env:descansare] *",
   "language": "python",
   "name": "conda-env-descansare-py"
  },
  "language_info": {
   "codemirror_mode": {
    "name": "ipython",
    "version": 3
   },
   "file_extension": ".py",
   "mimetype": "text/x-python",
   "name": "python",
   "nbconvert_exporter": "python",
   "pygments_lexer": "ipython3",
   "version": "3.8.3"
  }
 },
 "nbformat": 4,
 "nbformat_minor": 4
}
