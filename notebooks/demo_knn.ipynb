{
 "cells": [
  {
   "cell_type": "code",
   "execution_count": 1,
   "metadata": {},
   "outputs": [],
   "source": [
    "%load_ext autoreload\n",
    "%autoreload 2"
   ]
  },
  {
   "cell_type": "code",
   "execution_count": 2,
   "metadata": {},
   "outputs": [],
   "source": [
    "import numpy as np\n",
    "import pandas as pd\n",
    "from src.models.knn import Knn\n",
    "from src.models.similarities import perfiles_similarity\n",
    "import matplotlib.pyplot as plt\n",
    "import pickle"
   ]
  },
  {
   "cell_type": "code",
   "execution_count": 3,
   "metadata": {},
   "outputs": [],
   "source": [
    "perfiles = pd.read_parquet('../data/processed/perfiles_sqr_knn.parquet')\n",
    "perfiles_sqr = pd.read_parquet('../data/processed/perfiles_sqr_filtrado.parquet')"
   ]
  },
  {
   "cell_type": "code",
   "execution_count": 4,
   "metadata": {},
   "outputs": [],
   "source": [
    "knn = Knn(k=11, weights=np.ones(4)*0.25)\n",
    "\n",
    "knn.fit(perfiles[['altura', 'peso', 'posicion', 'sexo']].values, perfiles[\"presiones\"].values, perfiles[\"sqr\"].values)"
   ]
  },
  {
   "cell_type": "code",
   "execution_count": 5,
   "metadata": {},
   "outputs": [
    {
     "data": {
      "text/plain": [
       "array([[   53, 14840,    49, ..., 14220, 14205,    30],\n",
       "       [14059,    42,    44, ..., 13900,    70,    72],\n",
       "       [ 4230, 17124, 14217, ...,   165,  8600, 11763],\n",
       "       ...,\n",
       "       [13129, 14595, 14596, ..., 10092, 14158, 14159],\n",
       "       [18227, 21217, 18094, ..., 12033, 14161,  9822],\n",
       "       [21081, 21030, 20842, ..., 13829, 13828, 13827]])"
      ]
     },
     "execution_count": 5,
     "metadata": {},
     "output_type": "execute_result"
    }
   ],
   "source": [
    "knn.neighbours"
   ]
  },
  {
   "cell_type": "code",
   "execution_count": 6,
   "metadata": {},
   "outputs": [
    {
     "data": {
      "text/html": [
       "<div>\n",
       "<style scoped>\n",
       "    .dataframe tbody tr th:only-of-type {\n",
       "        vertical-align: middle;\n",
       "    }\n",
       "\n",
       "    .dataframe tbody tr th {\n",
       "        vertical-align: top;\n",
       "    }\n",
       "\n",
       "    .dataframe thead th {\n",
       "        text-align: right;\n",
       "    }\n",
       "</style>\n",
       "<table border=\"1\" class=\"dataframe\">\n",
       "  <thead>\n",
       "    <tr style=\"text-align: right;\">\n",
       "      <th></th>\n",
       "      <th>presiones</th>\n",
       "      <th>altura</th>\n",
       "      <th>peso</th>\n",
       "      <th>sqr</th>\n",
       "      <th>posicion</th>\n",
       "      <th>sexo</th>\n",
       "    </tr>\n",
       "  </thead>\n",
       "  <tbody>\n",
       "    <tr>\n",
       "      <th>22217</th>\n",
       "      <td>122232</td>\n",
       "      <td>178.0</td>\n",
       "      <td>75.0</td>\n",
       "      <td>83.008680</td>\n",
       "      <td>0</td>\n",
       "      <td>1</td>\n",
       "    </tr>\n",
       "    <tr>\n",
       "      <th>22268</th>\n",
       "      <td>023321</td>\n",
       "      <td>162.0</td>\n",
       "      <td>75.0</td>\n",
       "      <td>70.773244</td>\n",
       "      <td>0</td>\n",
       "      <td>0</td>\n",
       "    </tr>\n",
       "    <tr>\n",
       "      <th>22361</th>\n",
       "      <td>122232</td>\n",
       "      <td>180.0</td>\n",
       "      <td>70.0</td>\n",
       "      <td>70.144818</td>\n",
       "      <td>0</td>\n",
       "      <td>1</td>\n",
       "    </tr>\n",
       "    <tr>\n",
       "      <th>22362</th>\n",
       "      <td>023111</td>\n",
       "      <td>160.0</td>\n",
       "      <td>50.0</td>\n",
       "      <td>87.152947</td>\n",
       "      <td>0</td>\n",
       "      <td>0</td>\n",
       "    </tr>\n",
       "    <tr>\n",
       "      <th>22387</th>\n",
       "      <td>023321</td>\n",
       "      <td>162.0</td>\n",
       "      <td>75.0</td>\n",
       "      <td>81.126354</td>\n",
       "      <td>0</td>\n",
       "      <td>0</td>\n",
       "    </tr>\n",
       "    <tr>\n",
       "      <th>...</th>\n",
       "      <td>...</td>\n",
       "      <td>...</td>\n",
       "      <td>...</td>\n",
       "      <td>...</td>\n",
       "      <td>...</td>\n",
       "      <td>...</td>\n",
       "    </tr>\n",
       "    <tr>\n",
       "      <th>84990</th>\n",
       "      <td>122222</td>\n",
       "      <td>167.0</td>\n",
       "      <td>58.0</td>\n",
       "      <td>71.508019</td>\n",
       "      <td>1</td>\n",
       "      <td>1</td>\n",
       "    </tr>\n",
       "    <tr>\n",
       "      <th>84994</th>\n",
       "      <td>022211</td>\n",
       "      <td>157.0</td>\n",
       "      <td>57.0</td>\n",
       "      <td>56.875936</td>\n",
       "      <td>0</td>\n",
       "      <td>0</td>\n",
       "    </tr>\n",
       "    <tr>\n",
       "      <th>84997</th>\n",
       "      <td>022211</td>\n",
       "      <td>157.0</td>\n",
       "      <td>57.0</td>\n",
       "      <td>71.011566</td>\n",
       "      <td>0</td>\n",
       "      <td>0</td>\n",
       "    </tr>\n",
       "    <tr>\n",
       "      <th>85001</th>\n",
       "      <td>023321</td>\n",
       "      <td>170.0</td>\n",
       "      <td>80.0</td>\n",
       "      <td>99.304167</td>\n",
       "      <td>0</td>\n",
       "      <td>1</td>\n",
       "    </tr>\n",
       "    <tr>\n",
       "      <th>85008</th>\n",
       "      <td>233343</td>\n",
       "      <td>195.0</td>\n",
       "      <td>100.0</td>\n",
       "      <td>55.600643</td>\n",
       "      <td>0</td>\n",
       "      <td>1</td>\n",
       "    </tr>\n",
       "  </tbody>\n",
       "</table>\n",
       "<p>21219 rows × 6 columns</p>\n",
       "</div>"
      ],
      "text/plain": [
       "      presiones  altura   peso        sqr  posicion  sexo\n",
       "22217    122232   178.0   75.0  83.008680         0     1\n",
       "22268    023321   162.0   75.0  70.773244         0     0\n",
       "22361    122232   180.0   70.0  70.144818         0     1\n",
       "22362    023111   160.0   50.0  87.152947         0     0\n",
       "22387    023321   162.0   75.0  81.126354         0     0\n",
       "...         ...     ...    ...        ...       ...   ...\n",
       "84990    122222   167.0   58.0  71.508019         1     1\n",
       "84994    022211   157.0   57.0  56.875936         0     0\n",
       "84997    022211   157.0   57.0  71.011566         0     0\n",
       "85001    023321   170.0   80.0  99.304167         0     1\n",
       "85008    233343   195.0  100.0  55.600643         0     1\n",
       "\n",
       "[21219 rows x 6 columns]"
      ]
     },
     "execution_count": 6,
     "metadata": {},
     "output_type": "execute_result"
    }
   ],
   "source": [
    "perfiles"
   ]
  },
  {
   "cell_type": "code",
   "execution_count": 7,
   "metadata": {},
   "outputs": [
    {
     "data": {
      "text/plain": [
       "array([178.0, 75.0, 0, 1], dtype=object)"
      ]
     },
     "execution_count": 7,
     "metadata": {},
     "output_type": "execute_result"
    }
   ],
   "source": [
    "perfiles.loc[22217, ['altura', 'peso', 'posicion', 'sexo']].values"
   ]
  },
  {
   "cell_type": "code",
   "execution_count": 8,
   "metadata": {},
   "outputs": [],
   "source": [
    "pred, neigbours = knn.predict(perfiles.loc[22217, ['altura', 'peso', 'posicion', 'sexo']].values, True, False)"
   ]
  },
  {
   "cell_type": "code",
   "execution_count": 9,
   "metadata": {},
   "outputs": [
    {
     "data": {
      "text/plain": [
       "array([[65.98134492, 93.20951211, 65.99530992, 87.20077405, 78.59440703,\n",
       "        82.92540377, 77.95684388, 77.40713213, 89.09445439, 88.82032828,\n",
       "        91.59429859]])"
      ]
     },
     "execution_count": 9,
     "metadata": {},
     "output_type": "execute_result"
    }
   ],
   "source": [
    "knn.ref[neigbours]"
   ]
  },
  {
   "cell_type": "code",
   "execution_count": 10,
   "metadata": {},
   "outputs": [
    {
     "data": {
      "text/plain": [
       "array(['122232', '023321', '122232', ..., '022211', '023321', '233343'],\n",
       "      dtype=object)"
      ]
     },
     "execution_count": 10,
     "metadata": {},
     "output_type": "execute_result"
    }
   ],
   "source": [
    "knn.target"
   ]
  }
 ],
 "metadata": {
  "kernelspec": {
   "display_name": "Python [conda env:descansare] *",
   "language": "python",
   "name": "conda-env-descansare-py"
  },
  "language_info": {
   "codemirror_mode": {
    "name": "ipython",
    "version": 3
   },
   "file_extension": ".py",
   "mimetype": "text/x-python",
   "name": "python",
   "nbconvert_exporter": "python",
   "pygments_lexer": "ipython3",
   "version": "3.8.3"
  }
 },
 "nbformat": 4,
 "nbformat_minor": 4
}
