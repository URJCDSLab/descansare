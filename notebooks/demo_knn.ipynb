{
 "cells": [
  {
   "cell_type": "code",
   "execution_count": 1,
   "metadata": {},
   "outputs": [],
   "source": [
    "%load_ext autoreload\n",
    "%autoreload 2"
   ]
  },
  {
   "cell_type": "code",
   "execution_count": 2,
   "metadata": {},
   "outputs": [],
   "source": [
    "import numpy as np\n",
    "import pandas as pd\n",
    "from src.models.knn import Knn\n",
    "from src.models.similarities import perfiles_similarity\n",
    "import matplotlib.pyplot as plt\n",
    "import pickle"
   ]
  },
  {
   "cell_type": "code",
   "execution_count": 3,
   "metadata": {},
   "outputs": [],
   "source": [
    "perfiles = pd.read_parquet('../data/processed/perfiles_sqr_knn.parquet')\n",
    "perfiles_sqr = pd.read_parquet('../data/processed/perfiles_sqr_filtrado.parquet')"
   ]
  },
  {
   "cell_type": "code",
   "execution_count": 27,
   "metadata": {},
   "outputs": [],
   "source": [
    "with open('../models/knn.p', 'wb') as fout:\n",
    "    pickle.dump(knn, fout, protocol=pickle.HIGHEST_PROTOCOL)"
   ]
  },
  {
   "cell_type": "code",
   "execution_count": 5,
   "metadata": {},
   "outputs": [
    {
     "data": {
      "text/html": [
       "<div>\n",
       "<style scoped>\n",
       "    .dataframe tbody tr th:only-of-type {\n",
       "        vertical-align: middle;\n",
       "    }\n",
       "\n",
       "    .dataframe tbody tr th {\n",
       "        vertical-align: top;\n",
       "    }\n",
       "\n",
       "    .dataframe thead th {\n",
       "        text-align: right;\n",
       "    }\n",
       "</style>\n",
       "<table border=\"1\" class=\"dataframe\">\n",
       "  <thead>\n",
       "    <tr style=\"text-align: right;\">\n",
       "      <th></th>\n",
       "      <th>presiones</th>\n",
       "      <th>altura</th>\n",
       "      <th>peso</th>\n",
       "      <th>sqr</th>\n",
       "      <th>posicion</th>\n",
       "      <th>sexo</th>\n",
       "    </tr>\n",
       "  </thead>\n",
       "  <tbody>\n",
       "    <tr>\n",
       "      <th>22.0</th>\n",
       "      <td>002231122222</td>\n",
       "      <td>159.0</td>\n",
       "      <td>47.0</td>\n",
       "      <td>30.28140</td>\n",
       "      <td>0</td>\n",
       "      <td>0</td>\n",
       "    </tr>\n",
       "    <tr>\n",
       "      <th>23.0</th>\n",
       "      <td>112223321122</td>\n",
       "      <td>184.0</td>\n",
       "      <td>73.0</td>\n",
       "      <td>17.43070</td>\n",
       "      <td>0</td>\n",
       "      <td>1</td>\n",
       "    </tr>\n",
       "    <tr>\n",
       "      <th>60.0</th>\n",
       "      <td>002231122222</td>\n",
       "      <td>159.0</td>\n",
       "      <td>46.0</td>\n",
       "      <td>17.79540</td>\n",
       "      <td>0</td>\n",
       "      <td>0</td>\n",
       "    </tr>\n",
       "    <tr>\n",
       "      <th>185.0</th>\n",
       "      <td>112223222232</td>\n",
       "      <td>171.0</td>\n",
       "      <td>72.0</td>\n",
       "      <td>9.12669</td>\n",
       "      <td>0</td>\n",
       "      <td>1</td>\n",
       "    </tr>\n",
       "    <tr>\n",
       "      <th>186.0</th>\n",
       "      <td>111123211222</td>\n",
       "      <td>170.0</td>\n",
       "      <td>56.0</td>\n",
       "      <td>11.72060</td>\n",
       "      <td>0</td>\n",
       "      <td>0</td>\n",
       "    </tr>\n",
       "    <tr>\n",
       "      <th>...</th>\n",
       "      <td>...</td>\n",
       "      <td>...</td>\n",
       "      <td>...</td>\n",
       "      <td>...</td>\n",
       "      <td>...</td>\n",
       "      <td>...</td>\n",
       "    </tr>\n",
       "    <tr>\n",
       "      <th>7793.0</th>\n",
       "      <td>112223222222</td>\n",
       "      <td>170.0</td>\n",
       "      <td>73.0</td>\n",
       "      <td>15.24730</td>\n",
       "      <td>1</td>\n",
       "      <td>0</td>\n",
       "    </tr>\n",
       "    <tr>\n",
       "      <th>7795.0</th>\n",
       "      <td>002232112222</td>\n",
       "      <td>160.0</td>\n",
       "      <td>67.0</td>\n",
       "      <td>32.04080</td>\n",
       "      <td>0</td>\n",
       "      <td>0</td>\n",
       "    </tr>\n",
       "    <tr>\n",
       "      <th>7797.0</th>\n",
       "      <td>112223222222</td>\n",
       "      <td>172.0</td>\n",
       "      <td>77.0</td>\n",
       "      <td>63.06420</td>\n",
       "      <td>1</td>\n",
       "      <td>1</td>\n",
       "    </tr>\n",
       "    <tr>\n",
       "      <th>7798.0</th>\n",
       "      <td>002233212222</td>\n",
       "      <td>169.0</td>\n",
       "      <td>84.0</td>\n",
       "      <td>18.30510</td>\n",
       "      <td>0</td>\n",
       "      <td>1</td>\n",
       "    </tr>\n",
       "    <tr>\n",
       "      <th>7803.0</th>\n",
       "      <td>002221112222</td>\n",
       "      <td>154.0</td>\n",
       "      <td>54.0</td>\n",
       "      <td>25.17580</td>\n",
       "      <td>0</td>\n",
       "      <td>0</td>\n",
       "    </tr>\n",
       "  </tbody>\n",
       "</table>\n",
       "<p>667 rows × 6 columns</p>\n",
       "</div>"
      ],
      "text/plain": [
       "           presiones  altura  peso       sqr  posicion  sexo\n",
       "22.0    002231122222   159.0  47.0  30.28140         0     0\n",
       "23.0    112223321122   184.0  73.0  17.43070         0     1\n",
       "60.0    002231122222   159.0  46.0  17.79540         0     0\n",
       "185.0   112223222232   171.0  72.0   9.12669         0     1\n",
       "186.0   111123211222   170.0  56.0  11.72060         0     0\n",
       "...              ...     ...   ...       ...       ...   ...\n",
       "7793.0  112223222222   170.0  73.0  15.24730         1     0\n",
       "7795.0  002232112222   160.0  67.0  32.04080         0     0\n",
       "7797.0  112223222222   172.0  77.0  63.06420         1     1\n",
       "7798.0  002233212222   169.0  84.0  18.30510         0     1\n",
       "7803.0  002221112222   154.0  54.0  25.17580         0     0\n",
       "\n",
       "[667 rows x 6 columns]"
      ]
     },
     "execution_count": 5,
     "metadata": {},
     "output_type": "execute_result"
    }
   ],
   "source": [
    "perfiles"
   ]
  },
  {
   "cell_type": "code",
   "execution_count": 6,
   "metadata": {},
   "outputs": [],
   "source": [
    "knn = Knn(k=11, weights=np.ones(4)*0.25)\n",
    "\n",
    "knn.fit(perfiles[['altura', 'peso', 'posicion', 'sexo']].values, perfiles[\"presiones\"].values, perfiles[\"sqr\"].values)"
   ]
  },
  {
   "cell_type": "code",
   "execution_count": 7,
   "metadata": {},
   "outputs": [
    {
     "data": {
      "text/plain": [
       "array([[  2, 409, 351, ...,   5, 473, 604],\n",
       "       [365,  91, 627, ..., 416, 603, 398],\n",
       "       [  0, 409, 351, ...,   5, 473, 604],\n",
       "       ...,\n",
       "       [454, 659, 288, ..., 103, 414, 643],\n",
       "       [552, 465, 278, ..., 411, 140, 387],\n",
       "       [316, 574, 395, ..., 367,   8, 512]])"
      ]
     },
     "execution_count": 7,
     "metadata": {},
     "output_type": "execute_result"
    }
   ],
   "source": [
    "knn.neighbours"
   ]
  },
  {
   "cell_type": "code",
   "execution_count": 19,
   "metadata": {},
   "outputs": [],
   "source": [
    "pred, neigbours = knn.predict(perfiles.loc[22, ['altura', 'peso', 'posicion', 'sexo']].values, True, False)"
   ]
  },
  {
   "cell_type": "code",
   "execution_count": 23,
   "metadata": {},
   "outputs": [
    {
     "data": {
      "text/plain": [
       "array([[17.7954, 23.4852, 22.4045, 28.5839, 15.0863, 32.304 , 13.2646,\n",
       "        54.6189, 33.4764, 26.055 , 56.1226]])"
      ]
     },
     "execution_count": 23,
     "metadata": {},
     "output_type": "execute_result"
    }
   ],
   "source": [
    "knn.ref[neigbours]"
   ]
  },
  {
   "cell_type": "code",
   "execution_count": 384,
   "metadata": {},
   "outputs": [
    {
     "data": {
      "text/plain": [
       "array([['002221112222', '002221112222', '002231122222', ...,\n",
       "        '002223112222', '002223112222', '002231122222'],\n",
       "       ['001111221222', '001111221222', '001122221222', ...,\n",
       "        '112223321122', '112223321122', '001122221222'],\n",
       "       ['002221112222', '002221112222', '002231122222', ...,\n",
       "        '002223112222', '002223112222', '002231122222'],\n",
       "       ...,\n",
       "       ['002233321122', '002233321122', '002233211222', ...,\n",
       "        '002233211222', '002233211222', '002233211222'],\n",
       "       ['223344432344', '223344432344', '223344432344', ...,\n",
       "        '223333432234', '223333432234', '223344432344'],\n",
       "       ['112222222222', '112222222222', '112223222222', ...,\n",
       "        '112223222222', '112223222222', '112223222222']], dtype=object)"
      ]
     },
     "execution_count": 384,
     "metadata": {},
     "output_type": "execute_result"
    }
   ],
   "source": [
    "knn.target[neighbours][:, max_ref_neighbours]"
   ]
  }
 ],
 "metadata": {
  "kernelspec": {
   "display_name": "Python [conda env:descansare] *",
   "language": "python",
   "name": "conda-env-descansare-py"
  },
  "language_info": {
   "codemirror_mode": {
    "name": "ipython",
    "version": 3
   },
   "file_extension": ".py",
   "mimetype": "text/x-python",
   "name": "python",
   "nbconvert_exporter": "python",
   "pygments_lexer": "ipython3",
   "version": "3.8.3"
  }
 },
 "nbformat": 4,
 "nbformat_minor": 4
}
