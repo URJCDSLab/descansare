{
 "cells": [
  {
   "cell_type": "code",
   "execution_count": 1,
   "metadata": {},
   "outputs": [],
   "source": [
    "%load_ext autoreload\n",
    "%autoreload 2"
   ]
  },
  {
   "cell_type": "code",
   "execution_count": 2,
   "metadata": {},
   "outputs": [],
   "source": [
    "import numpy as np\n",
    "import pandas as pd\n",
    "from src.models.knn import Knn\n",
    "from src.models.similarities import perfiles_similarity"
   ]
  },
  {
   "cell_type": "code",
   "execution_count": 3,
   "metadata": {},
   "outputs": [],
   "source": [
    "perfiles = pd.read_parquet('../data/processed/perfiles_sqr_knn.parquet')"
   ]
  },
  {
   "cell_type": "code",
   "execution_count": 4,
   "metadata": {},
   "outputs": [],
   "source": [
    "knn = Knn(k=5, weights=np.ones(4)*0.25)\n",
    "\n",
    "knn.fit(perfiles[['altura', 'peso', 'posicion', 'sexo']].values, perfiles[\"presiones\"].values, perfiles[\"sqr\"].values)"
   ]
  },
  {
   "cell_type": "code",
   "execution_count": 5,
   "metadata": {},
   "outputs": [
    {
     "data": {
      "text/plain": [
       "array([[0.        , 0.42039679, 0.00233645, ..., 0.627111  , 0.38030825,\n",
       "        0.03828496],\n",
       "       [0.42039679, 0.        , 0.42273323, ..., 0.31197737, 0.09149041,\n",
       "        0.42597147],\n",
       "       [0.00233645, 0.42273323, 0.        , ..., 0.62944745, 0.3826447 ,\n",
       "        0.04062141],\n",
       "       ...,\n",
       "       [0.627111  , 0.31197737, 0.62944745, ..., 0.        , 0.27951303,\n",
       "        0.63268569],\n",
       "       [0.38030825, 0.09149041, 0.3826447 , ..., 0.27951303, 0.        ,\n",
       "        0.38588293],\n",
       "       [0.03828496, 0.42597147, 0.04062141, ..., 0.63268569, 0.38588293,\n",
       "        0.        ]])"
      ]
     },
     "execution_count": 5,
     "metadata": {},
     "output_type": "execute_result"
    }
   ],
   "source": [
    "knn.dist_matrix"
   ]
  }
 ],
 "metadata": {
  "kernelspec": {
   "display_name": "Python [conda env:descansare] *",
   "language": "python",
   "name": "conda-env-descansare-py"
  },
  "language_info": {
   "codemirror_mode": {
    "name": "ipython",
    "version": 3
   },
   "file_extension": ".py",
   "mimetype": "text/x-python",
   "name": "python",
   "nbconvert_exporter": "python",
   "pygments_lexer": "ipython3",
   "version": "3.8.3"
  }
 },
 "nbformat": 4,
 "nbformat_minor": 4
}
