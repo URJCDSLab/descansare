{
 "cells": [
  {
   "cell_type": "code",
   "execution_count": 2,
   "metadata": {},
   "outputs": [],
   "source": [
    "import numpy as np\n",
    "import pandas as pd\n",
    "from scipy.stats import norm\n",
    "import math"
   ]
  },
  {
   "cell_type": "code",
   "execution_count": 3,
   "metadata": {},
   "outputs": [],
   "source": [
    "def simula_horas(mu, sigma, n_simul=7):\n",
    "    '''Simula los n valores de hoas de sueño'''\n",
    "    horas_simulados = np.random.normal(mu, sigma, n_simul)\n",
    "    \n",
    "    horas_simuladas_filtrado = np.array([i if i < 8 else 8 for i in horas_simulados])\n",
    "    \n",
    "    return horas_simuladas_filtrado"
   ]
  },
  {
   "cell_type": "code",
   "execution_count": 4,
   "metadata": {},
   "outputs": [],
   "source": [
    "def simula_sqi(mu, sigma, n_simul=7, alfa = 0.4):\n",
    "    '''Simula los n valores de SQI y proporciona el valor de SQI límite para levantar las alertas'''\n",
    "    sqi_simulados = np.random.normal(mu, sigma, n_simul)\n",
    "    \n",
    "    p = norm.ppf((1-alfa)/2)\n",
    "    valor_alerta = mu+p*sigma\n",
    "    \n",
    "    sqi_simulados_filtrado = np.array([i if i < 100 else 100 for i in sqi_simulados])\n",
    "    \n",
    "    return sqi_simulados_filtrado, valor_alerta"
   ]
  },
  {
   "cell_type": "code",
   "execution_count": 5,
   "metadata": {},
   "outputs": [],
   "source": [
    "def model_n(sqi_simulados, valor_alerta, ventana, n_alerta):\n",
    "    '''Devuelve el ínidice necesario para filtar los SQI simulados hasta que se levanta la alerta. Dependiendo\n",
    "    de la ventana y el número de veces (n_alerta) que el SQI es inferior al valor de alerta (valor_alerta)'''\n",
    "    n_simul = len(sqi_simulados)\n",
    "    alarmas = np.array([sum((sqi_simulados < valor_alerta)[i:i+ventana]) for i in range(n_simul-ventana+1)]) > (n_alerta - 1)\n",
    "    if np.sum(alarmas) > 0:\n",
    "        aviso_cambio = np.argmax(alarmas) + ventana\n",
    "    else:\n",
    "        aviso_cambio = None\n",
    "    return aviso_cambio"
   ]
  },
  {
   "cell_type": "code",
   "execution_count": 6,
   "metadata": {},
   "outputs": [],
   "source": [
    "def nueva_configuracion(presiones, configuracion_cero):\n",
    "    '''Devuelve la nueva configuración para un individuo dados los estadísticos de las presiones para su categoría'''\n",
    "    \n",
    "    # Dataframe con las posibles presiones nuevas\n",
    "    presiones_posibles = presiones[presiones.frecuencia_relativa > 10].sort_values(by='media', ascending=False)\n",
    "    for i in range(1, presiones_posibles.shape[0]):\n",
    "        # Configuración con SQR más alto, para una frecuencia relativa mayor del 10%, distinto de la configuración actual\n",
    "        nuevas_presiones = presiones_posibles.head(i).index[0]\n",
    "        if nuevas_presiones != configuracion_cero:\n",
    "            break\n",
    "    return nuevas_presiones"
   ]
  },
  {
   "cell_type": "code",
   "execution_count": 53,
   "metadata": {},
   "outputs": [],
   "source": [
    "def grupo_actual(perfiles_sqr, perfiles_sqr_no_filtrado, sexo, posicion, altura, peso, configuracion_cero):\n",
    "    '''Se calcula la media y la desviación para la simulación. Además, el dataframe de estadísticos descriptivos\n",
    "    de las configuraciones de presiones en su grupo'''\n",
    "    \n",
    "    # Se calcula el IMC\n",
    "    IMC = peso / (altura/100)**2\n",
    "    \n",
    "    # Cálculo del IMC categorizado\n",
    "    if IMC < 25:\n",
    "        IMC_cat = 'Normal'\n",
    "    elif IMC < 30:\n",
    "        IMC_cat = 'Overweight'\n",
    "    else:\n",
    "        IMC_cat = 'Obese'\n",
    "        \n",
    "    # Filtrado del grupo al que pertenece\n",
    "    perfiles_filtrado = perfiles_sqr[(perfiles_sqr.sexo == sexo) & (perfiles_sqr.posicion == posicion) & (perfiles_sqr.IMC_cat == IMC_cat)]\n",
    "    horas_perfiles = perfiles_sqr_no_filtrado[(perfiles_sqr_no_filtrado.sexo == sexo) & (perfiles_sqr_no_filtrado.posicion == posicion) & (perfiles_sqr_no_filtrado.IMC_cat == IMC_cat)].copy()\n",
    "    presiones = perfiles_filtrado[['presiones', 'sqr']].groupby('presiones').describe().loc[:, 'sqr']\n",
    "    \n",
    "    # Cálculo de horas de sueño\n",
    "    horas_perfiles['horas_sueño'] = ((horas_perfiles.fechaFin - horas_perfiles.fechaInicio) / np.timedelta64(1, 's'))/3600\n",
    "    horas_perfiles['horas_int'] = horas_perfiles['horas_sueño'].astype(int)\n",
    "    horas_perfiles['horas_int'] = horas_perfiles['horas_int'].apply(lambda x: str(x) if x < 8 else str(8))\n",
    "\n",
    "    # Cálculo de estadísticos del SQR para cada configuración de presiones\n",
    "    presiones = presiones.rename({'count':'frecuencia_absoluta', 'mean':'media', 'std': 'desviación'}, axis='columns').round(2)\n",
    "    presiones['frecuencia_absoluta'] = presiones['frecuencia_absoluta'].astype('int')\n",
    "    presiones['frecuencia_relativa'] = round(100*presiones['frecuencia_absoluta']/perfiles_filtrado.shape[0], 2)\n",
    "    try:\n",
    "        media = presiones.loc[configuracion_cero]['media']\n",
    "        desviacion = presiones.loc[configuracion_cero]['desviación']\n",
    "    except:\n",
    "        media = perfiles_filtrado['sqr'].mean()\n",
    "        desviacion = perfiles_filtrado['sqr'].std()\n",
    "        \n",
    "    if math.isnan(desviacion):\n",
    "        desviacion = perfiles_filtrado['sqr'].std()\n",
    "        \n",
    "    # Cálculo de estadísticos de las horas de sueño\n",
    "    horas = horas_perfiles[['horas_int', 'sqr']].groupby('horas_int').describe().loc[:, 'sqr']\n",
    "    horas = horas.rename({'count':'frecuencia_absoluta', 'mean':'media', 'std': 'desviación'}, axis='columns').round(2)\n",
    "    media_horas = np.mean(horas_perfiles['horas_sueño']).round(2)\n",
    "    std_horas = np.std(horas_perfiles['horas_sueño']).round(2)\n",
    "    \n",
    "    return presiones, round(media, 2), round(desviacion, 2), horas, media_horas, std_horas"
   ]
  },
  {
   "cell_type": "code",
   "execution_count": 82,
   "metadata": {},
   "outputs": [],
   "source": [
    "def modelo_evolutivo_simulacion(perfiles_sqr, sexo, posicion, altura, peso, configuracion_cero):\n",
    "    # Se calculan los parámetros de la distribución del SQR y el dataframe de la categoría\n",
    "    presiones, mu, sigma, horas, muh, sigmah = grupo_actual(perfiles_sqr, perfiles_sqr_no_filtrado, sexo, posicion, altura, peso, configuracion_cero)\n",
    "    # Se simulan los valores SQR y el valor de alerta\n",
    "    sqi_simulados, valor_alerta = simula_sqi(mu, sigma)\n",
    "    # Se simulan los valores de sueño \n",
    "    horas_simuladas = simula_horas(muh, sigmah) \n",
    "    # Se calcula el primer día de alerta de cada modelo\n",
    "    alarmas_modelos = [model_n(sqi_simulados, valor_alerta, *i) for i in [(3, 2), (5, 2), (7, 7)] if model_n(sqi_simulados, valor_alerta, *i) != None]\n",
    "    # Se comprueba si hay alguna alerta en algún modelo \n",
    "    if alarmas_modelos != []:\n",
    "        # Se filtran los valores SQR simulados hasta el primer día de alerta\n",
    "        valores_prev_alerta = sqi_simulados[:min(alarmas_modelos)]\n",
    "        valor_medio_horas = np.mean(horas_simuladas[:min(alarmas_modelos)])\n",
    "        # Se proporciona la configuración recomendada\n",
    "        nuevas_presiones = nueva_configuracion(presiones, configuracion_cero)\n",
    "    else:\n",
    "        valores_prev_alerta = sqi_simulados\n",
    "        valor_medio_horas = np.mean(horas_simuladas)\n",
    "        nuevas_presiones = None\n",
    "    try:\n",
    "        mejora_horas = round(((horas.loc[str(int(valor_medio_horas)+1)].media  - horas.loc[str(int(valor_medio_horas))].media) /  horas.loc[str(int(valor_medio_horas))].media)*100, 2)\n",
    "    except:\n",
    "        mejora_horas = None\n",
    "    return nuevas_presiones, valores_prev_alerta, valor_alerta, mu, sigma, mejora_horas"
   ]
  },
  {
   "cell_type": "code",
   "execution_count": 83,
   "metadata": {},
   "outputs": [],
   "source": [
    "# Cargamos datos con SQR\n",
    "perfiles_sqr = pd.read_parquet('../data/processed/perfiles_sqr_filtrado.parquet')\n",
    "\n",
    "perfiles_sqr_no_filtrado = pd.read_parquet('../data/processed/perfiles_sqr_filtrado_not_filtered.parquet')\n",
    "\n",
    "perfiles_sqr_no_filtrado['IMC'] = perfiles_sqr_no_filtrado['peso'] / (perfiles_sqr_no_filtrado['altura']/100)**2\n",
    "perfiles_sqr_no_filtrado['IMC_cat'] = pd.cut(perfiles_sqr_no_filtrado['IMC'], bins=[0, 25, 30, 50],\n",
    "                                include_lowest=True,labels=['Normal', 'Overweight', 'Obese'])\n",
    "\n",
    "\n",
    "perfiles_sqr['IMC'] = perfiles_sqr['peso'] / (perfiles_sqr['altura']/100)**2\n",
    "perfiles_sqr['IMC_cat'] = pd.cut(perfiles_sqr['IMC'], bins=[0, 25, 30, 50],\n",
    "                                include_lowest=True,labels=['Normal', 'Overweight', 'Obese'])"
   ]
  },
  {
   "cell_type": "code",
   "execution_count": 84,
   "metadata": {},
   "outputs": [],
   "source": [
    "sexo = \"Female\"\n",
    "posicion = 'Lateral'\n",
    "altura = 180\n",
    "peso = 80\n",
    "\n",
    "## media y sigma del sqi\n",
    "configuracion_cero = '111111' # no está\n",
    "# configuracion_cero = '000000' # está sólo una vez\n",
    "# configuracion_cero = '023211' #está más de una vez"
   ]
  },
  {
   "cell_type": "code",
   "execution_count": 85,
   "metadata": {},
   "outputs": [],
   "source": [
    "presiones, mu, sigma, horas, muh, sigmah = grupo_actual(perfiles_sqr, perfiles_sqr_no_filtrado, sexo, posicion, altura, peso, configuracion_cero)"
   ]
  },
  {
   "cell_type": "code",
   "execution_count": 58,
   "metadata": {},
   "outputs": [
    {
     "data": {
      "text/html": [
       "<div>\n",
       "<style scoped>\n",
       "    .dataframe tbody tr th:only-of-type {\n",
       "        vertical-align: middle;\n",
       "    }\n",
       "\n",
       "    .dataframe tbody tr th {\n",
       "        vertical-align: top;\n",
       "    }\n",
       "\n",
       "    .dataframe thead th {\n",
       "        text-align: right;\n",
       "    }\n",
       "</style>\n",
       "<table border=\"1\" class=\"dataframe\">\n",
       "  <thead>\n",
       "    <tr style=\"text-align: right;\">\n",
       "      <th></th>\n",
       "      <th>frecuencia_absoluta</th>\n",
       "      <th>media</th>\n",
       "      <th>desviación</th>\n",
       "      <th>min</th>\n",
       "      <th>25%</th>\n",
       "      <th>50%</th>\n",
       "      <th>75%</th>\n",
       "      <th>max</th>\n",
       "    </tr>\n",
       "    <tr>\n",
       "      <th>horas_int</th>\n",
       "      <th></th>\n",
       "      <th></th>\n",
       "      <th></th>\n",
       "      <th></th>\n",
       "      <th></th>\n",
       "      <th></th>\n",
       "      <th></th>\n",
       "      <th></th>\n",
       "    </tr>\n",
       "  </thead>\n",
       "  <tbody>\n",
       "    <tr>\n",
       "      <th>2</th>\n",
       "      <td>477.0</td>\n",
       "      <td>34.75</td>\n",
       "      <td>13.07</td>\n",
       "      <td>0.16</td>\n",
       "      <td>26.24</td>\n",
       "      <td>36.72</td>\n",
       "      <td>44.65</td>\n",
       "      <td>59.15</td>\n",
       "    </tr>\n",
       "    <tr>\n",
       "      <th>3</th>\n",
       "      <td>347.0</td>\n",
       "      <td>40.91</td>\n",
       "      <td>13.82</td>\n",
       "      <td>1.09</td>\n",
       "      <td>34.08</td>\n",
       "      <td>42.93</td>\n",
       "      <td>51.01</td>\n",
       "      <td>65.22</td>\n",
       "    </tr>\n",
       "    <tr>\n",
       "      <th>4</th>\n",
       "      <td>381.0</td>\n",
       "      <td>48.87</td>\n",
       "      <td>14.60</td>\n",
       "      <td>1.10</td>\n",
       "      <td>40.80</td>\n",
       "      <td>50.60</td>\n",
       "      <td>59.32</td>\n",
       "      <td>74.51</td>\n",
       "    </tr>\n",
       "    <tr>\n",
       "      <th>5</th>\n",
       "      <td>649.0</td>\n",
       "      <td>56.07</td>\n",
       "      <td>15.29</td>\n",
       "      <td>1.55</td>\n",
       "      <td>47.14</td>\n",
       "      <td>58.09</td>\n",
       "      <td>67.80</td>\n",
       "      <td>82.52</td>\n",
       "    </tr>\n",
       "    <tr>\n",
       "      <th>6</th>\n",
       "      <td>1409.0</td>\n",
       "      <td>66.44</td>\n",
       "      <td>14.25</td>\n",
       "      <td>0.91</td>\n",
       "      <td>58.30</td>\n",
       "      <td>68.87</td>\n",
       "      <td>77.12</td>\n",
       "      <td>91.18</td>\n",
       "    </tr>\n",
       "    <tr>\n",
       "      <th>7</th>\n",
       "      <td>2075.0</td>\n",
       "      <td>73.50</td>\n",
       "      <td>14.46</td>\n",
       "      <td>4.40</td>\n",
       "      <td>64.92</td>\n",
       "      <td>75.59</td>\n",
       "      <td>84.40</td>\n",
       "      <td>99.26</td>\n",
       "    </tr>\n",
       "    <tr>\n",
       "      <th>8</th>\n",
       "      <td>3277.0</td>\n",
       "      <td>74.75</td>\n",
       "      <td>14.35</td>\n",
       "      <td>1.01</td>\n",
       "      <td>66.33</td>\n",
       "      <td>75.86</td>\n",
       "      <td>84.62</td>\n",
       "      <td>99.58</td>\n",
       "    </tr>\n",
       "  </tbody>\n",
       "</table>\n",
       "</div>"
      ],
      "text/plain": [
       "           frecuencia_absoluta  media  desviación   min    25%    50%    75%  \\\n",
       "horas_int                                                                      \n",
       "2                        477.0  34.75       13.07  0.16  26.24  36.72  44.65   \n",
       "3                        347.0  40.91       13.82  1.09  34.08  42.93  51.01   \n",
       "4                        381.0  48.87       14.60  1.10  40.80  50.60  59.32   \n",
       "5                        649.0  56.07       15.29  1.55  47.14  58.09  67.80   \n",
       "6                       1409.0  66.44       14.25  0.91  58.30  68.87  77.12   \n",
       "7                       2075.0  73.50       14.46  4.40  64.92  75.59  84.40   \n",
       "8                       3277.0  74.75       14.35  1.01  66.33  75.86  84.62   \n",
       "\n",
       "             max  \n",
       "horas_int         \n",
       "2          59.15  \n",
       "3          65.22  \n",
       "4          74.51  \n",
       "5          82.52  \n",
       "6          91.18  \n",
       "7          99.26  \n",
       "8          99.58  "
      ]
     },
     "execution_count": 58,
     "metadata": {},
     "output_type": "execute_result"
    }
   ],
   "source": [
    "horas"
   ]
  },
  {
   "cell_type": "code",
   "execution_count": 71,
   "metadata": {},
   "outputs": [],
   "source": [
    "horas_simuladas = simula_horas(muh, sigmah)"
   ]
  },
  {
   "cell_type": "code",
   "execution_count": 60,
   "metadata": {},
   "outputs": [],
   "source": [
    "sqi_simulados, valor_alerta = simula_sqi(mu, sigma)"
   ]
  },
  {
   "cell_type": "code",
   "execution_count": 61,
   "metadata": {},
   "outputs": [],
   "source": [
    "alarmas_modelos = [model_n(sqi_simulados, valor_alerta, *i) for i in [(3, 2), (5, 2), (7, 7)] if model_n(sqi_simulados, valor_alerta, *i) != None]"
   ]
  },
  {
   "cell_type": "code",
   "execution_count": 73,
   "metadata": {},
   "outputs": [],
   "source": [
    "if alarmas_modelos != []:\n",
    "    # Se filtran los valores SQR simulados hasta el primer día de alerta\n",
    "    valores_prev_alerta = sqi_simulados[:min(alarmas_modelos)]\n",
    "    valor_medio_horas = np.mean(horas_simuladas[:min(alarmas_modelos)])\n",
    "    # Se proporciona la configuración recomendada\n",
    "    nuevas_presiones = nueva_configuracion(presiones, configuracion_cero)\n",
    "else:\n",
    "    valores_prev_alerta = sqi_simulados\n",
    "    valor_medio_horas = np.mean(horas_simuladas)\n",
    "    nuevas_presiones = None"
   ]
  },
  {
   "cell_type": "code",
   "execution_count": 74,
   "metadata": {},
   "outputs": [
    {
     "data": {
      "text/plain": [
       "array([8.        , 5.21291719, 7.56524162, 3.14428829, 2.46291141,\n",
       "       5.25735147, 6.59907504])"
      ]
     },
     "execution_count": 74,
     "metadata": {},
     "output_type": "execute_result"
    }
   ],
   "source": [
    "horas_simuladas"
   ]
  },
  {
   "cell_type": "code",
   "execution_count": 75,
   "metadata": {},
   "outputs": [
    {
     "data": {
      "text/plain": [
       "6.926052938244333"
      ]
     },
     "execution_count": 75,
     "metadata": {},
     "output_type": "execute_result"
    }
   ],
   "source": [
    "valor_medio_horas"
   ]
  },
  {
   "cell_type": "code",
   "execution_count": 81,
   "metadata": {},
   "outputs": [
    {
     "data": {
      "text/plain": [
       "10.63"
      ]
     },
     "execution_count": 81,
     "metadata": {},
     "output_type": "execute_result"
    }
   ],
   "source": []
  },
  {
   "cell_type": "code",
   "execution_count": 37,
   "metadata": {},
   "outputs": [
    {
     "data": {
      "text/plain": [
       "array([81.068148  , 53.35984711, 61.82951653, 78.97557843, 47.62937881,\n",
       "       93.09751077, 81.72130671])"
      ]
     },
     "execution_count": 37,
     "metadata": {},
     "output_type": "execute_result"
    }
   ],
   "source": [
    "sqi_simulados"
   ]
  },
  {
   "cell_type": "code",
   "execution_count": 88,
   "metadata": {},
   "outputs": [
    {
     "data": {
      "text/plain": [
       "('012221',\n",
       " array([75.47872778, 74.8297257 , 81.63299161, 90.72752336, 53.46359579,\n",
       "        84.18280791, 50.7197836 ]),\n",
       " 66.7186326170042,\n",
       " 74.27,\n",
       " 14.4,\n",
       " 10.63)"
      ]
     },
     "execution_count": 88,
     "metadata": {},
     "output_type": "execute_result"
    }
   ],
   "source": [
    "modelo_evolutivo_simulacion(perfiles_sqr, sexo, posicion, altura, peso, configuracion_cero)"
   ]
  }
 ],
 "metadata": {
  "kernelspec": {
   "display_name": "Python [conda env:descansare] *",
   "language": "python",
   "name": "conda-env-descansare-py"
  },
  "language_info": {
   "codemirror_mode": {
    "name": "ipython",
    "version": 3
   },
   "file_extension": ".py",
   "mimetype": "text/x-python",
   "name": "python",
   "nbconvert_exporter": "python",
   "pygments_lexer": "ipython3",
   "version": "3.8.5"
  }
 },
 "nbformat": 4,
 "nbformat_minor": 4
}
